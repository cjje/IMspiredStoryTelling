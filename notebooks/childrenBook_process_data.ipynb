{
 "cells": [
  {
   "cell_type": "code",
   "execution_count": 1,
   "metadata": {},
   "outputs": [],
   "source": [
    "import pandas as pd\n",
    "from collections import Counter\n",
    "import numpy as np\n",
    "import random\n",
    "import json"
   ]
  },
  {
   "cell_type": "markdown",
   "metadata": {},
   "source": [
    "## 1. Load the children's book data"
   ]
  },
  {
   "cell_type": "code",
   "execution_count": 2,
   "metadata": {},
   "outputs": [
    {
     "name": "stdout",
     "output_type": "stream",
     "text": [
      "(3269, 5)\n"
     ]
    },
    {
     "data": {
      "text/html": [
       "<div>\n",
       "<style scoped>\n",
       "    .dataframe tbody tr th:only-of-type {\n",
       "        vertical-align: middle;\n",
       "    }\n",
       "\n",
       "    .dataframe tbody tr th {\n",
       "        vertical-align: top;\n",
       "    }\n",
       "\n",
       "    .dataframe thead th {\n",
       "        text-align: right;\n",
       "    }\n",
       "</style>\n",
       "<table border=\"1\" class=\"dataframe\">\n",
       "  <thead>\n",
       "    <tr style=\"text-align: right;\">\n",
       "      <th></th>\n",
       "      <th>Title</th>\n",
       "      <th>Author</th>\n",
       "      <th>Desc</th>\n",
       "      <th>Inerest_age</th>\n",
       "      <th>Reading_age</th>\n",
       "    </tr>\n",
       "  </thead>\n",
       "  <tbody>\n",
       "    <tr>\n",
       "      <th>0</th>\n",
       "      <td>The Girl Who Drank the Moon</td>\n",
       "      <td>Kelly Barnhill</td>\n",
       "      <td>Every year, the evil Protectorate offers a bab...</td>\n",
       "      <td>10-14</td>\n",
       "      <td>10-14</td>\n",
       "    </tr>\n",
       "    <tr>\n",
       "      <th>1</th>\n",
       "      <td>Time Between Us</td>\n",
       "      <td>Tamara Ireland Stone</td>\n",
       "      <td>Sixteen-year-old Anna is struggling to underst...</td>\n",
       "      <td>13+</td>\n",
       "      <td>12+</td>\n",
       "    </tr>\n",
       "    <tr>\n",
       "      <th>2</th>\n",
       "      <td>Girl Out of Water</td>\n",
       "      <td>Nat Luurtsema</td>\n",
       "      <td>Lou Brown's swimming ambitions sank without tr...</td>\n",
       "      <td>13-18</td>\n",
       "      <td>10+</td>\n",
       "    </tr>\n",
       "    <tr>\n",
       "      <th>3</th>\n",
       "      <td>Captive</td>\n",
       "      <td>A J Grainger</td>\n",
       "      <td>Robyn is scared. Ever since the attempted assa...</td>\n",
       "      <td>13+</td>\n",
       "      <td>13</td>\n",
       "    </tr>\n",
       "    <tr>\n",
       "      <th>4</th>\n",
       "      <td>The School of Music</td>\n",
       "      <td>Rachel Bowen and Meurig Bowen Illustrator: Dan...</td>\n",
       "      <td>Welcome to the School of Music. In charge is M...</td>\n",
       "      <td>10+</td>\n",
       "      <td>10+</td>\n",
       "    </tr>\n",
       "  </tbody>\n",
       "</table>\n",
       "</div>"
      ],
      "text/plain": [
       "                         Title  \\\n",
       "0  The Girl Who Drank the Moon   \n",
       "1              Time Between Us   \n",
       "2            Girl Out of Water   \n",
       "3                      Captive   \n",
       "4          The School of Music   \n",
       "\n",
       "                                              Author  \\\n",
       "0                                     Kelly Barnhill   \n",
       "1                               Tamara Ireland Stone   \n",
       "2                                      Nat Luurtsema   \n",
       "3                                       A J Grainger   \n",
       "4  Rachel Bowen and Meurig Bowen Illustrator: Dan...   \n",
       "\n",
       "                                                Desc Inerest_age  \\\n",
       "0  Every year, the evil Protectorate offers a bab...      10-14    \n",
       "1  Sixteen-year-old Anna is struggling to underst...        13+    \n",
       "2  Lou Brown's swimming ambitions sank without tr...      13-18    \n",
       "3  Robyn is scared. Ever since the attempted assa...        13+    \n",
       "4  Welcome to the School of Music. In charge is M...        10+    \n",
       "\n",
       "                            Reading_age  \n",
       "0  10-14                                 \n",
       "1    12+                                 \n",
       "2    10+                                 \n",
       "3     13                                 \n",
       "4    10+                                 "
      ]
     },
     "metadata": {},
     "output_type": "display_data"
    }
   ],
   "source": [
    "data = pd.read_csv('../datasets/childrenBook/children_books.csv')\n",
    "print(data.shape)\n",
    "display(data.head(5))"
   ]
  },
  {
   "cell_type": "code",
   "execution_count": 3,
   "metadata": {},
   "outputs": [
    {
     "data": {
      "text/html": [
       "<div>\n",
       "<style scoped>\n",
       "    .dataframe tbody tr th:only-of-type {\n",
       "        vertical-align: middle;\n",
       "    }\n",
       "\n",
       "    .dataframe tbody tr th {\n",
       "        vertical-align: top;\n",
       "    }\n",
       "\n",
       "    .dataframe thead th {\n",
       "        text-align: right;\n",
       "    }\n",
       "</style>\n",
       "<table border=\"1\" class=\"dataframe\">\n",
       "  <thead>\n",
       "    <tr style=\"text-align: right;\">\n",
       "      <th></th>\n",
       "      <th>Title</th>\n",
       "      <th>Author</th>\n",
       "      <th>Desc</th>\n",
       "      <th>Inerest_age</th>\n",
       "      <th>Reading_age</th>\n",
       "    </tr>\n",
       "  </thead>\n",
       "  <tbody>\n",
       "    <tr>\n",
       "      <th>1859</th>\n",
       "      <td>Five Hundred Miles</td>\n",
       "      <td>Kevin Brooks</td>\n",
       "      <td>In the industrial wastelands of east London, t...</td>\n",
       "      <td>13+</td>\n",
       "      <td>9+</td>\n",
       "    </tr>\n",
       "    <tr>\n",
       "      <th>1245</th>\n",
       "      <td>Buffalo Soldier</td>\n",
       "      <td>Tanya Landman</td>\n",
       "      <td>Plantation slave Charley Smith is eleven when ...</td>\n",
       "      <td>13+</td>\n",
       "      <td>11+</td>\n",
       "    </tr>\n",
       "    <tr>\n",
       "      <th>2635</th>\n",
       "      <td>Paper Avalanche</td>\n",
       "      <td>Lisa Williamson</td>\n",
       "      <td>Fourteen-year-old Ro Snow’s got a secret: her ...</td>\n",
       "      <td>12+</td>\n",
       "      <td>12+</td>\n",
       "    </tr>\n",
       "    <tr>\n",
       "      <th>480</th>\n",
       "      <td>The School of Music</td>\n",
       "      <td>Rachel Bowen and Meurig Bowen Illustrator: Dan...</td>\n",
       "      <td>Welcome to the School of Music. In charge is M...</td>\n",
       "      <td>10+</td>\n",
       "      <td>10+</td>\n",
       "    </tr>\n",
       "    <tr>\n",
       "      <th>3160</th>\n",
       "      <td>Time Between Us</td>\n",
       "      <td>Tamara Ireland Stone</td>\n",
       "      <td>Sixteen-year-old Anna is struggling to underst...</td>\n",
       "      <td>13+</td>\n",
       "      <td>12+</td>\n",
       "    </tr>\n",
       "  </tbody>\n",
       "</table>\n",
       "</div>"
      ],
      "text/plain": [
       "                    Title                                             Author  \\\n",
       "1859   Five Hundred Miles                                       Kevin Brooks   \n",
       "1245      Buffalo Soldier                                      Tanya Landman   \n",
       "2635      Paper Avalanche                                    Lisa Williamson   \n",
       "480   The School of Music  Rachel Bowen and Meurig Bowen Illustrator: Dan...   \n",
       "3160      Time Between Us                               Tamara Ireland Stone   \n",
       "\n",
       "                                                   Desc Inerest_age  \\\n",
       "1859  In the industrial wastelands of east London, t...        13+    \n",
       "1245  Plantation slave Charley Smith is eleven when ...        13+    \n",
       "2635  Fourteen-year-old Ro Snow’s got a secret: her ...        12+    \n",
       "480   Welcome to the School of Music. In charge is M...        10+    \n",
       "3160  Sixteen-year-old Anna is struggling to underst...        13+    \n",
       "\n",
       "                             Reading_age  \n",
       "1859   9+                                 \n",
       "1245  11+                                 \n",
       "2635  12+                                 \n",
       "480   10+                                 \n",
       "3160  12+                                 "
      ]
     },
     "execution_count": 3,
     "metadata": {},
     "output_type": "execute_result"
    }
   ],
   "source": [
    "data.sample(5)"
   ]
  },
  {
   "cell_type": "code",
   "execution_count": 4,
   "metadata": {},
   "outputs": [
    {
     "data": {
      "text/plain": [
       "'Every year, the evil Protectorate offers a baby to the evil witch in the forest to ensure their village’s safety. Yet, unknown to them, the witch is Xan, the plump and knowledgeable protector of the babies that she takes to the neighbouring village to be raised as special children, fed on starlight and destined to do wonderful things.\\nYet, one day, Xan feeds one baby the moon by mistake and fills her with a huge amount of magic\\xa0– a dangerous amount, as it turns out\\xa0– so Xan decides to raise Luna as her own. But nothing is straightforward, and when Luna turns 13, everything will change.\\nKelly Barnhill won the Newbery Medal in the US for this thoughtful and magical book about belonging, fear and family, and it’s easy to see why. The writing flows beautifully and Barnhill’s keen observation of human nature fits naturally into the story, which moves along at a satisfying pace.\\nXan is a delightfully pleasant and caring crone witch who dispels the traditional image of cackling evildoer, and replaces it with something far more loving and magical. Perfect for young fans of Neil Gaiman, Ursula Le Guin and Diana Wynne Jones.'"
      ]
     },
     "execution_count": 4,
     "metadata": {},
     "output_type": "execute_result"
    }
   ],
   "source": [
    "data.columns = [i.lower() for i in data.columns]\n",
    "data.loc[0,'desc']"
   ]
  },
  {
   "cell_type": "code",
   "execution_count": 5,
   "metadata": {},
   "outputs": [
    {
     "name": "stdout",
     "output_type": "stream",
     "text": [
      "3228\n",
      "0\n"
     ]
    }
   ],
   "source": [
    "print(data['title'].duplicated().sum())\n",
    "print(data[~data['title'].duplicated(keep='first')]['title'].duplicated().sum())"
   ]
  },
  {
   "cell_type": "code",
   "execution_count": 6,
   "metadata": {},
   "outputs": [],
   "source": [
    "data = data[~data['title'].duplicated(keep='first')].reset_index(drop=True)"
   ]
  },
  {
   "cell_type": "code",
   "execution_count": 7,
   "metadata": {},
   "outputs": [
    {
     "name": "stdout",
     "output_type": "stream",
     "text": [
      "(41, 5)\n"
     ]
    },
    {
     "data": {
      "text/html": [
       "<div>\n",
       "<style scoped>\n",
       "    .dataframe tbody tr th:only-of-type {\n",
       "        vertical-align: middle;\n",
       "    }\n",
       "\n",
       "    .dataframe tbody tr th {\n",
       "        vertical-align: top;\n",
       "    }\n",
       "\n",
       "    .dataframe thead th {\n",
       "        text-align: right;\n",
       "    }\n",
       "</style>\n",
       "<table border=\"1\" class=\"dataframe\">\n",
       "  <thead>\n",
       "    <tr style=\"text-align: right;\">\n",
       "      <th></th>\n",
       "      <th>title</th>\n",
       "      <th>author</th>\n",
       "      <th>desc</th>\n",
       "      <th>inerest_age</th>\n",
       "      <th>reading_age</th>\n",
       "    </tr>\n",
       "  </thead>\n",
       "  <tbody>\n",
       "    <tr>\n",
       "      <th>0</th>\n",
       "      <td>The Girl Who Drank the Moon</td>\n",
       "      <td>Kelly Barnhill</td>\n",
       "      <td>Every year, the evil Protectorate offers a bab...</td>\n",
       "      <td>10-14</td>\n",
       "      <td>10-14</td>\n",
       "    </tr>\n",
       "    <tr>\n",
       "      <th>1</th>\n",
       "      <td>Time Between Us</td>\n",
       "      <td>Tamara Ireland Stone</td>\n",
       "      <td>Sixteen-year-old Anna is struggling to underst...</td>\n",
       "      <td>13+</td>\n",
       "      <td>12+</td>\n",
       "    </tr>\n",
       "    <tr>\n",
       "      <th>2</th>\n",
       "      <td>Girl Out of Water</td>\n",
       "      <td>Nat Luurtsema</td>\n",
       "      <td>Lou Brown's swimming ambitions sank without tr...</td>\n",
       "      <td>13-18</td>\n",
       "      <td>10+</td>\n",
       "    </tr>\n",
       "    <tr>\n",
       "      <th>3</th>\n",
       "      <td>Captive</td>\n",
       "      <td>A J Grainger</td>\n",
       "      <td>Robyn is scared. Ever since the attempted assa...</td>\n",
       "      <td>13+</td>\n",
       "      <td>13</td>\n",
       "    </tr>\n",
       "    <tr>\n",
       "      <th>4</th>\n",
       "      <td>The School of Music</td>\n",
       "      <td>Rachel Bowen and Meurig Bowen Illustrator: Dan...</td>\n",
       "      <td>Welcome to the School of Music. In charge is M...</td>\n",
       "      <td>10+</td>\n",
       "      <td>10+</td>\n",
       "    </tr>\n",
       "  </tbody>\n",
       "</table>\n",
       "</div>"
      ],
      "text/plain": [
       "                         title  \\\n",
       "0  The Girl Who Drank the Moon   \n",
       "1              Time Between Us   \n",
       "2            Girl Out of Water   \n",
       "3                      Captive   \n",
       "4          The School of Music   \n",
       "\n",
       "                                              author  \\\n",
       "0                                     Kelly Barnhill   \n",
       "1                               Tamara Ireland Stone   \n",
       "2                                      Nat Luurtsema   \n",
       "3                                       A J Grainger   \n",
       "4  Rachel Bowen and Meurig Bowen Illustrator: Dan...   \n",
       "\n",
       "                                                desc inerest_age  \\\n",
       "0  Every year, the evil Protectorate offers a bab...      10-14    \n",
       "1  Sixteen-year-old Anna is struggling to underst...        13+    \n",
       "2  Lou Brown's swimming ambitions sank without tr...      13-18    \n",
       "3  Robyn is scared. Ever since the attempted assa...        13+    \n",
       "4  Welcome to the School of Music. In charge is M...        10+    \n",
       "\n",
       "                            reading_age  \n",
       "0  10-14                                 \n",
       "1    12+                                 \n",
       "2    10+                                 \n",
       "3     13                                 \n",
       "4    10+                                 "
      ]
     },
     "metadata": {},
     "output_type": "display_data"
    }
   ],
   "source": [
    "print(data.shape)\n",
    "display(data.head())"
   ]
  },
  {
   "cell_type": "markdown",
   "metadata": {},
   "source": [
    "## 2. Clean the text data"
   ]
  },
  {
   "cell_type": "code",
   "execution_count": 8,
   "metadata": {},
   "outputs": [],
   "source": [
    "import nltk\n",
    "from nltk.tokenize import word_tokenize, sent_tokenize\n",
    "from nltk.corpus import stopwords"
   ]
  },
  {
   "cell_type": "code",
   "execution_count": 9,
   "metadata": {},
   "outputs": [
    {
     "name": "stderr",
     "output_type": "stream",
     "text": [
      "[nltk_data] Downloading package stopwords to /home/jay.je/nltk_data...\n",
      "[nltk_data]   Package stopwords is already up-to-date!\n",
      "[nltk_data] Downloading package punkt to /home/jay.je/nltk_data...\n",
      "[nltk_data]   Package punkt is already up-to-date!\n"
     ]
    },
    {
     "data": {
      "text/plain": [
       "True"
      ]
     },
     "execution_count": 9,
     "metadata": {},
     "output_type": "execute_result"
    }
   ],
   "source": [
    "nltk.download('stopwords')\n",
    "nltk.download('punkt')"
   ]
  },
  {
   "cell_type": "code",
   "execution_count": 10,
   "metadata": {},
   "outputs": [],
   "source": [
    "stopwords = set(stopwords.words(\"english\"))"
   ]
  },
  {
   "cell_type": "code",
   "execution_count": 11,
   "metadata": {},
   "outputs": [],
   "source": [
    "def get_word_freq(x):\n",
    "    x = ' '.join(x)\n",
    "    x = x.lower()\n",
    "    for word in nltk.word_tokenize(x):\n",
    "        if word not in stopwords:\n",
    "            if word not in word_frequencies.keys():\n",
    "                word_frequencies[word] = 1\n",
    "            else:\n",
    "                word_frequencies[word] += 1"
   ]
  },
  {
   "cell_type": "code",
   "execution_count": 12,
   "metadata": {},
   "outputs": [],
   "source": [
    "def split_sentences(x):\n",
    "\n",
    "    s = x['desc']\n",
    "    author = str(x['author']).lower().strip()\n",
    "    title = str(x['title']).lower().strip()\n",
    "    s = s.replace('\\n','<DELIM>').replace('\\xa0',' ').replace('.','<DELIM>').replace(';', '<DELIM>').replace(':','<DELIM>').replace(' – ', '<DELIM>').replace(' - ', '<DELIM>')\n",
    "    sents = s.split('<DELIM>')\n",
    "    sents = [str(i).lower().strip('\\n').strip() for i in sents][:-1]\n",
    "    sents = [i for i in sents if author not in i and i != '' and title not in i]\n",
    "    \n",
    "    return sents"
   ]
  },
  {
   "cell_type": "code",
   "execution_count": 13,
   "metadata": {},
   "outputs": [],
   "source": [
    "\n",
    "def extract_key_sentences(ls_sent):\n",
    "    sentences_scores={}\n",
    "    scores_to_sentences={}\n",
    "\n",
    "    if len(ls_sent)<5:\n",
    "        return\n",
    "\n",
    "    for idx, sent in enumerate(ls_sent):\n",
    "        words = nltk.word_tokenize(sent.lower())\n",
    "        for word in words:\n",
    "            if word in word_frequencies:\n",
    "                if idx not in sentences_scores:\n",
    "                    sentences_scores[idx] = []\n",
    "                sentences_scores[idx].append(word_frequencies[word])\n",
    "        sentences_scores[idx] = np.mean(sentences_scores[idx])\n",
    "    \n",
    "    # take the lowest sentences\n",
    "    vals = sorted(list(sentences_scores.values()))[-5:]\n",
    "    top_sentences = {0: nltk.sent_tokenize(ls_sent[0])\n",
    "                    #  len(ls_sent): nltk.sent_tokenize(ls_sent[-2]),\n",
    "                     }\n",
    "    \n",
    "    for idx, score in sentences_scores.items():\n",
    "        if score in vals and idx not in top_sentences:\n",
    "            top_sentences[idx] = nltk.sent_tokenize(ls_sent[idx])\n",
    "            if len(top_sentences.keys())==5:\n",
    "                break\n",
    "\n",
    "    return sorted(top_sentences.items())\n"
   ]
  },
  {
   "cell_type": "code",
   "execution_count": 14,
   "metadata": {},
   "outputs": [
    {
     "data": {
      "text/plain": [
       "4"
      ]
     },
     "execution_count": 14,
     "metadata": {},
     "output_type": "execute_result"
    }
   ],
   "source": [
    "word_frequencies = {}\n",
    "data['tok'] = data.apply(lambda x: split_sentences(x), axis=1)\n",
    "data['tok'].apply(lambda x: get_word_freq(x))\n",
    "word_frequencies['every']"
   ]
  },
  {
   "cell_type": "code",
   "execution_count": 15,
   "metadata": {},
   "outputs": [
    {
     "data": {
      "text/plain": [
       "['when poppy sinclair finds the body of a young woman washed up on the shore of a lake, she is convinced it is a case of murder rather than the tragic accident or suicide which is the theory favoured by police',\n",
       " 'as poppy struggles with memories of her own near-death experience and the pain of seeing the boy she loves with another girl, she finds it difficult to draw clear lines between reality and imagination',\n",
       " 'especially as people and things are not always what they seem',\n",
       " 'yet despite the risks, she is determined to prove that someone close by is a murderer',\n",
       " 'this is an engaging, complex and  thoughtful thriller, featuring a plot thick with lies, secrets, deceit and jealousy']"
      ]
     },
     "execution_count": 15,
     "metadata": {},
     "output_type": "execute_result"
    }
   ],
   "source": [
    "data.loc[10,'tok']"
   ]
  },
  {
   "cell_type": "code",
   "execution_count": 16,
   "metadata": {},
   "outputs": [],
   "source": [
    "max_freq = max(word_frequencies.values())\n",
    "for word in word_frequencies.keys():\n",
    "    word_frequencies[word] = (word_frequencies[word]/max_freq)"
   ]
  },
  {
   "cell_type": "code",
   "execution_count": 17,
   "metadata": {},
   "outputs": [],
   "source": [
    "data['tok_top'] = data['tok'].apply(lambda x: extract_key_sentences(x))"
   ]
  },
  {
   "cell_type": "code",
   "execution_count": 18,
   "metadata": {},
   "outputs": [],
   "source": [
    "data_clean = list(data['tok_top'])"
   ]
  },
  {
   "cell_type": "code",
   "execution_count": 19,
   "metadata": {},
   "outputs": [
    {
     "data": {
      "text/plain": [
       "[(0, ['caz and will live in a settlement for survivors of the frozen world']),\n",
       " (1,\n",
       "  ['caz hasn’t seen her father for nine years, when the blue star poisoned and froze the planet']),\n",
       " (2,\n",
       "  ['she can’t let go of the feeling that he may still be alive somewhere, and when she finds a secret file containing information about him, she’s determined to investigate']),\n",
       " (3,\n",
       "  ['caz and will soon find themselves out in the frozen landscape once again, and it’s even more dangerous than last time']),\n",
       " (4,\n",
       "  ['this is a fantastic sequel for this dystopian series, keeping the fast pace of at the world’s end'])]"
      ]
     },
     "metadata": {},
     "output_type": "display_data"
    },
    {
     "data": {
      "text/plain": [
       "[(0,\n",
       "  ['when poppy sinclair finds the body of a young woman washed up on the shore of a lake, she is convinced it is a case of murder rather than the tragic accident or suicide which is the theory favoured by police']),\n",
       " (1,\n",
       "  ['as poppy struggles with memories of her own near-death experience and the pain of seeing the boy she loves with another girl, she finds it difficult to draw clear lines between reality and imagination']),\n",
       " (2, ['especially as people and things are not always what they seem']),\n",
       " (3,\n",
       "  ['yet despite the risks, she is determined to prove that someone close by is a murderer']),\n",
       " (4,\n",
       "  ['this is an engaging, complex and  thoughtful thriller, featuring a plot thick with lies, secrets, deceit and jealousy'])]"
      ]
     },
     "metadata": {},
     "output_type": "display_data"
    },
    {
     "data": {
      "text/plain": [
       "[(0,\n",
       "  ['farway gaius mccarthy was born in the future, in the past and out of time']),\n",
       " (1,\n",
       "  ['in a world where time travel is a possible career, he has a bright future (and past) in front of him']),\n",
       " (2,\n",
       "  ['he doesn’t just want it, he needs it, because his mother vanished on the time travelling ship ab eterno, and he wants to find her more than anything']),\n",
       " (6,\n",
       "  ['what is at stake is more than his career, more than his mother, and even more than his life']),\n",
       " (8,\n",
       "  ['her characters are spunky, smart-mouthed, tormented, emotionally yearning and contemporary'])]"
      ]
     },
     "metadata": {},
     "output_type": "display_data"
    }
   ],
   "source": [
    "display(data_clean[5])\n",
    "display(data_clean[10])\n",
    "display(data_clean[30])"
   ]
  },
  {
   "cell_type": "code",
   "execution_count": 20,
   "metadata": {},
   "outputs": [],
   "source": [
    "children_books_data = {}\n",
    "\n",
    "for idx, ann in enumerate(data_clean):\n",
    "    if ann: # if the annotation exists\n",
    "        children_books_data[idx] = {}\n",
    "        excerpt = [i[1][0].lower() for i in ann]\n",
    "        for seq, txt in enumerate(excerpt):\n",
    "            children_books_data[idx][seq] = txt"
   ]
  },
  {
   "cell_type": "code",
   "execution_count": 21,
   "metadata": {},
   "outputs": [
    {
     "data": {
      "text/plain": [
       "{0: {0: 'every year, the evil protectorate offers a baby to the evil witch in the forest to ensure their village’s safety',\n",
       "  1: 'yet, unknown to them, the witch is xan, the plump and knowledgeable protector of the babies that she takes to the neighbouring village to be raised as special children, fed on starlight and destined to do wonderful things',\n",
       "  2: 'yet, one day, xan feeds one baby the moon by mistake and fills her with a huge amount of magic',\n",
       "  3: 'a dangerous amount, as it turns out',\n",
       "  4: 'but nothing is straightforward, and when luna turns 13, everything will change'},\n",
       " 1: {0: 'sixteen-year-old anna is struggling to understand bennett, the new boy at school',\n",
       "  1: 'but the next, he avoids her and acts as if he hardly knows her',\n",
       "  2: 'when he saves her life, she finally discovers his secret and all the pieces of the puzzle fall into place',\n",
       "  3: 'anna realises they should never have been able to meet, let alone fall in love, because although he is a year older than her, bennett was born in the year she turned 16',\n",
       "  4: 'engaging, poignant and complex, it is an unpredictable story that will keep readers engrossed until the last page'},\n",
       " 2: {0: \"lou brown's swimming ambitions sank without trace when she failed in the olympic time trials that sent her best friend off to high performance training camp\",\n",
       "  1: 'fifteen years old, 5 foot 10 (and still growing), left at home with no hobby and no friend, she struggles to fit in with even the least cool kids at school',\n",
       "  2: 'when an accidental encounter leads to her coaching three of the coolest guys around in their quest to get on tv, lou finds her life descending into chaos and craziness',\n",
       "  3: \"with plenty of genuine laugh-out-loud moments and a zany plot, lou's story is a hilarious, yet poignant, exploration of the highs and lows of navigating teenage relationships and social expectations\",\n",
       "  4: 'contemporary and engaging with believable characters and a refreshingly original voice'},\n",
       " 3: {0: 'robyn is scared',\n",
       "  1: 'ever since the attempted assassination of her dad, the british prime minister, she dreads leaving home',\n",
       "  2: \"but this time, the animal rights activists aren't after the prime minister\",\n",
       "  3: 'kidnapped at gunpoint, incarcerated in a tiny cell, robyn wonders how far her dad will go to secure her release',\n",
       "  4: 'at the same time, she grows close to one of her captors'},\n",
       " 4: {0: 'in charge is maestro sergio trunk',\n",
       "  1: \"over three terms, you'll discover the wide, wonderful world of music, whether you're listening, reading, writing or playing\",\n",
       "  2: \"there's a tour of musical genres and eras, from classical to jazz, medieval to modern, as well as introductions to the various instrument families\",\n",
       "  3: \"once you've covered reading and writing music, and getting the timing right, you reach the best bit\",\n",
       "  4: 'accompanying a chatty text, clean, sharp ice-cream coloured graphics make complex concepts incredibly clear, with musical samples to download and activities to stimulate responses and deepen understanding'},\n",
       " 5: {0: 'caz and will live in a settlement for survivors of the frozen world',\n",
       "  1: 'caz hasn’t seen her father for nine years, when the blue star poisoned and froze the planet',\n",
       "  2: 'she can’t let go of the feeling that he may still be alive somewhere, and when she finds a secret file containing information about him, she’s determined to investigate',\n",
       "  3: 'caz and will soon find themselves out in the frozen landscape once again, and it’s even more dangerous than last time',\n",
       "  4: 'this is a fantastic sequel for this dystopian series, keeping the fast pace of at the world’s end'},\n",
       " 6: {0: 'after a huge earthquake strikes every continent on earth, strange things start happening and people begin behaving very oddly',\n",
       "  1: 'aries survives a bus crash, while clementine barely escapes the horror of a town massacre',\n",
       "  2: 'while mason is in hospital at his dying mother’s bedside his school is destroyed and all his friends killed, whilst michael’s experience of a road rage incident leaves him reeling',\n",
       "  3: 'this is the story of four teenagers and their struggle to survive in a post-apocalyptic world',\n",
       "  4: 'dark and disturbing yet exciting, it reveals real humanity and emotion, as the relationships between the young people are tested to the limit'},\n",
       " 7: {0: \"when her best friend dawn commits suicide, kite's world falls apart\",\n",
       "  1: \"feeling that dawn's spirit, embodied by an owl, has followed her to the countryside, she battles with her feelings of anger, guilt and sadness, refusing to engage with those around her\",\n",
       "  2: 'but gradually, a friendship with local boy garth, and making connections with the local community help her to express her feelings and say goodbye to her best friend',\n",
       "  3: 'but kire spirit is also a celebration of family, friendship and the power of nature',\n",
       "  4: 'kite is an engaging and different heroine, and the lake district landscapes are full of atmosphere'},\n",
       " 8: {0: 'originally published in 1949, this delightful novel by the author of the much-loved one hundred and one dalmatians, still retains its freshness today',\n",
       "  1: 'cassandra, the 17-year-old narrator, lives an eccentric existence in a crumbling castle in the english countryside in the 1930s',\n",
       "  2: 'until some young, wealthy american neighbours arrive and rose sees an opportunity for them all to escape their impoverished existence',\n",
       "  3: 'even when she is encountering the difficulties of first love and first heartbreak, cassandra remains a wonderfully likable heroine, with a strong narrative voice and a distinctive sense of humour',\n",
       "  4: 'whimsical, charming and beautifully written, this engaging classic novel will appeal equally to both adult and young adult readers'},\n",
       " 9: {0: 'his love for music has lost its shine, and even his online chats with anna, the girl of his dreams, have to be carried out under a false persona',\n",
       "  1: 'far from pity, insults or indifference, he suddenly finds himself a celebrity amongst his classmates, who become fascinated by his horrifying plan',\n",
       "  2: 'and life takes an unexpected turn for the better',\n",
       "  3: 'but what will happen when december 31st rolls around?cleverly balancing darkness and light, this is a unique young adult novel which takes an unflinching look at the isuses of bingeing, overeating, depression and suicide',\n",
       "  4: \"in particular the problems of internet bullying, and the tensions between online and 'real-life' identities\"},\n",
       " 10: {0: 'when poppy sinclair finds the body of a young woman washed up on the shore of a lake, she is convinced it is a case of murder rather than the tragic accident or suicide which is the theory favoured by police',\n",
       "  1: 'as poppy struggles with memories of her own near-death experience and the pain of seeing the boy she loves with another girl, she finds it difficult to draw clear lines between reality and imagination',\n",
       "  2: 'especially as people and things are not always what they seem',\n",
       "  3: 'yet despite the risks, she is determined to prove that someone close by is a murderer',\n",
       "  4: 'this is an engaging, complex and  thoughtful thriller, featuring a plot thick with lies, secrets, deceit and jealousy'},\n",
       " 11: {0: \"since amber's eighteen year old brother liam died suddenly a year ago, her life has been miserable as her family struggles with their grief\",\n",
       "  1: 'however, she soon finds she is involved in something beyond her control and things go from bad to worse',\n",
       "  2: 'a gripping story of love, grief, friendship and trust',\n",
       "  3: \"the characters and their situations are completely believable and amber's doubts, guilt and confused emotions are written with real understanding\",\n",
       "  4: 'ultimately uplifting, this is a compelling read'},\n",
       " 12: {0: 'dory is having a boring family holiday in a small sea-side town in england',\n",
       "  1: 'her dorky younger sister, gracie, has become obsessed with letter-boxing',\n",
       "  2: 'while reluctantly out on one of these hunts dory stumbles across a very old letter-box, one that contains a note from the late 1800s, and one with the magical power to pull her back to that time',\n",
       "  3: 'this dyslexia-friendly novel is a great, short read',\n",
       "  4: 'the relationship between sisters dory and gracie is particularly believable, as the girls bicker constantly'},\n",
       " 13: {0: \"seventeen-year-old twylla lives in the castle and is betrothed to the prince, but she isn't a princess or a member of court\",\n",
       "  1: 'as the goddess embodied, she can kill with a single touch',\n",
       "  2: 'only the prince, with his royal blood, is immune to her touch, but even he avoids her',\n",
       "  3: 'as everything begins to spiral out of control, twylla has to decide who she trusts, who she loves, and what she is willing to do for her kingdom',\n",
       "  4: 'the world is multi-layered and salisbury deftly weaves in original legends, myths, and histories to bring the world to life'},\n",
       " 14: {0: 'the story of lear, the old chieftain, who divides his kingdom among his three daughters is the most terrifying tragedy ever written',\n",
       "  1: 'shakespeare’s apocalyptic play is vividly transferred to the colonial frontiers of 18th-century america, where it is the last of the mohicans who is bound upon a wheel of fire',\n",
       "  2: \"part of the popular manga shakespeare series of graphic novel adpatations of shakespeare's plays\",\n",
       "  3: 'perfect for introducing key stage 3 students to shakespeare',\n",
       "  4: \"ilya's illustrations match the intensity of the play to bring this tragic classic vividly to life\"},\n",
       " 16: {0: 'frank is being bullied',\n",
       "  1: \"for what, she's not sure\",\n",
       "  2: 'being smart?',\n",
       "  3: 'one day, after the bullies throw her bag in the middle of a huge patch of stinging nettles, nick underbridge comes to her aid',\n",
       "  4: 'a strange boy that everyone makes fun of at school for his hugeness and odd, unidentifiable smell'},\n",
       " 17: {0: 'amy curry’s life is a disaster',\n",
       "  1: 'her father recently died in a car accident, which amy feels was her fault',\n",
       "  2: 'she is feeling isolated, struggling to come to terms with her feelings, when her mother decides to move to the other side of the country arranging for a family friend, roger, to drive their car from california to connecticut',\n",
       "  3: 'when roger suggests a detour from the planned route, amy and roger embark on an adventure of self discovery, enabling amy to finally come to terms with the past and move on with her life',\n",
       "  4: 'the text is interspersed with flashbacks slowly revealing the events of the accident with souvenir snippets of the trip, including music playlists cleverly playing out all the emotions amy and roger experience along the way'},\n",
       " 18: {0: 'gripped by a strange fear, england closes its doors to the outside world',\n",
       "  1: 'in a tunnel beneath wales one man opens a crack in a mysterious stone wall, and all over the island of britain people react with horror to perfectly normal machines',\n",
       "  2: 'abandoning their cars on the roads and destroying their own factories, many flee the cities for the countryside, where they return to farming and an old-fashioned life',\n",
       "  3: 'when families are split apart and grown-ups forget how they used to live, young people face unexpected challenges',\n",
       "  4: 'a classic in the teen sci-fi genre, perfect for those who have read all the contemporary ya dystopian novels and want to see where it all began'},\n",
       " 19: {0: 'suzy smith is very surprised when a huge magical train takes a shortcut through her downstairs hallway one evening',\n",
       "  1: 'her curiosity getting the better of her, suzy hitches a ride and becomes the newest postie',\n",
       "  2: \"but when her first delivery goes disastrously wrong, she's not only caught up in an amazing magical adventure, but the fate of the union itself rests on her shoulders\",\n",
       "  3: 'two towers locked in a power struggle, a cursed boy trapped in a snowglobe, warrior statues, wormholes and negotiable gravity are just a few things suzy encounters on her incredible journey',\n",
       "  4: 'knowledge is power in the impossible places, but who is telling the whole truth?'},\n",
       " 21: {0: 'and just as powerfully written',\n",
       "  1: \"the book is narrated in turns by libby, famous for once being 'america's fattest teen' and starting high school after years of being home schooled, and jack, who seems to be one of the popular kids but secretly suffers from prospagnosia\",\n",
       "  2: \"the inability to recognise the faces of familiar people even those in this own family which is often called 'face blindness'\",\n",
       "  3: 'their worlds collide in a horribly cruel high school game and an unlikely friendship is formed that leads to something even deeper',\n",
       "  4: \"her characters libby and jack feel so real that it's almost impossible to believe they don't live and breathe\"},\n",
       " 22: {0: 'frankenstein tells the story of a privileged and self-absorbed young man whose arrogant obsession leads him to create a monstrous version of a human being',\n",
       "  1: 'frankenstein abandons the physically grotesque creature he has created, leaving it to be reviled and rejected by mankind',\n",
       "  2: 'as a consequence, its gentle nature is twisted and distorted until it becomes a veritable monster, wreaking havoc and bringing death and destruction in its wake',\n",
       "  3: 'this remarkable new version blends the finest contemporary illustration, dramatic storytelling and superb paper engineering',\n",
       "  4: \"a combination of comic strip detail and stunning pop-ups on every spread bring each moment of the story to life, from the monster's creation to his dramatic demise\"},\n",
       " 24: {0: 'the comic-strip adventures of calvin, a naughty boy with a philosophical bent, and his soft toy tiger companion hobbes, delighted readers from 1985 to 1995',\n",
       "  1: 'he is in thrall to consumerism, hates school, loves making gruesome snowmen, and plays calvinball, an anarchic game of ever-changing rules',\n",
       "  2: 'indeed, the artist himself has always shunned publicity',\n",
       "  3: 'susie, the little girl from down the road, often gets her own back on her snowball-throwing nemesis',\n",
       "  4: 'for calvin and hobbes, however, watterson combined uncanny ability, more than a touch of surrealism and a huge dose of humour to distil the essence of late-twentieth-century childhood, thereby elevating his strip into a league of its own'},\n",
       " 25: {0: 'practical advice for children on how to handle bullying',\n",
       "  1: \"'what a fleabag!\",\n",
       "  2: \"michael's mum wonders why he's always covered in bruises, but michael won't say\",\n",
       "  3: 'being called names, being beaten up, having your bus fare stolen, being made to feel stupid',\n",
       "  4: \"but you don't have to accept being bullied, and if you're a bully, you can learn to stop\"},\n",
       " 26: {0: 'in the industrial wastelands of east london, two brothers are delivering forged vehicle documents',\n",
       "  1: \"otherwise, he'll have to do something\",\n",
       "  2: 'but then he does, and things move quickly',\n",
       "  3: 'cole, his brother and the girl are driving away northwards, leaving behind new enemies and casting off from their old damaged lives',\n",
       "  4: 'are vividly described, in this stark, intense, plot-driven, cinematic story of hoping for better'},\n",
       " 27: {0: 'on the eve of battle, sir thomas lemuel hawke of cornwall writes a letter to his children',\n",
       "  1: 'it is a guide on how to live well, like a knight',\n",
       "  2: 'staying wise, humble, courageous, loving and kind',\n",
       "  3: \"inside, an editor’s note talks about the discovery of the ‘historical’ letter, confirming sir thomas's death at the battle of slaughter bridge in 1483\",\n",
       "  4: 'there are also some lovely, tender scenes with the grandfather'},\n",
       " 28: {0: 'fourteen-year-old ro snow’s got a secret',\n",
       "  1: 'yet ro fears if anyone finds out how bad the house is, she’ll be taken into care, so she’ll do anything to stay under the radar',\n",
       "  2: 'that is, until tanvi shah, returning to school after beating cancer, makes it her mission to make friends with ro',\n",
       "  3: 'and enlist her in the school choir, where ro discovers that she has a great voice',\n",
       "  4: 'add in a beautiful but equally lonely boy, noah, and things start to get complicated, especially when ro’s singing threatens to disrupt her carefully constructed anonymity'},\n",
       " 30: {0: 'farway gaius mccarthy was born in the future, in the past and out of time',\n",
       "  1: 'in a world where time travel is a possible career, he has a bright future (and past) in front of him',\n",
       "  2: 'he doesn’t just want it, he needs it, because his mother vanished on the time travelling ship ab eterno, and he wants to find her more than anything',\n",
       "  3: 'what is at stake is more than his career, more than his mother, and even more than his life',\n",
       "  4: 'her characters are spunky, smart-mouthed, tormented, emotionally yearning and contemporary'},\n",
       " 31: {0: 'louisiana teenager rory is embarking on a new life at an east london boarding school',\n",
       "  1: 'but even as she arrives at her new school for the first time, a terror is stalking the city streets',\n",
       "  2: \"as a fever of 'rippermania' spreads across london, rory finds herself unexpectedly entangled in these dark events when she alone sees the man who the police believe to be the prime suspect\",\n",
       "  3: 'and is rory herself about to become the next target?',\n",
       "  4: \"readers looking for excitement and suspense will be gripped by the hectic twists and turns of the plot, and the final cliffhanger of an ending, but there's plenty of johnson's trademark wit in evidence too\"},\n",
       " 32: {0: 'beautiful young aristocrat ginette, known as jenny, is the closest friend and confidant of mary, the young queen of scots',\n",
       "  1: 'growing up in the french court dominated by the ruthless catherine de medici, jenny is all too familiar with ambition, intrigue and secrets',\n",
       "  2: 'when she hears a whispered plot against mary, she sets out to become a spy to keep her dear friend safe, little realising how much danger she will soon find herself encountering',\n",
       "  3: 'there is plenty of excitement in store as, facing betrayal on all sides, jenny struggles to unravel the various plots against mary, whilst fighting her own increasingly strong feelings for charismatic nobleman duncan alexander, who she is unsure whether she should trust',\n",
       "  4: 'fans of historical fiction will enjoy this carefully-crafted and exciting story, which offers up a thoughtful and intriguing portrait of the young mary queen of scots'},\n",
       " 33: {0: 'this extraordinary graphic novel is so obviously a labour of love that the reader can only marvel at the energy that has been expended in its creation',\n",
       "  1: 'jimmy corrigan is a lonely, single, thirty-something with a boring job in an office cubicle, and a domineering mother who, in spite of living in a nursing home, is never far from the telephone or jimmy',\n",
       "  2: 'james is a frightened little boy, cowed by his father and bullied at school',\n",
       "  3: 'he has a vagueness and fragility common to young, lonely and fearful children, qualities that are inherited generations later by his grandson',\n",
       "  4: 'after spending most of his life avoiding his own father, speaking only rarely on the phone, ware finally met up with him'},\n",
       " 35: {0: \"plantation slave charley smith is eleven when america blows itself apart, with abraham lincoln's decision to prohibit slavery\",\n",
       "  1: \"but it's a taste of hell\",\n",
       "  2: \"but she survives, stealing the clothes from a dead man's back to enlist in the army\",\n",
       "  3: 'nor does being a man when jim, the indian tracker, joins up…',\n",
       "  4: 'a moving, gritty and convincing teenage historical drama where love and loyalty take on prejudice and greed'},\n",
       " 36: {0: 'the future elizabeth i has been imprisoned by her half-sister queen mary at the ruined, isolated palace of woodstock, and 15-year-old meg lytton is sent to serve her',\n",
       "  1: 'but meg is no ordinary girl',\n",
       "  2: 'taught by her aunt, a white witch, she has unusual magical gifts that soon become of interest to the outcast princess',\n",
       "  3: 'but when alejandro de castillo, a young spanish priest joins the household, meg finds herself in peril',\n",
       "  4: 'fast-paced and suspenseful, this is a novel which will appeal to both fans of the supernatural and those with an interest in historical fiction'},\n",
       " 38: {0: \"sophronia is horrified when her mother decides to send her to mademoiselle geraldine's finishing academy for young ladies of quality, but she soon realises it's not quite the sort of 'finishing school' her mother had expected\",\n",
       "  1: \"whilst the finer points of dance, dress and etiquette are all part of the curriculm, the school also trains young ladies in a quite different kind of 'finishing'\",\n",
       "  2: 'the arts of espionage, death and diversion',\n",
       "  3: 'arriving at their new school to discover it is located in a flying dirigible, and that werewolves and vampires will be amongst their teachers, sophonia and her new-found friends realise they are in for a very eventful first term',\n",
       "  4: \"this victorian steampunk take on the classic school story is full of delightful details, from mechanical butlers and flying highwaymen (or 'flywaymen') to sophronia's adorable steam-powered sausage dog, bumbersnoot\"},\n",
       " 39: {0: \"grief has turned lennie's world upside down\",\n",
       "  1: 'bailey, her charismatic and vital older sister has died unexpectedly, forcing lennie to step out from behind her shadow for the first time',\n",
       "  2: 'lennie, who lives with her bohemian grandmother and eccentric uncle big in california, writes poetry about her feelings on scraps of paper, which she leaves hidden in unusual places around town',\n",
       "  3: 'her poems pepper the book, their rawness emphasised, as they are presented as hand-written and on textured pages',\n",
       "  4: 'lennie’s emotional rollercoaster is heightened by an intense new connection with bailey’s former fiancé, toby, and the arrival of joe fontaine, a gorgeous and sensitive musician, who, much to lennie’s disbelief, seems to adore her'},\n",
       " 40: {0: 'mare barrow knows she is different',\n",
       "  1: 'her blood is red, but she has an ability that only someone with silver blood should have',\n",
       "  2: \"the reader sees mare's inner struggle as she tries to understand if she is right to recruit the others with abilities similar to hers, release the prisoners of the silver king, and unite with the red guard\",\n",
       "  3: 'the characters now wage political and physical battles',\n",
       "  4: 'if you enjoyed the hunger games and the maze runner, then the red queen series will not disappoint'}}"
      ]
     },
     "execution_count": 21,
     "metadata": {},
     "output_type": "execute_result"
    }
   ],
   "source": [
    "children_books_data"
   ]
  },
  {
   "cell_type": "code",
   "execution_count": 22,
   "metadata": {},
   "outputs": [
    {
     "data": {
      "text/plain": [
       "(41, 7)"
      ]
     },
     "execution_count": 22,
     "metadata": {},
     "output_type": "execute_result"
    }
   ],
   "source": [
    "data[~data['title'].duplicated(keep='first')].shape"
   ]
  },
  {
   "cell_type": "code",
   "execution_count": 25,
   "metadata": {},
   "outputs": [
    {
     "data": {
      "text/plain": [
       "35"
      ]
     },
     "execution_count": 25,
     "metadata": {},
     "output_type": "execute_result"
    }
   ],
   "source": [
    "len(children_books_data.keys())"
   ]
  },
  {
   "cell_type": "code",
   "execution_count": 23,
   "metadata": {},
   "outputs": [],
   "source": [
    "fin = json.dumps(children_books_data, indent=4)\n",
    "with open(\"/home/jay.je/IMspiredStoryTelling/datasets/childrenBook/children_books_clean.json\", \"w\") as f:\n",
    "    f.write(fin)\n",
    "    f.close()"
   ]
  },
  {
   "cell_type": "markdown",
   "metadata": {},
   "source": [
    "### Count the number of tokens"
   ]
  },
  {
   "cell_type": "code",
   "execution_count": 26,
   "metadata": {},
   "outputs": [],
   "source": [
    "# Total tokens\n",
    "total_count = 0\n",
    "for k in children_books_data:\n",
    "    for s in children_books_data[k]:\n",
    "        total_count += len(children_books_data[k][s].split(' '))"
   ]
  },
  {
   "cell_type": "code",
   "execution_count": 27,
   "metadata": {},
   "outputs": [
    {
     "data": {
      "text/plain": [
       "3465"
      ]
     },
     "execution_count": 27,
     "metadata": {},
     "output_type": "execute_result"
    }
   ],
   "source": [
    "total_count # this is the minimum number of tokens sent to chatGPT"
   ]
  },
  {
   "cell_type": "code",
   "execution_count": 28,
   "metadata": {},
   "outputs": [
    {
     "name": "stdout",
     "output_type": "stream",
     "text": [
      "mare barrow knows she is different\n",
      "her blood is red, but she has an ability that only someone with silver blood should have\n",
      "the reader sees mare's inner struggle as she tries to understand if she is right to recruit the others with abilities similar to hers, release the prisoners of the silver king, and unite with the red guard\n",
      "the characters now wage political and physical battles\n",
      "if you enjoyed the hunger games and the maze runner, then the red queen series will not disappoint\n"
     ]
    }
   ],
   "source": [
    "for i in children_books_data[40].values():\n",
    "    print(i)"
   ]
  }
 ],
 "metadata": {
  "kernelspec": {
   "display_name": "Python 3 (ipykernel)",
   "language": "python",
   "name": "python3"
  },
  "language_info": {
   "codemirror_mode": {
    "name": "ipython",
    "version": 3
   },
   "file_extension": ".py",
   "mimetype": "text/x-python",
   "name": "python",
   "nbconvert_exporter": "python",
   "pygments_lexer": "ipython3",
   "version": "3.9.2"
  }
 },
 "nbformat": 4,
 "nbformat_minor": 4
}
