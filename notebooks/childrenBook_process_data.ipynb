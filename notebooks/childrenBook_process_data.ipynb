{
 "cells": [
  {
   "cell_type": "code",
   "execution_count": 1,
   "metadata": {},
   "outputs": [],
   "source": [
    "import pandas as pd\n",
    "from collections import Counter\n",
    "import numpy as np\n",
    "import random\n",
    "import json"
   ]
  },
  {
   "cell_type": "markdown",
   "metadata": {},
   "source": [
    "## 1. Load the children's book data"
   ]
  },
  {
   "cell_type": "code",
   "execution_count": 2,
   "metadata": {},
   "outputs": [
    {
     "name": "stdout",
     "output_type": "stream",
     "text": [
      "(3269, 5)\n"
     ]
    },
    {
     "data": {
      "text/html": [
       "<div>\n",
       "<style scoped>\n",
       "    .dataframe tbody tr th:only-of-type {\n",
       "        vertical-align: middle;\n",
       "    }\n",
       "\n",
       "    .dataframe tbody tr th {\n",
       "        vertical-align: top;\n",
       "    }\n",
       "\n",
       "    .dataframe thead th {\n",
       "        text-align: right;\n",
       "    }\n",
       "</style>\n",
       "<table border=\"1\" class=\"dataframe\">\n",
       "  <thead>\n",
       "    <tr style=\"text-align: right;\">\n",
       "      <th></th>\n",
       "      <th>Title</th>\n",
       "      <th>Author</th>\n",
       "      <th>Desc</th>\n",
       "      <th>Inerest_age</th>\n",
       "      <th>Reading_age</th>\n",
       "    </tr>\n",
       "  </thead>\n",
       "  <tbody>\n",
       "    <tr>\n",
       "      <th>0</th>\n",
       "      <td>The Girl Who Drank the Moon</td>\n",
       "      <td>Kelly Barnhill</td>\n",
       "      <td>Every year, the evil Protectorate offers a bab...</td>\n",
       "      <td>10-14</td>\n",
       "      <td>10-14</td>\n",
       "    </tr>\n",
       "    <tr>\n",
       "      <th>1</th>\n",
       "      <td>Time Between Us</td>\n",
       "      <td>Tamara Ireland Stone</td>\n",
       "      <td>Sixteen-year-old Anna is struggling to underst...</td>\n",
       "      <td>13+</td>\n",
       "      <td>12+</td>\n",
       "    </tr>\n",
       "    <tr>\n",
       "      <th>2</th>\n",
       "      <td>Girl Out of Water</td>\n",
       "      <td>Nat Luurtsema</td>\n",
       "      <td>Lou Brown's swimming ambitions sank without tr...</td>\n",
       "      <td>13-18</td>\n",
       "      <td>10+</td>\n",
       "    </tr>\n",
       "    <tr>\n",
       "      <th>3</th>\n",
       "      <td>Captive</td>\n",
       "      <td>A J Grainger</td>\n",
       "      <td>Robyn is scared. Ever since the attempted assa...</td>\n",
       "      <td>13+</td>\n",
       "      <td>13</td>\n",
       "    </tr>\n",
       "    <tr>\n",
       "      <th>4</th>\n",
       "      <td>The School of Music</td>\n",
       "      <td>Rachel Bowen and Meurig Bowen Illustrator: Dan...</td>\n",
       "      <td>Welcome to the School of Music. In charge is M...</td>\n",
       "      <td>10+</td>\n",
       "      <td>10+</td>\n",
       "    </tr>\n",
       "  </tbody>\n",
       "</table>\n",
       "</div>"
      ],
      "text/plain": [
       "                         Title   \n",
       "0  The Girl Who Drank the Moon  \\\n",
       "1              Time Between Us   \n",
       "2            Girl Out of Water   \n",
       "3                      Captive   \n",
       "4          The School of Music   \n",
       "\n",
       "                                              Author   \n",
       "0                                     Kelly Barnhill  \\\n",
       "1                               Tamara Ireland Stone   \n",
       "2                                      Nat Luurtsema   \n",
       "3                                       A J Grainger   \n",
       "4  Rachel Bowen and Meurig Bowen Illustrator: Dan...   \n",
       "\n",
       "                                                Desc Inerest_age   \n",
       "0  Every year, the evil Protectorate offers a bab...      10-14   \\\n",
       "1  Sixteen-year-old Anna is struggling to underst...        13+    \n",
       "2  Lou Brown's swimming ambitions sank without tr...      13-18    \n",
       "3  Robyn is scared. Ever since the attempted assa...        13+    \n",
       "4  Welcome to the School of Music. In charge is M...        10+    \n",
       "\n",
       "                            Reading_age  \n",
       "0  10-14                                 \n",
       "1    12+                                 \n",
       "2    10+                                 \n",
       "3     13                                 \n",
       "4    10+                                 "
      ]
     },
     "metadata": {},
     "output_type": "display_data"
    }
   ],
   "source": [
    "data = pd.read_csv('children_books.csv')\n",
    "print(data.shape)\n",
    "display(data.head(5))"
   ]
  },
  {
   "cell_type": "code",
   "execution_count": 22,
   "metadata": {},
   "outputs": [
    {
     "data": {
      "text/html": [
       "<div>\n",
       "<style scoped>\n",
       "    .dataframe tbody tr th:only-of-type {\n",
       "        vertical-align: middle;\n",
       "    }\n",
       "\n",
       "    .dataframe tbody tr th {\n",
       "        vertical-align: top;\n",
       "    }\n",
       "\n",
       "    .dataframe thead th {\n",
       "        text-align: right;\n",
       "    }\n",
       "</style>\n",
       "<table border=\"1\" class=\"dataframe\">\n",
       "  <thead>\n",
       "    <tr style=\"text-align: right;\">\n",
       "      <th></th>\n",
       "      <th>title</th>\n",
       "      <th>author</th>\n",
       "      <th>desc</th>\n",
       "      <th>inerest_age</th>\n",
       "      <th>reading_age</th>\n",
       "      <th>tok</th>\n",
       "      <th>tok_top</th>\n",
       "    </tr>\n",
       "  </thead>\n",
       "  <tbody>\n",
       "    <tr>\n",
       "      <th>8</th>\n",
       "      <td>I Capture the Castle</td>\n",
       "      <td>Dodie Smith</td>\n",
       "      <td>Originally published in 1949, this delightful ...</td>\n",
       "      <td>12+</td>\n",
       "      <td>12+</td>\n",
       "      <td>[originally published in 1949, this delightful...</td>\n",
       "      <td>[(0, [originally published in 1949, this delig...</td>\n",
       "    </tr>\n",
       "    <tr>\n",
       "      <th>6</th>\n",
       "      <td>Dark Inside</td>\n",
       "      <td>Jeyn Roberts</td>\n",
       "      <td>After a huge earthquake strikes every continen...</td>\n",
       "      <td>14+</td>\n",
       "      <td>10+</td>\n",
       "      <td>[after a huge earthquake strikes every contine...</td>\n",
       "      <td>[(0, [after a huge earthquake strikes every co...</td>\n",
       "    </tr>\n",
       "    <tr>\n",
       "      <th>21</th>\n",
       "      <td>Holding Up the Universe</td>\n",
       "      <td>Jennifer Niven</td>\n",
       "      <td>Jennifer Niven's deeply compelling and highly ...</td>\n",
       "      <td>14+</td>\n",
       "      <td>12+</td>\n",
       "      <td>[and just as powerfully written, the book is n...</td>\n",
       "      <td>[(0, [and just as powerfully written]), (3, [t...</td>\n",
       "    </tr>\n",
       "    <tr>\n",
       "      <th>26</th>\n",
       "      <td>Five Hundred Miles</td>\n",
       "      <td>Kevin Brooks</td>\n",
       "      <td>In the industrial wastelands of east London, t...</td>\n",
       "      <td>13+</td>\n",
       "      <td>9+</td>\n",
       "      <td>[in the industrial wastelands of east london, ...</td>\n",
       "      <td>[(0, [in the industrial wastelands of east lon...</td>\n",
       "    </tr>\n",
       "    <tr>\n",
       "      <th>16</th>\n",
       "      <td>The Song from Somewhere Else</td>\n",
       "      <td>AF Harrold\\nIllustrator: Levi Pinfold</td>\n",
       "      <td>Frank is being bullied - for what, she's not s...</td>\n",
       "      <td>8+</td>\n",
       "      <td>8+</td>\n",
       "      <td>[frank is being bullied, for what, she's not s...</td>\n",
       "      <td>[(0, [frank is being bullied]), (6, [and an ex...</td>\n",
       "    </tr>\n",
       "  </tbody>\n",
       "</table>\n",
       "</div>"
      ],
      "text/plain": [
       "                           title                                 author   \n",
       "8           I Capture the Castle                            Dodie Smith  \\\n",
       "6                    Dark Inside                           Jeyn Roberts   \n",
       "21       Holding Up the Universe                         Jennifer Niven   \n",
       "26            Five Hundred Miles                           Kevin Brooks   \n",
       "16  The Song from Somewhere Else  AF Harrold\\nIllustrator: Levi Pinfold   \n",
       "\n",
       "                                                 desc inerest_age   \n",
       "8   Originally published in 1949, this delightful ...        12+   \\\n",
       "6   After a huge earthquake strikes every continen...        14+    \n",
       "21  Jennifer Niven's deeply compelling and highly ...        14+    \n",
       "26  In the industrial wastelands of east London, t...        13+    \n",
       "16  Frank is being bullied - for what, she's not s...         8+    \n",
       "\n",
       "                           reading_age   \n",
       "8   12+                                 \\\n",
       "6   10+                                  \n",
       "21  12+                                  \n",
       "26   9+                                  \n",
       "16   8+                                  \n",
       "\n",
       "                                                  tok   \n",
       "8   [originally published in 1949, this delightful...  \\\n",
       "6   [after a huge earthquake strikes every contine...   \n",
       "21  [and just as powerfully written, the book is n...   \n",
       "26  [in the industrial wastelands of east london, ...   \n",
       "16  [frank is being bullied, for what, she's not s...   \n",
       "\n",
       "                                              tok_top  \n",
       "8   [(0, [originally published in 1949, this delig...  \n",
       "6   [(0, [after a huge earthquake strikes every co...  \n",
       "21  [(0, [and just as powerfully written]), (3, [t...  \n",
       "26  [(0, [in the industrial wastelands of east lon...  \n",
       "16  [(0, [frank is being bullied]), (6, [and an ex...  "
      ]
     },
     "execution_count": 22,
     "metadata": {},
     "output_type": "execute_result"
    }
   ],
   "source": [
    "data.sample(5)"
   ]
  },
  {
   "cell_type": "code",
   "execution_count": 3,
   "metadata": {},
   "outputs": [
    {
     "data": {
      "text/plain": [
       "'Every year, the evil Protectorate offers a baby to the evil witch in the forest to ensure their village’s safety. Yet, unknown to them, the witch is Xan, the plump and knowledgeable protector of the babies that she takes to the neighbouring village to be raised as special children, fed on starlight and destined to do wonderful things.\\nYet, one day, Xan feeds one baby the moon by mistake and fills her with a huge amount of magic\\xa0– a dangerous amount, as it turns out\\xa0– so Xan decides to raise Luna as her own. But nothing is straightforward, and when Luna turns 13, everything will change.\\nKelly Barnhill won the Newbery Medal in the US for this thoughtful and magical book about belonging, fear and family, and it’s easy to see why. The writing flows beautifully and Barnhill’s keen observation of human nature fits naturally into the story, which moves along at a satisfying pace.\\nXan is a delightfully pleasant and caring crone witch who dispels the traditional image of cackling evildoer, and replaces it with something far more loving and magical. Perfect for young fans of Neil Gaiman, Ursula Le Guin and Diana Wynne Jones.'"
      ]
     },
     "execution_count": 3,
     "metadata": {},
     "output_type": "execute_result"
    }
   ],
   "source": [
    "data.columns = [i.lower() for i in data.columns]\n",
    "data.loc[0,'desc']"
   ]
  },
  {
   "cell_type": "code",
   "execution_count": 4,
   "metadata": {},
   "outputs": [
    {
     "name": "stdout",
     "output_type": "stream",
     "text": [
      "3228\n",
      "0\n"
     ]
    }
   ],
   "source": [
    "print(data['title'].duplicated().sum())\n",
    "print(data[~data['title'].duplicated(keep='first')]['title'].duplicated().sum())"
   ]
  },
  {
   "cell_type": "code",
   "execution_count": 5,
   "metadata": {},
   "outputs": [],
   "source": [
    "data = data[~data['title'].duplicated(keep='first')].reset_index(drop=True)"
   ]
  },
  {
   "cell_type": "code",
   "execution_count": 6,
   "metadata": {},
   "outputs": [
    {
     "name": "stdout",
     "output_type": "stream",
     "text": [
      "(41, 5)\n"
     ]
    },
    {
     "data": {
      "text/html": [
       "<div>\n",
       "<style scoped>\n",
       "    .dataframe tbody tr th:only-of-type {\n",
       "        vertical-align: middle;\n",
       "    }\n",
       "\n",
       "    .dataframe tbody tr th {\n",
       "        vertical-align: top;\n",
       "    }\n",
       "\n",
       "    .dataframe thead th {\n",
       "        text-align: right;\n",
       "    }\n",
       "</style>\n",
       "<table border=\"1\" class=\"dataframe\">\n",
       "  <thead>\n",
       "    <tr style=\"text-align: right;\">\n",
       "      <th></th>\n",
       "      <th>title</th>\n",
       "      <th>author</th>\n",
       "      <th>desc</th>\n",
       "      <th>inerest_age</th>\n",
       "      <th>reading_age</th>\n",
       "    </tr>\n",
       "  </thead>\n",
       "  <tbody>\n",
       "    <tr>\n",
       "      <th>0</th>\n",
       "      <td>The Girl Who Drank the Moon</td>\n",
       "      <td>Kelly Barnhill</td>\n",
       "      <td>Every year, the evil Protectorate offers a bab...</td>\n",
       "      <td>10-14</td>\n",
       "      <td>10-14</td>\n",
       "    </tr>\n",
       "    <tr>\n",
       "      <th>1</th>\n",
       "      <td>Time Between Us</td>\n",
       "      <td>Tamara Ireland Stone</td>\n",
       "      <td>Sixteen-year-old Anna is struggling to underst...</td>\n",
       "      <td>13+</td>\n",
       "      <td>12+</td>\n",
       "    </tr>\n",
       "    <tr>\n",
       "      <th>2</th>\n",
       "      <td>Girl Out of Water</td>\n",
       "      <td>Nat Luurtsema</td>\n",
       "      <td>Lou Brown's swimming ambitions sank without tr...</td>\n",
       "      <td>13-18</td>\n",
       "      <td>10+</td>\n",
       "    </tr>\n",
       "    <tr>\n",
       "      <th>3</th>\n",
       "      <td>Captive</td>\n",
       "      <td>A J Grainger</td>\n",
       "      <td>Robyn is scared. Ever since the attempted assa...</td>\n",
       "      <td>13+</td>\n",
       "      <td>13</td>\n",
       "    </tr>\n",
       "    <tr>\n",
       "      <th>4</th>\n",
       "      <td>The School of Music</td>\n",
       "      <td>Rachel Bowen and Meurig Bowen Illustrator: Dan...</td>\n",
       "      <td>Welcome to the School of Music. In charge is M...</td>\n",
       "      <td>10+</td>\n",
       "      <td>10+</td>\n",
       "    </tr>\n",
       "  </tbody>\n",
       "</table>\n",
       "</div>"
      ],
      "text/plain": [
       "                         title   \n",
       "0  The Girl Who Drank the Moon  \\\n",
       "1              Time Between Us   \n",
       "2            Girl Out of Water   \n",
       "3                      Captive   \n",
       "4          The School of Music   \n",
       "\n",
       "                                              author   \n",
       "0                                     Kelly Barnhill  \\\n",
       "1                               Tamara Ireland Stone   \n",
       "2                                      Nat Luurtsema   \n",
       "3                                       A J Grainger   \n",
       "4  Rachel Bowen and Meurig Bowen Illustrator: Dan...   \n",
       "\n",
       "                                                desc inerest_age   \n",
       "0  Every year, the evil Protectorate offers a bab...      10-14   \\\n",
       "1  Sixteen-year-old Anna is struggling to underst...        13+    \n",
       "2  Lou Brown's swimming ambitions sank without tr...      13-18    \n",
       "3  Robyn is scared. Ever since the attempted assa...        13+    \n",
       "4  Welcome to the School of Music. In charge is M...        10+    \n",
       "\n",
       "                            reading_age  \n",
       "0  10-14                                 \n",
       "1    12+                                 \n",
       "2    10+                                 \n",
       "3     13                                 \n",
       "4    10+                                 "
      ]
     },
     "metadata": {},
     "output_type": "display_data"
    }
   ],
   "source": [
    "print(data.shape)\n",
    "display(data.head())"
   ]
  },
  {
   "cell_type": "markdown",
   "metadata": {},
   "source": [
    "## 2. Tokenize the text data"
   ]
  },
  {
   "cell_type": "code",
   "execution_count": 7,
   "metadata": {},
   "outputs": [
    {
     "name": "stderr",
     "output_type": "stream",
     "text": [
      "[nltk_data] Downloading package punkt to /Users/jay.je/nltk_data...\n",
      "[nltk_data]   Package punkt is already up-to-date!\n",
      "[nltk_data] Downloading package stopwords to\n",
      "[nltk_data]     /Users/jay.je/nltk_data...\n",
      "[nltk_data]   Package stopwords is already up-to-date!\n"
     ]
    },
    {
     "data": {
      "text/plain": [
       "True"
      ]
     },
     "execution_count": 7,
     "metadata": {},
     "output_type": "execute_result"
    }
   ],
   "source": [
    "import nltk\n",
    "from nltk.tokenize import word_tokenize, sent_tokenize\n",
    "from nltk.corpus import stopwords\n",
    "stopwords = set (stopwords.words(\"english\"))\n",
    "\n",
    "nltk.download('punkt')\n",
    "nltk.download('stopwords')"
   ]
  },
  {
   "cell_type": "code",
   "execution_count": 9,
   "metadata": {},
   "outputs": [],
   "source": [
    "def get_word_freq(x):\n",
    "    x = ' '.join(x)\n",
    "    x = x.lower()\n",
    "    for word in nltk.word_tokenize(x):\n",
    "        if word not in stopwords:\n",
    "            if word not in word_frequencies.keys():\n",
    "                word_frequencies[word] = 1\n",
    "            else:\n",
    "                word_frequencies[word] += 1"
   ]
  },
  {
   "cell_type": "code",
   "execution_count": 10,
   "metadata": {},
   "outputs": [],
   "source": [
    "def split_sentences(x):\n",
    "\n",
    "    s = x['desc']\n",
    "    author = str(x['author']).lower().strip()\n",
    "    title = str(x['title']).lower().strip()\n",
    "    s = s.replace('\\xa0',' ').replace('.','<DELIM>').replace(';', '<DELIM>').replace(':','<DELIM>').replace(' – ', '<DELIM>').replace(' - ', '<DELIM>')\n",
    "    sents = s.split('<DELIM>')\n",
    "    sents = [str(i).lower().strip('\\n').strip() for i in sents][:-1]\n",
    "    sents = [i for i in sents if author not in i and i != '' and title not in i]\n",
    "    \n",
    "    return sents"
   ]
  },
  {
   "cell_type": "code",
   "execution_count": 11,
   "metadata": {},
   "outputs": [],
   "source": [
    "\n",
    "def extract_key_sentences(ls_sent):\n",
    "    sentences_scores={}\n",
    "    scores_to_sentences={}\n",
    "\n",
    "    if len(ls_sent)<5:\n",
    "        return\n",
    "\n",
    "    for idx, sent in enumerate(ls_sent):\n",
    "        words = nltk.word_tokenize(sent.lower())\n",
    "        for word in words:\n",
    "            if word in word_frequencies:\n",
    "                if idx not in sentences_scores:\n",
    "                    sentences_scores[idx] = []\n",
    "                sentences_scores[idx].append(word_frequencies[word])\n",
    "        sentences_scores[idx] = np.mean(sentences_scores[idx])\n",
    "    \n",
    "    # take the lowest sentences\n",
    "    vals = sorted(list(sentences_scores.values()))[:5]\n",
    "    top_sentences = {0: nltk.sent_tokenize(ls_sent[0])\n",
    "                    #  len(ls_sent): nltk.sent_tokenize(ls_sent[-2]),\n",
    "                     }\n",
    "    \n",
    "    for idx, score in sentences_scores.items():\n",
    "        if score in vals and idx not in top_sentences:\n",
    "            top_sentences[idx] = nltk.sent_tokenize(ls_sent[idx])\n",
    "            if len(top_sentences.keys())==5:\n",
    "                break\n",
    "\n",
    "    return sorted(top_sentences.items())\n"
   ]
  },
  {
   "cell_type": "code",
   "execution_count": 24,
   "metadata": {},
   "outputs": [
    {
     "data": {
      "text/plain": [
       "4"
      ]
     },
     "execution_count": 24,
     "metadata": {},
     "output_type": "execute_result"
    }
   ],
   "source": [
    "word_frequencies = {}\n",
    "data['tok'] = data.apply(lambda x: split_sentences(x), axis=1)\n",
    "data['tok'].apply(lambda x: get_word_freq(x))\n",
    "word_frequencies['every']"
   ]
  },
  {
   "cell_type": "code",
   "execution_count": 25,
   "metadata": {},
   "outputs": [
    {
     "data": {
      "text/plain": [
       "['when poppy sinclair finds the body of a young woman washed up on the shore of a lake, she is convinced it is a case of murder rather than the tragic accident or suicide which is the theory favoured by police',\n",
       " 'as poppy struggles with memories of her own near-death experience and the pain of seeing the boy she loves with another girl, she finds it difficult to draw clear lines between reality and imagination',\n",
       " 'especially as people and things are not always what they seem',\n",
       " 'yet despite the risks, she is determined to prove that someone close by is a murderer',\n",
       " 'this is an engaging, complex and  thoughtful thriller, featuring a plot thick with lies, secrets, deceit and jealousy']"
      ]
     },
     "execution_count": 25,
     "metadata": {},
     "output_type": "execute_result"
    }
   ],
   "source": [
    "data.loc[10,'tok']"
   ]
  },
  {
   "cell_type": "code",
   "execution_count": 26,
   "metadata": {},
   "outputs": [],
   "source": [
    "max_freq = max(word_frequencies.values())\n",
    "for word in word_frequencies.keys():\n",
    "    word_frequencies[word] = (word_frequencies[word]/max_freq)"
   ]
  },
  {
   "cell_type": "code",
   "execution_count": 27,
   "metadata": {},
   "outputs": [],
   "source": [
    "data['tok_top'] = data['tok'].apply(lambda x: extract_key_sentences(x))"
   ]
  },
  {
   "cell_type": "code",
   "execution_count": 28,
   "metadata": {},
   "outputs": [],
   "source": [
    "data_clean = list(data['tok_top'])"
   ]
  },
  {
   "cell_type": "code",
   "execution_count": 21,
   "metadata": {},
   "outputs": [
    {
     "data": {
      "text/plain": [
       "[(0, ['caz and will live in a settlement for survivors of the frozen world']),\n",
       " (1,\n",
       "  ['caz hasn’t seen her father for nine years, when the blue star poisoned and froze the planet']),\n",
       " (3,\n",
       "  ['caz and will soon find themselves out in the frozen landscape once again, and it’s even more dangerous than last time']),\n",
       " (4,\n",
       "  ['this is a fantastic sequel for this dystopian series, keeping the fast pace of at the world’s end']),\n",
       " (5, ['it will certainly leave the reader asking for more'])]"
      ]
     },
     "metadata": {},
     "output_type": "display_data"
    },
    {
     "data": {
      "text/plain": [
       "[(0,\n",
       "  ['when poppy sinclair finds the body of a young woman washed up on the shore of a lake, she is convinced it is a case of murder rather than the tragic accident or suicide which is the theory favoured by police']),\n",
       " (1,\n",
       "  ['as poppy struggles with memories of her own near-death experience and the pain of seeing the boy she loves with another girl, she finds it difficult to draw clear lines between reality and imagination']),\n",
       " (2, ['especially as people and things are not always what they seem']),\n",
       " (3,\n",
       "  ['yet despite the risks, she is determined to prove that someone close by is a murderer']),\n",
       " (4,\n",
       "  ['this is an engaging, complex and  thoughtful thriller, featuring a plot thick with lies, secrets, deceit and jealousy'])]"
      ]
     },
     "metadata": {},
     "output_type": "display_data"
    },
    {
     "data": {
      "text/plain": [
       "[(0,\n",
       "  ['farway gaius mccarthy was born in the future, in the past and out of time']),\n",
       " (3, ['what he doesn’t realise is that the glitch was planned']),\n",
       " (4, ['someone is playing him']),\n",
       " (5, ['someone who is a lot closer to him than he could ever have imagined']),\n",
       " (7,\n",
       "  ['graudin weaves an exciting plot where time travel is just the beginning'])]"
      ]
     },
     "metadata": {},
     "output_type": "display_data"
    }
   ],
   "source": [
    "display(data_clean[5])\n",
    "display(data_clean[10])\n",
    "display(data_clean[30])"
   ]
  },
  {
   "cell_type": "code",
   "execution_count": 29,
   "metadata": {},
   "outputs": [],
   "source": [
    "children_books_data = {}\n",
    "\n",
    "for idx, ann in enumerate(data_clean):\n",
    "    if ann: # if the annotation exists\n",
    "        children_books_data[idx] = {}\n",
    "        excerpt = [i[1][0].lower() for i in ann]\n",
    "        for seq, txt in enumerate(excerpt):\n",
    "            children_books_data[idx][seq] = txt"
   ]
  },
  {
   "cell_type": "code",
   "execution_count": 30,
   "metadata": {},
   "outputs": [
    {
     "data": {
      "text/plain": [
       "{0: {0: 'every year, the evil protectorate offers a baby to the evil witch in the forest to ensure their village’s safety',\n",
       "  1: 'so xan decides to raise luna as her own',\n",
       "  2: 'the writing flows beautifully and barnhill’s keen observation of human nature fits naturally into the story, which moves along at a satisfying pace',\n",
       "  3: 'xan is a delightfully pleasant and caring crone witch who dispels the traditional image of cackling evildoer, and replaces it with something far more loving and magical',\n",
       "  4: 'perfect for young fans of neil gaiman, ursula le guin and diana wynne jones'},\n",
       " 1: {0: 'sixteen-year-old anna is struggling to understand bennett, the new boy at school',\n",
       "  1: 'one minute he seems interested in her and she feels they have a connection',\n",
       "  2: 'when he saves her life, she finally discovers his secret and all the pieces of the puzzle fall into place',\n",
       "  3: 'anna realises they should never have been able to meet, let alone fall in love, because although he is a year older than her, bennett was born in the year she turned 16',\n",
       "  4: \"this compelling time-travel adventure in the tradition of the time traveller's wife will appeal to young fans of romance\"},\n",
       " 2: {0: \"lou brown's swimming ambitions sank without trace when she failed in the olympic time trials that sent her best friend off to high performance training camp\",\n",
       "  1: 'fifteen years old, 5 foot 10 (and still growing), left at home with no hobby and no friend, she struggles to fit in with even the least cool kids at school',\n",
       "  2: 'when an accidental encounter leads to her coaching three of the coolest guys around in their quest to get on tv, lou finds her life descending into chaos and craziness',\n",
       "  3: \"with plenty of genuine laugh-out-loud moments and a zany plot, lou's story is a hilarious, yet poignant, exploration of the highs and lows of navigating teenage relationships and social expectations\",\n",
       "  4: 'contemporary and engaging with believable characters and a refreshingly original voice'},\n",
       " 3: {0: 'robyn is scared',\n",
       "  1: \"especially when he's staying in downing street and she's off to her grandparents' country estate\",\n",
       "  2: \"but this time, the animal rights activists aren't after the prime minister\",\n",
       "  3: \"it's robyn they want\",\n",
       "  4: 'doubts about lies and corruption at the heart of government start to fester'},\n",
       " 4: {0: 'in charge is maestro sergio trunk',\n",
       "  1: 'those played with a bow and those with keys',\n",
       "  2: \"once you've covered reading and writing music, and getting the timing right, you reach the best bit\",\n",
       "  3: 'having fun making a wonderful sound!',\n",
       "  4: 'wise, inspiring and innovative, this introduction is underpinned by great depth and breadth of expertise'},\n",
       " 5: {0: 'caz and will live in a settlement for survivors of the frozen world',\n",
       "  1: 'caz hasn’t seen her father for nine years, when the blue star poisoned and froze the planet',\n",
       "  2: 'caz and will soon find themselves out in the frozen landscape once again, and it’s even more dangerous than last time',\n",
       "  3: 'this is a fantastic sequel for this dystopian series, keeping the fast pace of at the world’s end',\n",
       "  4: 'it will certainly leave the reader asking for more'},\n",
       " 6: {0: 'after a huge earthquake strikes every continent on earth, strange things start happening and people begin behaving very oddly',\n",
       "  1: 'while mason is in hospital at his dying mother’s bedside his school is destroyed and all his friends killed, whilst michael’s experience of a road rage incident leaves him reeling',\n",
       "  2: 'these four survivors soon realise they must draw on all their resources to fight an unknown evil taking over their world',\n",
       "  3: 'this is the story of four teenagers and their struggle to survive in a post-apocalyptic world',\n",
       "  4: 'a readable and refreshing take on the zombie genre'},\n",
       " 7: {0: \"when her best friend dawn commits suicide, kite's world falls apart\",\n",
       "  1: 'struggling to deal with her hearbreaking grief, she leaves london with her father to spend the summer in the lake district',\n",
       "  2: 'but the strange house and unfamiliar landscape leave her feeling vulnerable and disorientated',\n",
       "  3: 'this emotional story about grief and loss deals with some thought-provoking issues that some younger readers may find upsetting',\n",
       "  4: 'although brahmachari always approaches her subject with sensitivity and compassion'},\n",
       " 8: {0: 'originally published in 1949, this delightful novel by the author of the much-loved one hundred and one dalmatians, still retains its freshness today',\n",
       "  1: \"her father is a former bestselling novelist now suffering from a chronic case of writer's block and her glamorous but bohemian stepmother topaz is a sometime artist model\",\n",
       "  2: 'money is in short supply but cassandra and her discontented older sister rose are forced to make the best of things',\n",
       "  3: 'until some young, wealthy american neighbours arrive and rose sees an opportunity for them all to escape their impoverished existence',\n",
       "  4: 'even when she is encountering the difficulties of first love and first heartbreak, cassandra remains a wonderfully likable heroine, with a strong narrative voice and a distinctive sense of humour'},\n",
       " 9: {0: 'his love for music has lost its shine, and even his online chats with anna, the girl of his dreams, have to be carried out under a false persona',\n",
       "  1: 'far from pity, insults or indifference, he suddenly finds himself a celebrity amongst his classmates, who become fascinated by his horrifying plan',\n",
       "  2: 'and life takes an unexpected turn for the better',\n",
       "  3: 'but what will happen when december 31st rolls around?cleverly balancing darkness and light, this is a unique young adult novel which takes an unflinching look at the isuses of bingeing, overeating, depression and suicide',\n",
       "  4: \"in particular the problems of internet bullying, and the tensions between online and 'real-life' identities\"},\n",
       " 10: {0: 'when poppy sinclair finds the body of a young woman washed up on the shore of a lake, she is convinced it is a case of murder rather than the tragic accident or suicide which is the theory favoured by police',\n",
       "  1: 'as poppy struggles with memories of her own near-death experience and the pain of seeing the boy she loves with another girl, she finds it difficult to draw clear lines between reality and imagination',\n",
       "  2: 'especially as people and things are not always what they seem',\n",
       "  3: 'yet despite the risks, she is determined to prove that someone close by is a murderer',\n",
       "  4: 'this is an engaging, complex and  thoughtful thriller, featuring a plot thick with lies, secrets, deceit and jealousy'},\n",
       " 11: {0: \"since amber's eighteen year old brother liam died suddenly a year ago, her life has been miserable as her family struggles with their grief\",\n",
       "  1: \"so when liam's best friend tyler shows an interest she feels she has found someone who understands\",\n",
       "  2: 'however, she soon finds she is involved in something beyond her control and things go from bad to worse',\n",
       "  3: 'can she find the strength and resolve to put things right when her whole life feels such a mess?',\n",
       "  4: \"the characters and their situations are completely believable and amber's doubts, guilt and confused emotions are written with real understanding\"},\n",
       " 12: {0: 'dory is having a boring family holiday in a small sea-side town in england',\n",
       "  1: \"an old fashioned game where hunters locate hidden 'letter boxes' and claim the stamp hidden inside them\",\n",
       "  2: 'it is there she meets the mysterious and beautiful eli who has been cast out of his family home and cut off from his beloved sister by their cruel father',\n",
       "  3: 'eli convinces dory to help him but she quickly realises not everything is as it seems',\n",
       "  4: 'will she be able to discover the truth before it is too late?'},\n",
       " 13: {0: \"seventeen-year-old twylla lives in the castle and is betrothed to the prince, but she isn't a princess or a member of court\",\n",
       "  1: 'twylla is the court executioner',\n",
       "  2: 'then a new guard arrives, one with an easy smile that belies his deadly swordsmanship',\n",
       "  3: 'but her romantic problems are trivial when she discovers the mad plan that the power-hungry and vicious queen is plotting',\n",
       "  4: 'the plot is as intricate as the world and full of unexpected twists, each one more shocking than the last'},\n",
       " 14: {0: 'the story of lear, the old chieftain, who divides his kingdom among his three daughters is the most terrifying tragedy ever written',\n",
       "  1: 'shakespeare’s apocalyptic play is vividly transferred to the colonial frontiers of 18th-century america, where it is the last of the mohicans who is bound upon a wheel of fire',\n",
       "  2: \"part of the popular manga shakespeare series of graphic novel adpatations of shakespeare's plays\",\n",
       "  3: 'perfect for introducing key stage 3 students to shakespeare',\n",
       "  4: \"ilya's illustrations match the intensity of the play to bring this tragic classic vividly to life\"},\n",
       " 16: {0: 'frank is being bullied',\n",
       "  1: 'and an explanation for what holds him apart from the others at school',\n",
       "  2: 'sometimes',\n",
       "  3: \"levi pinfold's stunning, intricate and moody illustrations add an extra layer of atmosphere to this heartfelt and beautifully strange story\",\n",
       "  4: 'winner of the kate greenaway amnesty clip honour in 2018'},\n",
       " 17: {0: 'amy curry’s life is a disaster',\n",
       "  1: 'when roger suggests a detour from the planned route, amy and roger embark on an adventure of self discovery, enabling amy to finally come to terms with the past and move on with her life',\n",
       "  2: 'this is a heart warming story about facing up to the complexities of life and winning through',\n",
       "  3: 'the text is interspersed with flashbacks slowly revealing the events of the accident with souvenir snippets of the trip, including music playlists cleverly playing out all the emotions amy and roger experience along the way',\n",
       "  4: 'this is a well devised story with lots to appeal to older readers'},\n",
       " 18: {0: 'gripped by a strange fear, england closes its doors to the outside world',\n",
       "  1: 'in a tunnel beneath wales one man opens a crack in a mysterious stone wall, and all over the island of britain people react with horror to perfectly normal machines',\n",
       "  2: 'abandoning their cars on the roads and destroying their own factories, many flee the cities for the countryside, where they return to farming and an old-fashioned life',\n",
       "  3: 'when families are split apart and grown-ups forget how they used to live, young people face unexpected challenges',\n",
       "  4: 'a classic in the teen sci-fi genre, perfect for those who have read all the contemporary ya dystopian novels and want to see where it all began'},\n",
       " 19: {0: 'suzy smith is very surprised when a huge magical train takes a shortcut through her downstairs hallway one evening',\n",
       "  1: 'staffed by trolls, the impossible postal express delivers letters and parcels across a series of magical worlds connected to our own',\n",
       "  2: 'the union of impossible places',\n",
       "  3: 'her curiosity getting the better of her, suzy hitches a ride and becomes the newest postie',\n",
       "  4: 'she tends more towards jumping now and thinking later, though her heart is definitely in the right place'},\n",
       " 21: {0: 'and just as powerfully written',\n",
       "  1: 'their worlds collide in a horribly cruel high school game and an unlikely friendship is formed that leads to something even deeper',\n",
       "  2: 'the spotlight on prosopagnosia sheds an interesting light on a little known but not so uncommon condition',\n",
       "  3: 'the ultimate message is uplifting and positive and one that teenagers everywhere need to hear',\n",
       "  4: 'be yourself and you deserve to be wanted and loved for who you are'},\n",
       " 22: {0: 'frankenstein tells the story of a privileged and self-absorbed young man whose arrogant obsession leads him to create a monstrous version of a human being',\n",
       "  1: 'frankenstein abandons the physically grotesque creature he has created, leaving it to be reviled and rejected by mankind',\n",
       "  2: 'as a consequence, its gentle nature is twisted and distorted until it becomes a veritable monster, wreaking havoc and bringing death and destruction in its wake',\n",
       "  3: 'this remarkable new version blends the finest contemporary illustration, dramatic storytelling and superb paper engineering',\n",
       "  4: \"a combination of comic strip detail and stunning pop-ups on every spread bring each moment of the story to life, from the monster's creation to his dramatic demise\"},\n",
       " 24: {0: 'the comic-strip adventures of calvin, a naughty boy with a philosophical bent, and his soft toy tiger companion hobbes, delighted readers from 1985 to 1995',\n",
       "  1: 'calvin is an active and imaginative little boy',\n",
       "  2: 'the charm of the strip is multi-faceted',\n",
       "  3: 'the strip is also enhanced by its strong cast of supporting characters',\n",
       "  4: 'mrs wormwood the teacher looms over calvin when he not paying attention'},\n",
       " 25: {0: 'practical advice for children on how to handle bullying',\n",
       "  1: 'she is beginning to dread each new day',\n",
       "  2: \"michael isn't good at football\",\n",
       "  3: 'bullying encompasses many things',\n",
       "  4: 'almost everyone gets bullied at some point in their life'},\n",
       " 26: {0: 'in the industrial wastelands of east london, two brothers are delivering forged vehicle documents',\n",
       "  1: 'she reminds him of his sister',\n",
       "  2: \"he doesn't want to get involved\",\n",
       "  3: \"they're heading for something new…\\nthe characters and landscapes they inhabit\",\n",
       "  4: 'external and internal'},\n",
       " 27: {0: 'on the eve of battle, sir thomas lemuel hawke of cornwall writes a letter to his children',\n",
       "  1: 'hawke has tried to make this book look as authentic as possible',\n",
       "  2: 'the cover stands out with a gold-embossed leaf',\n",
       "  3: 'it all gives the book an important and timeless feel',\n",
       "  4: 'but the book is pitched in such a way that they can get new meaning from it as they grow into teenagers and young adults'},\n",
       " 28: {0: 'fourteen-year-old ro snow’s got a secret',\n",
       "  1: 'her house is filled to the doors with her mother’s hoarded rubbish',\n",
       "  2: 'it’s so bad that there’s even rubbish in the bath, meaning the only way that ro can stay clean is by using the tiny shower cubicle',\n",
       "  3: 'seemingly unwelcome in her dad’s new life with his perfect new wife and daughter, ro doesn’t have anyone to confide in',\n",
       "  4: 'parents should be advised that the book contains some swearing'},\n",
       " 30: {0: 'farway gaius mccarthy was born in the future, in the past and out of time',\n",
       "  1: 'what he doesn’t realise is that the glitch was planned',\n",
       "  2: 'someone is playing him',\n",
       "  3: 'someone who is a lot closer to him than he could ever have imagined',\n",
       "  4: 'graudin weaves an exciting plot where time travel is just the beginning'},\n",
       " 31: {0: 'louisiana teenager rory is embarking on a new life at an east london boarding school',\n",
       "  1: 'a series of brutal murders has broken out across london',\n",
       "  2: 'crimes that mimic the infamous jack the ripper murders that took place more than a century ago',\n",
       "  3: \"as a fever of 'rippermania' spreads across london, rory finds herself unexpectedly entangled in these dark events when she alone sees the man who the police believe to be the prime suspect\",\n",
       "  4: \"but why didn't anyone else notice the sinister man\"},\n",
       " 32: {0: 'beautiful young aristocrat ginette, known as jenny, is the closest friend and confidant of mary, the young queen of scots',\n",
       "  1: 'growing up in the french court dominated by the ruthless catherine de medici, jenny is all too familiar with ambition, intrigue and secrets',\n",
       "  2: 'when she hears a whispered plot against mary, she sets out to become a spy to keep her dear friend safe, little realising how much danger she will soon find herself encountering',\n",
       "  3: 'following the story of mary queen of scots from her childhood in the french court to her return to scotland to claim her throne, this is a sophisticated and meticulously-researched novel with clear crossover potential',\n",
       "  4: 'there is plenty of excitement in store as, facing betrayal on all sides, jenny struggles to unravel the various plots against mary, whilst fighting her own increasingly strong feelings for charismatic nobleman duncan alexander, who she is unsure whether she should trust'},\n",
       " 33: {0: 'this extraordinary graphic novel is so obviously a labour of love that the reader can only marvel at the energy that has been expended in its creation',\n",
       "  1: 'although the two plots that make up the book are essentially simple, the care with which ware has executed them gives them an almost mythic quality',\n",
       "  2: 'his crippling shyness renders him incapable of even saying hello to peggy, the woman who works at an adjacent desk',\n",
       "  3: \"(it's not as confusing as it sounds\",\n",
       "  4: 'it is hard to believe that someone could put so much detail into each of the 380 pages that make up this incredible book, but there is a clue to his devotion in the afterword'},\n",
       " 35: {0: \"plantation slave charley smith is eleven when america blows itself apart, with abraham lincoln's decision to prohibit slavery\",\n",
       "  1: 'charley thinks a slice of heaven is coming her way',\n",
       "  2: \"but it's a taste of hell\",\n",
       "  3: 'her surrogate mother is raped and lynched',\n",
       "  4: 'charley is left to burn in the cellar'},\n",
       " 36: {0: 'the future elizabeth i has been imprisoned by her half-sister queen mary at the ruined, isolated palace of woodstock, and 15-year-old meg lytton is sent to serve her',\n",
       "  1: 'but meg is no ordinary girl',\n",
       "  2: 'taught by her aunt, a white witch, she has unusual magical gifts that soon become of interest to the outcast princess',\n",
       "  3: 'and realises she is rapidly falling in love with a dangerous enemy',\n",
       "  4: 'fast-paced and suspenseful, this is a novel which will appeal to both fans of the supernatural and those with an interest in historical fiction'},\n",
       " 38: {0: \"sophronia is horrified when her mother decides to send her to mademoiselle geraldine's finishing academy for young ladies of quality, but she soon realises it's not quite the sort of 'finishing school' her mother had expected\",\n",
       "  1: \"whilst the finer points of dance, dress and etiquette are all part of the curriculm, the school also trains young ladies in a quite different kind of 'finishing'\",\n",
       "  2: 'arriving at their new school to discover it is located in a flying dirigible, and that werewolves and vampires will be amongst their teachers, sophonia and her new-found friends realise they are in for a very eventful first term',\n",
       "  3: \"this victorian steampunk take on the classic school story is full of delightful details, from mechanical butlers and flying highwaymen (or 'flywaymen') to sophronia's adorable steam-powered sausage dog, bumbersnoot\",\n",
       "  4: 'with strong girl characters, plenty of humorous moments and an entertaining plot, this is a light, frothy and fun adventure that will charm fans of historical fiction and fantasy'},\n",
       " 39: {0: \"grief has turned lennie's world upside down\",\n",
       "  1: 'bailey, her charismatic and vital older sister has died unexpectedly, forcing lennie to step out from behind her shadow for the first time',\n",
       "  2: 'lennie, who lives with her bohemian grandmother and eccentric uncle big in california, writes poetry about her feelings on scraps of paper, which she leaves hidden in unusual places around town',\n",
       "  3: 'her poems pepper the book, their rawness emphasised, as they are presented as hand-written and on textured pages',\n",
       "  4: 'this beautifully presented book, is a quirky and romantic coming-of-age tale, with huge teenage girl appeal'},\n",
       " 40: {0: 'mare barrow knows she is different',\n",
       "  1: 'we follow mare as she tries to escape from the king who wants to control her and her ability',\n",
       "  2: \"the reader sees mare's inner struggle as she tries to understand if she is right to recruit the others with abilities similar to hers, release the prisoners of the silver king, and unite with the red guard\",\n",
       "  3: 'the characters now wage political and physical battles',\n",
       "  4: 'if you enjoyed the hunger games and the maze runner, then the red queen series will not disappoint'}}"
      ]
     },
     "execution_count": 30,
     "metadata": {},
     "output_type": "execute_result"
    }
   ],
   "source": [
    "children_books_data"
   ]
  },
  {
   "cell_type": "code",
   "execution_count": 31,
   "metadata": {},
   "outputs": [
    {
     "data": {
      "text/plain": [
       "(41, 7)"
      ]
     },
     "execution_count": 31,
     "metadata": {},
     "output_type": "execute_result"
    }
   ],
   "source": [
    "data[~data['title'].duplicated(keep='first')].shape"
   ]
  },
  {
   "cell_type": "code",
   "execution_count": 32,
   "metadata": {},
   "outputs": [],
   "source": [
    "fin = json.dumps(children_books_data, indent=4)\n",
    "with open(\"children_books_clean.json\", \"w\") as f:\n",
    "    f.write(fin)\n",
    "    f.close()"
   ]
  },
  {
   "cell_type": "markdown",
   "metadata": {},
   "source": [
    "### Count the number of tokens"
   ]
  },
  {
   "cell_type": "code",
   "execution_count": 33,
   "metadata": {},
   "outputs": [],
   "source": [
    "# Total tokens\n",
    "total_count = 0\n",
    "for k in children_books_data:\n",
    "    for s in children_books_data[k]:\n",
    "        total_count += len(children_books_data[k][s].split(' '))"
   ]
  },
  {
   "cell_type": "code",
   "execution_count": 34,
   "metadata": {},
   "outputs": [
    {
     "data": {
      "text/plain": [
       "3087"
      ]
     },
     "execution_count": 34,
     "metadata": {},
     "output_type": "execute_result"
    }
   ],
   "source": [
    "total_count # this is the minimum number of tokens sent to chatGPT"
   ]
  },
  {
   "cell_type": "code",
   "execution_count": 37,
   "metadata": {},
   "outputs": [
    {
     "name": "stdout",
     "output_type": "stream",
     "text": [
      "mare barrow knows she is different\n",
      "we follow mare as she tries to escape from the king who wants to control her and her ability\n",
      "the reader sees mare's inner struggle as she tries to understand if she is right to recruit the others with abilities similar to hers, release the prisoners of the silver king, and unite with the red guard\n",
      "the characters now wage political and physical battles\n",
      "if you enjoyed the hunger games and the maze runner, then the red queen series will not disappoint\n"
     ]
    }
   ],
   "source": [
    "for i in children_books_data[40].values():\n",
    "    print(i)"
   ]
  }
 ],
 "metadata": {
  "kernelspec": {
   "display_name": "hpml_env",
   "language": "python",
   "name": "python3"
  },
  "language_info": {
   "codemirror_mode": {
    "name": "ipython",
    "version": 3
   },
   "file_extension": ".py",
   "mimetype": "text/x-python",
   "name": "python",
   "nbconvert_exporter": "python",
   "pygments_lexer": "ipython3",
   "version": "3.9.16"
  },
  "orig_nbformat": 4
 },
 "nbformat": 4,
 "nbformat_minor": 2
}
