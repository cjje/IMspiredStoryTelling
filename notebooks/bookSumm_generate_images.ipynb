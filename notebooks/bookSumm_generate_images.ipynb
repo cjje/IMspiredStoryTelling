{
 "cells": [
  {
   "cell_type": "markdown",
   "metadata": {},
   "source": [
    "    Issues\n",
    "    \n",
    "    Diffusion model does not return potentially NSFW images. BUT these images are actually \n",
    "    https://github.com/CompVis/stable-diffusion/issues/239"
   ]
  },
  {
   "cell_type": "code",
   "execution_count": 1,
   "metadata": {},
   "outputs": [],
   "source": [
    "from diffusers import StableDiffusionPipeline\n",
    "import torch\n",
    "import json\n",
    "import os\n",
    "import shutil"
   ]
  },
  {
   "cell_type": "code",
   "execution_count": 8,
   "metadata": {},
   "outputs": [],
   "source": [
    "# !pip install diffusers\n",
    "# !pip install accelerate #accelerate-0.24.1"
   ]
  },
  {
   "cell_type": "code",
   "execution_count": 2,
   "metadata": {},
   "outputs": [
    {
     "data": {
      "application/vnd.jupyter.widget-view+json": {
       "model_id": "ec594b3f95de43fd8b140db570cb2f0a",
       "version_major": 2,
       "version_minor": 0
      },
      "text/plain": [
       "Loading pipeline components...:   0%|          | 0/7 [00:00<?, ?it/s]"
      ]
     },
     "metadata": {},
     "output_type": "display_data"
    },
    {
     "name": "stderr",
     "output_type": "stream",
     "text": [
      "`text_config_dict` is provided which will be used to initialize `CLIPTextConfig`. The value `text_config[\"id2label\"]` will be overriden.\n",
      "`text_config_dict` is provided which will be used to initialize `CLIPTextConfig`. The value `text_config[\"bos_token_id\"]` will be overriden.\n",
      "`text_config_dict` is provided which will be used to initialize `CLIPTextConfig`. The value `text_config[\"eos_token_id\"]` will be overriden.\n"
     ]
    }
   ],
   "source": [
    "model_id = \"runwayml/stable-diffusion-v1-5\"\n",
    "pipe = StableDiffusionPipeline.from_pretrained(model_id, torch_dtype=torch.float16)\n",
    "pipe = pipe.to(\"cuda\")"
   ]
  },
  {
   "cell_type": "code",
   "execution_count": 3,
   "metadata": {},
   "outputs": [],
   "source": [
    "pipe.safety_checker = None\n",
    "pipe.requires_safety_checker = False"
   ]
  },
  {
   "cell_type": "markdown",
   "metadata": {},
   "source": [
    "## Create a set of images for short stories and store them"
   ]
  },
  {
   "cell_type": "code",
   "execution_count": 4,
   "metadata": {},
   "outputs": [],
   "source": [
    "f = open('../datasets/bookSumm/chatGPTOutput_BookSumm.txt', 'r')\n",
    "data = json.load(f)"
   ]
  },
  {
   "cell_type": "code",
   "execution_count": 7,
   "metadata": {},
   "outputs": [
    {
     "data": {
      "text/plain": [
       "{'0': {'0': {'org': \"alice was beginning to get very tired of sitting by her sister on the bank, and of having nothing to do: once or twice she had peeped into the book her sister was reading, but it had no pictures or conversations in it, 'and what is the use of a book,' thought alice 'without pictures or conversations?'\",\n",
       "   'img_prompt': 'book with no pictures or conversations, in futuristic style'},\n",
       "  '1': {'org': 'so she was considering in her own mind (as well as she could, for the hot day made her feel very sleepy and stupid), whether the pleasure of making a daisy-chain would be worth the trouble of getting up and picking the daisies, when suddenly a white rabbit with pink eyes ran close by her.',\n",
       "   'img_prompt': 'daisy-chain, in futuristic style'},\n",
       "  '2': {'org': \"there was nothing so very remarkable in that; nor did alice think it so very much out of the way to hear the rabbit say to itself, 'oh dear! oh dear! i shall be late!' (when she thought it over afterwards, it occurred to her that she ought to have wondered at this, but at the time it all seemed quite natural); but when the rabbit actually took a watch out of its waistcoat-pocket, and looked at it, and then hurried on, alice started to her feet, for it flashed across her mind that she had never before seen a rabbit with either a waistcoat-pocket, or a watch to take out of it, and burning with curiosity, she ran across the field after it, and fortunately was just in time to see it pop down a large rabbit-hole under the hedge.\",\n",
       "   'img_prompt': 'rabbit with pink eyes and a watch, in futuristic style'},\n",
       "  '3': {'org': 'in another moment down went alice after it, never once considering how in the world she was to get out again.',\n",
       "   'img_prompt': 'alice, in futuristic style'},\n",
       "  '4': {'org': 'the rabbit-hole went straight on like a tunnel for some way, and then dipped suddenly down, so suddenly that alice had not a moment to think about stopping herself before she found herself falling down a very deep well.',\n",
       "   'img_prompt': 'deep well, in futuristic style'}},\n",
       " '1': {'0': {'org': \"'curiouser and curiouser!' cried alice (she was so much surprised, that for the moment she quite forgot how to speak good english); 'now i'm opening out like the largest telescope that ever was! good-bye, feet!' (for when she looked down at her feet, they seemed to be almost out of sight, they were getting so far off). 'oh, my poor little feet, i wonder who will put on your shoes and stockings for you now, dears? i'm sure _i_ shan't be able! i shall be a great deal too far off to trouble myself about you: you must manage the best way you can;--but i must be kind to them,' thought alice, 'or perhaps they won't walk the way i want to go! let me see: i'll give them a new pair of boots every christmas.'\",\n",
       "   'img_prompt': 'telescope, in watercolor style'},\n",
       "  '1': {'org': \"and she went on planning to herself how she would manage it. 'they must go by the carrier,' she thought; 'and how funny it'll seem, sending presents to one's own feet! and how odd the directions will look!\",\n",
       "   'img_prompt': 'presents, in watercolor style'},\n",
       "  '2': {'org': \"alice's right foot, esq.    hearthrug,     near the fender,      (with alice's love).\",\n",
       "   'img_prompt': 'hearthrug, in watercolor style'},\n",
       "  '3': {'org': \"oh dear, what nonsense i'm talking!'\",\n",
       "   'img_prompt': 'nonsense talk, in watercolor style'},\n",
       "  '4': {'org': 'just then her head struck against the roof of the hall: in fact she was now more than nine feet high, and she at once took up the little golden key and hurried off to the garden door.',\n",
       "   'img_prompt': 'golden key, in watercolor style'}},\n",
       " '2': {'0': {'org': 'they were indeed a queer-looking party that assembled on the bank--the birds with draggled feathers, the animals with their fur clinging close to them, and all dripping wet, cross, and uncomfortable.',\n",
       "   'img_prompt': 'wet and bedraggled feathers of a bird., in 3D rendering style'},\n",
       "  '1': {'org': \"the first question of course was, how to get dry again: they had a consultation about this, and after a few minutes it seemed quite natural to alice to find herself talking familiarly with them, as if she had known them all her life. indeed, she had quite a long argument with the lory, who at last turned sulky, and would only say, 'i am older than you, and must know better'; and this alice would not allow without knowing how old it was, and, as the lory positively refused to tell its age, there was no more to be said.\",\n",
       "   'img_prompt': 'a long argument with a sulky lory., in 3D rendering style'},\n",
       "  '2': {'org': \"at last the mouse, who seemed to be a person of authority among them, called out, 'sit down, all of you, and listen to me! i'll soon make you dry enough!' they all sat down at once, in a large ring, with the mouse in the middle. alice kept her eyes anxiously fixed on it, for she felt sure she would catch a bad cold if she did not get dry very soon.\",\n",
       "   'img_prompt': 'mouse calling for everyone to sit in a large ring., in 3D rendering style'},\n",
       "  '3': {'org': '\\'ahem!\\' said the mouse with an important air, \\'are you all ready? this is the driest thing i know. silence all round, if you please! \"william the conqueror, whose cause was favoured by the pope, was soon submitted to by the english, who wanted leaders, and had been of late much accustomed to usurpation and conquest. edwin and morcar, the earls of mercia and northumbria--\"\\'',\n",
       "   'img_prompt': 'the driest thing the mouse knows - a history book., in 3D rendering style'},\n",
       "  '4': {'org': \"'ugh!' said the lory, with a shiver.\",\n",
       "   'img_prompt': 'the lory shivering in disgust., in 3D rendering style'}},\n",
       " '3': {'0': {'org': \"it was the white rabbit, trotting slowly back again, and looking anxiously about as it went, as if it had lost something; and she heard it muttering to itself 'the duchess! the duchess! oh my dear paws! oh my fur and whiskers! she'll get me executed, as sure as ferrets are ferrets! where can i have dropped them, i wonder?' alice guessed in a moment that it was looking for the fan and the pair of white kid gloves, and she very good-naturedly began hunting about for them, but they were nowhere to be seen--everything seemed to have changed since her swim in the pool, and the great hall, with the glass table and the little door, had vanished completely.\",\n",
       "   'img_prompt': 'glass table, in futuristic style'},\n",
       "  '1': {'org': \"very soon the rabbit noticed alice, as she went hunting about, and called out to her in an angry tone, 'why, mary ann, what are you doing out here? run home this moment, and fetch me a pair of gloves and a fan! quick, now!' and alice was so much frightened that she ran off at once in the direction it pointed to, without trying to explain the mistake it had made.\",\n",
       "   'img_prompt': 'rabbit, in futuristic style'},\n",
       "  '2': {'org': \"'he took me for his housemaid,' she said to herself as she ran. 'how surprised he'll be when he finds out who i am! but i'd better take him his fan and gloves--that is, if i can find them.' as she said this, she came upon a neat little house, on the door of which was a bright brass plate with the name 'w. rabbit' engraved upon it. she went in without knocking, and hurried upstairs, in great fear lest she should meet the real mary ann, and be turned out of the house before she had found the fan and gloves.\",\n",
       "   'img_prompt': 'bright brass plate, in futuristic style'},\n",
       "  '3': {'org': '\\'how queer it seems,\\' alice said to herself, \\'to be going messages for a rabbit! i suppose dinah\\'ll be sending me on messages next!\\' and she began fancying the sort of thing that would happen: \\'\"miss alice! come here directly, and get ready for your walk!\" \"coming in a minute, nurse! but i\\'ve got to see that the mouse doesn\\'t get out.\" only i don\\'t think,\\' alice went on, \\'that they\\'d let dinah stop in the house if it began ordering people about like that!\\'',\n",
       "   'img_prompt': 'fan and gloves, in futuristic style'},\n",
       "  '4': {'org': \"by this time she had found her way into a tidy little room with a table in the window, and on it (as she had hoped) a fan and two or three pairs of tiny white kid gloves: she took up the fan and a pair of the gloves, and was just going to leave the room, when her eye fell upon a little bottle that stood near the looking-glass. there was no label this time with the words 'drink me,' but nevertheless she uncorked it and put it to her lips. 'i know something interesting is sure to happen,' she said to herself, 'whenever i eat or drink anything; so i'll just see what this bottle does. i do hope it'll make me grow large again, for really i'm quite tired of being such a tiny little thing!'\",\n",
       "   'img_prompt': 'little bottle, in futuristic style'}},\n",
       " '4': {'0': {'org': 'the caterpillar and alice looked at each other for some time in silence: at last the caterpillar took the hookah out of its mouth, and addressed her in a languid, sleepy voice.',\n",
       "   'img_prompt': 'a hookah, in oil painting style'},\n",
       "  '1': {'org': \"'who are you?' said the caterpillar.\",\n",
       "   'img_prompt': 'the caterpillar, in oil painting style'},\n",
       "  '2': {'org': \"this was not an encouraging opening for a conversation. alice replied, rather shyly, 'i--i hardly know, sir, just at present--at least i know who i was when i got up this morning, but i think i must have been changed several times since then.'\",\n",
       "   'img_prompt': 'an awkward smile, in oil painting style'},\n",
       "  '3': {'org': \"'what do you mean by that?' said the caterpillar sternly. 'explain yourself!'\",\n",
       "   'img_prompt': 'a stern expression, in oil painting style'},\n",
       "  '4': {'org': \"'i can't explain myself, i'm afraid, sir' said alice, 'because i'm not myself, you see.'\",\n",
       "   'img_prompt': 'confusion, in oil painting style'}},\n",
       " '5': {'0': {'org': 'for a minute or two she stood looking at the house, and wondering what to do next, when suddenly a footman in livery came running out of the wood--(she considered him to be a footman because he was in livery: otherwise, judging by his face only, she would have called him a fish)--and rapped loudly at the door with his knuckles. it was opened by another footman in livery, with a round face, and large eyes like a frog; and both footmen, alice noticed, had powdered hair that curled all over their heads. she felt very curious to know what it was all about, and crept a little way out of the wood to listen.',\n",
       "   'img_prompt': 'a house, in 3D rendering style'},\n",
       "  '1': {'org': \"the fish-footman began by producing from under his arm a great letter, nearly as large as himself, and this he handed over to the other, saying, in a solemn tone, 'for the duchess. an invitation from the queen to play croquet.' the frog-footman repeated, in the same solemn tone, only changing the order of the words a little, 'from the queen. an invitation for the duchess to play croquet.'\",\n",
       "   'img_prompt': 'a great letter, in 3D rendering style'},\n",
       "  '2': {'org': 'then they both bowed low, and their curls got entangled together.',\n",
       "   'img_prompt': 'entangled curls, in 3D rendering style'},\n",
       "  '3': {'org': 'alice laughed so much at this, that she had to run back into the wood for fear of their hearing her; and when she next peeped out the fish-footman was gone, and the other was sitting on the ground near the door, staring stupidly up into the sky.',\n",
       "   'img_prompt': 'the other footman sitting on the ground, in 3D rendering style'},\n",
       "  '4': {'org': 'alice went timidly up to the door, and knocked.',\n",
       "   'img_prompt': 'the door, in 3D rendering style'}},\n",
       " '6': {'0': {'org': \"there was a table set out under a tree in front of the house, and the march hare and the hatter were having tea at it: a dormouse was sitting between them, fast asleep, and the other two were using it as a cushion, resting their elbows on it, and talking over its head. 'very uncomfortable for the dormouse,' thought alice; 'only, as it's asleep, i suppose it doesn't mind.'\",\n",
       "   'img_prompt': 'cushion, in futuristic style'},\n",
       "  '1': {'org': \"the table was a large one, but the three were all crowded together at one corner of it: 'no room! no room!' they cried out when they saw alice coming. 'there's plenty of room!' said alice indignantly, and she sat down in a large arm-chair at one end of the table.\",\n",
       "   'img_prompt': 'arm-chair, in futuristic style'},\n",
       "  '2': {'org': \"'have some wine,' the march hare said in an encouraging tone.\",\n",
       "   'img_prompt': 'wine, in futuristic style'},\n",
       "  '3': {'org': \"alice looked all round the table, but there was nothing on it but tea. 'i don't see any wine,' she remarked.\",\n",
       "   'img_prompt': 'tea, in futuristic style'},\n",
       "  '4': {'org': \"'there isn't any,' said the march hare.\",\n",
       "   'img_prompt': 'march hare, in futuristic style'}},\n",
       " '7': {'0': {'org': \"a large rose-tree stood near the entrance of the garden: the roses growing on it were white, but there were three gardeners at it, busily painting them red. alice thought this a very curious thing, and she went nearer to watch them, and just as she came up to them she heard one of them say, 'look out now, five! don't go splashing paint over me like that!'\",\n",
       "   'img_prompt': 'painting brush with red paint on the bristles., in futuristic style'},\n",
       "  '1': {'org': \"'i couldn't help it,' said five, in a sulky tone; 'seven jogged my elbow.'\",\n",
       "   'img_prompt': 'sulky-looking stuffed toy elephant., in futuristic style'},\n",
       "  '2': {'org': \"on which seven looked up and said, 'that's right, five! always lay the blame on others!'\",\n",
       "   'img_prompt': 'a finger pointing at someone., in futuristic style'},\n",
       "  '3': {'org': \"'you'd better not talk!' said five. 'i heard the queen say only yesterday you deserved to be beheaded!'\",\n",
       "   'img_prompt': 'frowning number five figurine., in futuristic style'},\n",
       "  '4': {'org': \"'what for?' said the one who had spoken first.\",\n",
       "   'img_prompt': 'curious-looking face on a book cover., in futuristic style'}},\n",
       " '8': {'0': {'org': \"'you can't think how glad i am to see you again, you dear old thing!' said the duchess, as she tucked her arm affectionately into alice's, and they walked off together.\",\n",
       "   'img_prompt': 'arm intertwined with arm in a friendly embrace., in pop art style'},\n",
       "  '1': {'org': 'alice was very glad to find her in such a pleasant temper, and thought to herself that perhaps it was only the pepper that had made her so savage when they met in the kitchen.',\n",
       "   'img_prompt': 'container of pepper., in pop art style'},\n",
       "  '2': {'org': \"'when i'm a duchess,' she said to herself, (not in a very hopeful tone though), 'i won't have any pepper in my kitchen at all. soup does very well without--maybe it's always pepper that makes people hot-tempered,' she went on, very much pleased at having found out a new kind of rule, 'and vinegar that makes them sour--and camomile that makes them bitter--and--and barley-sugar and such things that make children sweet-tempered. i only wish people knew that: then they wouldn't be so stingy about it, you know--'\",\n",
       "   'img_prompt': \"a duchess's kitchen without pepper., in pop art style\"},\n",
       "  '3': {'org': \"she had quite forgotten the duchess by this time, and was a little startled when she heard her voice close to her ear. 'you're thinking about something, my dear, and that makes you forget to talk. i can't tell you just now what the moral of that is, but i shall remember it in a bit.'\",\n",
       "   'img_prompt': 'voice whispering in the ear., in pop art style'},\n",
       "  '4': {'org': \"'perhaps it hasn't one,' alice ventured to remark.\",\n",
       "   'img_prompt': 'uncertainty if there is a moral to the story., in pop art style'}},\n",
       " '9': {'0': {'org': \"the mock turtle sighed deeply, and drew the back of one flapper across his eyes. he looked at alice, and tried to speak, but for a minute or two sobs choked his voice. 'same as if he had a bone in his throat,' said the gryphon: and it set to work shaking him and punching him in the back. at last the mock turtle recovered his voice, and, with tears running down his cheeks, he went on again:--\",\n",
       "   'img_prompt': 'flapper with tears stains, in black and white photo style'},\n",
       "  '1': {'org': \"'you may not have lived much under the sea--' ('i haven't,' said alice)--'and perhaps you were never even introduced to a lobster--' (alice began to say 'i once tasted--' but checked herself hastily, and said 'no, never') '--so you can have no idea what a delightful thing a lobster quadrille is!'\",\n",
       "   'img_prompt': 'lobster quadrille illustration, in black and white photo style'},\n",
       "  '2': {'org': \"'no, indeed,' said alice. 'what sort of a dance is it?'\",\n",
       "   'img_prompt': \"alice's curious expression, in black and white photo style\"},\n",
       "  '3': {'org': \"'why,' said the gryphon, 'you first form into a line along the sea-shore--'\",\n",
       "   'img_prompt': 'gryphon explaining dance formation, in black and white photo style'},\n",
       "  '4': {'org': \"'two lines!' cried the mock turtle. 'seals, turtles, salmon, and so on; then, when you've cleared all the jelly-fish out of the way--'\",\n",
       "   'img_prompt': 'clearing jelly-fish from the way, in black and white photo style'}},\n",
       " '10': {'0': {'org': \"the king and queen of hearts were seated on their throne when they arrived, with a great crowd assembled about them--all sorts of little birds and beasts, as well as the whole pack of cards: the knave was standing before them, in chains, with a soldier on each side to guard him; and near the king was the white rabbit, with a trumpet in one hand, and a scroll of parchment in the other. in the very middle of the court was a table, with a large dish of tarts upon it: they looked so good, that it made alice quite hungry to look at them--'i wish they'd get the trial done,' she thought, 'and hand round the refreshments!' but there seemed to be no chance of this, so she began looking at everything about her, to pass away the time.\",\n",
       "   'img_prompt': 'large dish of tarts, in black and white photo style'},\n",
       "  '1': {'org': \"alice had never been in a court of justice before, but she had read about them in books, and she was quite pleased to find that she knew the name of nearly everything there. 'that's the judge,' she said to herself, 'because of his great wig.'\",\n",
       "   'img_prompt': \"judge's great wig, in black and white photo style\"},\n",
       "  '2': {'org': 'the judge, by the way, was the king; and as he wore his crown over the wig, (look at the frontispiece if you want to see how he did it,) he did not look at all comfortable, and it was certainly not becoming.',\n",
       "   'img_prompt': \"the king's uncomfortable crown, in black and white photo style\"},\n",
       "  '3': {'org': \"'and that's the jury-box,' thought alice, 'and those twelve creatures,' (she was obliged to say 'creatures,' you see, because some of them were animals, and some were birds,) 'i suppose they are the jurors.' she said this last word two or three times over to herself, being rather proud of it: for she thought, and rightly too, that very few little girls of her age knew the meaning of it at all. however, 'jury-men' would have done just as well.\",\n",
       "   'img_prompt': 'twelve creatures in the jury-box, in black and white photo style'},\n",
       "  '4': {'org': \"the twelve jurors were all writing very busily on slates. 'what are they doing?' alice whispered to the gryphon. 'they can't have anything to put down yet, before the trial's begun.'\",\n",
       "   'img_prompt': 'jurors busily writing on slates, in black and white photo style'}},\n",
       " '11': {'0': {'org': \"'here!' cried alice, quite forgetting in the flurry of the moment how large she had grown in the last few minutes, and she jumped up in such a hurry that she tipped over the jury-box with the edge of her skirt, upsetting all the jurymen on to the heads of the crowd below, and there they lay sprawling about, reminding her very much of a globe of goldfish she had accidentally upset the week before.\",\n",
       "   'img_prompt': 'jury-box, in oil painting style'},\n",
       "  '1': {'org': \"'oh, i beg your pardon!' she exclaimed in a tone of great dismay, and began picking them up again as quickly as she could, for the accident of the goldfish kept running in her head, and she had a vague sort of idea that they must be collected at once and put back into the jury-box, or they would die.\",\n",
       "   'img_prompt': 'goldfish, in oil painting style'},\n",
       "  '2': {'org': \"'the trial cannot proceed,' said the king in a very grave voice, 'until all the jurymen are back in their proper places--all,' he repeated with great emphasis, looking hard at alice as he said do.\",\n",
       "   'img_prompt': 'jurymen, in oil painting style'},\n",
       "  '3': {'org': \"alice looked at the jury-box, and saw that, in her haste, she had put the lizard in head downwards, and the poor little thing was waving its tail about in a melancholy way, being quite unable to move. she soon got it out again, and put it right; 'not that it signifies much,' she said to herself; 'i should think it would be quite as much use in the trial one way up as the other.'\",\n",
       "   'img_prompt': 'lizard, in oil painting style'},\n",
       "  '4': {'org': 'as soon as the jury had a little recovered from the shock of being upset, and their slates and pencils had been found and handed back to them, they set to work very diligently to write out a history of the accident, all except the lizard, who seemed too much overcome to do anything but sit with its mouth open, gazing up into the roof of the court.',\n",
       "   'img_prompt': 'slates and pencils, in oil painting style'}},\n",
       " '12': {'0': {'org': 'all children, except one, grow up. they soon know that they will grow up, and the way wendy knew was this. one day when she was two years old she was playing in a garden, and she plucked another flower and ran with it to her mother. i suppose she must have looked rather delightful, for mrs. darling put her hand to her heart and cried, \"oh, why can\\'t you remain like this for ever!\" this was all that passed between them on the subject, but henceforth wendy knew that she must grow up. you always know after you are two. two is the beginning of the end.',\n",
       "   'img_prompt': 'flower, in watercolor style'},\n",
       "  '1': {'org': 'of course they lived at 14 [their house number on their street], and until wendy came her mother was the chief one. she was a lovely lady, with a romantic mind and such a sweet mocking mouth. her romantic mind was like the tiny boxes, one within the other, that come from the puzzling east, however many you discover there is always one more; and her sweet mocking mouth had one kiss on it that wendy could never get, though there it was, perfectly conspicuous in the right-hand corner.',\n",
       "   'img_prompt': 'boxes, in watercolor style'},\n",
       "  '2': {'org': 'the way mr. darling won her was this: the many gentlemen who had been boys when she was a girl discovered simultaneously that they loved her, and they all ran to her house to propose to her except mr. darling, who took a cab and nipped in first, and so he got her. he got all of her, except the innermost box and the kiss. he never knew about the box, and in time he gave up trying for the kiss. wendy thought napoleon could have got it, but i can picture him trying, and then going off in a passion, slamming the door.',\n",
       "   'img_prompt': 'cab, in watercolor style'},\n",
       "  '3': {'org': 'mr. darling used to boast to wendy that her mother not only loved him but respected him. he was one of those deep ones who know about stocks and shares. of course no one really knows, but he quite seemed to know, and he often said stocks were up and shares were down in a way that would have made any woman respect him.',\n",
       "   'img_prompt': 'stocks, in watercolor style'},\n",
       "  '4': {'org': \"mrs. darling was married in white, and at first she kept the books perfectly, almost gleefully, as if it were a game, not so much as a brussels sprout was missing; but by and by whole cauliflowers dropped out, and instead of them there were pictures of babies without faces. she drew them when she should have been totting up. they were mrs. darling's guesses.\",\n",
       "   'img_prompt': 'pictures, in watercolor style'}},\n",
       " '13': {'0': {'org': 'mrs. darling screamed, and, as if in answer to a bell, the door opened, and nana entered, returned from her evening out. she growled and sprang at the boy, who leapt lightly through the window. again mrs. darling screamed, this time in distress for him, for she thought he was killed, and she ran down into the street to look for his little body, but it was not there; and she looked up, and in the black night she could see nothing but what she thought was a shooting star.',\n",
       "   'img_prompt': 'door opening and nana returning from her evening out., in 3D rendering style'},\n",
       "  '1': {'org': \"she returned to the nursery, and found nana with something in her mouth, which proved to be the boy's shadow. as he leapt at the window nana had closed it quickly, too late to catch him, but his shadow had not had time to get out; slam went the window and snapped it off.\",\n",
       "   'img_prompt': \"window slamming shut on the boy's shadow., in 3D rendering style\"},\n",
       "  '2': {'org': 'you may be sure mrs. darling examined the shadow carefully, but it was quite the ordinary kind.',\n",
       "   'img_prompt': 'ordinary shadow examined by mrs. darling., in 3D rendering style'},\n",
       "  '3': {'org': 'nana had no doubt of what was the best thing to do with this shadow. she hung it out at the window, meaning \"he is sure to come back for it; let us put it where he can get it easily without disturbing the children.\"',\n",
       "   'img_prompt': 'shadow being hung out at the window., in 3D rendering style'},\n",
       "  '4': {'org': 'but unfortunately mrs. darling could not leave it hanging out at the window, it looked so like the washing and lowered the whole tone of the house. she thought of showing it to mr. darling, but he was totting up winter great-coats for john and michael, with a wet towel around his head to keep his brain clear, and it seemed a shame to trouble him; besides, she knew exactly what he would say: \"it all comes of having a dog for a nurse.\"',\n",
       "   'img_prompt': \"shadow looking like washing and lowering the house's tone., in 3D rendering style\"}},\n",
       " '14': {'0': {'org': \"for a moment after mr. and mrs. darling left the house the night-lights by the beds of the three children continued to burn clearly. they were awfully nice little night-lights, and one cannot help wishing that they could have kept awake to see peter; but wendy's light blinked and gave such a yawn that the other two yawned also, and before they could close their mouths all the three went out.\",\n",
       "   'img_prompt': \"night-lights by children's beds, in pop art style\"},\n",
       "  '1': {'org': \"there was another light in the room now, a thousand times brighter than the night-lights, and in the time we have taken to say this, it had been in all the drawers in the nursery, looking for peter's shadow, rummaged the wardrobe and turned every pocket inside out. it was not really a light; it made this light by flashing about so quickly, but when it came to rest for a second you saw it was a fairy, no longer than your hand, but still growing. it was a girl called tinker bell exquisitely gowned in a skeleton leaf, cut low and square, through which her figure could be seen to the best advantage. she was slightly inclined to embonpoint. [plump hourglass figure]\",\n",
       "   'img_prompt': 'fairy in skeleton leaf dress, in pop art style'},\n",
       "  '2': {'org': \"a moment after the fairy's entrance the window was blown open by the breathing of the little stars, and peter dropped in. he had carried tinker bell part of the way, and his hand was still messy with the fairy dust.\",\n",
       "   'img_prompt': 'peter with messy hand from fairy dust, in pop art style'},\n",
       "  '3': {'org': '\"tinker bell,\" he called softly, after making sure that the children were asleep, \"tink, where are you?\" she was in a jug for the moment, and liking it extremely; she had never been in a jug before.',\n",
       "   'img_prompt': 'tinker bell in a jug, in pop art style'},\n",
       "  '4': {'org': '\"oh, do come out of that jug, and tell me, do you know where they put my shadow?\"',\n",
       "   'img_prompt': 'peter asking tinker bell about his shadow, in pop art style'}},\n",
       " '15': {'0': {'org': '\"second to the right, and straight on till morning.\"',\n",
       "   'img_prompt': 'compass, in watercolor style'},\n",
       "  '1': {'org': 'that, peter had told wendy, was the way to the neverland; but even birds, carrying maps and consulting them at windy corners, could not have sighted it with these instructions. peter, you see, just said anything that came into his head.',\n",
       "   'img_prompt': 'map, in watercolor style'},\n",
       "  '2': {'org': 'at first his companions trusted him implicitly, and so great were the delights of flying that they wasted time circling round church spires or any other tall objects on the way that took their fancy.',\n",
       "   'img_prompt': 'church spire, in watercolor style'},\n",
       "  '3': {'org': 'john and michael raced, michael getting a start.',\n",
       "   'img_prompt': \"michael's running shoes, in watercolor style\"},\n",
       "  '4': {'org': 'they recalled with contempt that not so long ago they had thought themselves fine fellows for being able to fly round a room.',\n",
       "   'img_prompt': 'room, in watercolor style'}},\n",
       " '16': {'0': {'org': 'feeling that peter was on his way back, the neverland had again woke into life. we ought to use the pluperfect and say wakened, but woke is better and was always used by peter.',\n",
       "   'img_prompt': 'neverland awakening: a magical alarm clock, in 3D rendering style'},\n",
       "  '1': {'org': 'in his absence things are usually quiet on the island. the fairies take an hour longer in the morning, the beasts attend to their young, the redskins feed heavily for six days and nights, and when pirates and lost boys meet they merely bite their thumbs at each other. but with the coming of peter, who hates lethargy, they are under way again: if you put your ear to the ground now, you would hear the whole island seething with life.',\n",
       "   'img_prompt': 'lively island: a bustling seashell, in 3D rendering style'},\n",
       "  '2': {'org': 'on this evening the chief forces of the island were disposed as follows. the lost boys were out looking for peter, the pirates were out looking for the lost boys, the redskins were out looking for the pirates, and the beasts were out looking for the redskins. they were going round and round the island, but they did not meet because all were going at the same rate.',\n",
       "   'img_prompt': 'island chase: a spinning compass, in 3D rendering style'},\n",
       "  '3': {'org': 'all wanted blood except the boys, who liked it as a rule, but to-night were out to greet their captain. the boys on the island vary, of course, in numbers, according as they get killed and so on; and when they seem to be growing up, which is against the rules, peter thins them out; but at this time there were six of them, counting the twins as two. let us pretend to lie here among the sugar-cane and watch them as they steal by in single file, each with his hand on his dagger.',\n",
       "   'img_prompt': 'stealthy boys: a hidden bag of daggers, in 3D rendering style'},\n",
       "  '4': {'org': 'they are forbidden by peter to look in the least like him, and they wear the skins of the bears slain by themselves, in which they are so round and furry that when they fall they roll. they have therefore become very sure-footed.',\n",
       "   'img_prompt': 'sure-footed bears: a pair of furry boots, in 3D rendering style'}},\n",
       " '17': {'0': {'org': \"foolish tootles was standing like a conqueror over wendy's body when the other boys sprang, armed, from their trees.\",\n",
       "   'img_prompt': 'sword, in futuristic style'},\n",
       "  '1': {'org': '\"you are too late,\" he cried proudly, \"i have shot the wendy. peter will be so pleased with me.\"',\n",
       "   'img_prompt': 'bow, in futuristic style'},\n",
       "  '2': {'org': 'overhead tinker bell shouted \"silly ass!\" and darted into hiding. the others did not hear her. they had crowded round wendy, and as they looked a terrible silence fell upon the wood. if wendy\\'s heart had been beating they would all have heard it.',\n",
       "   'img_prompt': 'fairy, in futuristic style'},\n",
       "  '3': {'org': 'slightly was the first to speak. \"this is no bird,\" he said in a scared voice. \"i think this must be a lady.\"',\n",
       "   'img_prompt': 'feather, in futuristic style'},\n",
       "  '4': {'org': '\"a lady?\" said tootles, and fell a-trembling.',\n",
       "   'img_prompt': 'tootles, in futuristic style'}},\n",
       " '18': {'0': {'org': 'one of the first things peter did next day was to measure wendy and john and michael for hollow trees. hook, you remember, had sneered at the boys for thinking they needed a tree apiece, but this was ignorance, for unless your tree fitted you it was difficult to go up and down, and no two of the boys were quite the same size. once you fitted, you drew in [let out] your breath at the top, and down you went at exactly the right speed, while to ascend you drew in and let out alternately, and so wriggled up. of course, when you have mastered the action you are able to do these things without thinking of them, and nothing can be more graceful.',\n",
       "   'img_prompt': 'measuring tape for fitting hollow trees, in pop art style'},\n",
       "  '1': {'org': 'but you simply must fit, and peter measures you for your tree as carefully as for a suit of clothes: the only difference being that the clothes are made to fit you, while you have to be made to fit the tree. usually it is done quite easily, as by your wearing too many garments or too few, but if you are bumpy in awkward places or the only available tree is an odd shape, peter does some things to you, and after that you fit. once you fit, great care must be taken to go on fitting, and this, as wendy was to discover to her delight, keeps a whole family in perfect condition.',\n",
       "   'img_prompt': \"tailor's measuring tape for fitting trees, in pop art style\"},\n",
       "  '2': {'org': 'wendy and michael fitted their trees at the first try, but john had to be altered a little.',\n",
       "   'img_prompt': 'adjustable tool for altering tree size, in pop art style'},\n",
       "  '3': {'org': \"after a few days' practice they could go up and down as gaily as buckets in a well. and how ardently they grew to love their home under the ground; especially wendy. it consisted of one large room, as all houses should do, with a floor in which you could dig [for worms] if you wanted to go fishing, and in this floor grew stout mushrooms of a charming colour, which were used as stools. a never tree tried hard to grow in the centre of the room, but every morning they sawed the trunk through, level with the floor. by tea-time it was always about two feet high, and then they put a door on top of it, the whole thus becoming a table; as soon as they cleared away, they sawed off the trunk again, and thus there was more room to play. there was an enormous fireplace which was in almost any part of the room where you cared to light it, and across this wendy stretched strings, made of fibre, from which she suspended her washing. the bed was tilted against the wall by day, and let down at 6:30, when it filled nearly half the room; and all the boys slept in it, except michael, lying like sardines in a tin. there was a strict rule against turning round until one gave the signal, when all turned at once. michael should have used it also, but wendy would have [desired] a baby, and he was the littlest, and you know what women are, and the short and long of it is that he was hung up in a basket.\",\n",
       "   'img_prompt': 'bucket in a well toy, in pop art style'},\n",
       "  '4': {'org': 'it was rough and simple, and not unlike what baby bears would have made of an underground house in the same circumstances. but there was one recess in the wall, no larger than a bird-cage, which was the private apartment of tinker bell. it could be shut off from the rest of the house by a tiny curtain, which tink, who was most fastidious [particular], always kept drawn when dressing or undressing. no woman, however large, could have had a more exquisite boudoir [dressing room] and bed-chamber combined. the couch, as she always called it, was a genuine queen mab, with club legs; and she varied the bedspreads according to what fruit-blossom was in season. her mirror was a puss-in-boots, of which there are now only three, unchipped, known to fairy dealers; the washstand was pie-crust and reversible, the chest of drawers an authentic charming the sixth, and the carpet and rugs the best (the early) period of margery and robin. there was a chandelier from tiddlywinks for the look of the thing, but of course she lit the residence herself. tink was very contemptuous of the rest of the house, as indeed was perhaps inevitable, and her chamber, though beautiful, looked rather conceited, having the appearance of a nose permanently turned up.',\n",
       "   'img_prompt': 'exquisite birdcage-shaped recess in the wall, in pop art style'}},\n",
       " '19': {'0': {'org': 'if you shut your eyes and are a lucky one, you may see at times a shapeless pool of lovely pale colours suspended in the darkness; then if you squeeze your eyes tighter, the pool begins to take shape, and the colours become so vivid that with another squeeze they must go on fire. but just before they go on fire you see the lagoon. this is the nearest you ever get to it on the mainland, just one heavenly moment; if there could be two moments you might see the surf and hear the mermaids singing.',\n",
       "   'img_prompt': 'shapeless pool of pale colors suspended in darkness - a kaleidoscope, in oil painting style'},\n",
       "  '1': {'org': \"the children often spent long summer days on this lagoon, swimming or floating most of the time, playing the mermaid games in the water, and so forth. you must not think from this that the mermaids were on friendly terms with them: on the contrary, it was among wendy's lasting regrets that all the time she was on the island she never had a civil word from one of them. when she stole softly to the edge of the lagoon she might see them by the score, especially on marooners' rock, where they loved to bask, combing out their hair in a lazy way that quite irritated her; or she might even swim, on tiptoe as it were, to within a yard of them, but then they saw her and dived, probably splashing her with their tails, not by accident, but intentionally.\",\n",
       "   'img_prompt': \"mermaids basking on marooners' rock - a rock in the shape of a mermaid, in oil painting style\"},\n",
       "  '2': {'org': \"they treated all the boys in the same way, except of course peter, who chatted with them on marooners' rock by the hour, and sat on their tails when they got cheeky. he gave wendy one of their combs.\",\n",
       "   'img_prompt': \"peter sitting on the mermaids' tails - a mermaid tail comb, in oil painting style\"},\n",
       "  '3': {'org': 'the most haunting time at which to see them is at the turn of the moon, when they utter strange wailing cries; but the lagoon is dangerous for mortals then, and until the evening of which we have now to tell, wendy had never seen the lagoon by moonlight, less from fear, for of course peter would have accompanied her, than because she had strict rules about every one being in bed by seven. she was often at the lagoon, however, on sunny days after rain, when the mermaids come up in extraordinary numbers to play with their bubbles. the bubbles of many colours made in rainbow water they treat as balls, hitting them gaily from one to another with their tails, and trying to keep them in the rainbow till they burst. the goals are at each end of the rainbow, and the keepers only are allowed to use their hands. sometimes a dozen of these games will be going on in the lagoon at a time, and it is quite a pretty sight.',\n",
       "   'img_prompt': 'mermaids playing with rainbow water bubbles - rainbow-colored bubbles, in oil painting style'},\n",
       "  '4': {'org': 'but the moment the children tried to join in they had to play by themselves, for the mermaids immediately disappeared. nevertheless we have proof that they secretly watched the interlopers, and were not above taking an idea from them; for john introduced a new way of hitting the bubble, with the head instead of the hand, and the mermaids adopted it. this is the one mark that john has left on the neverland.',\n",
       "   'img_prompt': \"mermaids adopting john's way of hitting bubbles with their heads - a bubble wand, in oil painting style\"}},\n",
       " '20': {'0': {'org': 'the last sound peter heard before he was quite alone were the mermaids retiring one by one to their bedchambers under the sea. he was too far away to hear their doors shut; but every door in the coral caves where they live rings a tiny bell when it opens or closes (as in all the nicest houses on the mainland), and he heard the bells.',\n",
       "   'img_prompt': 'coral bell, in pop art style'},\n",
       "  '1': {'org': 'steadily the waters rose till they were nibbling at his feet; and to pass the time until they made their final gulp, he watched the only thing on the lagoon. he thought it was a piece of floating paper, perhaps part of the kite, and wondered idly how long it would take to drift ashore.',\n",
       "   'img_prompt': 'floating paper, in pop art style'},\n",
       "  '2': {'org': 'presently he noticed as an odd thing that it was undoubtedly out upon the lagoon with some definite purpose, for it was fighting the tide, and sometimes winning; and when it won, peter, always sympathetic to the weaker side, could not help clapping; it was such a gallant piece of paper.',\n",
       "   'img_prompt': 'gallant piece of paper, in pop art style'},\n",
       "  '3': {'org': 'it was not really a piece of paper; it was the never bird, making desperate efforts to reach peter on the nest. by working her wings, in a way she had learned since the nest fell into the water, she was able to some extent to guide her strange craft, but by the time peter recognised her she was very exhausted. she had come to save him, to give him her nest, though there were eggs in it. i rather wonder at the bird, for though he had been nice to her, he had also sometimes tormented her. i can suppose only that, like mrs. darling and the rest of them, she was melted because he had all his first teeth.',\n",
       "   'img_prompt': 'never bird, in pop art style'},\n",
       "  '4': {'org': \"she called out to him what she had come for, and he called out to her what she was doing there; but of course neither of them understood the other's language. in fanciful stories people can talk to the birds freely, and i wish for the moment i could pretend that this were such a story, and say that peter replied intelligently to the never bird; but truth is best, and i want to tell you only what really happened. well, not only could they not understand each other, but they forgot their manners.\",\n",
       "   'img_prompt': 'lack of understanding, in pop art style'}},\n",
       " '21': {'0': {'org': 'one important result of the brush [with the pirates] on the lagoon was that it made the redskins their friends. peter had saved tiger lily from a dreadful fate, and now there was nothing she and her braves would not do for him. all night they sat above, keeping watch over the home under the ground and awaiting the big attack by the pirates which obviously could not be much longer delayed. even by day they hung about, smoking the pipe of peace, and looking almost as if they wanted tit-bits to eat.',\n",
       "   'img_prompt': 'pipe of peace, in oil painting style'},\n",
       "  '1': {'org': 'they called peter the great white father, prostrating themselves [lying down] before him; and he liked this tremendously, so that it was not really good for him.',\n",
       "   'img_prompt': 'prostration, in oil painting style'},\n",
       "  '2': {'org': '\"the great white father,\" he would say to them in a very lordly manner, as they grovelled at his feet, \"is glad to see the piccaninny warriors protecting his wigwam from the pirates.\"',\n",
       "   'img_prompt': 'wigwam, in oil painting style'},\n",
       "  '3': {'org': '\"me tiger lily,\" that lovely creature would reply. \"peter pan save me, me his velly nice friend. me no let pirates hurt him.\"',\n",
       "   'img_prompt': 'tiger lily, in oil painting style'},\n",
       "  '4': {'org': 'she was far too pretty to cringe in this way, but peter thought it his due, and he would answer condescendingly, \"it is good. peter pan has spoken.\"',\n",
       "   'img_prompt': 'peter pan, in oil painting style'}},\n",
       " '22': {'0': {'org': '\"listen, then,\" said wendy, settling down to her story, with michael at her feet and seven boys in the bed. \"there was once a gentleman--\"',\n",
       "   'img_prompt': 'storybook with illustrations of wendy, michael, and the boys., in black and white photo style'},\n",
       "  '1': {'org': '\"i had rather he had been a lady,\" curly said.',\n",
       "   'img_prompt': 'picture of a boy and a girl., in black and white photo style'},\n",
       "  '2': {'org': '\"i wish he had been a white rat,\" said nibs.',\n",
       "   'img_prompt': 'picture of a white rat., in black and white photo style'},\n",
       "  '3': {'org': '\"quiet,\" their mother admonished [cautioned] them. \"there was a lady also, and--\"',\n",
       "   'img_prompt': 'picture of a mother with a finger to her lips., in black and white photo style'},\n",
       "  '4': {'org': '\"oh, mummy,\" cried the first twin, \"you mean that there is a lady also, don\\'t you? she is not dead, is she?\"',\n",
       "   'img_prompt': 'picture of the first twin asking about the lady., in black and white photo style'}},\n",
       " '23': {'0': {'org': 'the pirate attack had been a complete surprise: a sure proof that the unscrupulous hook had conducted it improperly, for to surprise redskins fairly is beyond the wit of the white man.',\n",
       "   'img_prompt': 'a pirate flag, in watercolor style'},\n",
       "  '1': {'org': 'by all the unwritten laws of savage warfare it is always the redskin who attacks, and with the wiliness of his race he does it just before the dawn, at which time he knows the courage of the whites to be at its lowest ebb. the white men have in the meantime made a rude stockade on the summit of yonder undulating ground, at the foot of which a stream runs, for it is destruction to be too far from water. there they await the onslaught, the inexperienced ones clutching their revolvers and treading on twigs, but the old hands sleeping tranquilly until just before the dawn. through the long black night the savage scouts wriggle, snake-like, among the grass without stirring a blade. the brushwood closes behind them, as silently as sand into which a mole has dived. not a sound is to be heard, save when they give vent to a wonderful imitation of the lonely call of the coyote. the cry is answered by other braves; and some of them do it even better than the coyotes, who are not very good at it. so the chill hours wear on, and the long suspense is horribly trying to the paleface who has to live through it for the first time; but to the trained hand those ghastly calls and still ghastlier silences are but an intimation of how the night is marching.',\n",
       "   'img_prompt': 'a stockade, in watercolor style'},\n",
       "  '2': {'org': 'that this was the usual procedure was so well known to hook that in disregarding it he cannot be excused on the plea of ignorance.',\n",
       "   'img_prompt': 'a disregarded rulebook, in watercolor style'},\n",
       "  '3': {'org': \"the piccaninnies, on their part, trusted implicitly to his honour, and their whole action of the night stands out in marked contrast to his. they left nothing undone that was consistent with the reputation of their tribe. with that alertness of the senses which is at once the marvel and despair of civilised peoples, they knew that the pirates were on the island from the moment one of them trod on a dry stick; and in an incredibly short space of time the coyote cries began. every foot of ground between the spot where hook had landed his forces and the home under the trees was stealthily examined by braves wearing their mocassins with the heels in front. they found only one hillock with a stream at its base, so that hook had no choice; here he must establish himself and wait for just before the dawn. everything being thus mapped out with almost diabolical cunning, the main body of the redskins folded their blankets around them, and in the phlegmatic manner that is to them, the pearl of manhood squatted above the children's home, awaiting the cold moment when they should deal pale death.\",\n",
       "   'img_prompt': 'stealthy footprints, in watercolor style'},\n",
       "  '4': {'org': 'here dreaming, though wide-awake, of the exquisite tortures to which they were to put him at break of day, those confiding savages were found by the treacherous hook. from the accounts afterwards supplied by such of the scouts as escaped the carnage, he does not seem even to have paused at the rising ground, though it is certain that in that grey light he must have seen it: no thought of waiting to be attacked appears from first to last to have visited his subtle mind; he would not even hold off till the night was nearly spent; on he pounded with no policy but to fall to [get into combat]. what could the bewildered scouts do, masters as they were of every war-like artifice save this one, but trot helplessly after him, exposing themselves fatally to view, while they gave pathetic utterance to the coyote cry.',\n",
       "   'img_prompt': 'a treacherous hook, in watercolor style'}},\n",
       " '24': {'0': {'org': 'the more quickly this horror is disposed of the better. the first to emerge from his tree was curly. he rose out of it into the arms of cecco, who flung him to smee, who flung him to starkey, who flung him to bill jukes, who flung him to noodler, and so he was tossed from one to another till he fell at the feet of the black pirate. all the boys were plucked from their trees in this ruthless manner; and several of them were in the air at a time, like bales of goods flung from hand to hand.',\n",
       "   'img_prompt': 'bales of goods being tossed from one person to another., in black and white photo style'},\n",
       "  '1': {'org': 'a different treatment was accorded to wendy, who came last. with ironical politeness hook raised his hat to her, and, offering her his arm, escorted her to the spot where the others were being gagged. he did it with such an air, he was so frightfully distingue [imposingly distinguished], that she was too fascinated to cry out. she was only a little girl.',\n",
       "   'img_prompt': 'hook offering his arm to wendy with a distinguished air., in black and white photo style'},\n",
       "  '2': {'org': \"perhaps it is tell-tale to divulge that for a moment hook entranced her, and we tell on her only because her slip led to strange results. had she haughtily unhanded him (and we should have loved to write it of her), she would have been hurled through the air like the others, and then hook would probably not have been present at the tying of the children; and had he not been at the tying he would not have discovered slightly's secret, and without the secret he could not presently have made his foul attempt on peter's life.\",\n",
       "   'img_prompt': \"hook discovering slightly's secret beneath the surface., in black and white photo style\"},\n",
       "  '3': {'org': \"they were tied to prevent their flying away, doubled up with their knees close to their ears; and for the trussing of them the black pirate had cut a rope into nine equal pieces. all went well until slightly's turn came, when he was found to be like those irritating parcels that use up all the string in going round and leave no tags [ends] with which to tie a knot. the pirates kicked him in their rage, just as you kick the parcel (though in fairness you should kick the string); and strange to say it was hook who told them to belay their violence. his lip was curled with malicious triumph. while his dogs were merely sweating because every time they tried to pack the unhappy lad tight in one part he bulged out in another, hook's master mind had gone far beneath slightly's surface, probing not for effects but for causes; and his exultation showed that he had found them. slightly, white to the gills, knew that hook had surprised [discovered] his secret, which was this, that no boy so blown out could use a tree wherein an average man need stick. poor slightly, most wretched of all the children now, for he was in a panic about peter, bitterly regretted what he had done. madly addicted to the drinking of water when he was hot, he had swelled in consequence to his present girth, and instead of reducing himself to fit his tree he had, unknown to the others, whittled his tree to make it fit him.\",\n",
       "   'img_prompt': 'pirates kicking slightly for being difficult to tie up., in black and white photo style'},\n",
       "  '4': {'org': 'sufficient of this hook guessed to persuade him that peter at last lay at his mercy, but no word of the dark design that now formed in the subterranean caverns of his mind crossed his lips; he merely signed that the captives were to be conveyed to the ship, and that he would be alone.',\n",
       "   'img_prompt': 'hook silently planning his dark design in his mind., in black and white photo style'}},\n",
       " '25': {'0': {'org': \"one green light squinting over kidd's creek, which is near the mouth of the pirate river, marked where the brig, the jolly roger, lay, low in the water; a rakish-looking [speedy-looking] craft foul to the hull, every beam in her detestable, like ground strewn with mangled feathers. she was the cannibal of the seas, and scarce needed that watchful eye, for she floated immune in the horror of her name.\",\n",
       "   'img_prompt': 'jolly roger flag, in watercolor style'},\n",
       "  '1': {'org': \"she was wrapped in the blanket of night, through which no sound from her could have reached the shore. there was little sound, and none agreeable save the whir of the ship's sewing machine at which smee sat, ever industrious and obliging, the essence of the commonplace, pathetic smee. i know not why he was so infinitely pathetic, unless it were because he was so pathetically unaware of it; but even strong men had to turn hastily from looking at him, and more than once on summer evenings he had touched the fount of hook's tears and made it flow. of this, as of almost everything else, smee was quite unconscious.\",\n",
       "   'img_prompt': 'sewing machine, in watercolor style'},\n",
       "  '2': {'org': \"a few of the pirates leant over the bulwarks, drinking in the miasma [putrid mist] of the night; others sprawled by barrels over games of dice and cards; and the exhausted four who had carried the little house lay prone on the deck, where even in their sleep they rolled skillfully to this side or that out of hook's reach, lest he should claw them mechanically in passing.\",\n",
       "   'img_prompt': 'dice and cards, in watercolor style'},\n",
       "  '3': {'org': 'hook trod the deck in thought. o man unfathomable. it was his hour of triumph. peter had been removed for ever from his path, and all the other boys were in the brig, about to walk the plank. it was his grimmest deed since the days when he had brought barbecue to heel; and knowing as we do how vain a tabernacle is man, could we be surprised had he now paced the deck unsteadily, bellied out by the winds of his success?',\n",
       "   'img_prompt': 'plank, in watercolor style'},\n",
       "  '4': {'org': 'but there was no elation in his gait, which kept pace with the action of his sombre mind. hook was profoundly dejected.',\n",
       "   'img_prompt': 'dejected posture, in watercolor style'}},\n",
       " '26': {'0': {'org': \"odd things happen to all of us on our way through life without our noticing for a time that they have happened. thus, to take an instance, we suddenly discover that we have been deaf in one ear for we don't know how long, but, say, half an hour. now such an experience had come that night to peter. when last we saw him he was stealing across the island with one finger to his lips and his dagger at the ready. he had seen the crocodile pass by without noticing anything peculiar about it, but by and by he remembered that it had not been ticking. at first he thought this eerie, but soon concluded rightly that the clock had run down.\",\n",
       "   'img_prompt': 'clock, in oil painting style'},\n",
       "  '1': {'org': 'without giving a thought to what might be the feelings of a fellow-creature thus abruptly deprived of its closest companion, peter began to consider how he could turn the catastrophe to his own use; and he decided to tick, so that wild beasts should believe he was the crocodile and let him pass unmolested. he ticked superbly, but with one unforeseen result. the crocodile was among those who heard the sound, and it followed him, though whether with the purpose of regaining what it had lost, or merely as a friend under the belief that it was again ticking itself, will never be certainly known, for, like slaves to a fixed idea, it was a stupid beast.',\n",
       "   'img_prompt': 'tick, in oil painting style'},\n",
       "  '2': {'org': 'peter reached the shore without mishap, and went straight on, his legs encountering the water as if quite unaware that they had entered a new element. thus many animals pass from land to water, but no other human of whom i know. as he swam he had but one thought: \"hook or me this time.\" he had ticked so long that he now went on ticking without knowing that he was doing it. had he known he would have stopped, for to board the brig by help of the tick, though an ingenious idea, had not occurred to him.',\n",
       "   'img_prompt': 'water, in oil painting style'},\n",
       "  '3': {'org': 'on the contrary, he thought he had scaled her side as noiseless as a mouse; and he was amazed to see the pirates cowering from him, with hook in their midst as abject as if he had heard the crocodile.',\n",
       "   'img_prompt': 'pirates, in oil painting style'},\n",
       "  '4': {'org': 'the crocodile! no sooner did peter remember it than he heard the ticking. at first he thought the sound did come from the crocodile, and he looked behind him swiftly. then he realised that he was doing it himself, and in a flash he understood the situation. \"how clever of me!\" he thought at once, and signed to the boys not to burst into applause.',\n",
       "   'img_prompt': 'flash, in oil painting style'}},\n",
       " '27': {'0': {'org': \"by three bells that morning they were all stirring their stumps [legs]; for there was a big sea running; and tootles, the bo'sun, was among them, with a rope's end in his hand and chewing tobacco. they all donned pirate clothes cut off at the knee, shaved smartly, and tumbled up, with the true nautical roll and hitching their trousers.\",\n",
       "   'img_prompt': \"rope's end, in oil painting style\"},\n",
       "  '1': {'org': \"it need not be said who was the captain. nibs and john were first and second mate. there was a woman aboard. the rest were tars [sailors] before the mast, and lived in the fo'c'sle. peter had already lashed himself to the wheel; but he piped all hands and delivered a short address to them; said he hoped they would do their duty like gallant hearties, but that he knew they were the scum of rio and the gold coast, and if they snapped at him he would tear them. the bluff strident words struck the note sailors understood, and they cheered him lustily. then a few sharp orders were given, and they turned the ship round, and nosed her for the mainland.\",\n",
       "   'img_prompt': 'wheel, in oil painting style'},\n",
       "  '2': {'org': \"captain pan calculated, after consulting the ship's chart, that if this weather lasted they should strike the azores about the 21st of june, after which it would save time to fly.\",\n",
       "   'img_prompt': \"ship's chart, in oil painting style\"},\n",
       "  '3': {'org': \"some of them wanted it to be an honest ship and others were in favour of keeping it a pirate; but the captain treated them as dogs, and they dared not express their wishes to him even in a round robin [one person after another, as they had to cpt. hook]. instant obedience was the only safe thing. slightly got a dozen for looking perplexed when told to take soundings. the general feeling was that peter was honest just now to lull wendy's suspicions, but that there might be a change when the new suit was ready, which, against her will, she was making for him out of some of hook's wickedest garments. it was afterwards whispered among them that on the first night he wore this suit he sat long in the cabin with hook's cigar-holder in his mouth and one hand clenched, all but for the forefinger, which he bent and held threateningly aloft like a hook.\",\n",
       "   'img_prompt': 'new suit, in oil painting style'},\n",
       "  '4': {'org': 'instead of watching the ship, however, we must now return to that desolate home from which three of our characters had taken heartless flight so long ago. it seems a shame to have neglected no. 14 all this time; and yet we may be sure that mrs. darling does not blame us. if we had returned sooner to look with sorrowful sympathy at her, she would probably have cried, \"don\\'t be silly; what do i matter? do go back and keep an eye on the children.\" so long as mothers are like this their children will take advantage of them; and they may lay to [bet on] that.',\n",
       "   'img_prompt': 'no. 14, in oil painting style'}},\n",
       " '28': {'0': {'org': 'i hope you want to know what became of the other boys. they were waiting below to give wendy time to explain about them; and when they had counted five hundred they went up. they went up by the stair, because they thought this would make a better impression. they stood in a row in front of mrs. darling, with their hats off, and wishing they were not wearing their pirate clothes. they said nothing, but their eyes asked her to have them. they ought to have looked at mr. darling also, but they forgot about him.',\n",
       "   'img_prompt': 'five hundred pirates waiting, hats off, hoping to be accepted., in futuristic style'},\n",
       "  '1': {'org': 'of course mrs. darling said at once that she would have them; but mr. darling was curiously depressed, and they saw that he considered six a rather large number.',\n",
       "   'img_prompt': 'mrs. darling eager, mr. darling unsure about six children., in futuristic style'},\n",
       "  '2': {'org': '\"i must say,\" he said to wendy, \"that you don\\'t do things by halves,\" a grudging remark which the twins thought was pointed at them.',\n",
       "   'img_prompt': 'wendy accused of not doing things halfway, twins offended., in futuristic style'},\n",
       "  '3': {'org': 'the first twin was the proud one, and he asked, flushing, \"do you think we should be too much of a handful, sir? because, if so, we can go away.\"',\n",
       "   'img_prompt': 'proud twin offers to leave if they are too much., in futuristic style'},\n",
       "  '4': {'org': '\"father!\" wendy cried, shocked; but still the cloud was on him. he knew he was behaving unworthily, but he could not help it.',\n",
       "   'img_prompt': \"wendy shocked at father's unworthy behavior, cloud still present., in futuristic style\"}},\n",
       " '29': {'0': {'org': 'i was born in tuckahoe, near hillsborough, and about twelve miles from easton, in talbot county, maryland. i have no accurate knowledge of my age, never having seen any authentic record containing it. by far the larger part of the slaves know as little of their ages as horses know of theirs, and it is the wish of most masters within my knowledge to keep their slaves thus ignorant. i do not remember to have ever met a slave who could tell of his birthday. they seldom come nearer to it than planting-time, harvest-time, cherry-time, spring-time, or fall-time. a want of information concerning my own was a source of unhappiness to me even during childhood. the white children could tell their ages. i could not tell why i ought to be deprived of the same privilege. i was not allowed to make any inquiries of my master concerning it. he deemed all such inquiries on the part of a slave improper and impertinent, and evidence of a restless spirit. the nearest estimate i can give makes me now between twenty-seven and twenty-eight years of age. i come to this, from hearing my master say, some time during 1835, i was about seventeen years old.',\n",
       "   'img_prompt': 'authentic record containing accurate age (object: a birth certificate), in black and white photo style'},\n",
       "  '1': {'org': 'my mother was named harriet bailey. she was the daughter of isaac and betsey bailey, both colored, and quite dark. my mother was of a darker complexion than either my grandmother or grandfather.',\n",
       "   'img_prompt': 'dark-complexioned mother named harriet bailey (object: a photograph of harriet bailey), in black and white photo style'},\n",
       "  '2': {'org': \"my father was a white man. he was admitted to be such by all i ever heard speak of my parentage. the opinion was also whispered that my master was my father; but of the correctness of this opinion, i know nothing; the means of knowing was withheld from me. my mother and i were separated when i was but an infant--before i knew her as my mother. it is a common custom, in the part of maryland from which i ran away, to part children from their mothers at a very early age. frequently, before the child has reached its twelfth month, its mother is taken from it, and hired out on some farm a considerable distance off, and the child is placed under the care of an old woman, too old for field labor. for what this separation is done, i do not know, unless it be to hinder the development of the child's affection toward its mother, and to blunt and destroy the natural affection of the mother for the child. this is the inevitable result.\",\n",
       "   'img_prompt': 'suspicion that master is the father (object: a letter addressed to the master), in black and white photo style'},\n",
       "  '3': {'org': \"i never saw my mother, to know her as such, more than four or five times in my life; and each of these times was very short in duration, and at night. she was hired by a mr. stewart, who lived about twelve miles from my home. she made her journeys to see me in the night, travelling the whole distance on foot, after the performance of her day's work. she was a field hand, and a whipping is the penalty of not being in the field at sunrise, unless a slave has special permission from his or her master to the contrary--a permission which they seldom get, and one that gives to him that gives it the proud name of being a kind master. i do not recollect of ever seeing my mother by the light of day. she was with me in the night. she would lie down with me, and get me to sleep, but long before i waked she was gone. very little communication ever took place between us. death soon ended what little we could have while she lived, and with it her hardships and suffering. she died when i was about seven years old, on one of my master's farms, near lee's mill. i was not allowed to be present during her illness, at her death, or burial. she was gone long before i knew any thing about it. never having enjoyed, to any considerable extent, her soothing presence, her tender and watchful care, i received the tidings of her death with much the same emotions i should have probably felt at the death of a stranger.\",\n",
       "   'img_prompt': 'separation of mother and child (object: a broken chain), in black and white photo style'},\n",
       "  '4': {'org': 'called thus suddenly away, she left me without the slightest intimation of who my father was. the whisper that my master was my father, may or may not be true; and, true or false, it is of but little consequence to my purpose whilst the fact remains, in all its glaring odiousness, that slaveholders have ordained, and by law established, that the children of slave women shall in all cases follow the condition of their mothers; and this is done too obviously to administer to their own lusts, and make a gratification of their wicked desires profitable as well as pleasurable; for by this cunning arrangement, the slaveholder, in cases not a few, sustains to his slaves the double relation of master and father.',\n",
       "   'img_prompt': 'children follow condition of slave mothers (object: a legal document), in black and white photo style'}},\n",
       " '30': {'0': {'org': \"my master's family consisted of two sons, andrew and richard; one daughter, lucretia, and her husband, captain thomas auld. they lived in one house, upon the home plantation of colonel edward lloyd. my master was colonel lloyd's clerk and superintendent. he was what might be called the overseer of the overseers. i spent two years of childhood on this plantation in my old master's family. it was here that i witnessed the bloody transaction recorded in the first chapter; and as i received my first impressions of slavery on this plantation, i will give some description of it, and of slavery as it there existed. the plantation is about twelve miles north of easton, in talbot county, and is situated on the border of miles river. the principal products raised upon it were tobacco, corn, and wheat. these were raised in great abundance; so that, with the products of this and the other farms belonging to him, he was able to keep in almost constant employment a large sloop, in carrying them to market at baltimore. this sloop was named sally lloyd, in honor of one of the colonel's daughters. my master's son-in-law, captain auld, was master of the vessel; she was otherwise manned by the colonel's own slaves. their names were peter, isaac, rich, and jake. these were esteemed very highly by the other slaves, and looked upon as the privileged ones of the plantation; for it was no small affair, in the eyes of the slaves, to be allowed to see baltimore.\",\n",
       "   'img_prompt': 'large sloop, named sally lloyd, for carrying products to market., in watercolor style'},\n",
       "  '1': {'org': 'colonel lloyd kept from three to four hundred slaves on his home plantation, and owned a large number more on the neighboring farms belonging to him. the names of the farms nearest to the home plantation were wye town and new design. \"wye town\" was under the overseership of a man named noah willis. new design was under the overseership of a mr. townsend. the overseers of these, and all the rest of the farms, numbering over twenty, received advice and direction from the managers of the home plantation. this was the great business place. it was the seat of government for the whole twenty farms. all disputes among the overseers were settled here. if a slave was convicted of any high misdemeanor, became unmanageable, or evinced a determination to run away, he was brought immediately here, severely whipped, put on board the sloop, carried to baltimore, and sold to austin woolfolk, or some other slave-trader, as a warning to the slaves remaining.',\n",
       "   'img_prompt': 'seat of government for the twenty farms, settling disputes., in watercolor style'},\n",
       "  '2': {'org': 'here, too, the slaves of all the other farms received their monthly allowance of food, and their yearly clothing. the men and women slaves received, as their monthly allowance of food, eight pounds of pork, or its equivalent in fish, and one bushel of corn meal. their yearly clothing consisted of two coarse linen shirts, one pair of linen trousers, like the shirts, one jacket, one pair of trousers for winter, made of coarse negro cloth, one pair of stockings, and one pair of shoes; the whole of which could not have cost more than seven dollars. the allowance of the slave children was given to their mothers, or the old women having the care of them. the children unable to work in the field had neither shoes, stockings, jackets, nor trousers, given to them; their clothing consisted of two coarse linen shirts per year. when these failed them, they went naked until the next allowance-day. children from seven to ten years old, of both sexes, almost naked, might be seen at all seasons of the year.',\n",
       "   'img_prompt': 'coarse clothing for slaves, given yearly, costing seven dollars., in watercolor style'},\n",
       "  '3': {'org': \"there were no beds given the slaves, unless one coarse blanket be considered such, and none but the men and women had these. this, however, is not considered a very great privation. they find less difficulty from the want of beds, than from the want of time to sleep; for when their day's work in the field is done, the most of them having their washing, mending, and cooking to do, and having few or none of the ordinary facilities for doing either of these, very many of their sleeping hours are consumed in preparing for the field the coming day; and when this is done, old and young, male and female, married and single, drop down side by side, on one common bed,--the cold, damp floor,--each covering himself or herself with their miserable blankets; and here they sleep till they are summoned to the field by the driver's horn. at the sound of this, all must rise, and be off to the field. there must be no halting; every one must be at his or her post; and woe betides them who hear not this morning summons to the field; for if they are not awakened by the sense of hearing, they are by the sense of feeling: no age nor sex finds any favor. mr. severe, the overseer, used to stand by the door of the quarter, armed with a large hickory stick and heavy cowskin, ready to whip any one who was so unfortunate as not to hear, or, from any other cause, was prevented from being ready to start for the field at the sound of the horn.\",\n",
       "   'img_prompt': 'sleeping on cold floor, covered with miserable blankets., in watercolor style'},\n",
       "  '4': {'org': \"mr. severe was rightly named: he was a cruel man. i have seen him whip a woman, causing the blood to run half an hour at the time; and this, too, in the midst of her crying children, pleading for their mother's release. he seemed to take pleasure in manifesting his fiendish barbarity. added to his cruelty, he was a profane swearer. it was enough to chill the blood and stiffen the hair of an ordinary man to hear him talk. scarce a sentence escaped him but that was commenced or concluded by some horrid oath. the field was the place to witness his cruelty and profanity. his presence made it both the field of blood and of blasphemy. from the rising till the going down of the sun, he was cursing, raving, cutting, and slashing among the slaves of the field, in the most frightful manner. his career was short. he died very soon after i went to colonel lloyd's; and he died as he lived, uttering, with his dying groans, bitter curses and horrid oaths. his death was regarded by the slaves as the result of a merciful providence.\",\n",
       "   'img_prompt': 'cruel overseer, mr. severe, whipping and swearing profusely., in watercolor style'}},\n",
       " '31': {'0': {'org': \"colonel lloyd kept a large and finely cultivated garden, which afforded almost constant employment for four men, besides the chief gardener, (mr. m'durmond.) this garden was probably the greatest attraction of the place. during the summer months, people came from far and near--from baltimore, easton, and annapolis--to see it. it abounded in fruits of almost every description, from the hardy apple of the north to the delicate orange of the south. this garden was not the least source of trouble on the plantation. its excellent fruit was quite a temptation to the hungry swarms of boys, as well as the older slaves, belonging to the colonel, few of whom had the virtue or the vice to resist it. scarcely a day passed, during the summer, but that some slave had to take the lash for stealing fruit. the colonel had to resort to all kinds of stratagems to keep his slaves out of the garden. the last and most successful one was that of tarring his fence all around; after which, if a slave was caught with any tar upon his person, it was deemed sufficient proof that he had either been into the garden, or had tried to get in. in either case, he was severely whipped by the chief gardener. this plan worked well; the slaves became as fearful of tar as of the lash. they seemed to realize the impossibility of touching _tar_ without being defiled.\",\n",
       "   'img_prompt': 'fruit., in black and white photo style'},\n",
       "  '1': {'org': 'the colonel also kept a splendid riding equipage. his stable and carriage-house presented the appearance of some of our large city livery establishments. his horses were of the finest form and noblest blood. his carriage-house contained three splendid coaches, three or four gigs, besides dearborns and barouches of the most fashionable style.',\n",
       "   'img_prompt': 'carriage-house., in black and white photo style'},\n",
       "  '2': {'org': 'this establishment was under the care of two slaves--old barney and young barney--father and son. to attend to this establishment was their sole work. but it was by no means an easy employment; for in nothing was colonel lloyd more particular than in the management of his horses. the slightest inattention to these was unpardonable, and was visited upon those, under whose care they were placed, with the severest punishment; no excuse could shield them, if the colonel only suspected any want of attention to his horses--a supposition which he frequently indulged, and one which, of course, made the office of old and young barney a very trying one. they never knew when they were safe from punishment. they were frequently whipped when least deserving, and escaped whipping when most deserving it. every thing depended upon the looks of the horses, and the state of colonel lloyd\\'s own mind when his horses were brought to him for use. if a horse did not move fast enough, or hold his head high enough, it was owing to some fault of his keepers. it was painful to stand near the stable-door, and hear the various complaints against the keepers when a horse was taken out for use. \"this horse has not had proper attention. he has not been sufficiently rubbed and curried, or he has not been properly fed; his food was too wet or too dry; he got it too soon or too late; he was too hot or too cold; he had too much hay, and not enough of grain; or he had too much grain, and not enough of hay; instead of old barney\\'s attending to the horse, he had very improperly left it to his son.\" to all these complaints, no matter how unjust, the slave must answer never a word. colonel lloyd could not brook any contradiction from a slave. when he spoke, a slave must stand, listen, and tremble; and such was literally the case. i have seen colonel lloyd make old barney, a man between fifty and sixty years of age, uncover his bald head, kneel down upon the cold, damp ground, and receive upon his naked and toil-worn shoulders more than thirty lashes at the time. colonel lloyd had three sons--edward, murray, and daniel,--and three sons-in-law, mr. winder, mr. nicholson, and mr. lowndes. all of these lived at the great house farm, and enjoyed the luxury of whipping the servants when they pleased, from old barney down to william wilkes, the coach-driver. i have seen winder make one of the house-servants stand off from him a suitable distance to be touched with the end of his whip, and at every stroke raise great ridges upon his back.',\n",
       "   'img_prompt': 'horses., in black and white photo style'},\n",
       "  '3': {'org': 'to describe the wealth of colonel lloyd would be almost equal to describing the riches of job. he kept from ten to fifteen house-servants. he was said to own a thousand slaves, and i think this estimate quite within the truth. colonel lloyd owned so many that he did not know them when he saw them; nor did all the slaves of the out-farms know him. it is reported of him, that, while riding along the road one day, he met a colored man, and addressed him in the usual manner of speaking to colored people on the public highways of the south: \"well, boy, whom do you belong to?\" \"to colonel lloyd,\" replied the slave. \"well, does the colonel treat you well?\" \"no, sir,\" was the ready reply. \"what, does he work you too hard?\" \"yes, sir.\" \"well, don\\'t he give you enough to eat?\" \"yes, sir, he gives me enough, such as it is.\"',\n",
       "   'img_prompt': 'slaves., in black and white photo style'},\n",
       "  '4': {'org': \"the colonel, after ascertaining where the slave belonged, rode on; the man also went on about his business, not dreaming that he had been conversing with his master. he thought, said, and heard nothing more of the matter, until two or three weeks afterwards. the poor man was then informed by his overseer that, for having found fault with his master, he was now to be sold to a georgia trader. he was immediately chained and handcuffed; and thus, without a moment's warning, he was snatched away, and forever sundered, from his family and friends, by a hand more unrelenting than death. this is the penalty of telling the truth, of telling the simple truth, in answer to a series of plain questions.\",\n",
       "   'img_prompt': 'chains., in black and white photo style'}},\n",
       " '32': {'0': {'org': 'mr. hopkins remained but a short time in the office of overseer. why his career was so short, i do not know, but suppose he lacked the necessary severity to suit colonel lloyd. mr. hopkins was succeeded by mr. austin gore, a man possessing, in an eminent degree, all those traits of character indispensable to what is called a first-rate overseer. mr. gore had served colonel lloyd, in the capacity of overseer, upon one of the out-farms, and had shown himself worthy of the high station of overseer upon the home or great house farm.',\n",
       "   'img_prompt': 'a mild-mannered overseer who lacked necessary severity, in black and white photo style'},\n",
       "  '1': {'org': 'mr. gore was proud, ambitious, and persevering. he was artful, cruel, and obdurate. he was just the man for such a place, and it was just the place for such a man. it afforded scope for the full exercise of all his powers, and he seemed to be perfectly at home in it. he was one of those who could torture the slightest look, word, or gesture, on the part of the slave, into impudence, and would treat it accordingly. there must be no answering back to him; no explanation was allowed a slave, showing himself to have been wrongfully accused. mr. gore acted fully up to the maxim laid down by slaveholders,--\"it is better that a dozen slaves should suffer under the lash, than that the overseer should be convicted, in the presence of the slaves, of having been at fault.\" no matter how innocent a slave might be--it availed him nothing, when accused by mr. gore of any misdemeanor. to be accused was to be convicted, and to be convicted was to be punished; the one always following the other with immutable certainty. to escape punishment was to escape accusation; and few slaves had the fortune to do either, under the overseership of mr. gore. he was just proud enough to demand the most debasing homage of the slave, and quite servile enough to crouch, himself, at the feet of the master. he was ambitious enough to be contented with nothing short of the highest rank of overseers, and persevering enough to reach the height of his ambition. he was cruel enough to inflict the severest punishment, artful enough to descend to the lowest trickery, and obdurate enough to be insensible to the voice of a reproving conscience. he was, of all the overseers, the most dreaded by the slaves. his presence was painful; his eye flashed confusion; and seldom was his sharp, shrill voice heard, without producing horror and trembling in their ranks.',\n",
       "   'img_prompt': 'a ruthless overseer who demanded absolute obedience from slaves, in black and white photo style'},\n",
       "  '2': {'org': 'mr. gore was a grave man, and, though a young man, he indulged in no jokes, said no funny words, seldom smiled. his words were in perfect keeping with his looks, and his looks were in perfect keeping with his words. overseers will sometimes indulge in a witty word, even with the slaves; not so with mr. gore. he spoke but to command, and commanded but to be obeyed; he dealt sparingly with his words, and bountifully with his whip, never using the former where the latter would answer as well. when he whipped, he seemed to do so from a sense of duty, and feared no consequences. he did nothing reluctantly, no matter how disagreeable; always at his post, never inconsistent. he never promised but to fulfil. he was, in a word, a man of the most inflexible firmness and stone-like coolness.',\n",
       "   'img_prompt': 'a stern overseer who rarely smiled and commanded with authority, in black and white photo style'},\n",
       "  '3': {'org': \"his savage barbarity was equalled only by the consummate coolness with which he committed the grossest and most savage deeds upon the slaves under his charge. mr. gore once undertook to whip one of colonel lloyd's slaves, by the name of demby. he had given demby but few stripes, when, to get rid of the scourging, he ran and plunged himself into a creek, and stood there at the depth of his shoulders, refusing to come out. mr. gore told him that he would give him three calls, and that, if he did not come out at the third call, he would shoot him. the first call was given. demby made no response, but stood his ground. the second and third calls were given with the same result. mr. gore then, without consultation or deliberation with any one, not even giving demby an additional call, raised his musket to his face, taking deadly aim at his standing victim, and in an instant poor demby was no more. his mangled body sank out of sight, and blood and brains marked the water where he had stood.\",\n",
       "   'img_prompt': 'a cold-hearted overseer who showed no remorse in committing heinous acts, in black and white photo style'},\n",
       "  '4': {'org': \"a thrill of horror flashed through every soul upon the plantation, excepting mr. gore. he alone seemed cool and collected. he was asked by colonel lloyd and my old master, why he resorted to this extraordinary expedient. his reply was, (as well as i can remember,) that demby had become unmanageable. he was setting a dangerous example to the other slaves,--one which, if suffered to pass without some such demonstration on his part, would finally lead to the total subversion of all rule and order upon the plantation. he argued that if one slave refused to be corrected, and escaped with his life, the other slaves would soon copy the example; the result of which would be, the freedom of the slaves, and the enslavement of the whites. mr. gore's defence was satisfactory. he was continued in his station as overseer upon the home plantation. his fame as an overseer went abroad. his horrid crime was not even submitted to judicial investigation. it was committed in the presence of slaves, and they of course could neither institute a suit, nor testify against him; and thus the guilty perpetrator of one of the bloodiest and most foul murders goes unwhipped of justice, and uncensured by the community in which he lives. mr. gore lived in st. michael's, talbot county, maryland, when i left there; and if he is still alive, he very probably lives there now; and if so, he is now, as he was then, as highly esteemed and as much respected as though his guilty soul had not been stained with his brother's blood.\",\n",
       "   'img_prompt': 'an overseer who escaped justice and continued his respected life, in black and white photo style'}},\n",
       " '33': {'0': {'org': \"as to my own treatment while i lived on colonel lloyd's plantation, it was very similar to that of the other slave children. i was not old enough to work in the field, and there being little else than field work to do, i had a great deal of leisure time. the most i had to do was to drive up the cows at evening, keep the fowls out of the garden, keep the front yard clean, and run of errands for my old master's daughter, mrs. lucretia auld. the most of my leisure time i spent in helping master daniel lloyd in finding his birds, after he had shot them. my connection with master daniel was of some advantage to me. he became quite attached to me, and was a sort of protector of me. he would not allow the older boys to impose upon me, and would divide his cakes with me.\",\n",
       "   'img_prompt': 'bird feathers, in futuristic style'},\n",
       "  '1': {'org': 'i was seldom whipped by my old master, and suffered little from any thing else than hunger and cold. i suffered much from hunger, but much more from cold. in hottest summer and coldest winter, i was kept almost naked--no shoes, no stockings, no jacket, no trousers, nothing on but a coarse tow linen shirt, reaching only to my knees. i had no bed. i must have perished with cold, but that, the coldest nights, i used to steal a bag which was used for carrying corn to the mill. i would crawl into this bag, and there sleep on the cold, damp, clay floor, with my head in and feet out. my feet have been so cracked with the frost, that the pen with which i am writing might be laid in the gashes.',\n",
       "   'img_prompt': 'corn bag, in futuristic style'},\n",
       "  '2': {'org': 'we were not regularly allowanced. our food was coarse corn meal boiled. this was called _mush_. it was put into a large wooden tray or trough, and set down upon the ground. the children were then called, like so many pigs, and like so many pigs they would come and devour the mush; some with oyster-shells, others with pieces of shingle, some with naked hands, and none with spoons. he that ate fastest got most; he that was strongest secured the best place; and few left the trough satisfied.',\n",
       "   'img_prompt': 'wooden tray, in futuristic style'},\n",
       "  '3': {'org': \"i was probably between seven and eight years old when i left colonel lloyd's plantation. i left it with joy. i shall never forget the ecstasy with which i received the intelligence that my old master (anthony) had determined to let me go to baltimore, to live with mr. hugh auld, brother to my old master's son-in-law, captain thomas auld. i received this information about three days before my departure. they were three of the happiest days i ever enjoyed. i spent the most part of all these three days in the creek, washing off the plantation scurf, and preparing myself for my departure.\",\n",
       "   'img_prompt': 'creek water, in futuristic style'},\n",
       "  '4': {'org': 'the pride of appearance which this would indicate was not my own. i spent the time in washing, not so much because i wished to, but because mrs. lucretia had told me i must get all the dead skin off my feet and knees before i could go to baltimore; for the people in baltimore were very cleanly, and would laugh at me if i looked dirty. besides, she was going to give me a pair of trousers, which i should not put on unless i got all the dirt off me. the thought of owning a pair of trousers was great indeed! it was almost a sufficient motive, not only to make me take off what would be called by pig-drovers the mange, but the skin itself. i went at it in good earnest, working for the first time with the hope of reward.',\n",
       "   'img_prompt': 'trousers, in futuristic style'}},\n",
       " '34': {'0': {'org': \"i lived in master hugh's family about seven years. during this time, i succeeded in learning to read and write. in accomplishing this, i was compelled to resort to various stratagems. i had no regular teacher. my mistress, who had kindly commenced to instruct me, had, in compliance with the advice and direction of her husband, not only ceased to instruct, but had set her face against my being instructed by any one else. it is due, however, to my mistress to say of her, that she did not adopt this course of treatment immediately. she at first lacked the depravity indispensable to shutting me up in mental darkness. it was at least necessary for her to have some training in the exercise of irresponsible power, to make her equal to the task of treating me as though i were a brute.\",\n",
       "   'img_prompt': 'a hidden book used for learning to read and write., in watercolor style'},\n",
       "  '1': {'org': \"my mistress was, as i have said, a kind and tender-hearted woman; and in the simplicity of her soul she commenced, when i first went to live with her, to treat me as she supposed one human being ought to treat another. in entering upon the duties of a slaveholder, she did not seem to perceive that i sustained to her the relation of a mere chattel, and that for her to treat me as a human being was not only wrong, but dangerously so. slavery proved as injurious to her as it did to me. when i went there, she was a pious, warm, and tender-hearted woman. there was no sorrow or suffering for which she had not a tear. she had bread for the hungry, clothes for the naked, and comfort for every mourner that came within her reach. slavery soon proved its ability to divest her of these heavenly qualities. under its influence, the tender heart became stone, and the lamblike disposition gave way to one of tiger-like fierceness. the first step in her downward course was in her ceasing to instruct me. she now commenced to practise her husband's precepts. she finally became even more violent in her opposition than her husband himself. she was not satisfied with simply doing as well as he had commanded; she seemed anxious to do better. nothing seemed to make her more angry than to see me with a newspaper. she seemed to think that here lay the danger. i have had her rush at me with a face made all up of fury, and snatch from me a newspaper, in a manner that fully revealed her apprehension. she was an apt woman; and a little experience soon demonstrated, to her satisfaction, that education and slavery were incompatible with each other.\",\n",
       "   'img_prompt': 'a transformation from a kind woman to a fierce one., in watercolor style'},\n",
       "  '2': {'org': 'from this time i was most narrowly watched. if i was in a separate room any considerable length of time, i was sure to be suspected of having a book, and was at once called to give an account of myself. all this, however, was too late. the first step had been taken. mistress, in teaching me the alphabet, had given me the _inch,_ and no precaution could prevent me from taking the _ell._',\n",
       "   'img_prompt': 'the inch and ell symbolizing the progression of learning., in watercolor style'},\n",
       "  '3': {'org': 'the plan which i adopted, and the one by which i was most successful, was that of making friends of all the little white boys whom i met in the street. as many of these as i could, i converted into teachers. with their kindly aid, obtained at different times and in different places, i finally succeeded in learning to read. when i was sent of errands, i always took my book with me, and by going one part of my errand quickly, i found time to get a lesson before my return. i used also to carry bread with me, enough of which was always in the house, and to which i was always welcome; for i was much better off in this regard than many of the poor white children in our neighborhood. this bread i used to bestow upon the hungry little urchins, who, in return, would give me that more valuable bread of knowledge. i am strongly tempted to give the names of two or three of those little boys, as a testimonial of the gratitude and affection i bear them; but prudence forbids;--not that it would injure me, but it might embarrass them; for it is almost an unpardonable offence to teach slaves to read in this christian country. it is enough to say of the dear little fellows, that they lived on philpot street, very near durgin and bailey\\'s ship-yard. i used to talk this matter of slavery over with them. i would sometimes say to them, i wished i could be as free as they would be when they got to be men. \"you will be free as soon as you are twenty-one, _but i am a slave for life!_ have not i as good a right to be free as you have?\" these words used to trouble them; they would express for me the liveliest sympathy, and console me with the hope that something would occur by which i might be free.',\n",
       "   'img_prompt': 'bread as a symbol of knowledge exchanged with white boys., in watercolor style'},\n",
       "  '4': {'org': 'i was now about twelve years old, and the thought of being _a slave for life_ began to bear heavily upon my heart. just about this time, i got hold of a book entitled \"the columbian orator.\" every opportunity i got, i used to read this book. among much of other interesting matter, i found in it a dialogue between a master and his slave. the slave was represented as having run away from his master three times. the dialogue represented the conversation which took place between them, when the slave was retaken the third time. in this dialogue, the whole argument in behalf of slavery was brought forward by the master, all of which was disposed of by the slave. the slave was made to say some very smart as well as impressive things in reply to his master--things which had the desired though unexpected effect; for the conversation resulted in the voluntary emancipation of the slave on the part of the master.',\n",
       "   'img_prompt': '\"the columbian orator\" book that inspired hope for freedom., in watercolor style'}},\n",
       " '35': {'0': {'org': \"in a very short time after i went to live at baltimore, my old master's youngest son richard died; and in about three years and six months after his death, my old master, captain anthony, died, leaving only his son, andrew, and daughter, lucretia, to share his estate. he died while on a visit to see his daughter at hillsborough. cut off thus unexpectedly, he left no will as to the disposal of his property. it was therefore necessary to have a valuation of the property, that it might be equally divided between mrs. lucretia and master andrew. i was immediately sent for, to be valued with the other property. here again my feelings rose up in detestation of slavery. i had now a new conception of my degraded condition. prior to this, i had become, if not insensible to my lot, at least partly so. i left baltimore with a young heart overborne with sadness, and a soul full of apprehension. i took passage with captain rowe, in the schooner wild cat, and, after a sail of about twenty-four hours, i found myself near the place of my birth. i had now been absent from it almost, if not quite, five years. i, however, remembered the place very well. i was only about five years old when i left it, to go and live with my old master on colonel lloyd's plantation; so that i was now between ten and eleven years old.\",\n",
       "   'img_prompt': \"valuation paper or document showing property division after master's death., in 3D rendering style\"},\n",
       "  '1': {'org': 'we were all ranked together at the valuation. men and women, old and young, married and single, were ranked with horses, sheep, and swine. there were horses and men, cattle and women, pigs and children, all holding the same rank in the scale of being, and were all subjected to the same narrow examination. silvery-headed age and sprightly youth, maids and matrons, had to undergo the same indelicate inspection. at this moment, i saw more clearly than ever the brutalizing effects of slavery upon both slave and slaveholder.',\n",
       "   'img_prompt': 'valuation list with names of slaves alongside animals like horses and sheep., in 3D rendering style'},\n",
       "  '2': {'org': \"after the valuation, then came the division. i have no language to express the high excitement and deep anxiety which were felt among us poor slaves during this time. our fate for life was now to be decided. we had no more voice in that decision than the brutes among whom we were ranked. a single word from the white men was enough--against all our wishes, prayers, and entreaties--to sunder forever the dearest friends, dearest kindred, and strongest ties known to human beings. in addition to the pain of separation, there was the horrid dread of falling into the hands of master andrew. he was known to us all as being a most cruel wretch,--a common drunkard, who had, by his reckless mismanagement and profligate dissipation, already wasted a large portion of his father's property. we all felt that we might as well be sold at once to the georgia traders, as to pass into his hands; for we knew that that would be our inevitable condition,--a condition held by us all in the utmost horror and dread.\",\n",
       "   'img_prompt': 'whipping post used to punish slaves who were deemed disobedient., in 3D rendering style'},\n",
       "  '3': {'org': 'i suffered more anxiety than most of my fellow-slaves. i had known what it was to be kindly treated; they had known nothing of the kind. they had seen little or nothing of the world. they were in very deed men and women of sorrow, and acquainted with grief. their backs had been made familiar with the bloody lash, so that they had become callous; mine was yet tender; for while at baltimore i got few whippings, and few slaves could boast of a kinder master and mistress than myself; and the thought of passing out of their hands into those of master andrew--a man who, but a few days before, to give me a sample of his bloody disposition, took my little brother by the throat, threw him on the ground, and with the heel of his boot stamped upon his head till the blood gushed from his nose and ears--was well calculated to make me anxious as to my fate. after he had committed this savage outrage upon my brother, he turned to me, and said that was the way he meant to serve me one of these days,--meaning, i suppose, when i came into his possession.',\n",
       "   'img_prompt': 'cane or whip used to beat slaves, representing the pain and suffering they endured., in 3D rendering style'},\n",
       "  '4': {'org': \"thanks to a kind providence, i fell to the portion of mrs. lucretia, and was sent immediately back to baltimore, to live again in the family of master hugh. their joy at my return equalled their sorrow at my departure. it was a glad day to me. i had escaped a worse than lion's jaws. i was absent from baltimore, for the purpose of valuation and division, just about one month, and it seemed to have been six.\",\n",
       "   'img_prompt': 'ticket or document indicating that the narrator was assigned to mrs. lucretia., in 3D rendering style'}},\n",
       " '36': {'0': {'org': \"i have now reached a period of my life when i can give dates. i left baltimore, and went to live with master thomas auld, at st. michael's, in march, 1832. it was now more than seven years since i lived with him in the family of my old master, on colonel lloyd's plantation. we of course were now almost entire strangers to each other. he was to me a new master, and i to him a new slave. i was ignorant of his temper and disposition; he was equally so of mine. a very short time, however, brought us into full acquaintance with each other. i was made acquainted with his wife not less than with himself. they were well matched, being equally mean and cruel. i was now, for the first time during a space of more than seven years, made to feel the painful gnawings of hunger--a something which i had not experienced before since i left colonel lloyd's plantation. it went hard enough with me then, when i could look back to no period at which i had enjoyed a sufficiency. it was tenfold harder after living in master hugh's family, where i had always had enough to eat, and of that which was good. i have said master thomas was a mean man. he was so. not to give a slave enough to eat, is regarded as the most aggravated development of meanness even among slaveholders. the rule is, no matter how coarse the food, only let there be enough of it. this is the theory; and in the part of maryland from which i came, it is the general practice,--though there are many exceptions. master thomas gave us enough of neither coarse nor fine food. there were four slaves of us in the kitchen--my sister eliza, my aunt priscilla, henny, and myself; and we were allowed less than a half of a bushel of corn-meal per week, and very little else, either in the shape of meat or vegetables. it was not enough for us to subsist upon. we were therefore reduced to the wretched necessity of living at the expense of our neighbors. this we did by begging and stealing, whichever came handy in the time of need, the one being considered as legitimate as the other. a great many times have we poor creatures been nearly perishing with hunger, when food in abundance lay mouldering in the safe and smoke-house, and our pious mistress was aware of the fact; and yet that mistress and her husband would kneel every morning, and pray that god would bless them in basket and store!\",\n",
       "   'img_prompt': 'a half bushel of corn-meal per week., in oil painting style'},\n",
       "  '1': {'org': 'bad as all slaveholders are, we seldom meet one destitute of every element of character commanding respect. my master was one of this rare sort. i do not know of one single noble act ever performed by him. the leading trait in his character was meanness; and if there were any other element in his nature, it was made subject to this. he was mean; and, like most other mean men, he lacked the ability to conceal his meanness. captain auld was not born a slaveholder. he had been a poor man, master only of a bay craft. he came into possession of all his slaves by marriage; and of all men, adopted slaveholders are the worst. he was cruel, but cowardly. he commanded without firmness. in the enforcement of his rules, he was at times rigid, and at times lax. at times, he spoke to his slaves with the firmness of napoleon and the fury of a demon; at other times, he might well be mistaken for an inquirer who had lost his way. he did nothing of himself. he might have passed for a lion, but for his ears. in all things noble which he attempted, his own meanness shone most conspicuous. his airs, words, and actions, were the airs, words, and actions of born slaveholders, and, being assumed, were awkward enough. he was not even a good imitator. he possessed all the disposition to deceive, but wanted the power. having no resources within himself, he was compelled to be the copyist of many, and being such, he was forever the victim of inconsistency; and of consequence he was an object of contempt, and was held as such even by his slaves. the luxury of having slaves of his own to wait upon him was something new and unprepared for. he was a slaveholder without the ability to hold slaves. he found himself incapable of managing his slaves either by force, fear, or fraud. we seldom called him \"master;\" we generally called him \"captain auld,\" and were hardly disposed to title him at all. i doubt not that our conduct had much to do with making him appear awkward, and of consequence fretful. our want of reverence for him must have perplexed him greatly. he wished to have us call him master, but lacked the firmness necessary to command us to do so. his wife used to insist upon our calling him so, but to no purpose. in august, 1832, my master attended a methodist camp-meeting held in the bay-side, talbot county, and there experienced religion. i indulged a faint hope that his conversion would lead him to emancipate his slaves, and that, if he did not do this, it would, at any rate, make him more kind and humane. i was disappointed in both these respects. it neither made him to be humane to his slaves, nor to emancipate them. if it had any effect on his character, it made him more cruel and hateful in all his ways; for i believe him to have been a much worse man after his conversion than before. prior to his conversion, he relied upon his own depravity to shield and sustain him in his savage barbarity; but after his conversion, he found religious sanction and support for his slaveholding cruelty. he made the greatest pretensions to piety. his house was the house of prayer. he prayed morning, noon, and night. he very soon distinguished himself among his brethren, and was soon made a class-leader and exhorter. his activity in revivals was great, and he proved himself an instrument in the hands of the church in converting many souls. his house was the preachers\\' home. they used to take great pleasure in coming there to put up; for while he starved us, he stuffed them. we have had three or four preachers there at a time. the names of those who used to come most frequently while i lived there, were mr. storks, mr. ewery, mr. humphry, and mr. hickey. i have also seen mr. george cookman at our house. we slaves loved mr. cookman. we believed him to be a good man. we thought him instrumental in getting mr. samuel harrison, a very rich slaveholder, to emancipate his slaves; and by some means got the impression that he was laboring to effect the emancipation of all the slaves. when he was at our house, we were sure to be called in to prayers. when the others were there, we were sometimes called in and sometimes not. mr. cookman took more notice of us than either of the other ministers. he could not come among us without betraying his sympathy for us, and, stupid as we were, we had the sagacity to see it.',\n",
       "   'img_prompt': 'a man without the ability to hold slaves., in oil painting style'},\n",
       "  '2': {'org': \"while i lived with my master in st. michael's, there was a white young man, a mr. wilson, who proposed to keep a sabbath school for the instruction of such slaves as might be disposed to learn to read the new testament. we met but three times, when mr. west and mr. fairbanks, both class-leaders, with many others, came upon us with sticks and other missiles, drove us off, and forbade us to meet again. thus ended our little sabbath school in the pious town of st. michael's.\",\n",
       "   'img_prompt': 'sticks and other missiles used to drive us off., in oil painting style'},\n",
       "  '3': {'org': 'i have said my master found religious sanction for his cruelty. as an example, i will state one of many facts going to prove the charge. i have seen him tie up a lame young woman, and whip her with a heavy cowskin upon her naked shoulders, causing the warm red blood to drip; and, in justification of the bloody deed, he would quote this passage of scripture--\"he that knoweth his master\\'s will, and doeth it not, shall be beaten with many stripes.\"',\n",
       "   'img_prompt': 'whipping a young woman and quoting scripture as justification., in oil painting style'},\n",
       "  '4': {'org': 'master would keep this lacerated young woman tied up in this horrid situation four or five hours at a time. i have known him to tie her up early in the morning, and whip her before breakfast; leave her, go to his store, return at dinner, and whip her again, cutting her in the places already made raw with his cruel lash. the secret of master\\'s cruelty toward \"henny\" is found in the fact of her being almost helpless. when quite a child, she fell into the fire, and burned herself horribly. her hands were so burnt that she never got the use of them. she could do very little but bear heavy burdens. she was to master a bill of expense; and as he was a mean man, she was a constant offence to him. he seemed desirous of getting the poor girl out of existence. he gave her away once to his sister; but, being a poor gift, she was not disposed to keep her. finally, my benevolent master, to use his own words, \"set her adrift to take care of herself.\" here was a recently-converted man, holding on upon the mother, and at the same time turning out her helpless child, to starve and die! master thomas was one of the many pious slaveholders who hold slaves for the very charitable purpose of taking care of them.',\n",
       "   'img_prompt': \"burning a young girl's hands and treating her cruelly., in oil painting style\"}},\n",
       " '37': {'0': {'org': \"i had left master thomas's house, and went to live with mr. covey, on the 1st of january, 1833. i was now, for the first time in my life, a field hand. in my new employment, i found myself even more awkward than a country boy appeared to be in a large city. i had been at my new home but one week before mr. covey gave me a very severe whipping, cutting my back, causing the blood to run, and raising ridges on my flesh as large as my little finger. the details of this affair are as follows: mr. covey sent me, very early in the morning of one of our coldest days in the month of january, to the woods, to get a load of wood. he gave me a team of unbroken oxen. he told me which was the in-hand ox, and which the off-hand one. he then tied the end of a large rope around the horns of the in-hand ox, and gave me the other end of it, and told me, if the oxen started to run, that i must hold on upon the rope. i had never driven oxen before, and of course i was very awkward. i, however, succeeded in getting to the edge of the woods with little difficulty; but i had got a very few rods into the woods, when the oxen took fright, and started full tilt, carrying the cart against trees, and over stumps, in the most frightful manner. i expected every moment that my brains would be dashed out against the trees. after running thus for a considerable distance, they finally upset the cart, dashing it with great force against a tree, and threw themselves into a dense thicket. how i escaped death, i do not know. there i was, entirely alone, in a thick wood, in a place new to me. my cart was upset and shattered, my oxen were entangled among the young trees, and there was none to help me. after a long spell of effort, i succeeded in getting my cart righted, my oxen disentangled, and again yoked to the cart. i now proceeded with my team to the place where i had, the day before, been chopping wood, and loaded my cart pretty heavily, thinking in this way to tame my oxen. i then proceeded on my way home. i had now consumed one half of the day. i got out of the woods safely, and now felt out of danger. i stopped my oxen to open the woods gate; and just as i did so, before i could get hold of my ox-rope, the oxen again started, rushed through the gate, catching it between the wheel and the body of the cart, tearing it to pieces, and coming within a few inches of crushing me against the gate-post. thus twice, in one short day, i escaped death by the merest chance. on my return, i told mr. covey what had happened, and how it happened. he ordered me to return to the woods again immediately. i did so, and he followed on after me. just as i got into the woods, he came up and told me to stop my cart, and that he would teach me how to trifle away my time, and break gates. he then went to a large gum-tree, and with his axe cut three large switches, and, after trimming them up neatly with his pocketknife, he ordered me to take off my clothes. i made him no answer, but stood with my clothes on. he repeated his order. i still made him no answer, nor did i move to strip myself. upon this he rushed at me with the fierceness of a tiger, tore off my clothes, and lashed me till he had worn out his switches, cutting me so savagely as to leave the marks visible for a long time after. this whipping was the first of a number just like it, and for similar offences.\",\n",
       "   'img_prompt': 'cart, in pop art style'},\n",
       "  '1': {'org': 'i lived with mr. covey one year. during the first six months, of that year, scarce a week passed without his whipping me. i was seldom free from a sore back. my awkwardness was almost always his excuse for whipping me. we were worked fully up to the point of endurance. long before day we were up, our horses fed, and by the first approach of day we were off to the field with our hoes and ploughing teams. mr. covey gave us enough to eat, but scarce time to eat it. we were often less than five minutes taking our meals. we were often in the field from the first approach of day till its last lingering ray had left us; and at saving-fodder time, midnight often caught us in the field binding blades.',\n",
       "   'img_prompt': 'ploughing teams, in pop art style'},\n",
       "  '2': {'org': 'covey would be out with us. the way he used to stand it, was this. he would spend the most of his afternoons in bed. he would then come out fresh in the evening, ready to urge us on with his words, example, and frequently with the whip. mr. covey was one of the few slaveholders who could and did work with his hands. he was a hard-working man. he knew by himself just what a man or a boy could do. there was no deceiving him. his work went on in his absence almost as well as in his presence; and he had the faculty of making us feel that he was ever present with us. this he did by surprising us. he seldom approached the spot where we were at work openly, if he could do it secretly. he always aimed at taking us by surprise. such was his cunning, that we used to call him, among ourselves, \"the snake.\" when we were at work in the cornfield, he would sometimes crawl on his hands and knees to avoid detection, and all at once he would rise nearly in our midst, and scream out, \"ha, ha! come, come! dash on, dash on!\" this being his mode of attack, it was never safe to stop a single minute. his comings were like a thief in the night. he appeared to us as being ever at hand. he was under every tree, behind every stump, in every bush, and at every window, on the plantation. he would sometimes mount his horse, as if bound to st. michael\\'s, a distance of seven miles, and in half an hour afterwards you would see him coiled up in the corner of the wood-fence, watching every motion of the slaves. he would, for this purpose, leave his horse tied up in the woods. again, he would sometimes walk up to us, and give us orders as though he was upon the point of starting on a long journey, turn his back upon us, and make as though he was going to the house to get ready; and, before he would get half way thither, he would turn short and crawl into a fence-corner, or behind some tree, and there watch us till the going down of the sun.',\n",
       "   'img_prompt': 'fence-corner, in pop art style'},\n",
       "  '3': {'org': \"mr. covey's _forte_ consisted in his power to deceive. his life was devoted to planning and perpetrating the grossest deceptions. every thing he possessed in the shape of learning or religion, he made conform to his disposition to deceive. he seemed to think himself equal to deceiving the almighty. he would make a short prayer in the morning, and a long prayer at night; and, strange as it may seem, few men would at times appear more devotional than he. the exercises of his family devotions were always commenced with singing; and, as he was a very poor singer himself, the duty of raising the hymn generally came upon me. he would read his hymn, and nod at me to commence. i would at times do so; at others, i would not. my non-compliance would almost always produce much confusion. to show himself independent of me, he would start and stagger through with his hymn in the most discordant manner. in this state of mind, he prayed with more than ordinary spirit. poor man! such was his disposition, and success at deceiving, i do verily believe that he sometimes deceived himself into the solemn belief, that he was a sincere worshipper of the most high god; and this, too, at a time when he may be said to have been guilty of compelling his woman slave to commit the sin of adultery. the facts in the case are these: mr. covey was a poor man; he was just commencing in life; he was only able to buy one slave; and, shocking as is the fact, he bought her, as he said, for _a breeder_. this woman was named caroline. mr. covey bought her from mr. thomas lowe, about six miles from st. michael's. she was a large, able-bodied woman, about twenty years old. she had already given birth to one child, which proved her to be just what he wanted. after buying her, he hired a married man of mr. samuel harrison, to live with him one year; and him he used to fasten up with her every night! the result was, that, at the end of the year, the miserable woman gave birth to twins. at this result mr. covey seemed to be highly pleased, both with the man and the wretched woman. such was his joy, and that of his wife, that nothing they could do for caroline during her confinement was too good, or too hard, to be done. the children were regarded as being quite an addition to his wealth.\",\n",
       "   'img_prompt': 'hymn, in pop art style'},\n",
       "  '4': {'org': 'if at any one time of my life more than another, i was made to drink the bitterest dregs of slavery, that time was during the first six months of my stay with mr. covey. we were worked in all weathers. it was never too hot or too cold; it could never rain, blow, hail, or snow, too hard for us to work in the field. work, work, work, was scarcely more the order of the day than of the night. the longest days were too short for him, and the shortest nights too long for him. i was somewhat unmanageable when i first went there, but a few months of this discipline tamed me. mr. covey succeeded in breaking me. i was broken in body, soul, and spirit. my natural elasticity was crushed, my intellect languished, the disposition to read departed, the cheerful spark that lingered about my eye died; the dark night of slavery closed in upon me; and behold a man transformed into a brute!',\n",
       "   'img_prompt': 'field work, in pop art style'}},\n",
       " '38': {'0': {'org': 'i now come to that part of my life during which i planned, and finally succeeded in making, my escape from slavery. but before narrating any of the peculiar circumstances, i deem it proper to make known my intention not to state all the facts connected with the transaction. my reasons for pursuing this course may be understood from the following: first, were i to give a minute statement of all the facts, it is not only possible, but quite probable, that others would thereby be involved in the most embarrassing difficulties. secondly, such a statement would most undoubtedly induce greater vigilance on the part of slaveholders than has existed heretofore among them; which would, of course, be the means of guarding a door whereby some dear brother bondman might escape his galling chains. i deeply regret the necessity that impels me to suppress any thing of importance connected with my experience in slavery. it would afford me great pleasure indeed, as well as materially add to the interest of my narrative, were i at liberty to gratify a curiosity, which i know exists in the minds of many, by an accurate statement of all the facts pertaining to my most fortunate escape. but i must deprive myself of this pleasure, and the curious of the gratification which such a statement would afford. i would allow myself to suffer under the greatest imputations which evil-minded men might suggest, rather than exculpate myself, and thereby run the hazard of closing the slightest avenue by which a brother slave might clear himself of the chains and fetters of slavery.',\n",
       "   'img_prompt': 'escape plan from slavery - undisclosed object, in futuristic style'},\n",
       "  '1': {'org': 'i have never approved of the very public manner in which some of our western friends have conducted what they call the _underground railroad,_ but which i think, by their open declarations, has been made most emphatically the _upper-ground railroad._ i honor those good men and women for their noble daring, and applaud them for willingly subjecting themselves to bloody persecution, by openly avowing their participation in the escape of slaves. i, however, can see very little good resulting from such a course, either to themselves or the slaves escaping; while, upon the other hand, i see and feel assured that those open declarations are a positive evil to the slaves remaining, who are seeking to escape. they do nothing towards enlightening the slave, whilst they do much towards enlightening the master. they stimulate him to greater watchfulness, and enhance his power to capture his slave. we owe something to the slave south of the line as well as to those north of it; and in aiding the latter on their way to freedom, we should be careful to do nothing which would be likely to hinder the former from escaping from slavery. i would keep the merciless slaveholder profoundly ignorant of the means of flight adopted by the slave. i would leave him to imagine himself surrounded by myriads of invisible tormentors, ever ready to snatch from his infernal grasp his trembling prey. let him be left to feel his way in the dark; let darkness commensurate with his crime hover over him; and let him feel that at every step he takes, in pursuit of the flying bondman, he is running the frightful risk of having his hot brains dashed out by an invisible agency. let us render the tyrant no aid; let us not hold the light by which he can trace the footprints of our flying brother. but enough of this. i will now proceed to the statement of those facts, connected with my escape, for which i am alone responsible, and for which no one can be made to suffer but myself.',\n",
       "   'img_prompt': 'underground railroad - undisclosed object, in futuristic style'},\n",
       "  '2': {'org': 'in the early part of the year 1838, i became quite restless. i could see no reason why i should, at the end of each week, pour the reward of my toil into the purse of my master. when i carried to him my weekly wages, he would, after counting the money, look me in the face with a robber-like fierceness, and ask, \"is this all?\" he was satisfied with nothing less than the last cent. he would, however, when i made him six dollars, sometimes give me six cents, to encourage me. it had the opposite effect. i regarded it as a sort of admission of my right to the whole. the fact that he gave me any part of my wages was proof, to my mind, that he believed me entitled to the whole of them. i always felt worse for having received any thing; for i feared that the giving me a few cents would ease his conscience, and make him feel himself to be a pretty honorable sort of robber. my discontent grew upon me. i was ever on the look-out for means of escape; and, finding no direct means, i determined to try to hire my time, with a view of getting money with which to make my escape. in the spring of 1838, when master thomas came to baltimore to purchase his spring goods, i got an opportunity, and applied to him to allow me to hire my time. he unhesitatingly refused my request, and told me this was another stratagem by which to escape. he told me i could go nowhere but that he could get me; and that, in the event of my running away, he should spare no pains in his efforts to catch me. he exhorted me to content myself, and be obedient. he told me, if i would be happy, i must lay out no plans for the future. he said, if i behaved myself properly, he would take care of me. indeed, he advised me to complete thoughtlessness of the future, and taught me to depend solely upon him for happiness. he seemed to see fully the pressing necessity of setting aside my intellectual nature, in order to contentment in slavery. but in spite of him, and even in spite of myself, i continued to think, and to think about the injustice of my enslavement, and the means of escape.',\n",
       "   'img_prompt': 'means of escape - undisclosed object, in futuristic style'},\n",
       "  '3': {'org': \"about two months after this, i applied to master hugh for the privilege of hiring my time. he was not acquainted with the fact that i had applied to master thomas, and had been refused. he too, at first, seemed disposed to refuse; but, after some reflection, he granted me the privilege, and proposed the following terms: i was to be allowed all my time, make all contracts with those for whom i worked, and find my own employment; and, in return for this liberty, i was to pay him three dollars at the end of each week; find myself in calking tools, and in board and clothing. my board was two dollars and a half per week. this, with the wear and tear of clothing and calking tools, made my regular expenses about six dollars per week. this amount i was compelled to make up, or relinquish the privilege of hiring my time. rain or shine, work or no work, at the end of each week the money must be forthcoming, or i must give up my privilege. this arrangement, it will be perceived, was decidedly in my master's favor. it relieved him of all need of looking after me. his money was sure. he received all the benefits of slaveholding without its evils; while i endured all the evils of a slave, and suffered all the care and anxiety of a freeman. i found it a hard bargain. but, hard as it was, i thought it better than the old mode of getting along. it was a step towards freedom to be allowed to bear the responsibilities of a freeman, and i was determined to hold on upon it. i bent myself to the work of making money. i was ready to work at night as well as day, and by the most untiring perseverance and industry, i made enough to meet my expenses, and lay up a little money every week. i went on thus from may till august. master hugh then refused to allow me to hire my time longer. the ground for his refusal was a failure on my part, one saturday night, to pay him for my week's time. this failure was occasioned by my attending a camp meeting about ten miles from baltimore. during the week, i had entered into an engagement with a number of young friends to start from baltimore to the camp ground early saturday evening; and being detained by my employer, i was unable to get down to master hugh's without disappointing the company. i knew that master hugh was in no special need of the money that night. i therefore decided to go to camp meeting, and upon my return pay him the three dollars. i staid at the camp meeting one day longer than i intended when i left. but as soon as i returned, i called upon him to pay him what he considered his due. i found him very angry; he could scarce restrain his wrath. he said he had a great mind to give me a severe whipping. he wished to know how i dared go out of the city without asking his permission. i told him i hired my time and while i paid him the price which he asked for it, i did not know that i was bound to ask him when and where i should go. this reply troubled him; and, after reflecting a few moments, he turned to me, and said i should hire my time no longer; that the next thing he should know of, i would be running away. upon the same plea, he told me to bring my tools and clothing home forthwith. i did so; but instead of seeking work, as i had been accustomed to do previously to hiring my time, i spent the whole week without the performance of a single stroke of work. i did this in retaliation. saturday night, he called upon me as usual for my week's wages. i told him i had no wages; i had done no work that week. here we were upon the point of coming to blows. he raved, and swore his determination to get hold of me. i did not allow myself a single word; but was resolved, if he laid the weight of his hand upon me, it should be blow for blow. he did not strike me, but told me that he would find me in constant employment in future. i thought the matter over during the next day, sunday, and finally resolved upon the third day of september, as the day upon which i would make a second attempt to secure my freedom. i now had three weeks during which to prepare for my journey. early on monday morning, before master hugh had time to make any engagement for me, i went out and got employment of mr. butler, at his ship-yard near the drawbridge, upon what is called the city block, thus making it unnecessary for him to seek employment for me. at the end of the week, i brought him between eight and nine dollars. he seemed very well pleased, and asked why i did not do the same the week before. he little knew what my plans were. my object in working steadily was to remove any suspicion he might entertain of my intent to run away; and in this i succeeded admirably. i suppose he thought i was never better satisfied with my condition than at the very time during which i was planning my escape. the second week passed, and again i carried him my full wages; and so well pleased was he, that he gave me twenty-five cents, (quite a large sum for a slaveholder to give a slave,) and bade me to make a good use of it. i told him i would.\",\n",
       "   'img_prompt': 'agreement with master for hiring time - undisclosed object, in futuristic style'},\n",
       "  '4': {'org': 'things went on without very smoothly indeed, but within there was trouble. it is impossible for me to describe my feelings as the time of my contemplated start drew near. i had a number of warmhearted friends in baltimore,--friends that i loved almost as i did my life,--and the thought of being separated from them forever was painful beyond expression. it is my opinion that thousands would escape from slavery, who now remain, but for the strong cords of affection that bind them to their friends. the thought of leaving my friends was decidedly the most painful thought with which i had to contend. the love of them was my tender point, and shook my decision more than all things else. besides the pain of separation, the dread and apprehension of a failure exceeded what i had experienced at my first attempt. the appalling defeat i then sustained returned to torment me. i felt assured that, if i failed in this attempt, my case would be a hopeless one--it would seal my fate as a slave forever. i could not hope to get off with any thing less than the severest punishment, and being placed beyond the means of escape. it required no very vivid imagination to depict the most frightful scenes through which i should have to pass, in case i failed. the wretchedness of slavery, and the blessedness of freedom, were perpetually before me. it was life and death with me. but i remained firm, and, according to my resolution, on the third day of september, 1838, i left my chains, and succeeded in reaching new york without the slightest interruption of any kind. how i did so,--what means i adopted,--what direction i travelled, and by what mode of conveyance,--i must leave unexplained, for the reasons before mentioned.',\n",
       "   'img_prompt': 'painful separation from friends - undisclosed object, in futuristic style'}},\n",
       " '39': {'0': {'org': 'one january day, thirty years ago, the little town of hanover, anchored on a windy nebraska tableland, was trying not to be blown away. a mist of fine snowflakes was curling and eddying about the cluster of low drab buildings huddled on the gray prairie, under a gray sky. the dwelling-houses were set about haphazard on the tough prairie sod; some of them looked as if they had been moved in overnight, and others as if they were straying off by themselves, headed straight for the open plain. none of them had any appearance of permanence, and the howling wind blew under them as well as over them. the main street was a deeply rutted road, now frozen hard, which ran from the squat red railway station and the grain \"elevator\" at the north end of the town to the lumber yard and the horse pond at the south end. on either side of this road straggled two uneven rows of wooden buildings; the general merchandise stores, the two banks, the drug store, the feed store, the saloon, the post-office. the board sidewalks were gray with trampled snow, but at two o\\'clock in the afternoon the shopkeepers, having come back from dinner, were keeping well behind their frosty windows. the children were all in school, and there was nobody abroad in the streets but a few rough-looking countrymen in coarse overcoats, with their long caps pulled down to their noses. some of them had brought their wives to town, and now and then a red or a plaid shawl flashed out of one store into the shelter of another. at the hitch-bars along the street a few heavy work-horses, harnessed to farm wagons, shivered under their blankets. about the station everything was quiet, for there would not be another train in until night.',\n",
       "   'img_prompt': 'object description 195: cluster of low drab buildings huddled on the gray prairie., in pop art style'},\n",
       "  '1': {'org': 'on the sidewalk in front of one of the stores sat a little swede boy, crying bitterly. he was about five years old. his black cloth coat was much too big for him and made him look like a little old man. his shrunken brown flannel dress had been washed many times and left a long stretch of stocking between the hem of his skirt and the tops of his clumsy, copper-toed shoes. his cap was pulled down over his ears; his nose and his chubby cheeks were chapped and red with cold. he cried quietly, and the few people who hurried by did not notice him. he was afraid to stop any one, afraid to go into the store and ask for help, so he sat wringing his long sleeves and looking up a telegraph pole beside him, whimpering, \"my kitten, oh, my kitten! her will fweeze!\" at the top of the pole crouched a shivering gray kitten, mewing faintly and clinging desperately to the wood with her claws. the boy had been left at the store while his sister went to the doctor\\'s office, and in her absence a dog had chased his kitten up the pole. the little creature had never been so high before, and she was too frightened to move. her master was sunk in despair. he was a little country boy, and this village was to him a very strange and perplexing place, where people wore fine clothes and had hard hearts. he always felt shy and awkward here, and wanted to hide behind things for fear some one might laugh at him. just now, he was too unhappy to care who laughed. at last he seemed to see a ray of hope: his sister was coming, and he got up and ran toward her in his heavy shoes.',\n",
       "   'img_prompt': 'object description 196: shivering gray kitten clinging desperately to a telegraph pole., in pop art style'},\n",
       "  '2': {'org': \"his sister was a tall, strong girl, and she walked rapidly and resolutely, as if she knew exactly where she was going and what she was going to do next. she wore a man's long ulster (not as if it were an affliction, but as if it were very comfortable and belonged to her; carried it like a young soldier), and a round plush cap, tied down with a thick veil. she had a serious, thoughtful face, and her clear, deep blue eyes were fixed intently on the distance, without seeming to see anything, as if she were in trouble. she did not notice the little boy until he pulled her by the coat. then she stopped short and stooped down to wipe his wet face.\",\n",
       "   'img_prompt': \"object description 197: tall, strong girl wearing a man's long ulster and a round plush cap tied down with a thick veil., in pop art style\"},\n",
       "  '3': {'org': '\"why, emil! i told you to stay in the store and not to come out. what is the matter with you?\"',\n",
       "   'img_prompt': 'object description 198: wet face of the little swede boy named emil., in pop art style'},\n",
       "  '4': {'org': '\"my kitten, sister, my kitten! a man put her out, and a dog chased her up there.\" his forefinger, projecting from the sleeve of his coat, pointed up to the wretched little creature on the pole.',\n",
       "   'img_prompt': \"object description 199: forefinger projecting from the sleeve of emil's coat pointing up to the kitten on the pole., in pop art style\"}},\n",
       " '40': {'0': {'org': 'on one of the ridges of that wintry waste stood the low log house in which john bergson was dying. the bergson homestead was easier to find than many another, because it overlooked norway creek, a shallow, muddy stream that sometimes flowed, and sometimes stood still, at the bottom of a winding ravine with steep, shelving sides overgrown with brush and cottonwoods and dwarf ash. this creek gave a sort of identity to the farms that bordered upon it. of all the bewildering things about a new country, the absence of human landmarks is one of the most depressing and disheartening. the houses on the divide were small and were usually tucked away in low places; you did not see them until you came directly upon them. most of them were built of the sod itself, and were only the unescapable ground in another form. the roads were but faint tracks in the grass, and the fields were scarcely noticeable. the record of the plow was insignificant, like the feeble scratches on stone left by prehistoric races, so indeterminate that they may, after all, be only the markings of glaciers, and not a record of human strivings.',\n",
       "   'img_prompt': 'low log house in wintry waste overlooking norway creek., in pop art style'},\n",
       "  '1': {'org': \"in eleven long years john bergson had made but little impression upon the wild land he had come to tame. it was still a wild thing that had its ugly moods; and no one knew when they were likely to come, or why. mischance hung over it. its genius was unfriendly to man. the sick man was feeling this as he lay looking out of the window, after the doctor had left him, on the day following alexandra's trip to town. there it lay outside his door, the same land, the same lead-colored miles. he knew every ridge and draw and gully between him and the horizon. to the south, his plowed fields; to the east, the sod stables, the cattle corral, the pond,--and then the grass.\",\n",
       "   'img_prompt': 'the same lead-colored miles stretching outside his door., in pop art style'},\n",
       "  '2': {'org': 'bergson went over in his mind the things that had held him back. one winter his cattle had perished in a blizzard. the next summer one of his plow horses broke its leg in a prairiedog hole and had to be shot. another summer he lost his hogs from cholera, and a valuable stallion died from a rattlesnake bite. time and again his crops had failed. he had lost two children, boys, that came between lou and emil, and there had been the cost of sickness and death. now, when he had at last struggled out of debt, he was going to die himself. he was only forty-six, and had, of course, counted upon more time.',\n",
       "   'img_prompt': 'misfortunes of losing cattle, horses, hogs, and crops., in pop art style'},\n",
       "  '3': {'org': 'bergson had spent his first five years on the divide getting into debt, and the last six getting out. he had paid off his mortgages and had ended pretty much where he began, with the land. he owned exactly six hundred and forty acres of what stretched outside his door; his own original homestead and timber claim, making three hundred and twenty acres, and the half-section adjoining, the homestead of a younger brother who had given up the fight, gone back to chicago to work in a fancy bakery and distinguish himself in a swedish athletic club. so far john had not attempted to cultivate the second half-section, but used it for pasture land, and one of his sons rode herd there in open weather.',\n",
       "   'img_prompt': 'six hundred and forty acres of his own homestead., in pop art style'},\n",
       "  '4': {'org': 'john bergson had the old-world belief that land, in itself, is desirable. but this land was an enigma. it was like a horse that no one knows how to break to harness, that runs wild and kicks things to pieces. he had an idea that no one understood how to farm it properly, and this he often discussed with alexandra. their neighbors, certainly, knew even less about farming than he did. many of them had never worked on a farm until they took up their homesteads. they had been handwerkers at home; tailors, locksmiths, joiners, cigar-makers, etc. bergson himself had worked in a shipyard.',\n",
       "   'img_prompt': 'land that no one knows how to properly farm., in pop art style'}},\n",
       " '41': {'0': {'org': \"one sunday afternoon in july, six months after john bergson's death, carl was sitting in the doorway of the linstrum kitchen, dreaming over an illustrated paper, when he heard the rattle of a wagon along the hill road. looking up he recognized the bergsons' team, with two seats in the wagon, which meant they were off for a pleasure excursion. oscar and lou, on the front seat, wore their cloth hats and coats, never worn except on sundays, and emil, on the second seat with alexandra, sat proudly in his new trousers, made from a pair of his father's, and a pink-striped shirt, with a wide ruffled collar. oscar stopped the horses and waved to carl, who caught up his hat and ran through the melon patch to join them.\",\n",
       "   'img_prompt': 'illustrated paper, in 3D rendering style'},\n",
       "  '1': {'org': '\"want to go with us?\" lou called. \"we\\'re going to crazy ivar\\'s to buy a hammock.\"',\n",
       "   'img_prompt': 'hammock, in 3D rendering style'},\n",
       "  '2': {'org': '\"sure.\" carl ran up panting, and clambering over the wheel sat down beside emil. \"i\\'ve always wanted to see ivar\\'s pond. they say it\\'s the biggest in all the country. aren\\'t you afraid to go to ivar\\'s in that new shirt, emil? he might want it and take it right off your back.\"',\n",
       "   'img_prompt': 'new shirt, in 3D rendering style'},\n",
       "  '3': {'org': 'emil grinned. \"i\\'d be awful scared to go,\" he admitted, \"if you big boys weren\\'t along to take care of me. did you ever hear him howl, carl? people say sometimes he runs about the country howling at night because he is afraid the lord will destroy him. mother thinks he must have done something awful wicked.\"',\n",
       "   'img_prompt': 'ivar, in 3D rendering style'},\n",
       "  '4': {'org': 'lou looked back and winked at carl. \"what would you do, emil, if you was out on the prairie by yourself and seen him coming?\"',\n",
       "   'img_prompt': 'prairie, in 3D rendering style'}},\n",
       " '42': {'0': {'org': \"for the first three years after john bergson's death, the affairs of his family prospered. then came the hard times that brought every one on the divide to the brink of despair; three years of drouth and failure, the last struggle of a wild soil against the encroaching plowshare. the first of these fruitless summers the bergson boys bore courageously. the failure of the corn crop made labor cheap. lou and oscar hired two men and put in bigger crops than ever before. they lost everything they spent. the whole country was discouraged. farmers who were already in debt had to give up their land. a few foreclosures demoralized the county. the settlers sat about on the wooden sidewalks in the little town and told each other that the country was never meant for men to live in; the thing to do was to get back to iowa, to illinois, to any place that had been proved habitable. the bergson boys, certainly, would have been happier with their uncle otto, in the bakery shop in chicago. like most of their neighbors, they were meant to follow in paths already marked out for them, not to break trails in a new country. a steady job, a few holidays, nothing to think about, and they would have been very happy. it was no fault of theirs that they had been dragged into the wilderness when they were little boys. a pioneer should have imagination, should be able to enjoy the idea of things more than the things themselves.\",\n",
       "   'img_prompt': 'encroaching plowshare, in pop art style'},\n",
       "  '1': {'org': \"the second of these barren summers was passing. one september afternoon alexandra had gone over to the garden across the draw to dig sweet potatoes--they had been thriving upon the weather that was fatal to everything else. but when carl linstrum came up the garden rows to find her, she was not working. she was standing lost in thought, leaning upon her pitchfork, her sunbonnet lying beside her on the ground. the dry garden patch smelled of drying vines and was strewn with yellow seed-cucumbers and pumpkins and citrons. at one end, next the rhubarb, grew feathery asparagus, with red berries. down the middle of the garden was a row of gooseberry and currant bushes. a few tough zenias and marigolds and a row of scarlet sage bore witness to the buckets of water that mrs. bergson had carried there after sundown, against the prohibition of her sons. carl came quietly and slowly up the garden path, looking intently at alexandra. she did not hear him. she was standing perfectly still, with that serious ease so characteristic of her. her thick, reddish braids, twisted about her head, fairly burned in the sunlight. the air was cool enough to make the warm sun pleasant on one's back and shoulders, and so clear that the eye could follow a hawk up and up, into the blazing blue depths of the sky. even carl, never a very cheerful boy, and considerably darkened by these last two bitter years, loved the country on days like this, felt something strong and young and wild come out of it, that laughed at care.\",\n",
       "   'img_prompt': 'yellow seed-cucumbers and pumpkins and citrons, in pop art style'},\n",
       "  '2': {'org': '\"alexandra,\" he said as he approached her, \"i want to talk to you. let\\'s sit down by the gooseberry bushes.\" he picked up her sack of potatoes and they crossed the garden. \"boys gone to town?\" he asked as he sank down on the warm, sun-baked earth. \"well, we have made up our minds at last, alexandra. we are really going away.\"',\n",
       "   'img_prompt': 'gooseberry bushes, in pop art style'},\n",
       "  '3': {'org': 'she looked at him as if she were a little frightened. \"really, carl? is it settled?\"',\n",
       "   'img_prompt': 'little frightened, in pop art style'},\n",
       "  '4': {'org': '\"yes, father has heard from st. louis, and they will give him back his old job in the cigar factory. he must be there by the first of november. they are taking on new men then. we will sell the place for whatever we can get, and auction the stock. we haven\\'t enough to ship. i am going to learn engraving with a german engraver there, and then try to get work in chicago.\"',\n",
       "   'img_prompt': 'german engraver, in pop art style'}},\n",
       " '43': {'0': {'org': \"alexandra and emil spent five days down among the river farms, driving up and down the valley. alexandra talked to the men about their crops and to the women about their poultry. she spent a whole day with one young farmer who had been away at school, and who was experimenting with a new kind of clover hay. she learned a great deal. as they drove along, she and emil talked and planned. at last, on the sixth day, alexandra turned brigham's head northward and left the river behind.\",\n",
       "   'img_prompt': 'new kind of clover hay, in black and white photo style'},\n",
       "  '1': {'org': '\"there\\'s nothing in it for us down there, emil. there are a few fine farms, but they are owned by the rich men in town, and couldn\\'t be bought. most of the land is rough and hilly. they can always scrape along down there, but they can never do anything big. down there they have a little certainty, but up with us there is a big chance. we must have faith in the high land, emil. i want to hold on harder than ever, and when you\\'re a man you\\'ll thank me.\" she urged brigham forward.',\n",
       "   'img_prompt': 'high land, in black and white photo style'},\n",
       "  '2': {'org': 'when the road began to climb the first long swells of the divide, alexandra hummed an old swedish hymn, and emil wondered why his sister looked so happy. her face was so radiant that he felt shy about asking her. for the first time, perhaps, since that land emerged from the waters of geologic ages, a human face was set toward it with love and yearning. it seemed beautiful to her, rich and strong and glorious. her eyes drank in the breadth of it, until her tears blinded her. then the genius of the divide, the great, free spirit which breathes across it, must have bent lower than it ever bent to a human will before. the history of every country begins in the heart of a man or a woman.',\n",
       "   'img_prompt': 'the divide, in black and white photo style'},\n",
       "  '3': {'org': 'alexandra reached home in the afternoon. that evening she held a family council and told her brothers all that she had seen and heard.',\n",
       "   'img_prompt': 'family council, in black and white photo style'},\n",
       "  '4': {'org': '\"i want you boys to go down yourselves and look it over. nothing will convince you like seeing with your own eyes. the river land was settled before this, and so they are a few years ahead of us, and have learned more about farming. the land sells for three times as much as this, but in five years we will double it. the rich men down there own all the best land, and they are buying all they can get. the thing to do is to sell our cattle and what little old corn we have, and buy the linstrum place. then the next thing to do is to take out two loans on our half-sections, and buy peter crow\\'s place; raise every dollar we can, and buy every acre we can.\"',\n",
       "   'img_prompt': \"linstrum place and peter crow's place, in black and white photo style\"}},\n",
       " '44': {'0': {'org': \"it is sixteen years since john bergson died. his wife now lies beside him, and the white shaft that marks their graves gleams across the wheat-fields. could he rise from beneath it, he would not know the country under which he has been asleep. the shaggy coat of the prairie, which they lifted to make him a bed, has vanished forever. from the norwegian graveyard one looks out over a vast checker-board, marked off in squares of wheat and corn; light and dark, dark and light. telephone wires hum along the white roads, which always run at right angles. from the graveyard gate one can count a dozen gayly painted farmhouses; the gilded weather-vanes on the big red barns wink at each other across the green and brown and yellow fields. the light steel windmills tremble throughout their frames and tug at their moorings, as they vibrate in the wind that often blows from one week's end to another across that high, active, resolute stretch of country.\",\n",
       "   'img_prompt': 'white shaft marking graves gleaming across the wheat-fields., in oil painting style'},\n",
       "  '1': {'org': 'the divide is now thickly populated. the rich soil yields heavy harvests; the dry, bracing climate and the smoothness of the land make labor easy for men and beasts. there are few scenes more gratifying than a spring plowing in that country, where the furrows of a single field often lie a mile in length, and the brown earth, with such a strong, clean smell, and such a power of growth and fertility in it, yields itself eagerly to the plow; rolls away from the shear, not even dimming the brightness of the metal, with a soft, deep sigh of happiness. the wheat-cutting sometimes goes on all night as well as all day, and in good seasons there are scarcely men and horses enough to do the harvesting. the grain is so heavy that it bends toward the blade and cuts like velvet.',\n",
       "   'img_prompt': 'brown earth yielding eagerly to the plow, cutting like velvet., in oil painting style'},\n",
       "  '2': {'org': 'there is something frank and joyous and young in the open face of the country. it gives itself ungrudgingly to the moods of the season, holding nothing back. like the plains of lombardy, it seems to rise a little to meet the sun. the air and the earth are curiously mated and intermingled, as if the one were the breath of the other. you feel in the atmosphere the same tonic, puissant quality that is in the tilth, the same strength and resoluteness.',\n",
       "   'img_prompt': 'open face of the country, rising to meet the sun., in oil painting style'},\n",
       "  '3': {'org': \"one june morning a young man stood at the gate of the norwegian graveyard, sharpening his scythe in strokes unconsciously timed to the tune he was whistling. he wore a flannel cap and duck trousers, and the sleeves of his white flannel shirt were rolled back to the elbow. when he was satisfied with the edge of his blade, he slipped the whetstone into his hip pocket and began to swing his scythe, still whistling, but softly, out of respect to the quiet folk about him. unconscious respect, probably, for he seemed intent upon his own thoughts, and, like the gladiator's, they were far away. he was a splendid figure of a boy, tall and straight as a young pine tree, with a handsome head, and stormy gray eyes, deeply set under a serious brow. the space between his two front teeth, which were unusually far apart, gave him the proficiency in whistling for which he was distinguished at college. (he also played the cornet in the university band.)\",\n",
       "   'img_prompt': 'young man sharpening his scythe at the graveyard gate., in oil painting style'},\n",
       "  '4': {'org': 'when the grass required his close attention, or when he had to stoop to cut about a head-stone, he paused in his lively air,--the \"jewel\" song,--taking it up where he had left it when his scythe swung free again. he was not thinking about the tired pioneers over whom his blade glittered. the old wild country, the struggle in which his sister was destined to succeed while so many men broke their hearts and died, he can scarcely remember. that is all among the dim things of childhood and has been forgotten in the brighter pattern life weaves to-day, in the bright facts of being captain of the track team, and holding the interstate record for the high jump, in the all-suffusing brightness of being twenty-one. yet sometimes, in the pauses of his work, the young man frowned and looked at the ground with an intentness which suggested that even twenty-one might have its problems.',\n",
       "   'img_prompt': 'young man pausing in his lively air to cut around headstones., in oil painting style'}},\n",
       " '45': {'0': {'org': \"emil reached home a little past noon, and when he went into the kitchen alexandra was already seated at the head of the long table, having dinner with her men, as she always did unless there were visitors. he slipped into his empty place at his sister's right. the three pretty young swedish girls who did alexandra's housework were cutting pies, refilling coffeecups, placing platters of bread and meat and potatoes upon the red tablecloth, and continually getting in each other's way between the table and the stove. to be sure they always wasted a good deal of time getting in each other's way and giggling at each other's mistakes. but, as alexandra had pointedly told her sisters-in-law, it was to hear them giggle that she kept three young things in her kitchen; the work she could do herself, if it were necessary. these girls, with their long letters from home, their finery, and their love-affairs, afforded her a great deal of entertainment, and they were company for her when emil was away at school.\",\n",
       "   'img_prompt': 'red tablecloth with pies, bread, meat, and potatoes, in black and white photo style'},\n",
       "  '1': {'org': 'of the youngest girl, signa, who has a pretty figure, mottled pink cheeks, and yellow hair, alexandra is very fond, though she keeps a sharp eye upon her. signa is apt to be skittish at mealtime, when the men are about, and to spill the coffee or upset the cream. it is supposed that nelse jensen, one of the six men at the dinner-table, is courting signa, though he has been so careful not to commit himself that no one in the house, least of all signa, can tell just how far the matter has progressed. nelse watches her glumly as she waits upon the table, and in the evening he sits on a bench behind the stove with his dragharmonika, playing mournful airs and watching her as she goes about her work. when alexandra asked signa whether she thought nelse was in earnest, the poor child hid her hands under her apron and murmured, \"i don\\'t know, ma\\'m. but he scolds me about everything, like as if he wanted to have me!\"',\n",
       "   'img_prompt': \"signa's spilled coffee and cream, in black and white photo style\"},\n",
       "  '2': {'org': \"at alexandra's left sat a very old man, barefoot and wearing a long blue blouse, open at the neck. his shaggy head is scarcely whiter than it was sixteen years ago, but his little blue eyes have become pale and watery, and his ruddy face is withered, like an apple that has clung all winter to the tree. when ivar lost his land through mismanagement a dozen years ago, alexandra took him in, and he has been a member of her household ever since. he is too old to work in the fields, but he hitches and unhitches the work-teams and looks after the health of the stock. sometimes of a winter evening alexandra calls him into the sitting-room to read the bible aloud to her, for he still reads very well. he dislikes human habitations, so alexandra has fitted him up a room in the barn, where he is very comfortable, being near the horses and, as he says, further from temptations. no one has ever found out what his temptations are. in cold weather he sits by the kitchen fire and makes hammocks or mends harness until it is time to go to bed. then he says his prayers at great length behind the stove, puts on his buffalo-skin coat and goes out to his room in the barn.\",\n",
       "   'img_prompt': \"ivar's blue blouse and withered face, in black and white photo style\"},\n",
       "  '3': {'org': 'alexandra herself has changed very little. her figure is fuller, and she has more color. she seems sunnier and more vigorous than she did as a young girl. but she still has the same calmness and deliberation of manner, the same clear eyes, and she still wears her hair in two braids wound round her head. it is so curly that fiery ends escape from the braids and make her head look like one of the big double sunflowers that fringe her vegetable garden. her face is always tanned in summer, for her sunbonnet is oftener on her arm than on her head. but where her collar falls away from her neck, or where her sleeves are pushed back from her wrist, the skin is of such smoothness and whiteness as none but swedish women ever possess; skin with the freshness of the snow itself.',\n",
       "   'img_prompt': \"alexandra's curly braids and sunburnt face, in black and white photo style\"},\n",
       "  '4': {'org': 'alexandra did not talk much at the table, but she encouraged her men to talk, and she always listened attentively, even when they seemed to be talking foolishly.',\n",
       "   'img_prompt': \"alexandra's attentive listening at the table, in black and white photo style\"}},\n",
       " '46': {'0': {'org': \"alexandra was to hear more of ivar's case, however. on sunday her married brothers came to dinner. she had asked them for that day because emil, who hated family parties, would be absent, dancing at amedee chevalier's wedding, up in the french country. the table was set for company in the dining-room, where highly varnished wood and colored glass and useless pieces of china were conspicuous enough to satisfy the standards of the new prosperity. alexandra had put herself into the hands of the hanover furniture dealer, and he had conscientiously done his best to make her dining-room look like his display window. she said frankly that she knew nothing about such things, and she was willing to be governed by the general conviction that the more useless and utterly unusable objects were, the greater their virtue as ornament. that seemed reasonable enough. since she liked plain things herself, it was all the more necessary to have jars and punchbowls and candlesticks in the company rooms for people who did appreciate them. her guests liked to see about them these reassuring emblems of prosperity.\",\n",
       "   'img_prompt': 'useless pieces of china and highly varnished wood., in black and white photo style'},\n",
       "  '1': {'org': 'the family party was complete except for emil, and oscar\\'s wife who, in the country phrase, \"was not going anywhere just now.\" oscar sat at the foot of the table and his four tow-headed little boys, aged from twelve to five, were ranged at one side. neither oscar nor lou has changed much; they have simply, as alexandra said of them long ago, grown to be more and more like themselves. lou now looks the older of the two; his face is thin and shrewd and wrinkled about the eyes, while oscar\\'s is thick and dull. for all his dullness, however, oscar makes more money than his brother, which adds to lou\\'s sharpness and uneasiness and tempts him to make a show. the trouble with lou is that he is tricky, and his neighbors have found out that, as ivar says, he has not a fox\\'s face for nothing. politics being the natural field for such talents, he neglects his farm to attend conventions and to run for county offices.',\n",
       "   'img_prompt': \"oscar's four tow-headed little boys., in black and white photo style\"},\n",
       "  '2': {'org': 'lou\\'s wife, formerly annie lee, has grown to look curiously like her husband. her face has become longer, sharper, more aggressive. she wears her yellow hair in a high pompadour, and is bedecked with rings and chains and \"beauty pins.\" her tight, high-heeled shoes give her an awkward walk, and she is always more or less preoccupied with her clothes. as she sat at the table, she kept telling her youngest daughter to \"be careful now, and not drop anything on mother.\"',\n",
       "   'img_prompt': \"lou's wife with yellow hair and high pompadour., in black and white photo style\"},\n",
       "  '3': {'org': 'the conversation at the table was all in english. oscar\\'s wife, from the malaria district of missouri, was ashamed of marrying a foreigner, and his boys do not understand a word of swedish. annie and lou sometimes speak swedish at home, but annie is almost as much afraid of being \"caught\" at it as ever her mother was of being caught barefoot. oscar still has a thick accent, but lou speaks like anybody from iowa.',\n",
       "   'img_prompt': 'conversation at the table in english., in black and white photo style'},\n",
       "  '4': {'org': '\"when i was in hastings to attend the convention,\" he was saying, \"i saw the superintendent of the asylum, and i was telling him about ivar\\'s symptoms. he says ivar\\'s case is one of the most dangerous kind, and it\\'s a wonder he hasn\\'t done something violent before this.\"',\n",
       "   'img_prompt': \"the superintendent of the asylum and ivar's symptoms., in black and white photo style\"}},\n",
       " '47': {'0': {'org': 'carl had changed, alexandra felt, much less than one might have expected. he had not become a trim, self-satisfied city man. there was still something homely and wayward and definitely personal about him. even his clothes, his norfolk coat and his very high collars, were a little unconventional. he seemed to shrink into himself as he used to do; to hold himself away from things, as if he were afraid of being hurt. in short, he was more self-conscious than a man of thirty-five is expected to be. he looked older than his years and not very strong. his black hair, which still hung in a triangle over his pale forehead, was thin at the crown, and there were fine, relentless lines about his eyes. his back, with its high, sharp shoulders, looked like the back of an over-worked german professor off on his holiday. his face was intelligent, sensitive, unhappy.',\n",
       "   'img_prompt': 'norfolk coat with high collars, in black and white photo style'},\n",
       "  '1': {'org': 'that evening after supper, carl and alexandra were sitting by the clump of castor beans in the middle of the flower garden. the gravel paths glittered in the moonlight, and below them the fields lay white and still.',\n",
       "   'img_prompt': 'clump of castor beans in the flower garden, in black and white photo style'},\n",
       "  '2': {'org': '\"do you know, alexandra,\" he was saying, \"i\\'ve been thinking how strangely things work out. i\\'ve been away engraving other men\\'s pictures, and you\\'ve stayed at home and made your own.\" he pointed with his cigar toward the sleeping landscape. \"how in the world have you done it? how have your neighbors done it?\"',\n",
       "   'img_prompt': 'sleeping landscape pointed at with a cigar, in black and white photo style'},\n",
       "  '3': {'org': '\"we hadn\\'t any of us much to do with it, carl. the land did it. it had its little joke. it pretended to be poor because nobody knew how to work it right; and then, all at once, it worked itself. it woke up out of its sleep and stretched itself, and it was so big, so rich, that we suddenly found we were rich, just from sitting still. as for me, you remember when i began to buy land. for years after that i was always squeezing and borrowing until i was ashamed to show my face in the banks. and then, all at once, men began to come to me offering to lend me money--and i didn\\'t need it! then i went ahead and built this house. i really built it for emil. i want you to see emil, carl. he is so different from the rest of us!\"',\n",
       "   'img_prompt': 'land that pretended to be poor and then became rich, in black and white photo style'},\n",
       "  '4': {'org': '\"how different?\"',\n",
       "   'img_prompt': 'emil who is different from the rest, in black and white photo style'}},\n",
       " '48': {'0': {'org': \"alexandra did not find time to go to her neighbor's the next day, nor the next. it was a busy season on the farm, with the corn-plowing going on, and even emil was in the field with a team and cultivator. carl went about over the farms with alexandra in the morning, and in the afternoon and evening they found a great deal to talk about. emil, for all his track practice, did not stand up under farmwork very well, and by night he was too tired to talk or even to practise on his cornet.\",\n",
       "   'img_prompt': 'cultivator, in 3D rendering style'},\n",
       "  '1': {'org': 'on wednesday morning carl got up before it was light, and stole downstairs and out of the kitchen door just as old ivar was making his morning ablutions at the pump. carl nodded to him and hurried up the draw, past the garden, and into the pasture where the milking cows used to be kept.',\n",
       "   'img_prompt': 'milking cows, in 3D rendering style'},\n",
       "  '2': {'org': 'the dawn in the east looked like the light from some great fire that was burning under the edge of the world. the color was reflected in the globules of dew that sheathed the short gray pasture grass. carl walked rapidly until he came to the crest of the second hill, where the bergson pasture joined the one that had belonged to his father. there he sat down and waited for the sun to rise. it was just there that he and alexandra used to do their milking together, he on his side of the fence, she on hers. he could remember exactly how she looked when she came over the close-cropped grass, her skirts pinned up, her head bare, a bright tin pail in either hand, and the milky light of the early morning all about her. even as a boy he used to feel, when he saw her coming with her free step, her upright head and calm shoulders, that she looked as if she had walked straight out of the morning itself. since then, when he had happened to see the sun come up in the country or on the water, he had often remembered the young swedish girl and her milking pails.',\n",
       "   'img_prompt': 'milking pails, in 3D rendering style'},\n",
       "  '3': {'org': 'carl sat musing until the sun leaped above the prairie, and in the grass about him all the small creatures of day began to tune their tiny instruments. birds and insects without number began to chirp, to twitter, to snap and whistle, to make all manner of fresh shrill noises. the pasture was flooded with light; every clump of ironweed and snow-on-the-mountain threw a long shadow, and the golden light seemed to be rippling through the curly grass like the tide racing in.',\n",
       "   'img_prompt': 'tiny instruments, in 3D rendering style'},\n",
       "  '4': {'org': \"he crossed the fence into the pasture that was now the shabatas' and continued his walk toward the pond. he had not gone far, however, when he discovered that he was not the only person abroad. in the draw below, his gun in his hands, was emil, advancing cautiously, with a young woman beside him. they were moving softly, keeping close together, and carl knew that they expected to find ducks on the pond. at the moment when they came in sight of the bright spot of water, he heard a whirr of wings and the ducks shot up into the air. there was a sharp crack from the gun, and five of the birds fell to the ground. emil and his companion laughed delightedly, and emil ran to pick them up. when he came back, dangling the ducks by their feet, marie held her apron and he dropped them into it. as she stood looking down at them, her face changed. she took up one of the birds, a rumpled ball of feathers with the blood dripping slowly from its mouth, and looked at the live color that still burned on its plumage.\",\n",
       "   'img_prompt': 'ducks, in 3D rendering style'}},\n",
       " '49': {'0': {'org': 'at dinner that day alexandra said she thought they must really manage to go over to the shabatas\\' that afternoon. \"it\\'s not often i let three days go by without seeing marie. she will think i have forsaken her, now that my old friend has come back.\"',\n",
       "   'img_prompt': 'photograph of marie and alexandra together, in oil painting style'},\n",
       "  '1': {'org': 'after the men had gone back to work, alexandra put on a white dress and her sun-hat, and she and carl set forth across the fields. \"you see we have kept up the old path, carl. it has been so nice for me to feel that there was a friend at the other end of it again.\"',\n",
       "   'img_prompt': 'sun-hat, in oil painting style'},\n",
       "  '2': {'org': 'carl smiled a little ruefully. \"all the same, i hope it hasn\\'t been quite the same.\"',\n",
       "   'img_prompt': 'small, rueful smile, in oil painting style'},\n",
       "  '3': {'org': 'alexandra looked at him with surprise. \"why, no, of course not. not the same. she could not very well take your place, if that\\'s what you mean. i\\'m friendly with all my neighbors, i hope. but marie is really a companion, some one i can talk to quite frankly. you wouldn\\'t want me to be more lonely than i have been, would you?\"',\n",
       "   'img_prompt': \"alexandra's friendly neighbors, in oil painting style\"},\n",
       "  '4': {'org': 'carl laughed and pushed back the triangular lock of hair with the edge of his hat. \"of course i don\\'t. i ought to be thankful that this path hasn\\'t been worn by--well, by friends with more pressing errands than your little bohemian is likely to have.\" he paused to give alexandra his hand as she stepped over the stile. \"are you the least bit disappointed in our coming together again?\" he asked abruptly. \"is it the way you hoped it would be?\"',\n",
       "   'img_prompt': 'triangular lock of hair, in oil painting style'}},\n",
       " '50': {'0': {'org': \"marie's father, albert tovesky, was one of the more intelligent bohemians who came west in the early seventies. he settled in omaha and became a leader and adviser among his people there. marie was his youngest child, by a second wife, and was the apple of his eye. she was barely sixteen, and was in the graduating class of the omaha high school, when frank shabata arrived from the old country and set all the bohemian girls in a flutter. he was easily the buck of the beer-gardens, and on sunday he was a sight to see, with his silk hat and tucked shirt and blue frock-coat, wearing gloves and carrying a little wisp of a yellow cane. he was tall and fair, with splendid teeth and close-cropped yellow curls, and he wore a slightly disdainful expression, proper for a young man with high connections, whose mother had a big farm in the elbe valley. there was often an interesting discontent in his blue eyes, and every bohemian girl he met imagined herself the cause of that unsatisfied expression. he had a way of drawing out his cambric handkerchief slowly, by one corner, from his breast-pocket, that was melancholy and romantic in the extreme. he took a little flight with each of the more eligible bohemian girls, but it was when he was with little marie tovesky that he drew his handkerchief out most slowly, and, after he had lit a fresh cigar, dropped the match most despairingly. any one could see, with half an eye, that his proud heart was bleeding for somebody.\",\n",
       "   'img_prompt': 'yellow cane with a wisp of silk handkerchief., in oil painting style'},\n",
       "  '1': {'org': \"one sunday, late in the summer after marie's graduation, she met frank at a bohemian picnic down the river and went rowing with him all the afternoon. when she got home that evening she went straight to her father's room and told him that she was engaged to shabata. old tovesky was having a comfortable pipe before he went to bed. when he heard his daughter's announcement, he first prudently corked his beer bottle and then leaped to his feet and had a turn of temper. he characterized frank shabata by a bohemian expression which is the equivalent of stuffed shirt.\",\n",
       "   'img_prompt': 'beer bottle with a stuffed shirt inside., in oil painting style'},\n",
       "  '2': {'org': '\"why don\\'t he go to work like the rest of us did? his farm in the elbe valley, indeed! ain\\'t he got plenty brothers and sisters? it\\'s his mother\\'s farm, and why don\\'t he stay at home and help her? haven\\'t i seen his mother out in the morning at five o\\'clock with her ladle and her big bucket on wheels, putting liquid manure on the cabbages? don\\'t i know the look of old eva shabata\\'s hands? like an old horse\\'s hoofs they are--and this fellow wearing gloves and rings! engaged, indeed! you aren\\'t fit to be out of school, and that\\'s what\\'s the matter with you. i will send you off to the sisters of the sacred heart in st. louis, and they will teach you some sense, _i_ guess!\"',\n",
       "   'img_prompt': 'ladle and big bucket on wheels for liquid manure., in oil painting style'},\n",
       "  '3': {'org': \"accordingly, the very next week, albert tovesky took his daughter, pale and tearful, down the river to the convent. but the way to make frank want anything was to tell him he couldn't have it. he managed to have an interview with marie before she went away, and whereas he had been only half in love with her before, he now persuaded himself that he would not stop at anything. marie took with her to the convent, under the canvas lining of her trunk, the results of a laborious and satisfying morning on frank's part; no less than a dozen photographs of himself, taken in a dozen different love-lorn attitudes. there was a little round photograph for her watch-case, photographs for her wall and dresser, and even long narrow ones to be used as bookmarks. more than once the handsome gentleman was torn to pieces before the french class by an indignant nun.\",\n",
       "   'img_prompt': 'dozen different love-lorn photographs of frank., in oil painting style'},\n",
       "  '4': {'org': 'marie pined in the convent for a year, until her eighteenth birthday was passed. then she met frank shabata in the union station in st. louis and ran away with him. old tovesky forgave his daughter because there was nothing else to do, and bought her a farm in the country that she had loved so well as a child. since then her story had been a part of the history of the divide. she and frank had been living there for five years when carl linstrum came back to pay his long deferred visit to alexandra. frank had, on the whole, done better than one might have expected. he had flung himself at the soil with savage energy. once a year he went to hastings or to omaha, on a spree. he stayed away for a week or two, and then came home and worked like a demon. he did work; if he felt sorry for himself, that was his own affair.',\n",
       "   'img_prompt': 'farm in the country that marie loved as a child., in oil painting style'}},\n",
       " '51': {'0': {'org': \"on the evening of the day of alexandra's call at the shabatas', a heavy rain set in. frank sat up until a late hour reading the sunday newspapers. one of the goulds was getting a divorce, and frank took it as a personal affront. in printing the story of the young man's marital troubles, the knowing editor gave a sufficiently colored account of his career, stating the amount of his income and the manner in which he was supposed to spend it. frank read english slowly, and the more he read about this divorce case, the angrier he grew. at last he threw down the page with a snort. he turned to his farm-hand who was reading the other half of the paper.\",\n",
       "   'img_prompt': 'a newspaper with a colored account of a divorce case., in 3D rendering style'},\n",
       "  '1': {'org': '\"by god! if i have that young feller in de hayfield once, i show him someting. listen here what he do wit his money.\" and frank began the catalogue of the young man\\'s reputed extravagances.',\n",
       "   'img_prompt': \"a catalogue listing the young man's reputed extravagances., in 3D rendering style\"},\n",
       "  '2': {'org': 'marie sighed. she thought it hard that the goulds, for whom she had nothing but good will, should make her so much trouble. she hated to see the sunday newspapers come into the house. frank was always reading about the doings of rich people and feeling outraged. he had an inexhaustible stock of stories about their crimes and follies, how they bribed the courts and shot down their butlers with impunity whenever they chose. frank and lou bergson had very similar ideas, and they were two of the political agitators of the county.',\n",
       "   'img_prompt': \"sunday newspapers with stories about rich people's crimes and follies., in 3D rendering style\"},\n",
       "  '3': {'org': \"the next morning broke clear and brilliant, but frank said the ground was too wet to plough, so he took the cart and drove over to sainte-agnes to spend the day at moses marcel's saloon. after he was gone, marie went out to the back porch to begin her butter-making. a brisk wind had come up and was driving puffy white clouds across the sky. the orchard was sparkling and rippling in the sun. marie stood looking toward it wistfully, her hand on the lid of the churn, when she heard a sharp ring in the air, the merry sound of the whetstone on the scythe. that invitation decided her. she ran into the house, put on a short skirt and a pair of her husband's boots, caught up a tin pail and started for the orchard. emil had already begun work and was mowing vigorously. when he saw her coming, he stopped and wiped his brow. his yellow canvas leggings and khaki trousers were splashed to the knees.\",\n",
       "   'img_prompt': 'a scythe and a whetstone., in 3D rendering style'},\n",
       "  '4': {'org': '\"don\\'t let me disturb you, emil. i\\'m going to pick cherries. isn\\'t everything beautiful after the rain? oh, but i\\'m glad to get this place mowed! when i heard it raining in the night, i thought maybe you would come and do it for me to-day. the wind wakened me. didn\\'t it blow dreadfully? just smell the wild roses! they are always so spicy after a rain. we never had so many of them in here before. i suppose it\\'s the wet season. will you have to cut them, too?\"',\n",
       "   'img_prompt': 'wild roses with a spicy scent after the rain., in 3D rendering style'}},\n",
       " '52': {},\n",
       " '53': {'0': {'org': \"while emil and carl were amusing themselves at the fair, alexandra was at home, busy with her account-books, which had been neglected of late. she was almost through with her figures when she heard a cart drive up to the gate, and looking out of the window she saw her two older brothers. they had seemed to avoid her ever since carl linstrum's arrival, four weeks ago that day, and she hurried to the door to welcome them. she saw at once that they had come with some very definite purpose. they followed her stiffly into the sitting-room. oscar sat down, but lou walked over to the window and remained standing, his hands behind him.\",\n",
       "   'img_prompt': 'object for sentence 265: account-books, in watercolor style'},\n",
       "  '1': {'org': '\"you are by yourself?\" he asked, looking toward the doorway into the parlor.',\n",
       "   'img_prompt': 'object for sentence 266: doorway into the parlor, in watercolor style'},\n",
       "  '2': {'org': '\"yes. carl and emil went up to the catholic fair.\"',\n",
       "   'img_prompt': 'object for sentence 267: catholic fair, in watercolor style'},\n",
       "  '3': {'org': 'for a few moments neither of the men spoke.',\n",
       "   'img_prompt': 'object for sentence 268: moments, in watercolor style'},\n",
       "  '4': {'org': 'then lou came out sharply. \"how soon does he intend to go away from here?\"',\n",
       "   'img_prompt': 'object for sentence 269: here, in watercolor style'}},\n",
       " '54': {'0': {'org': \"emil came home at about half-past seven o'clock that evening. old ivar met him at the windmill and took his horse, and the young man went directly into the house. he called to his sister and she answered from her bedroom, behind the sitting-room, saying that she was lying down.\",\n",
       "   'img_prompt': 'windmill, in oil painting style'},\n",
       "  '1': {'org': 'emil went to her door.',\n",
       "   'img_prompt': 'bedroom door, in oil painting style'},\n",
       "  '2': {'org': '\"can i see you for a minute?\" he asked. \"i want to talk to you about something before carl comes.\"',\n",
       "   'img_prompt': 'emil, in oil painting style'},\n",
       "  '3': {'org': 'alexandra rose quickly and came to the door. \"where is carl?\"',\n",
       "   'img_prompt': 'alexandra, in oil painting style'},\n",
       "  '4': {'org': '\"lou and oscar met us and said they wanted to talk to him, so he rode over to oscar\\'s with them. are you coming out?\" emil asked impatiently.',\n",
       "   'img_prompt': \"emil's impatience, in oil painting style\"}},\n",
       " '55': {'0': {'org': 'carl came into the sitting-room while alexandra was lighting the lamp. she looked up at him as she adjusted the shade. his sharp shoulders stooped as if he were very tired, his face was pale, and there were bluish shadows under his dark eyes. his anger had burned itself out and left him sick and disgusted.',\n",
       "   'img_prompt': 'a lamp with an adjustable shade., in futuristic style'},\n",
       "  '1': {'org': '\"you have seen lou and oscar?\" alexandra asked.',\n",
       "   'img_prompt': 'a person named lou., in futuristic style'},\n",
       "  '2': {'org': '\"yes.\" his eyes avoided hers.',\n",
       "   'img_prompt': 'avoiding eyes., in futuristic style'},\n",
       "  '3': {'org': 'alexandra took a deep breath. \"and now you are going away. i thought so.\"',\n",
       "   'img_prompt': 'a deep breath., in futuristic style'},\n",
       "  '4': {'org': 'carl threw himself into a chair and pushed the dark lock back from his forehead with his white, nervous hand. \"what a hopeless position you are in, alexandra!\" he exclaimed feverishly. \"it is your fate to be always surrounded by little men. and i am no better than the rest. i am too little to face the criticism of even such men as lou and oscar. yes, i am going away; to-morrow. i cannot even ask you to give me a promise until i have something to offer you. i thought, perhaps, i could do that; but i find i can\\'t.\"',\n",
       "   'img_prompt': 'a dark lock of hair., in futuristic style'}},\n",
       " '56': {'0': {'org': 'winter has settled down over the divide again; the season in which nature recuperates, in which she sinks to sleep between the fruitfulness of autumn and the passion of spring. the birds have gone. the teeming life that goes on down in the long grass is exterminated. the prairie-dog keeps his hole. the rabbits run shivering from one frozen garden patch to another and are hard put to it to find frost-bitten cabbage-stalks. at night the coyotes roam the wintry waste, howling for food. the variegated fields are all one color now; the pastures, the stubble, the roads, the sky are the same leaden gray. the hedgerows and trees are scarcely perceptible against the bare earth, whose slaty hue they have taken on. the ground is frozen so hard that it bruises the foot to walk in the roads or in the ploughed fields. it is like an iron country, and the spirit is oppressed by its rigor and melancholy. one could easily believe that in that dead landscape the germs of life and fruitfulness were extinct forever.',\n",
       "   'img_prompt': 'frozen coyote, in watercolor style'},\n",
       "  '1': {'org': 'alexandra has settled back into her old routine. there are weekly letters from emil. lou and oscar she has not seen since carl went away. to avoid awkward encounters in the presence of curious spectators, she has stopped going to the norwegian church and drives up to the reform church at hanover, or goes with marie shabata to the catholic church, locally known as \"the french church.\" she has not told marie about carl, or her differences with her brothers. she was never very communicative about her own affairs, and when she came to the point, an instinct told her that about such things she and marie would not understand one another.',\n",
       "   'img_prompt': 'reform church pamphlet, in watercolor style'},\n",
       "  '2': {'org': 'old mrs. lee had been afraid that family misunderstandings might deprive her of her yearly visit to alexandra. but on the first day of december alexandra telephoned annie that to-morrow she would send ivar over for her mother, and the next day the old lady arrived with her bundles. for twelve years mrs. lee had always entered alexandra\\'s sitting-room with the same exclamation, \"now we be yust-a like old times!\" she enjoyed the liberty alexandra gave her, and hearing her own language about her all day long. here she could wear her nightcap and sleep with all her windows shut, listen to ivar reading the bible, and here she could run about among the stables in a pair of emil\\'s old boots. though she was bent almost double, she was as spry as a gopher. her face was as brown as if it had been varnished, and as full of wrinkles as a washerwoman\\'s hands. she had three jolly old teeth left in the front of her mouth, and when she grinned she looked very knowing, as if when you found out how to take it, life wasn\\'t half bad. while she and alexandra patched and pieced and quilted, she talked incessantly about stories she read in a swedish family paper, telling the plots in great detail; or about her life on a dairy farm in gottland when she was a girl. sometimes she forgot which were the printed stories and which were the real stories, it all seemed so far away. she loved to take a little brandy, with hot water and sugar, before she went to bed, and alexandra always had it ready for her. \"it sends good dreams,\" she would say with a twinkle in her eye.',\n",
       "   'img_prompt': 'patched quilt, in watercolor style'},\n",
       "  '3': {'org': 'when mrs. lee had been with alexandra for a week, marie shabata telephoned one morning to say that frank had gone to town for the day, and she would like them to come over for coffee in the afternoon. mrs. lee hurried to wash out and iron her new cross-stitched apron, which she had finished only the night before; a checked gingham apron worked with a design ten inches broad across the bottom; a hunting scene, with fir trees and a stag and dogs and huntsmen. mrs. lee was firm with herself at dinner, and refused a second helping of apple dumplings. \"i ta-ank i save up,\" she said with a giggle.',\n",
       "   'img_prompt': 'cross-stitched apron, in watercolor style'},\n",
       "  '4': {'org': 'at two o\\'clock in the afternoon alexandra\\'s cart drove up to the shabatas\\' gate, and marie saw mrs. lee\\'s red shawl come bobbing up the path. she ran to the door and pulled the old woman into the house with a hug, helping her to take off her wraps while alexandra blanketed the horse outside. mrs. lee had put on her best black satine dress--she abominated woolen stuffs, even in winter--and a crocheted collar, fastened with a big pale gold pin, containing faded daguerreotypes of her father and mother. she had not worn her apron for fear of rumpling it, and now she shook it out and tied it round her waist with a conscious air. marie drew back and threw up her hands, exclaiming, \"oh, what a beauty! i\\'ve never seen this one before, have i, mrs. lee?\"',\n",
       "   'img_prompt': 'crocheted collar, in watercolor style'}},\n",
       " '57': {'0': {'org': \"if alexandra had had much imagination she might have guessed what was going on in marie's mind, and she would have seen long before what was going on in emil's. but that, as emil himself had more than once reflected, was alexandra's blind side, and her life had not been of the kind to sharpen her vision. her training had all been toward the end of making her proficient in what she had undertaken to do. her personal life, her own realization of herself, was almost a subconscious existence; like an underground river that came to the surface only here and there, at intervals months apart, and then sank again to flow on under her own fields. nevertheless, the underground stream was there, and it was because she had so much personality to put into her enterprises and succeeded in putting it into them so completely, that her affairs prospered better than those of her neighbors.\",\n",
       "   'img_prompt': 'a river flowing underground., in watercolor style'},\n",
       "  '1': {'org': 'there were certain days in her life, outwardly uneventful, which alexandra remembered as peculiarly happy; days when she was close to the flat, fallow world about her, and felt, as it were, in her own body the joyous germination in the soil. there were days, too, which she and emil had spent together, upon which she loved to look back. there had been such a day when they were down on the river in the dry year, looking over the land. they had made an early start one morning and had driven a long way before noon. when emil said he was hungry, they drew back from the road, gave brigham his oats among the bushes, and climbed up to the top of a grassy bluff to eat their lunch under the shade of some little elm trees. the river was clear there, and shallow, since there had been no rain, and it ran in ripples over the sparkling sand. under the overhanging willows of the opposite bank there was an inlet where the water was deeper and flowed so slowly that it seemed to sleep in the sun. in this little bay a single wild duck was swimming and diving and preening her feathers, disporting herself very happily in the flickering light and shade. they sat for a long time, watching the solitary bird take its pleasure. no living thing had ever seemed to alexandra as beautiful as that wild duck. emil must have felt about it as she did, for afterward, when they were at home, he used sometimes to say, \"sister, you know our duck down there--\" alexandra remembered that day as one of the happiest in her life. years afterward she thought of the duck as still there, swimming and diving all by herself in the sunlight, a kind of enchanted bird that did not know age or change.',\n",
       "   'img_prompt': 'a wild duck swimming in a clear river., in watercolor style'},\n",
       "  '2': {'org': \"most of alexandra's happy memories were as impersonal as this one; yet to her they were very personal. her mind was a white book, with clear writing about weather and beasts and growing things. not many people would have cared to read it; only a happy few. she had never been in love, she had never indulged in sentimental reveries. even as a girl she had looked upon men as work-fellows. she had grown up in serious times.\",\n",
       "   'img_prompt': 'a white book filled with writings about nature., in watercolor style'},\n",
       "  '3': {'org': 'there was one fancy indeed, which persisted through her girlhood. it most often came to her on sunday mornings, the one day in the week when she lay late abed listening to the familiar morning sounds; the windmill singing in the brisk breeze, emil whistling as he blacked his boots down by the kitchen door. sometimes, as she lay thus luxuriously idle, her eyes closed, she used to have an illusion of being lifted up bodily and carried lightly by some one very strong. it was a man, certainly, who carried her, but he was like no man she knew; he was much larger and stronger and swifter, and he carried her as easily as if she were a sheaf of wheat. she never saw him, but, with eyes closed, she could feel that he was yellow like the sunlight, and there was the smell of ripe cornfields about him. she could feel him approach, bend over her and lift her, and then she could feel herself being carried swiftly off across the fields. after such a reverie she would rise hastily, angry with herself, and go down to the bath-house that was partitioned off the kitchen shed. there she would stand in a tin tub and prosecute her bath with vigor, finishing it by pouring buckets of cold well-water over her gleaming white body which no man on the divide could have carried very far.',\n",
       "   'img_prompt': 'a strong man carrying someone through cornfields., in watercolor style'},\n",
       "  '4': {'org': 'as she grew older, this fancy more often came to her when she was tired than when she was fresh and strong. sometimes, after she had been in the open all day, overseeing the branding of the cattle or the loading of the pigs, she would come in chilled, take a concoction of spices and warm home-made wine, and go to bed with her body actually aching with fatigue. then, just before she went to sleep, she had the old sensation of being lifted and carried by a strong being who took from her all her bodily weariness.',\n",
       "   'img_prompt': 'a warm concoction and bed, relieving physical exhaustion., in watercolor style'}},\n",
       " '58': {'0': {'org': 'the french church, properly the church of sainte-agnes, stood upon a hill. the high, narrow, red-brick building, with its tall steeple and steep roof, could be seen for miles across the wheatfields, though the little town of sainte-agnes was completely hidden away at the foot of the hill. the church looked powerful and triumphant there on its eminence, so high above the rest of the landscape, with miles of warm color lying at its feet, and by its position and setting it reminded one of some of the churches built long ago in the wheat-lands of middle france.',\n",
       "   'img_prompt': 'a church with a tall steeple and steep roof on a hill., in pop art style'},\n",
       "  '1': {'org': 'late one june afternoon alexandra bergson was driving along one of the many roads that led through the rich french farming country to the big church. the sunlight was shining directly in her face, and there was a blaze of light all about the red church on the hill. beside alexandra lounged a strikingly exotic figure in a tall mexican hat, a silk sash, and a black velvet jacket sewn with silver buttons. emil had returned only the night before, and his sister was so proud of him that she decided at once to take him up to the church supper, and to make him wear the mexican costume he had brought home in his trunk. \"all the girls who have stands are going to wear fancy costumes,\" she argued, \"and some of the boys. marie is going to tell fortunes, and she sent to omaha for a bohemian dress her father brought back from a visit to the old country. if you wear those clothes, they will all be pleased. and you must take your guitar. everybody ought to do what they can to help along, and we have never done much. we are not a talented family.\"',\n",
       "   'img_prompt': 'a strikingly exotic figure in a mexican costume., in pop art style'},\n",
       "  '2': {'org': \"the supper was to be at six o'clock, in the basement of the church, and afterward there would be a fair, with charades and an auction. alexandra had set out from home early, leaving the house to signa and nelse jensen, who were to be married next week. signa had shyly asked to have the wedding put off until emil came home.\",\n",
       "   'img_prompt': 'the basement of the church where the supper was held., in pop art style'},\n",
       "  '3': {'org': \"alexandra was well satisfied with her brother. as they drove through the rolling french country toward the westering sun and the stalwart church, she was thinking of that time long ago when she and emil drove back from the river valley to the still unconquered divide. yes, she told herself, it had been worth while; both emil and the country had become what she had hoped. out of her father's children there was one who was fit to cope with the world, who had not been tied to the plow, and who had a personality apart from the soil. and that, she reflected, was what she had worked for. she felt well satisfied with her life.\",\n",
       "   'img_prompt': 'a sanded terrace outside the church where boys wrestled., in pop art style'},\n",
       "  '4': {'org': 'when they reached the church, a score of teams were hitched in front of the basement doors that opened from the hillside upon the sanded terrace, where the boys wrestled and had jumping-matches. amedee chevalier, a proud father of one week, rushed out and embraced emil. amedee was an only son,--hence he was a very rich young man,--but he meant to have twenty children himself, like his uncle xavier. \"oh, emil,\" he cried, hugging his old friend rapturously, \"why ain\\'t you been up to see my boy? you come to-morrow, sure? emil, you wanna get a boy right off! it\\'s the greatest thing ever! no, no, no! angel not sick at all. everything just fine. that boy he come into this world laughin\\', and he been laughin\\' ever since. you come an\\' see!\" he pounded emil\\'s ribs to emphasize each announcement.',\n",
       "   'img_prompt': 'a proud father of one week embracing his old friend., in pop art style'}},\n",
       " '59': {'0': {'org': \"signa's wedding supper was over. the guests, and the tiresome little norwegian preacher who had performed the marriage ceremony, were saying good-night. old ivar was hitching the horses to the wagon to take the wedding presents and the bride and groom up to their new home, on alexandra's north quarter. when ivar drove up to the gate, emil and marie shabata began to carry out the presents, and alexandra went into her bedroom to bid signa good-bye and to give her a few words of good counsel. she was surprised to find that the bride had changed her slippers for heavy shoes and was pinning up her skirts. at that moment nelse appeared at the gate with the two milk cows that alexandra had given signa for a wedding present.\",\n",
       "   'img_prompt': 'wedding presents, including cows, brought to the new home., in 3D rendering style'},\n",
       "  '1': {'org': 'alexandra began to laugh. \"why, signa, you and nelse are to ride home. i\\'ll send ivar over with the cows in the morning.\"',\n",
       "   'img_prompt': 'alexandra suggests riding home and sending cows tomorrow., in 3D rendering style'},\n",
       "  '2': {'org': 'signa hesitated and looked perplexed. when her husband called her, she pinned her hat on resolutely. \"i ta-ank i better do yust like he say,\" she murmured in confusion.',\n",
       "   'img_prompt': \"signa hesitates and obeys her husband's instructions., in 3D rendering style\"},\n",
       "  '3': {'org': 'alexandra and marie accompanied signa to the gate and saw the party set off, old ivar driving ahead in the wagon and the bride and groom following on foot, each leading a cow. emil burst into a laugh before they were out of hearing.',\n",
       "   'img_prompt': 'party sets off, with the bride and groom leading cows., in 3D rendering style'},\n",
       "  '4': {'org': '\"those two will get on,\" said alexandra as they turned back to the house. \"they are not going to take any chances. they will feel safer with those cows in their own stable. marie, i am going to send for an old woman next. as soon as i get the girls broken in, i marry them off.\"',\n",
       "   'img_prompt': \"alexandra jokes about the couple's cautiousness and plans future weddings., in 3D rendering style\"}},\n",
       " '60': {'0': {'org': \"one evening, a week after signa's wedding, emil was kneeling before a box in the sitting-room, packing his books. from time to time he rose and wandered about the house, picking up stray volumes and bringing them listlessly back to his box. he was packing without enthusiasm. he was not very sanguine about his future. alexandra sat sewing by the table. she had helped him pack his trunk in the afternoon. as emil came and went by her chair with his books, he thought to himself that it had not been so hard to leave his sister since he first went away to school. he was going directly to omaha, to read law in the office of a swedish lawyer until october, when he would enter the law school at ann arbor. they had planned that alexandra was to come to michigan--a long journey for her--at christmas time, and spend several weeks with him. nevertheless, he felt that this leave-taking would be more final than his earlier ones had been; that it meant a definite break with his old home and the beginning of something new--he did not know what. his ideas about the future would not crystallize; the more he tried to think about it, the vaguer his conception of it became. but one thing was clear, he told himself; it was high time that he made good to alexandra, and that ought to be incentive enough to begin with.\",\n",
       "   'img_prompt': 'box filled with books, in futuristic style'},\n",
       "  '1': {'org': 'as he went about gathering up his books he felt as if he were uprooting things. at last he threw himself down on the old slat lounge where he had slept when he was little, and lay looking up at the familiar cracks in the ceiling.',\n",
       "   'img_prompt': 'old slat lounge, in futuristic style'},\n",
       "  '2': {'org': '\"tired, emil?\" his sister asked.',\n",
       "   'img_prompt': 'questioning sister, in futuristic style'},\n",
       "  '3': {'org': '\"lazy,\" he murmured, turning on his side and looking at her. he studied alexandra\\'s face for a long time in the lamplight. it had never occurred to him that his sister was a handsome woman until marie shabata had told him so. indeed, he had never thought of her as being a woman at all, only a sister. as he studied her bent head, he looked up at the picture of john bergson above the lamp. \"no,\" he thought to himself, \"she didn\\'t get it there. i suppose i am more like that.\"',\n",
       "   'img_prompt': \"alexandra's face in the lamplight, in futuristic style\"},\n",
       "  '4': {'org': '\"alexandra,\" he said suddenly, \"that old walnut secretary you use for a desk was father\\'s, wasn\\'t it?\"',\n",
       "   'img_prompt': \"father's old walnut secretary, in futuristic style\"}},\n",
       " '61': {'0': {'org': \"the next morning angelique, amedee's wife, was in the kitchen baking pies, assisted by old mrs. chevalier. between the mixing-board and the stove stood the old cradle that had been amedee's, and in it was his black-eyed son. as angelique, flushed and excited, with flour on her hands, stopped to smile at the baby, emil bergson rode up to the kitchen door on his mare and dismounted.\",\n",
       "   'img_prompt': 'old cradle with black-eyed son., in pop art style'},\n",
       "  '1': {'org': '\"\\'medee is out in the field, emil,\" angelique called as she ran across the kitchen to the oven. \"he begins to cut his wheat to-day; the first wheat ready to cut anywhere about here. he bought a new header, you know, because all the wheat\\'s so short this year. i hope he can rent it to the neighbors, it cost so much. he and his cousins bought a steam thresher on shares. you ought to go out and see that header work. i watched it an hour this morning, busy as i am with all the men to feed. he has a lot of hands, but he\\'s the only one that knows how to drive the header or how to run the engine, so he has to be everywhere at once. he\\'s sick, too, and ought to be in his bed.\"',\n",
       "   'img_prompt': 'new header for cutting wheat., in pop art style'},\n",
       "  '2': {'org': 'emil bent over hector baptiste, trying to make him blink his round, bead-like black eyes. \"sick? what\\'s the matter with your daddy, kid? been making him walk the floor with you?\"',\n",
       "   'img_prompt': 'hector baptiste with round black eyes., in pop art style'},\n",
       "  '3': {'org': 'angelique sniffed. \"not much! we don\\'t have that kind of babies. it was his father that kept baptiste awake. all night i had to be getting up and making mustard plasters to put on his stomach. he had an awful colic. he said he felt better this morning, but i don\\'t think he ought to be out in the field, overheating himself.\"',\n",
       "   'img_prompt': 'mustard plasters for awful colic., in pop art style'},\n",
       "  '4': {'org': 'angelique did not speak with much anxiety, not because she was indifferent, but because she felt so secure in their good fortune. only good things could happen to a rich, energetic, handsome young man like amedee, with a new baby in the cradle and a new header in the field.',\n",
       "   'img_prompt': 'good fortune for rich, energetic, handsome amedee., in pop art style'}},\n",
       " '62': {'0': {'org': \"when frank shabata came in from work at five o'clock that evening, old moses marcel, raoul's father, telephoned him that amedee had had a seizure in the wheatfield, and that doctor paradis was going to operate on him as soon as the hanover doctor got there to help. frank dropped a word of this at the table, bolted his supper, and rode off to sainte-agnes, where there would be sympathetic discussion of amedee's case at marcel's saloon.\",\n",
       "   'img_prompt': 'telephone, in black and white photo style'},\n",
       "  '1': {'org': \"as soon as frank was gone, marie telephoned alexandra. it was a comfort to hear her friend's voice. yes, alexandra knew what there was to be known about amedee. emil had been there when they carried him out of the field, and had stayed with him until the doctors operated for appendicitis at five o'clock. they were afraid it was too late to do much good; it should have been done three days ago. amedee was in a very bad way. emil had just come home, worn out and sick himself. she had given him some brandy and put him to bed.\",\n",
       "   'img_prompt': 'brandy, in black and white photo style'},\n",
       "  '2': {'org': \"marie hung up the receiver. poor amedee's illness had taken on a new meaning to her, now that she knew emil had been with him. and it might so easily have been the other way--emil who was ill and amedee who was sad! marie looked about the dusky sitting-room. she had seldom felt so utterly lonely. if emil was asleep, there was not even a chance of his coming; and she could not go to alexandra for sympathy. she meant to tell alexandra everything, as soon as emil went away. then whatever was left between them would be honest.\",\n",
       "   'img_prompt': 'sitting-room, in black and white photo style'},\n",
       "  '3': {'org': \"but she could not stay in the house this evening. where should she go? she walked slowly down through the orchard, where the evening air was heavy with the smell of wild cotton. the fresh, salty scent of the wild roses had given way before this more powerful perfume of midsummer. wherever those ashes-of-rose balls hung on their milky stalks, the air about them was saturated with their breath. the sky was still red in the west and the evening star hung directly over the bergsons' wind-mill. marie crossed the fence at the wheatfield corner, and walked slowly along the path that led to alexandra's. she could not help feeling hurt that emil had not come to tell her about amedee. it seemed to her most unnatural that he should not have come. if she were in trouble, certainly he was the one person in the world she would want to see. perhaps he wished her to understand that for her he was as good as gone already.\",\n",
       "   'img_prompt': 'wild cotton, in black and white photo style'},\n",
       "  '4': {'org': 'marie stole slowly, flutteringly, along the path, like a white night-moth out of the fields. the years seemed to stretch before her like the land; spring, summer, autumn, winter, spring; always the same patient fields, the patient little trees, the patient lives; always the same yearning, the same pulling at the chain--until the instinct to live had torn itself and bled and weakened for the last time, until the chain secured a dead woman, who might cautiously be released. marie walked on, her face lifted toward the remote, inaccessible evening star.',\n",
       "   'img_prompt': 'evening star, in black and white photo style'}},\n",
       " '63': {'0': {'org': 'the church has always held that life is for the living. on saturday, while half the village of sainte-agnes was mourning for amedee and preparing the funeral black for his burial on monday, the other half was busy with white dresses and white veils for the great confirmation service to-morrow, when the bishop was to confirm a class of one hundred boys and girls. father duchesne divided his time between the living and the dead. all day saturday the church was a scene of bustling activity, a little hushed by the thought of amedee. the choir were busy rehearsing a mass of rossini, which they had studied and practised for this occasion. the women were trimming the altar, the boys and girls were bringing flowers.',\n",
       "   'img_prompt': 'white dresses and white veils for the great confirmation service, in 3D rendering style'},\n",
       "  '1': {'org': \"on sunday morning the bishop was to drive overland to sainte-agnes from hanover, and emil bergson had been asked to take the place of one of amedee's cousins in the cavalcade of forty french boys who were to ride across country to meet the bishop's carriage. at six o'clock on sunday morning the boys met at the church. as they stood holding their horses by the bridle, they talked in low tones of their dead comrade. they kept repeating that amedee had always been a good boy, glancing toward the red brick church which had played so large a part in amedee's life, had been the scene of his most serious moments and of his happiest hours. he had played and wrestled and sung and courted under its shadow. only three weeks ago he had proudly carried his baby there to be christened. they could not doubt that that invisible arm was still about amedee; that through the church on earth he had passed to the church triumphant, the goal of the hopes and faith of so many hundred years.\",\n",
       "   'img_prompt': 'red brick church, in 3D rendering style'},\n",
       "  '2': {'org': 'when the word was given to mount, the young men rode at a walk out of the village; but once out among the wheatfields in the morning sun, their horses and their own youth got the better of them. a wave of zeal and fiery enthusiasm swept over them. they longed for a jerusalem to deliver. the thud of their galloping hoofs interrupted many a country breakfast and brought many a woman and child to the door of the farmhouses as they passed. five miles east of sainte-agnes they met the bishop in his open carriage, attended by two priests. like one man the boys swung off their hats in a broad salute, and bowed their heads as the handsome old man lifted his two fingers in the episcopal blessing. the horsemen closed about the carriage like a guard, and whenever a restless horse broke from control and shot down the road ahead of the body, the bishop laughed and rubbed his plump hands together. \"what fine boys!\" he said to his priests. \"the church still has her cavalry.\"',\n",
       "   'img_prompt': 'boys on horseback with fiery enthusiasm, in 3D rendering style'},\n",
       "  '3': {'org': \"as the troop swept past the graveyard half a mile east of the town,--the first frame church of the parish had stood there,--old pierre seguin was already out with his pick and spade, digging amedee's grave. he knelt and uncovered as the bishop passed. the boys with one accord looked away from old pierre to the red church on the hill, with the gold cross flaming on its steeple.\",\n",
       "   'img_prompt': 'gold cross flaming on the steeple of the red church, in 3D rendering style'},\n",
       "  '4': {'org': 'mass was at eleven. while the church was filling, emil bergson waited outside, watching the wagons and buggies drive up the hill. after the bell began to ring, he saw frank shabata ride up on horseback and tie his horse to the hitch-bar. marie, then, was not coming. emil turned and went into the church. amedee\\'s was the only empty pew, and he sat down in it. some of amedee\\'s cousins were there, dressed in black and weeping. when all the pews were full, the old men and boys packed the open space at the back of the church, kneeling on the floor. there was scarcely a family in town that was not represented in the confirmation class, by a cousin, at least. the new communicants, with their clear, reverent faces, were beautiful to look upon as they entered in a body and took the front benches reserved for them. even before the mass began, the air was charged with feeling. the choir had never sung so well and raoul marcel, in the \"gloria,\" drew even the bishop\\'s eyes to the organ loft. for the offertory he sang gounod\\'s \"ave maria,\"--always spoken of in sainte-agnes as \"the ave maria.\"',\n",
       "   'img_prompt': \"amedee's empty pew, in 3D rendering style\"}},\n",
       " '64': {'0': {'org': \"when frank shabata got home that night, he found emil's mare in his stable. such an impertinence amazed him. like everybody else, frank had had an exciting day. since noon he had been drinking too much, and he was in a bad temper. he talked bitterly to himself while he put his own horse away, and as he went up the path and saw that the house was dark he felt an added sense of injury. he approached quietly and listened on the doorstep. hearing nothing, he opened the kitchen door and went softly from one room to another. then he went through the house again, upstairs and down, with no better result. he sat down on the bottom step of the box stairway and tried to get his wits together. in that unnatural quiet there was no sound but his own heavy breathing. suddenly an owl began to hoot out in the fields. frank lifted his head. an idea flashed into his mind, and his sense of injury and outrage grew. he went into his bedroom and took his murderous 405 winchester from the closet.\",\n",
       "   'img_prompt': 'a mare., in pop art style'},\n",
       "  '1': {'org': 'when frank took up his gun and walked out of the house, he had not the faintest purpose of doing anything with it. he did not believe that he had any real grievance. but it gratified him to feel like a desperate man. he had got into the habit of seeing himself always in desperate straits. his unhappy temperament was like a cage; he could never get out of it; and he felt that other people, his wife in particular, must have put him there. it had never more than dimly occurred to frank that he made his own unhappiness. though he took up his gun with dark projects in his mind, he would have been paralyzed with fright had he known that there was the slightest probability of his ever carrying any of them out.',\n",
       "   'img_prompt': 'a winchester gun., in pop art style'},\n",
       "  '2': {'org': 'frank went slowly down to the orchard gate, stopped and stood for a moment lost in thought. he retraced his steps and looked through the barn and the hayloft. then he went out to the road, where he took the foot-path along the outside of the orchard hedge. the hedge was twice as tall as frank himself, and so dense that one could see through it only by peering closely between the leaves. he could see the empty path a long way in the moonlight. his mind traveled ahead to the stile, which he always thought of as haunted by emil bergson. but why had he left his horse?',\n",
       "   'img_prompt': 'an orchard hedge., in pop art style'},\n",
       "  '3': {'org': \"at the wheatfield corner, where the orchard hedge ended and the path led across the pasture to the bergsons', frank stopped. in the warm, breathless night air he heard a murmuring sound, perfectly inarticulate, as low as the sound of water coming from a spring, where there is no fall, and where there are no stones to fret it. frank strained his ears. it ceased. he held his breath and began to tremble. resting the butt of his gun on the ground, he parted the mulberry leaves softly with his fingers and peered through the hedge at the dark figures on the grass, in the shadow of the mulberry tree. it seemed to him that they must feel his eyes, that they must hear him breathing. but they did not. frank, who had always wanted to see things blacker than they were, for once wanted to believe less than he saw. the woman lying in the shadow might so easily be one of the bergsons' farm-girls.... again the murmur, like water welling out of the ground. this time he heard it more distinctly, and his blood was quicker than his brain. he began to act, just as a man who falls into the fire begins to act. the gun sprang to his shoulder, he sighted mechanically and fired three times without stopping, stopped without knowing why. either he shut his eyes or he had vertigo. he did not see anything while he was firing. he thought he heard a cry simultaneous with the second report, but he was not sure. he peered again through the hedge, at the two dark figures under the tree. they had fallen a little apart from each other, and were perfectly still--no, not quite; in a white patch of light, where the moon shone through the branches, a man's hand was plucking spasmodically at the grass.\",\n",
       "   'img_prompt': 'mulberry leaves., in pop art style'},\n",
       "  '4': {'org': 'suddenly the woman stirred and uttered a cry, then another, and another. she was living! she was dragging herself toward the hedge! frank dropped his gun and ran back along the path, shaking, stumbling, gasping. he had never imagined such horror. the cries followed him. they grew fainter and thicker, as if she were choking. he dropped on his knees beside the hedge and crouched like a rabbit, listening; fainter, fainter; a sound like a whine; again--a moan--another--silence. frank scrambled to his feet and ran on, groaning and praying. from habit he went toward the house, where he was used to being soothed when he had worked himself into a frenzy, but at the sight of the black, open door, he started back. he knew that he had murdered somebody, that a woman was bleeding and moaning in the orchard, but he had not realized before that it was his wife. the gate stared him in the face. he threw his hands over his head. which way to turn? he lifted his tormented face and looked at the sky. \"holy mother of god, not to suffer! she was a good girl--not to suffer!\"',\n",
       "   'img_prompt': 'the black, open door., in pop art style'}},\n",
       " '65': {'0': {'org': \"when old ivar climbed down from his loft at four o'clock the next morning, he came upon emil's mare, jaded and lather-stained, her bridle broken, chewing the scattered tufts of hay outside the stable door. the old man was thrown into a fright at once. he put the mare in her stall, threw her a measure of oats, and then set out as fast as his bow-legs could carry him on the path to the nearest neighbor.\",\n",
       "   'img_prompt': 'scattered tufts of hay outside the stable door, in futuristic style'},\n",
       "  '1': {'org': '\"something is wrong with that boy. some misfortune has come upon us. he would never have used her so, in his right senses. it is not his way to abuse his mare,\" the old man kept muttering, as he scuttled through the short, wet pasture grass on his bare feet.',\n",
       "   'img_prompt': 'short, wet pasture grass on bare feet, in futuristic style'},\n",
       "  '2': {'org': \"while ivar was hurrying across the fields, the first long rays of the sun were reaching down between the orchard boughs to those two dew-drenched figures. the story of what had happened was written plainly on the orchard grass, and on the white mulberries that had fallen in the night and were covered with dark stain. for emil the chapter had been short. he was shot in the heart, and had rolled over on his back and died. his face was turned up to the sky and his brows were drawn in a frown, as if he had realized that something had befallen him. but for marie shabata it had not been so easy. one ball had torn through her right lung, another had shattered the carotid artery. she must have started up and gone toward the hedge, leaving a trail of blood. there she had fallen and bled. from that spot there was another trail, heavier than the first, where she must have dragged herself back to emil's body. once there, she seemed not to have struggled any more. she had lifted her head to her lover's breast, taken his hand in both her own, and bled quietly to death. she was lying on her right side in an easy and natural position, her cheek on emil's shoulder. on her face there was a look of ineffable content. her lips were parted a little; her eyes were lightly closed, as if in a day-dream or a light slumber. after she lay down there, she seemed not to have moved an eyelash. the hand she held was covered with dark stains, where she had kissed it.\",\n",
       "   'img_prompt': \"trails of blood leading to emil's body, in futuristic style\"},\n",
       "  '3': {'org': \"but the stained, slippery grass, the darkened mulberries, told only half the story. above marie and emil, two white butterflies from frank's alfalfa-field were fluttering in and out among the interlacing shadows; diving and soaring, now close together, now far apart; and in the long grass by the fence the last wild roses of the year opened their pink hearts to die.\",\n",
       "   'img_prompt': 'white butterflies fluttering among interlacing shadows, in futuristic style'},\n",
       "  '4': {'org': 'when ivar reached the path by the hedge, he saw shabata\\'s rifle lying in the way. he turned and peered through the branches, falling upon his knees as if his legs had been mowed from under him. \"merciful god!\" he groaned.',\n",
       "   'img_prompt': \"shabata's rifle lying on the path, in futuristic style\"}},\n",
       " '66': {'0': {'org': \"ivar was sitting at a cobbler's bench in the barn, mending harness by the light of a lantern and repeating to himself the 101st psalm. it was only five o'clock of a mid-october day, but a storm had come up in the afternoon, bringing black clouds, a cold wind and torrents of rain. the old man wore his buffalo-skin coat, and occasionally stopped to warm his fingers at the lantern. suddenly a woman burst into the shed, as if she had been blown in, accompanied by a shower of rain-drops. it was signa, wrapped in a man's overcoat and wearing a pair of boots over her shoes. in time of trouble signa had come back to stay with her mistress, for she was the only one of the maids from whom alexandra would accept much personal service. it was three months now since the news of the terrible thing that had happened in frank shabata's orchard had first run like a fire over the divide. signa and nelse were staying on with alexandra until winter.\",\n",
       "   'img_prompt': \"an old lantern hanging from the cobbler's bench in the barn., in oil painting style\"},\n",
       "  '1': {'org': '\"ivar,\" signa exclaimed as she wiped the rain from her face, \"do you know where she is?\"',\n",
       "   'img_prompt': \"raindrops on signa's face., in oil painting style\"},\n",
       "  '2': {'org': 'the old man put down his cobbler\\'s knife. \"who, the mistress?\"',\n",
       "   'img_prompt': \"ivar's cobbler's knife., in oil painting style\"},\n",
       "  '3': {'org': '\"yes. she went away about three o\\'clock. i happened to look out of the window and saw her going across the fields in her thin dress and sun-hat. and now this storm has come on. i thought she was going to mrs. hiller\\'s, and i telephoned as soon as the thunder stopped, but she had not been there. i\\'m afraid she is out somewhere and will get her death of cold.\"',\n",
       "   'img_prompt': 'a window overlooking the fields., in oil painting style'},\n",
       "  '4': {'org': 'ivar put on his cap and took up the lantern. \"ja, ja, we will see. i will hitch the boy\\'s mare to the cart and go.\"',\n",
       "   'img_prompt': \"the boy's mare and the cart., in oil painting style\"}},\n",
       " '67': {'0': {'org': \"late in the afternoon of a brilliant october day, alexandra bergson, dressed in a black suit and traveling-hat, alighted at the burlington depot in lincoln. she drove to the lindell hotel, where she had stayed two years ago when she came up for emil's commencement. in spite of her usual air of sureness and self-possession, alexandra felt ill at ease in hotels, and she was glad, when she went to the clerk's desk to register, that there were not many people in the lobby. she had her supper early, wearing her hat and black jacket down to the dining-room and carrying her handbag. after supper she went out for a walk.\",\n",
       "   'img_prompt': 'handbag, in black and white photo style'},\n",
       "  '1': {'org': 'it was growing dark when she reached the university campus. she did not go into the grounds, but walked slowly up and down the stone walk outside the long iron fence, looking through at the young men who were running from one building to another, at the lights shining from the armory and the library. a squad of cadets were going through their drill behind the armory, and the commands of their young officer rang out at regular intervals, so sharp and quick that alexandra could not understand them. two stalwart girls came down the library steps and out through one of the iron gates. as they passed her, alexandra was pleased to hear them speaking bohemian to each other. every few moments a boy would come running down the flagged walk and dash out into the street as if he were rushing to announce some wonder to the world. alexandra felt a great tenderness for them all. she wished one of them would stop and speak to her. she wished she could ask them whether they had known emil.',\n",
       "   'img_prompt': 'iron gates, in black and white photo style'},\n",
       "  '2': {'org': 'as she lingered by the south gate she actually did encounter one of the boys. he had on his drill cap and was swinging his books at the end of a long strap. it was dark by this time; he did not see her and ran against her. he snatched off his cap and stood bareheaded and panting. \"i\\'m awfully sorry,\" he said in a bright, clear voice, with a rising inflection, as if he expected her to say something.',\n",
       "   'img_prompt': 'drill cap, in black and white photo style'},\n",
       "  '3': {'org': '\"oh, it was my fault!\" said alexandra eagerly. \"are you an old student here, may i ask?\"',\n",
       "   'img_prompt': 'bright, clear voice, in black and white photo style'},\n",
       "  '4': {'org': '\"no, ma\\'am. i\\'m a freshie, just off the farm. cherry county. were you hunting somebody?\"',\n",
       "   'img_prompt': 'farm, in black and white photo style'}},\n",
       " '68': {'0': {'org': \"the next afternoon carl and alexandra were walking across the fields from mrs. hiller's. alexandra had left lincoln after midnight, and carl had met her at the hanover station early in the morning. after they reached home, alexandra had gone over to mrs. hiller's to leave a little present she had bought for her in the city. they stayed at the old lady's door but a moment, and then came out to spend the rest of the afternoon in the sunny fields.\",\n",
       "   'img_prompt': 'little present, in futuristic style'},\n",
       "  '1': {'org': 'alexandra had taken off her black traveling suit and put on a white dress; partly because she saw that her black clothes made carl uncomfortable and partly because she felt oppressed by them herself. they seemed a little like the prison where she had worn them yesterday, and to be out of place in the open fields. carl had changed very little. his cheeks were browner and fuller. he looked less like a tired scholar than when he went away a year ago, but no one, even now, would have taken him for a man of business. his soft, lustrous black eyes, his whimsical smile, would be less against him in the klondike than on the divide. there are always dreamers on the frontier.',\n",
       "   'img_prompt': 'white dress, in futuristic style'},\n",
       "  '2': {'org': \"carl and alexandra had been talking since morning. her letter had never reached him. he had first learned of her misfortune from a san francisco paper, four weeks old, which he had picked up in a saloon, and which contained a brief account of frank shabata's trial. when he put down the paper, he had already made up his mind that he could reach alexandra as quickly as a letter could; and ever since he had been on the way; day and night, by the fastest boats and trains he could catch. his steamer had been held back two days by rough weather.\",\n",
       "   'img_prompt': 'san francisco paper, in futuristic style'},\n",
       "  '3': {'org': \"as they came out of mrs. hiller's garden they took up their talk again where they had left it.\",\n",
       "   'img_prompt': 'talk, in futuristic style'},\n",
       "  '4': {'org': '\"but could you come away like that, carl, without arranging things? could you just walk off and leave your business?\" alexandra asked.',\n",
       "   'img_prompt': 'business, in futuristic style'}},\n",
       " '69': {}}"
      ]
     },
     "execution_count": 7,
     "metadata": {},
     "output_type": "execute_result"
    }
   ],
   "source": [
    "data"
   ]
  },
  {
   "cell_type": "code",
   "execution_count": 6,
   "metadata": {},
   "outputs": [],
   "source": [
    "if os.path.exists(\"../datasets/bookSumm/images/\"):\n",
    "    shutil.rmtree(\"../datasets/bookSumm/images/\")    \n",
    "os.makedirs(\"../datasets/bookSumm/images/\")\n",
    "\n",
    "if os.path.exists(\"../datasets/bookSumm/labels/\"):\n",
    "    shutil.rmtree(\"../datasets/bookSumm/labels/\")    \n",
    "os.makedirs(\"../datasets/bookSumm/labels/\")"
   ]
  },
  {
   "cell_type": "code",
   "execution_count": 8,
   "metadata": {
    "scrolled": true
   },
   "outputs": [
    {
     "name": "stdout",
     "output_type": "stream",
     "text": [
      "Processing 0...\n",
      "Generating for: book with no pictures or conversations, in futuristic style\n"
     ]
    },
    {
     "data": {
      "application/vnd.jupyter.widget-view+json": {
       "model_id": "b86841fec06649008cb244003894a71d",
       "version_major": 2,
       "version_minor": 0
      },
      "text/plain": [
       "  0%|          | 0/50 [00:00<?, ?it/s]"
      ]
     },
     "metadata": {},
     "output_type": "display_data"
    },
    {
     "name": "stdout",
     "output_type": "stream",
     "text": [
      "Generating for: daisy-chain, in futuristic style\n"
     ]
    },
    {
     "data": {
      "application/vnd.jupyter.widget-view+json": {
       "model_id": "aca9c7b027d74033b46bb393e436e436",
       "version_major": 2,
       "version_minor": 0
      },
      "text/plain": [
       "  0%|          | 0/50 [00:00<?, ?it/s]"
      ]
     },
     "metadata": {},
     "output_type": "display_data"
    },
    {
     "name": "stdout",
     "output_type": "stream",
     "text": [
      "Generating for: rabbit with pink eyes and a watch, in futuristic style\n"
     ]
    },
    {
     "data": {
      "application/vnd.jupyter.widget-view+json": {
       "model_id": "c52ae52d73bd46a5a5d161ebdd54ea2e",
       "version_major": 2,
       "version_minor": 0
      },
      "text/plain": [
       "  0%|          | 0/50 [00:00<?, ?it/s]"
      ]
     },
     "metadata": {},
     "output_type": "display_data"
    },
    {
     "name": "stdout",
     "output_type": "stream",
     "text": [
      "Generating for: alice, in futuristic style\n"
     ]
    },
    {
     "data": {
      "application/vnd.jupyter.widget-view+json": {
       "model_id": "7573a40c1e744104976abe177be43ab3",
       "version_major": 2,
       "version_minor": 0
      },
      "text/plain": [
       "  0%|          | 0/50 [00:00<?, ?it/s]"
      ]
     },
     "metadata": {},
     "output_type": "display_data"
    },
    {
     "name": "stdout",
     "output_type": "stream",
     "text": [
      "Generating for: deep well, in futuristic style\n"
     ]
    },
    {
     "data": {
      "application/vnd.jupyter.widget-view+json": {
       "model_id": "17d7b175458d4f57b53df3235983fe8a",
       "version_major": 2,
       "version_minor": 0
      },
      "text/plain": [
       "  0%|          | 0/50 [00:00<?, ?it/s]"
      ]
     },
     "metadata": {},
     "output_type": "display_data"
    },
    {
     "name": "stdout",
     "output_type": "stream",
     "text": [
      "Processing 1...\n",
      "Generating for: telescope, in watercolor style\n"
     ]
    },
    {
     "data": {
      "application/vnd.jupyter.widget-view+json": {
       "model_id": "a129d1b318f448ceba3691db1a1336b3",
       "version_major": 2,
       "version_minor": 0
      },
      "text/plain": [
       "  0%|          | 0/50 [00:00<?, ?it/s]"
      ]
     },
     "metadata": {},
     "output_type": "display_data"
    },
    {
     "name": "stdout",
     "output_type": "stream",
     "text": [
      "Generating for: presents, in watercolor style\n"
     ]
    },
    {
     "data": {
      "application/vnd.jupyter.widget-view+json": {
       "model_id": "f0921835a9184360b961f20d467ec06b",
       "version_major": 2,
       "version_minor": 0
      },
      "text/plain": [
       "  0%|          | 0/50 [00:00<?, ?it/s]"
      ]
     },
     "metadata": {},
     "output_type": "display_data"
    },
    {
     "name": "stdout",
     "output_type": "stream",
     "text": [
      "Generating for: hearthrug, in watercolor style\n"
     ]
    },
    {
     "data": {
      "application/vnd.jupyter.widget-view+json": {
       "model_id": "5f3d66ebd9c64f4da374a509ff943e23",
       "version_major": 2,
       "version_minor": 0
      },
      "text/plain": [
       "  0%|          | 0/50 [00:00<?, ?it/s]"
      ]
     },
     "metadata": {},
     "output_type": "display_data"
    },
    {
     "name": "stdout",
     "output_type": "stream",
     "text": [
      "Generating for: nonsense talk, in watercolor style\n"
     ]
    },
    {
     "data": {
      "application/vnd.jupyter.widget-view+json": {
       "model_id": "4a94e576c8964ba6a21d7470c92546c5",
       "version_major": 2,
       "version_minor": 0
      },
      "text/plain": [
       "  0%|          | 0/50 [00:00<?, ?it/s]"
      ]
     },
     "metadata": {},
     "output_type": "display_data"
    },
    {
     "name": "stdout",
     "output_type": "stream",
     "text": [
      "Generating for: golden key, in watercolor style\n"
     ]
    },
    {
     "data": {
      "application/vnd.jupyter.widget-view+json": {
       "model_id": "a6a4ab7c04f24412b3581a66773fab2a",
       "version_major": 2,
       "version_minor": 0
      },
      "text/plain": [
       "  0%|          | 0/50 [00:00<?, ?it/s]"
      ]
     },
     "metadata": {},
     "output_type": "display_data"
    },
    {
     "name": "stdout",
     "output_type": "stream",
     "text": [
      "Processing 2...\n",
      "Generating for: wet and bedraggled feathers of a bird., in 3D rendering style\n"
     ]
    },
    {
     "data": {
      "application/vnd.jupyter.widget-view+json": {
       "model_id": "85cfcac522724425a6c30c2682da405a",
       "version_major": 2,
       "version_minor": 0
      },
      "text/plain": [
       "  0%|          | 0/50 [00:00<?, ?it/s]"
      ]
     },
     "metadata": {},
     "output_type": "display_data"
    },
    {
     "name": "stdout",
     "output_type": "stream",
     "text": [
      "Generating for: a long argument with a sulky lory., in 3D rendering style\n"
     ]
    },
    {
     "data": {
      "application/vnd.jupyter.widget-view+json": {
       "model_id": "96e62ce361394b0a8b2abff5e05a4a39",
       "version_major": 2,
       "version_minor": 0
      },
      "text/plain": [
       "  0%|          | 0/50 [00:00<?, ?it/s]"
      ]
     },
     "metadata": {},
     "output_type": "display_data"
    },
    {
     "name": "stdout",
     "output_type": "stream",
     "text": [
      "Generating for: mouse calling for everyone to sit in a large ring., in 3D rendering style\n"
     ]
    },
    {
     "data": {
      "application/vnd.jupyter.widget-view+json": {
       "model_id": "7b01b00dd59d4a4fb957473159c1a611",
       "version_major": 2,
       "version_minor": 0
      },
      "text/plain": [
       "  0%|          | 0/50 [00:00<?, ?it/s]"
      ]
     },
     "metadata": {},
     "output_type": "display_data"
    },
    {
     "name": "stdout",
     "output_type": "stream",
     "text": [
      "Generating for: the driest thing the mouse knows - a history book., in 3D rendering style\n"
     ]
    },
    {
     "data": {
      "application/vnd.jupyter.widget-view+json": {
       "model_id": "09de7a1797c24ef2a6a7a18448073a04",
       "version_major": 2,
       "version_minor": 0
      },
      "text/plain": [
       "  0%|          | 0/50 [00:00<?, ?it/s]"
      ]
     },
     "metadata": {},
     "output_type": "display_data"
    },
    {
     "name": "stdout",
     "output_type": "stream",
     "text": [
      "Generating for: the lory shivering in disgust., in 3D rendering style\n"
     ]
    },
    {
     "data": {
      "application/vnd.jupyter.widget-view+json": {
       "model_id": "9c411bf33e604b59967d43dfbc344927",
       "version_major": 2,
       "version_minor": 0
      },
      "text/plain": [
       "  0%|          | 0/50 [00:00<?, ?it/s]"
      ]
     },
     "metadata": {},
     "output_type": "display_data"
    },
    {
     "name": "stdout",
     "output_type": "stream",
     "text": [
      "Processing 3...\n",
      "Generating for: glass table, in futuristic style\n"
     ]
    },
    {
     "data": {
      "application/vnd.jupyter.widget-view+json": {
       "model_id": "3cbdb3bf01fc441db0462b9b23dff7e1",
       "version_major": 2,
       "version_minor": 0
      },
      "text/plain": [
       "  0%|          | 0/50 [00:00<?, ?it/s]"
      ]
     },
     "metadata": {},
     "output_type": "display_data"
    },
    {
     "name": "stdout",
     "output_type": "stream",
     "text": [
      "Generating for: rabbit, in futuristic style\n"
     ]
    },
    {
     "data": {
      "application/vnd.jupyter.widget-view+json": {
       "model_id": "de18b283ac79433faa90f5e9793d4b28",
       "version_major": 2,
       "version_minor": 0
      },
      "text/plain": [
       "  0%|          | 0/50 [00:00<?, ?it/s]"
      ]
     },
     "metadata": {},
     "output_type": "display_data"
    },
    {
     "name": "stdout",
     "output_type": "stream",
     "text": [
      "Generating for: bright brass plate, in futuristic style\n"
     ]
    },
    {
     "data": {
      "application/vnd.jupyter.widget-view+json": {
       "model_id": "17a2f4e056d74d2c994d436382c4d77b",
       "version_major": 2,
       "version_minor": 0
      },
      "text/plain": [
       "  0%|          | 0/50 [00:00<?, ?it/s]"
      ]
     },
     "metadata": {},
     "output_type": "display_data"
    },
    {
     "name": "stdout",
     "output_type": "stream",
     "text": [
      "Generating for: fan and gloves, in futuristic style\n"
     ]
    },
    {
     "data": {
      "application/vnd.jupyter.widget-view+json": {
       "model_id": "ffa9f3c219a0492ba0aeee528df309f2",
       "version_major": 2,
       "version_minor": 0
      },
      "text/plain": [
       "  0%|          | 0/50 [00:00<?, ?it/s]"
      ]
     },
     "metadata": {},
     "output_type": "display_data"
    },
    {
     "name": "stdout",
     "output_type": "stream",
     "text": [
      "Generating for: little bottle, in futuristic style\n"
     ]
    },
    {
     "data": {
      "application/vnd.jupyter.widget-view+json": {
       "model_id": "8265400a7d1144dcb24d1be141f81ddd",
       "version_major": 2,
       "version_minor": 0
      },
      "text/plain": [
       "  0%|          | 0/50 [00:00<?, ?it/s]"
      ]
     },
     "metadata": {},
     "output_type": "display_data"
    },
    {
     "name": "stdout",
     "output_type": "stream",
     "text": [
      "Processing 4...\n",
      "Generating for: a hookah, in oil painting style\n"
     ]
    },
    {
     "data": {
      "application/vnd.jupyter.widget-view+json": {
       "model_id": "46a4508fead945aca7fa58b10c7a9d45",
       "version_major": 2,
       "version_minor": 0
      },
      "text/plain": [
       "  0%|          | 0/50 [00:00<?, ?it/s]"
      ]
     },
     "metadata": {},
     "output_type": "display_data"
    },
    {
     "name": "stdout",
     "output_type": "stream",
     "text": [
      "Generating for: the caterpillar, in oil painting style\n"
     ]
    },
    {
     "data": {
      "application/vnd.jupyter.widget-view+json": {
       "model_id": "57e9a1bf7f614926970d556cc383d8f7",
       "version_major": 2,
       "version_minor": 0
      },
      "text/plain": [
       "  0%|          | 0/50 [00:00<?, ?it/s]"
      ]
     },
     "metadata": {},
     "output_type": "display_data"
    },
    {
     "name": "stdout",
     "output_type": "stream",
     "text": [
      "Generating for: an awkward smile, in oil painting style\n"
     ]
    },
    {
     "data": {
      "application/vnd.jupyter.widget-view+json": {
       "model_id": "f07fbe9785484ab89f984f14b0c75412",
       "version_major": 2,
       "version_minor": 0
      },
      "text/plain": [
       "  0%|          | 0/50 [00:00<?, ?it/s]"
      ]
     },
     "metadata": {},
     "output_type": "display_data"
    },
    {
     "name": "stdout",
     "output_type": "stream",
     "text": [
      "Generating for: a stern expression, in oil painting style\n"
     ]
    },
    {
     "data": {
      "application/vnd.jupyter.widget-view+json": {
       "model_id": "a7eac46879f64cbd97546622ec6267ec",
       "version_major": 2,
       "version_minor": 0
      },
      "text/plain": [
       "  0%|          | 0/50 [00:00<?, ?it/s]"
      ]
     },
     "metadata": {},
     "output_type": "display_data"
    },
    {
     "name": "stdout",
     "output_type": "stream",
     "text": [
      "Generating for: confusion, in oil painting style\n"
     ]
    },
    {
     "data": {
      "application/vnd.jupyter.widget-view+json": {
       "model_id": "e543179d6ef44364846732e53f6343e6",
       "version_major": 2,
       "version_minor": 0
      },
      "text/plain": [
       "  0%|          | 0/50 [00:00<?, ?it/s]"
      ]
     },
     "metadata": {},
     "output_type": "display_data"
    },
    {
     "name": "stdout",
     "output_type": "stream",
     "text": [
      "Processing 5...\n",
      "Generating for: a house, in 3D rendering style\n"
     ]
    },
    {
     "data": {
      "application/vnd.jupyter.widget-view+json": {
       "model_id": "b04c447119804aafb86e89fc2596885f",
       "version_major": 2,
       "version_minor": 0
      },
      "text/plain": [
       "  0%|          | 0/50 [00:00<?, ?it/s]"
      ]
     },
     "metadata": {},
     "output_type": "display_data"
    },
    {
     "name": "stdout",
     "output_type": "stream",
     "text": [
      "Generating for: a great letter, in 3D rendering style\n"
     ]
    },
    {
     "data": {
      "application/vnd.jupyter.widget-view+json": {
       "model_id": "01606ef5cd7b41fbb9e7441bb9206c36",
       "version_major": 2,
       "version_minor": 0
      },
      "text/plain": [
       "  0%|          | 0/50 [00:00<?, ?it/s]"
      ]
     },
     "metadata": {},
     "output_type": "display_data"
    },
    {
     "name": "stdout",
     "output_type": "stream",
     "text": [
      "Generating for: entangled curls, in 3D rendering style\n"
     ]
    },
    {
     "data": {
      "application/vnd.jupyter.widget-view+json": {
       "model_id": "2587ed44a8fb455f90f794ef4df7540e",
       "version_major": 2,
       "version_minor": 0
      },
      "text/plain": [
       "  0%|          | 0/50 [00:00<?, ?it/s]"
      ]
     },
     "metadata": {},
     "output_type": "display_data"
    },
    {
     "name": "stdout",
     "output_type": "stream",
     "text": [
      "Generating for: the other footman sitting on the ground, in 3D rendering style\n"
     ]
    },
    {
     "data": {
      "application/vnd.jupyter.widget-view+json": {
       "model_id": "d462004cea8a4357b2766f24a7917432",
       "version_major": 2,
       "version_minor": 0
      },
      "text/plain": [
       "  0%|          | 0/50 [00:00<?, ?it/s]"
      ]
     },
     "metadata": {},
     "output_type": "display_data"
    },
    {
     "name": "stdout",
     "output_type": "stream",
     "text": [
      "Generating for: the door, in 3D rendering style\n"
     ]
    },
    {
     "data": {
      "application/vnd.jupyter.widget-view+json": {
       "model_id": "b15876c25d6942c7998eb5801af11758",
       "version_major": 2,
       "version_minor": 0
      },
      "text/plain": [
       "  0%|          | 0/50 [00:00<?, ?it/s]"
      ]
     },
     "metadata": {},
     "output_type": "display_data"
    },
    {
     "name": "stdout",
     "output_type": "stream",
     "text": [
      "Processing 6...\n",
      "Generating for: cushion, in futuristic style\n"
     ]
    },
    {
     "data": {
      "application/vnd.jupyter.widget-view+json": {
       "model_id": "cc5fc92d362443b78dbde8c9a17191df",
       "version_major": 2,
       "version_minor": 0
      },
      "text/plain": [
       "  0%|          | 0/50 [00:00<?, ?it/s]"
      ]
     },
     "metadata": {},
     "output_type": "display_data"
    },
    {
     "name": "stdout",
     "output_type": "stream",
     "text": [
      "Generating for: arm-chair, in futuristic style\n"
     ]
    },
    {
     "data": {
      "application/vnd.jupyter.widget-view+json": {
       "model_id": "5b28a1627ef94d53b5188a5ae7c6ea81",
       "version_major": 2,
       "version_minor": 0
      },
      "text/plain": [
       "  0%|          | 0/50 [00:00<?, ?it/s]"
      ]
     },
     "metadata": {},
     "output_type": "display_data"
    },
    {
     "name": "stdout",
     "output_type": "stream",
     "text": [
      "Generating for: wine, in futuristic style\n"
     ]
    },
    {
     "data": {
      "application/vnd.jupyter.widget-view+json": {
       "model_id": "08bd34b7faf346bfa7e947eb9b554934",
       "version_major": 2,
       "version_minor": 0
      },
      "text/plain": [
       "  0%|          | 0/50 [00:00<?, ?it/s]"
      ]
     },
     "metadata": {},
     "output_type": "display_data"
    },
    {
     "name": "stdout",
     "output_type": "stream",
     "text": [
      "Generating for: tea, in futuristic style\n"
     ]
    },
    {
     "data": {
      "application/vnd.jupyter.widget-view+json": {
       "model_id": "a7d9e2a67b5748ca853d16a34e8cf6ff",
       "version_major": 2,
       "version_minor": 0
      },
      "text/plain": [
       "  0%|          | 0/50 [00:00<?, ?it/s]"
      ]
     },
     "metadata": {},
     "output_type": "display_data"
    },
    {
     "name": "stdout",
     "output_type": "stream",
     "text": [
      "Generating for: march hare, in futuristic style\n"
     ]
    },
    {
     "data": {
      "application/vnd.jupyter.widget-view+json": {
       "model_id": "82d080be6c604b2cb4cf09119677f0a7",
       "version_major": 2,
       "version_minor": 0
      },
      "text/plain": [
       "  0%|          | 0/50 [00:00<?, ?it/s]"
      ]
     },
     "metadata": {},
     "output_type": "display_data"
    },
    {
     "name": "stdout",
     "output_type": "stream",
     "text": [
      "Processing 7...\n",
      "Generating for: painting brush with red paint on the bristles., in futuristic style\n"
     ]
    },
    {
     "data": {
      "application/vnd.jupyter.widget-view+json": {
       "model_id": "4dc1fcb8fabb4d7c9dce58ebbc5d910d",
       "version_major": 2,
       "version_minor": 0
      },
      "text/plain": [
       "  0%|          | 0/50 [00:00<?, ?it/s]"
      ]
     },
     "metadata": {},
     "output_type": "display_data"
    },
    {
     "name": "stdout",
     "output_type": "stream",
     "text": [
      "Generating for: sulky-looking stuffed toy elephant., in futuristic style\n"
     ]
    },
    {
     "data": {
      "application/vnd.jupyter.widget-view+json": {
       "model_id": "3857bc97a2b94e7ebec8b9f84a2334ef",
       "version_major": 2,
       "version_minor": 0
      },
      "text/plain": [
       "  0%|          | 0/50 [00:00<?, ?it/s]"
      ]
     },
     "metadata": {},
     "output_type": "display_data"
    },
    {
     "name": "stdout",
     "output_type": "stream",
     "text": [
      "Generating for: a finger pointing at someone., in futuristic style\n"
     ]
    },
    {
     "data": {
      "application/vnd.jupyter.widget-view+json": {
       "model_id": "606a76accfaf4f698eb4eea13bf3ce35",
       "version_major": 2,
       "version_minor": 0
      },
      "text/plain": [
       "  0%|          | 0/50 [00:00<?, ?it/s]"
      ]
     },
     "metadata": {},
     "output_type": "display_data"
    },
    {
     "name": "stdout",
     "output_type": "stream",
     "text": [
      "Generating for: frowning number five figurine., in futuristic style\n"
     ]
    },
    {
     "data": {
      "application/vnd.jupyter.widget-view+json": {
       "model_id": "84f88cbd2e984274bb17c0b0d9644670",
       "version_major": 2,
       "version_minor": 0
      },
      "text/plain": [
       "  0%|          | 0/50 [00:00<?, ?it/s]"
      ]
     },
     "metadata": {},
     "output_type": "display_data"
    },
    {
     "name": "stdout",
     "output_type": "stream",
     "text": [
      "Generating for: curious-looking face on a book cover., in futuristic style\n"
     ]
    },
    {
     "data": {
      "application/vnd.jupyter.widget-view+json": {
       "model_id": "d7e7ef9eef7e4992a57c7c154c425b5d",
       "version_major": 2,
       "version_minor": 0
      },
      "text/plain": [
       "  0%|          | 0/50 [00:00<?, ?it/s]"
      ]
     },
     "metadata": {},
     "output_type": "display_data"
    },
    {
     "name": "stdout",
     "output_type": "stream",
     "text": [
      "Processing 8...\n",
      "Generating for: arm intertwined with arm in a friendly embrace., in pop art style\n"
     ]
    },
    {
     "data": {
      "application/vnd.jupyter.widget-view+json": {
       "model_id": "72255c6563b84dc38e3d7574da2077b1",
       "version_major": 2,
       "version_minor": 0
      },
      "text/plain": [
       "  0%|          | 0/50 [00:00<?, ?it/s]"
      ]
     },
     "metadata": {},
     "output_type": "display_data"
    },
    {
     "name": "stdout",
     "output_type": "stream",
     "text": [
      "Generating for: container of pepper., in pop art style\n"
     ]
    },
    {
     "data": {
      "application/vnd.jupyter.widget-view+json": {
       "model_id": "abb4226308eb49f8bc7197891e67389a",
       "version_major": 2,
       "version_minor": 0
      },
      "text/plain": [
       "  0%|          | 0/50 [00:00<?, ?it/s]"
      ]
     },
     "metadata": {},
     "output_type": "display_data"
    },
    {
     "name": "stdout",
     "output_type": "stream",
     "text": [
      "Generating for: a duchess's kitchen without pepper., in pop art style\n"
     ]
    },
    {
     "data": {
      "application/vnd.jupyter.widget-view+json": {
       "model_id": "fd8ea4e9bfa4469da1f3972a311a444e",
       "version_major": 2,
       "version_minor": 0
      },
      "text/plain": [
       "  0%|          | 0/50 [00:00<?, ?it/s]"
      ]
     },
     "metadata": {},
     "output_type": "display_data"
    },
    {
     "name": "stdout",
     "output_type": "stream",
     "text": [
      "Generating for: voice whispering in the ear., in pop art style\n"
     ]
    },
    {
     "data": {
      "application/vnd.jupyter.widget-view+json": {
       "model_id": "1052e882ffe445b195622162b1a7c4e9",
       "version_major": 2,
       "version_minor": 0
      },
      "text/plain": [
       "  0%|          | 0/50 [00:00<?, ?it/s]"
      ]
     },
     "metadata": {},
     "output_type": "display_data"
    },
    {
     "name": "stdout",
     "output_type": "stream",
     "text": [
      "Generating for: uncertainty if there is a moral to the story., in pop art style\n"
     ]
    },
    {
     "data": {
      "application/vnd.jupyter.widget-view+json": {
       "model_id": "0c5b4d58ef3a4ea894a240a8eea990b4",
       "version_major": 2,
       "version_minor": 0
      },
      "text/plain": [
       "  0%|          | 0/50 [00:00<?, ?it/s]"
      ]
     },
     "metadata": {},
     "output_type": "display_data"
    },
    {
     "name": "stdout",
     "output_type": "stream",
     "text": [
      "Processing 9...\n",
      "Generating for: flapper with tears stains, in black and white photo style\n"
     ]
    },
    {
     "data": {
      "application/vnd.jupyter.widget-view+json": {
       "model_id": "7800d5419c5140acac40a051e2d8cbf6",
       "version_major": 2,
       "version_minor": 0
      },
      "text/plain": [
       "  0%|          | 0/50 [00:00<?, ?it/s]"
      ]
     },
     "metadata": {},
     "output_type": "display_data"
    },
    {
     "name": "stdout",
     "output_type": "stream",
     "text": [
      "Generating for: lobster quadrille illustration, in black and white photo style\n"
     ]
    },
    {
     "data": {
      "application/vnd.jupyter.widget-view+json": {
       "model_id": "7510ad3505b740b0aed1c411eec0f61e",
       "version_major": 2,
       "version_minor": 0
      },
      "text/plain": [
       "  0%|          | 0/50 [00:00<?, ?it/s]"
      ]
     },
     "metadata": {},
     "output_type": "display_data"
    },
    {
     "name": "stdout",
     "output_type": "stream",
     "text": [
      "Generating for: alice's curious expression, in black and white photo style\n"
     ]
    },
    {
     "data": {
      "application/vnd.jupyter.widget-view+json": {
       "model_id": "2e405ee210cc4636ba420b7d052cb617",
       "version_major": 2,
       "version_minor": 0
      },
      "text/plain": [
       "  0%|          | 0/50 [00:00<?, ?it/s]"
      ]
     },
     "metadata": {},
     "output_type": "display_data"
    },
    {
     "name": "stdout",
     "output_type": "stream",
     "text": [
      "Generating for: gryphon explaining dance formation, in black and white photo style\n"
     ]
    },
    {
     "data": {
      "application/vnd.jupyter.widget-view+json": {
       "model_id": "1686f1917fe04007b60a649ec45a7918",
       "version_major": 2,
       "version_minor": 0
      },
      "text/plain": [
       "  0%|          | 0/50 [00:00<?, ?it/s]"
      ]
     },
     "metadata": {},
     "output_type": "display_data"
    },
    {
     "name": "stdout",
     "output_type": "stream",
     "text": [
      "Generating for: clearing jelly-fish from the way, in black and white photo style\n"
     ]
    },
    {
     "data": {
      "application/vnd.jupyter.widget-view+json": {
       "model_id": "c2018936949d46f4ac5cf4abef3cd9b1",
       "version_major": 2,
       "version_minor": 0
      },
      "text/plain": [
       "  0%|          | 0/50 [00:00<?, ?it/s]"
      ]
     },
     "metadata": {},
     "output_type": "display_data"
    },
    {
     "name": "stdout",
     "output_type": "stream",
     "text": [
      "Processing 10...\n",
      "Generating for: large dish of tarts, in black and white photo style\n"
     ]
    },
    {
     "data": {
      "application/vnd.jupyter.widget-view+json": {
       "model_id": "2a4a12f4e3e045b191ef8092bc3639b1",
       "version_major": 2,
       "version_minor": 0
      },
      "text/plain": [
       "  0%|          | 0/50 [00:00<?, ?it/s]"
      ]
     },
     "metadata": {},
     "output_type": "display_data"
    },
    {
     "name": "stdout",
     "output_type": "stream",
     "text": [
      "Generating for: judge's great wig, in black and white photo style\n"
     ]
    },
    {
     "data": {
      "application/vnd.jupyter.widget-view+json": {
       "model_id": "2492e36e92df4a2f929286d5982b0227",
       "version_major": 2,
       "version_minor": 0
      },
      "text/plain": [
       "  0%|          | 0/50 [00:00<?, ?it/s]"
      ]
     },
     "metadata": {},
     "output_type": "display_data"
    },
    {
     "name": "stdout",
     "output_type": "stream",
     "text": [
      "Generating for: the king's uncomfortable crown, in black and white photo style\n"
     ]
    },
    {
     "data": {
      "application/vnd.jupyter.widget-view+json": {
       "model_id": "8d5e26941c694fc380895864cdedb8cc",
       "version_major": 2,
       "version_minor": 0
      },
      "text/plain": [
       "  0%|          | 0/50 [00:00<?, ?it/s]"
      ]
     },
     "metadata": {},
     "output_type": "display_data"
    },
    {
     "name": "stdout",
     "output_type": "stream",
     "text": [
      "Generating for: twelve creatures in the jury-box, in black and white photo style\n"
     ]
    },
    {
     "data": {
      "application/vnd.jupyter.widget-view+json": {
       "model_id": "84ab45675dfc4cfeb142b6e7737e58bb",
       "version_major": 2,
       "version_minor": 0
      },
      "text/plain": [
       "  0%|          | 0/50 [00:00<?, ?it/s]"
      ]
     },
     "metadata": {},
     "output_type": "display_data"
    },
    {
     "name": "stdout",
     "output_type": "stream",
     "text": [
      "Generating for: jurors busily writing on slates, in black and white photo style\n"
     ]
    },
    {
     "data": {
      "application/vnd.jupyter.widget-view+json": {
       "model_id": "204794dc52114f3fb1858f71476af052",
       "version_major": 2,
       "version_minor": 0
      },
      "text/plain": [
       "  0%|          | 0/50 [00:00<?, ?it/s]"
      ]
     },
     "metadata": {},
     "output_type": "display_data"
    },
    {
     "name": "stdout",
     "output_type": "stream",
     "text": [
      "Processing 11...\n",
      "Generating for: jury-box, in oil painting style\n"
     ]
    },
    {
     "data": {
      "application/vnd.jupyter.widget-view+json": {
       "model_id": "e932308b4e7b4bb28076d506906ffb4e",
       "version_major": 2,
       "version_minor": 0
      },
      "text/plain": [
       "  0%|          | 0/50 [00:00<?, ?it/s]"
      ]
     },
     "metadata": {},
     "output_type": "display_data"
    },
    {
     "name": "stdout",
     "output_type": "stream",
     "text": [
      "Generating for: goldfish, in oil painting style\n"
     ]
    },
    {
     "data": {
      "application/vnd.jupyter.widget-view+json": {
       "model_id": "bd60e1bc3f4249aab0832aec3adca2f1",
       "version_major": 2,
       "version_minor": 0
      },
      "text/plain": [
       "  0%|          | 0/50 [00:00<?, ?it/s]"
      ]
     },
     "metadata": {},
     "output_type": "display_data"
    },
    {
     "name": "stdout",
     "output_type": "stream",
     "text": [
      "Generating for: jurymen, in oil painting style\n"
     ]
    },
    {
     "data": {
      "application/vnd.jupyter.widget-view+json": {
       "model_id": "67fe22a28f7f46b8bc8a0131486b8dce",
       "version_major": 2,
       "version_minor": 0
      },
      "text/plain": [
       "  0%|          | 0/50 [00:00<?, ?it/s]"
      ]
     },
     "metadata": {},
     "output_type": "display_data"
    },
    {
     "name": "stdout",
     "output_type": "stream",
     "text": [
      "Generating for: lizard, in oil painting style\n"
     ]
    },
    {
     "data": {
      "application/vnd.jupyter.widget-view+json": {
       "model_id": "c001e97ec7df4484b040dc24ce4bd4c1",
       "version_major": 2,
       "version_minor": 0
      },
      "text/plain": [
       "  0%|          | 0/50 [00:00<?, ?it/s]"
      ]
     },
     "metadata": {},
     "output_type": "display_data"
    },
    {
     "name": "stdout",
     "output_type": "stream",
     "text": [
      "Generating for: slates and pencils, in oil painting style\n"
     ]
    },
    {
     "data": {
      "application/vnd.jupyter.widget-view+json": {
       "model_id": "41083c033a444fb8a5974f87e4f19ef8",
       "version_major": 2,
       "version_minor": 0
      },
      "text/plain": [
       "  0%|          | 0/50 [00:00<?, ?it/s]"
      ]
     },
     "metadata": {},
     "output_type": "display_data"
    },
    {
     "name": "stdout",
     "output_type": "stream",
     "text": [
      "Processing 12...\n",
      "Generating for: flower, in watercolor style\n"
     ]
    },
    {
     "data": {
      "application/vnd.jupyter.widget-view+json": {
       "model_id": "083e3f9ca465469da16634ffa1d7f5c4",
       "version_major": 2,
       "version_minor": 0
      },
      "text/plain": [
       "  0%|          | 0/50 [00:00<?, ?it/s]"
      ]
     },
     "metadata": {},
     "output_type": "display_data"
    },
    {
     "name": "stdout",
     "output_type": "stream",
     "text": [
      "Generating for: boxes, in watercolor style\n"
     ]
    },
    {
     "data": {
      "application/vnd.jupyter.widget-view+json": {
       "model_id": "fe0695d06a43499e8cb7470e948a7b95",
       "version_major": 2,
       "version_minor": 0
      },
      "text/plain": [
       "  0%|          | 0/50 [00:00<?, ?it/s]"
      ]
     },
     "metadata": {},
     "output_type": "display_data"
    },
    {
     "name": "stdout",
     "output_type": "stream",
     "text": [
      "Generating for: cab, in watercolor style\n"
     ]
    },
    {
     "data": {
      "application/vnd.jupyter.widget-view+json": {
       "model_id": "caa978e4d4dc4da2bdf93d83d38ab25b",
       "version_major": 2,
       "version_minor": 0
      },
      "text/plain": [
       "  0%|          | 0/50 [00:00<?, ?it/s]"
      ]
     },
     "metadata": {},
     "output_type": "display_data"
    },
    {
     "name": "stdout",
     "output_type": "stream",
     "text": [
      "Generating for: stocks, in watercolor style\n"
     ]
    },
    {
     "data": {
      "application/vnd.jupyter.widget-view+json": {
       "model_id": "23bdee500fdd4b06aa061dcd8f14688a",
       "version_major": 2,
       "version_minor": 0
      },
      "text/plain": [
       "  0%|          | 0/50 [00:00<?, ?it/s]"
      ]
     },
     "metadata": {},
     "output_type": "display_data"
    },
    {
     "name": "stdout",
     "output_type": "stream",
     "text": [
      "Generating for: pictures, in watercolor style\n"
     ]
    },
    {
     "data": {
      "application/vnd.jupyter.widget-view+json": {
       "model_id": "468fdc26ae5e4c92bc389e1c08da2be3",
       "version_major": 2,
       "version_minor": 0
      },
      "text/plain": [
       "  0%|          | 0/50 [00:00<?, ?it/s]"
      ]
     },
     "metadata": {},
     "output_type": "display_data"
    },
    {
     "name": "stdout",
     "output_type": "stream",
     "text": [
      "Processing 13...\n",
      "Generating for: door opening and nana returning from her evening out., in 3D rendering style\n"
     ]
    },
    {
     "data": {
      "application/vnd.jupyter.widget-view+json": {
       "model_id": "8f8f4226666f4d47a36f73c2230d75b4",
       "version_major": 2,
       "version_minor": 0
      },
      "text/plain": [
       "  0%|          | 0/50 [00:00<?, ?it/s]"
      ]
     },
     "metadata": {},
     "output_type": "display_data"
    },
    {
     "name": "stdout",
     "output_type": "stream",
     "text": [
      "Generating for: window slamming shut on the boy's shadow., in 3D rendering style\n"
     ]
    },
    {
     "data": {
      "application/vnd.jupyter.widget-view+json": {
       "model_id": "024677aca5414bd4a809d192d19906df",
       "version_major": 2,
       "version_minor": 0
      },
      "text/plain": [
       "  0%|          | 0/50 [00:00<?, ?it/s]"
      ]
     },
     "metadata": {},
     "output_type": "display_data"
    },
    {
     "name": "stdout",
     "output_type": "stream",
     "text": [
      "Generating for: ordinary shadow examined by mrs. darling., in 3D rendering style\n"
     ]
    },
    {
     "data": {
      "application/vnd.jupyter.widget-view+json": {
       "model_id": "1291dd99869048a882cba4592b5cc7e2",
       "version_major": 2,
       "version_minor": 0
      },
      "text/plain": [
       "  0%|          | 0/50 [00:00<?, ?it/s]"
      ]
     },
     "metadata": {},
     "output_type": "display_data"
    },
    {
     "name": "stdout",
     "output_type": "stream",
     "text": [
      "Generating for: shadow being hung out at the window., in 3D rendering style\n"
     ]
    },
    {
     "data": {
      "application/vnd.jupyter.widget-view+json": {
       "model_id": "555698be53164609bf9be8b0ee3d0f2f",
       "version_major": 2,
       "version_minor": 0
      },
      "text/plain": [
       "  0%|          | 0/50 [00:00<?, ?it/s]"
      ]
     },
     "metadata": {},
     "output_type": "display_data"
    },
    {
     "name": "stdout",
     "output_type": "stream",
     "text": [
      "Generating for: shadow looking like washing and lowering the house's tone., in 3D rendering style\n"
     ]
    },
    {
     "data": {
      "application/vnd.jupyter.widget-view+json": {
       "model_id": "82532de077e649d693eec76a8416e252",
       "version_major": 2,
       "version_minor": 0
      },
      "text/plain": [
       "  0%|          | 0/50 [00:00<?, ?it/s]"
      ]
     },
     "metadata": {},
     "output_type": "display_data"
    },
    {
     "name": "stdout",
     "output_type": "stream",
     "text": [
      "Processing 14...\n",
      "Generating for: night-lights by children's beds, in pop art style\n"
     ]
    },
    {
     "data": {
      "application/vnd.jupyter.widget-view+json": {
       "model_id": "daab4d05244a46d58ba2953d0111422e",
       "version_major": 2,
       "version_minor": 0
      },
      "text/plain": [
       "  0%|          | 0/50 [00:00<?, ?it/s]"
      ]
     },
     "metadata": {},
     "output_type": "display_data"
    },
    {
     "name": "stdout",
     "output_type": "stream",
     "text": [
      "Generating for: fairy in skeleton leaf dress, in pop art style\n"
     ]
    },
    {
     "data": {
      "application/vnd.jupyter.widget-view+json": {
       "model_id": "e883bcb77c574ad49fed6700719076fe",
       "version_major": 2,
       "version_minor": 0
      },
      "text/plain": [
       "  0%|          | 0/50 [00:00<?, ?it/s]"
      ]
     },
     "metadata": {},
     "output_type": "display_data"
    },
    {
     "name": "stdout",
     "output_type": "stream",
     "text": [
      "Generating for: peter with messy hand from fairy dust, in pop art style\n"
     ]
    },
    {
     "data": {
      "application/vnd.jupyter.widget-view+json": {
       "model_id": "7f1fbe65bb884c90a4116890a51ffdd8",
       "version_major": 2,
       "version_minor": 0
      },
      "text/plain": [
       "  0%|          | 0/50 [00:00<?, ?it/s]"
      ]
     },
     "metadata": {},
     "output_type": "display_data"
    },
    {
     "name": "stdout",
     "output_type": "stream",
     "text": [
      "Generating for: tinker bell in a jug, in pop art style\n"
     ]
    },
    {
     "data": {
      "application/vnd.jupyter.widget-view+json": {
       "model_id": "5593dd444f8f4979946c9a36495af42d",
       "version_major": 2,
       "version_minor": 0
      },
      "text/plain": [
       "  0%|          | 0/50 [00:00<?, ?it/s]"
      ]
     },
     "metadata": {},
     "output_type": "display_data"
    },
    {
     "name": "stdout",
     "output_type": "stream",
     "text": [
      "Generating for: peter asking tinker bell about his shadow, in pop art style\n"
     ]
    },
    {
     "data": {
      "application/vnd.jupyter.widget-view+json": {
       "model_id": "8d81024acc98482e9a93943d09200c2c",
       "version_major": 2,
       "version_minor": 0
      },
      "text/plain": [
       "  0%|          | 0/50 [00:00<?, ?it/s]"
      ]
     },
     "metadata": {},
     "output_type": "display_data"
    },
    {
     "name": "stdout",
     "output_type": "stream",
     "text": [
      "Processing 15...\n",
      "Generating for: compass, in watercolor style\n"
     ]
    },
    {
     "data": {
      "application/vnd.jupyter.widget-view+json": {
       "model_id": "c28ec167e07c41fcb71f0a2a5549e804",
       "version_major": 2,
       "version_minor": 0
      },
      "text/plain": [
       "  0%|          | 0/50 [00:00<?, ?it/s]"
      ]
     },
     "metadata": {},
     "output_type": "display_data"
    },
    {
     "name": "stdout",
     "output_type": "stream",
     "text": [
      "Generating for: map, in watercolor style\n"
     ]
    },
    {
     "data": {
      "application/vnd.jupyter.widget-view+json": {
       "model_id": "c0c505bf24364f12b07b3d1c1dcf3ea8",
       "version_major": 2,
       "version_minor": 0
      },
      "text/plain": [
       "  0%|          | 0/50 [00:00<?, ?it/s]"
      ]
     },
     "metadata": {},
     "output_type": "display_data"
    },
    {
     "name": "stdout",
     "output_type": "stream",
     "text": [
      "Generating for: church spire, in watercolor style\n"
     ]
    },
    {
     "data": {
      "application/vnd.jupyter.widget-view+json": {
       "model_id": "99aef9ce7eef4b53b550fda6f687078a",
       "version_major": 2,
       "version_minor": 0
      },
      "text/plain": [
       "  0%|          | 0/50 [00:00<?, ?it/s]"
      ]
     },
     "metadata": {},
     "output_type": "display_data"
    },
    {
     "name": "stdout",
     "output_type": "stream",
     "text": [
      "Generating for: michael's running shoes, in watercolor style\n"
     ]
    },
    {
     "data": {
      "application/vnd.jupyter.widget-view+json": {
       "model_id": "7fc8f431e50248f9a65089503e6bae5e",
       "version_major": 2,
       "version_minor": 0
      },
      "text/plain": [
       "  0%|          | 0/50 [00:00<?, ?it/s]"
      ]
     },
     "metadata": {},
     "output_type": "display_data"
    },
    {
     "name": "stdout",
     "output_type": "stream",
     "text": [
      "Generating for: room, in watercolor style\n"
     ]
    },
    {
     "data": {
      "application/vnd.jupyter.widget-view+json": {
       "model_id": "9be2b0bb211642738227ffb6bf98fd6c",
       "version_major": 2,
       "version_minor": 0
      },
      "text/plain": [
       "  0%|          | 0/50 [00:00<?, ?it/s]"
      ]
     },
     "metadata": {},
     "output_type": "display_data"
    },
    {
     "name": "stdout",
     "output_type": "stream",
     "text": [
      "Processing 16...\n",
      "Generating for: neverland awakening: a magical alarm clock, in 3D rendering style\n"
     ]
    },
    {
     "data": {
      "application/vnd.jupyter.widget-view+json": {
       "model_id": "7ecbb9070ac14ea79eabd622d383a19a",
       "version_major": 2,
       "version_minor": 0
      },
      "text/plain": [
       "  0%|          | 0/50 [00:00<?, ?it/s]"
      ]
     },
     "metadata": {},
     "output_type": "display_data"
    },
    {
     "name": "stdout",
     "output_type": "stream",
     "text": [
      "Generating for: lively island: a bustling seashell, in 3D rendering style\n"
     ]
    },
    {
     "data": {
      "application/vnd.jupyter.widget-view+json": {
       "model_id": "36bc8377f46a49db922fc70c42e5ec46",
       "version_major": 2,
       "version_minor": 0
      },
      "text/plain": [
       "  0%|          | 0/50 [00:00<?, ?it/s]"
      ]
     },
     "metadata": {},
     "output_type": "display_data"
    },
    {
     "name": "stdout",
     "output_type": "stream",
     "text": [
      "Generating for: island chase: a spinning compass, in 3D rendering style\n"
     ]
    },
    {
     "data": {
      "application/vnd.jupyter.widget-view+json": {
       "model_id": "0869e8d15d1d4dad9f04cccc0c3d8dbf",
       "version_major": 2,
       "version_minor": 0
      },
      "text/plain": [
       "  0%|          | 0/50 [00:00<?, ?it/s]"
      ]
     },
     "metadata": {},
     "output_type": "display_data"
    },
    {
     "name": "stdout",
     "output_type": "stream",
     "text": [
      "Generating for: stealthy boys: a hidden bag of daggers, in 3D rendering style\n"
     ]
    },
    {
     "data": {
      "application/vnd.jupyter.widget-view+json": {
       "model_id": "8ace0ce065694598984be369696ab54a",
       "version_major": 2,
       "version_minor": 0
      },
      "text/plain": [
       "  0%|          | 0/50 [00:00<?, ?it/s]"
      ]
     },
     "metadata": {},
     "output_type": "display_data"
    },
    {
     "name": "stdout",
     "output_type": "stream",
     "text": [
      "Generating for: sure-footed bears: a pair of furry boots, in 3D rendering style\n"
     ]
    },
    {
     "data": {
      "application/vnd.jupyter.widget-view+json": {
       "model_id": "e5be345534a1469ea07a85b0c94ba69f",
       "version_major": 2,
       "version_minor": 0
      },
      "text/plain": [
       "  0%|          | 0/50 [00:00<?, ?it/s]"
      ]
     },
     "metadata": {},
     "output_type": "display_data"
    },
    {
     "name": "stdout",
     "output_type": "stream",
     "text": [
      "Processing 17...\n",
      "Generating for: sword, in futuristic style\n"
     ]
    },
    {
     "data": {
      "application/vnd.jupyter.widget-view+json": {
       "model_id": "f6409633ad7840f6afcec15159dc2946",
       "version_major": 2,
       "version_minor": 0
      },
      "text/plain": [
       "  0%|          | 0/50 [00:00<?, ?it/s]"
      ]
     },
     "metadata": {},
     "output_type": "display_data"
    },
    {
     "name": "stdout",
     "output_type": "stream",
     "text": [
      "Generating for: bow, in futuristic style\n"
     ]
    },
    {
     "data": {
      "application/vnd.jupyter.widget-view+json": {
       "model_id": "56b931a11c85402eb1e43b3963d7771d",
       "version_major": 2,
       "version_minor": 0
      },
      "text/plain": [
       "  0%|          | 0/50 [00:00<?, ?it/s]"
      ]
     },
     "metadata": {},
     "output_type": "display_data"
    },
    {
     "name": "stdout",
     "output_type": "stream",
     "text": [
      "Generating for: fairy, in futuristic style\n"
     ]
    },
    {
     "data": {
      "application/vnd.jupyter.widget-view+json": {
       "model_id": "a436357a4d3347488490c12827f14842",
       "version_major": 2,
       "version_minor": 0
      },
      "text/plain": [
       "  0%|          | 0/50 [00:00<?, ?it/s]"
      ]
     },
     "metadata": {},
     "output_type": "display_data"
    },
    {
     "name": "stdout",
     "output_type": "stream",
     "text": [
      "Generating for: feather, in futuristic style\n"
     ]
    },
    {
     "data": {
      "application/vnd.jupyter.widget-view+json": {
       "model_id": "7d75b9ed89044067a2f83262117112fe",
       "version_major": 2,
       "version_minor": 0
      },
      "text/plain": [
       "  0%|          | 0/50 [00:00<?, ?it/s]"
      ]
     },
     "metadata": {},
     "output_type": "display_data"
    },
    {
     "name": "stdout",
     "output_type": "stream",
     "text": [
      "Generating for: tootles, in futuristic style\n"
     ]
    },
    {
     "data": {
      "application/vnd.jupyter.widget-view+json": {
       "model_id": "7eb723b93bf94a2c807ce33bf9af9df0",
       "version_major": 2,
       "version_minor": 0
      },
      "text/plain": [
       "  0%|          | 0/50 [00:00<?, ?it/s]"
      ]
     },
     "metadata": {},
     "output_type": "display_data"
    },
    {
     "name": "stdout",
     "output_type": "stream",
     "text": [
      "Processing 18...\n",
      "Generating for: measuring tape for fitting hollow trees, in pop art style\n"
     ]
    },
    {
     "data": {
      "application/vnd.jupyter.widget-view+json": {
       "model_id": "8283a19f288f4cd5bb95326e8a4515e3",
       "version_major": 2,
       "version_minor": 0
      },
      "text/plain": [
       "  0%|          | 0/50 [00:00<?, ?it/s]"
      ]
     },
     "metadata": {},
     "output_type": "display_data"
    },
    {
     "name": "stdout",
     "output_type": "stream",
     "text": [
      "Generating for: tailor's measuring tape for fitting trees, in pop art style\n"
     ]
    },
    {
     "data": {
      "application/vnd.jupyter.widget-view+json": {
       "model_id": "3ca20c51695c4866821707f2d7bdd09f",
       "version_major": 2,
       "version_minor": 0
      },
      "text/plain": [
       "  0%|          | 0/50 [00:00<?, ?it/s]"
      ]
     },
     "metadata": {},
     "output_type": "display_data"
    },
    {
     "name": "stdout",
     "output_type": "stream",
     "text": [
      "Generating for: adjustable tool for altering tree size, in pop art style\n"
     ]
    },
    {
     "data": {
      "application/vnd.jupyter.widget-view+json": {
       "model_id": "4d27290ce53545a88d0bfd1b8d898085",
       "version_major": 2,
       "version_minor": 0
      },
      "text/plain": [
       "  0%|          | 0/50 [00:00<?, ?it/s]"
      ]
     },
     "metadata": {},
     "output_type": "display_data"
    },
    {
     "name": "stdout",
     "output_type": "stream",
     "text": [
      "Generating for: bucket in a well toy, in pop art style\n"
     ]
    },
    {
     "data": {
      "application/vnd.jupyter.widget-view+json": {
       "model_id": "f45496cd5d4f435da7ec99966ae14663",
       "version_major": 2,
       "version_minor": 0
      },
      "text/plain": [
       "  0%|          | 0/50 [00:00<?, ?it/s]"
      ]
     },
     "metadata": {},
     "output_type": "display_data"
    },
    {
     "name": "stdout",
     "output_type": "stream",
     "text": [
      "Generating for: exquisite birdcage-shaped recess in the wall, in pop art style\n"
     ]
    },
    {
     "data": {
      "application/vnd.jupyter.widget-view+json": {
       "model_id": "ff409c4c633141788c847cc0f935eea7",
       "version_major": 2,
       "version_minor": 0
      },
      "text/plain": [
       "  0%|          | 0/50 [00:00<?, ?it/s]"
      ]
     },
     "metadata": {},
     "output_type": "display_data"
    },
    {
     "name": "stdout",
     "output_type": "stream",
     "text": [
      "Processing 19...\n",
      "Generating for: shapeless pool of pale colors suspended in darkness - a kaleidoscope, in oil painting style\n"
     ]
    },
    {
     "data": {
      "application/vnd.jupyter.widget-view+json": {
       "model_id": "971dfb51451b491baef1ae4c59ce436e",
       "version_major": 2,
       "version_minor": 0
      },
      "text/plain": [
       "  0%|          | 0/50 [00:00<?, ?it/s]"
      ]
     },
     "metadata": {},
     "output_type": "display_data"
    },
    {
     "name": "stdout",
     "output_type": "stream",
     "text": [
      "Generating for: mermaids basking on marooners' rock - a rock in the shape of a mermaid, in oil painting style\n"
     ]
    },
    {
     "data": {
      "application/vnd.jupyter.widget-view+json": {
       "model_id": "ba797e0dd8ca4be78f251f6eec1a1031",
       "version_major": 2,
       "version_minor": 0
      },
      "text/plain": [
       "  0%|          | 0/50 [00:00<?, ?it/s]"
      ]
     },
     "metadata": {},
     "output_type": "display_data"
    },
    {
     "name": "stdout",
     "output_type": "stream",
     "text": [
      "Generating for: peter sitting on the mermaids' tails - a mermaid tail comb, in oil painting style\n"
     ]
    },
    {
     "data": {
      "application/vnd.jupyter.widget-view+json": {
       "model_id": "d67adb137aa34c51a97d43c186955486",
       "version_major": 2,
       "version_minor": 0
      },
      "text/plain": [
       "  0%|          | 0/50 [00:00<?, ?it/s]"
      ]
     },
     "metadata": {},
     "output_type": "display_data"
    },
    {
     "name": "stdout",
     "output_type": "stream",
     "text": [
      "Generating for: mermaids playing with rainbow water bubbles - rainbow-colored bubbles, in oil painting style\n"
     ]
    },
    {
     "data": {
      "application/vnd.jupyter.widget-view+json": {
       "model_id": "ecf66c078073403781a16afb6dea1741",
       "version_major": 2,
       "version_minor": 0
      },
      "text/plain": [
       "  0%|          | 0/50 [00:00<?, ?it/s]"
      ]
     },
     "metadata": {},
     "output_type": "display_data"
    },
    {
     "name": "stdout",
     "output_type": "stream",
     "text": [
      "Generating for: mermaids adopting john's way of hitting bubbles with their heads - a bubble wand, in oil painting style\n"
     ]
    },
    {
     "data": {
      "application/vnd.jupyter.widget-view+json": {
       "model_id": "0786c0ac27a94983956eaab94f5a30e2",
       "version_major": 2,
       "version_minor": 0
      },
      "text/plain": [
       "  0%|          | 0/50 [00:00<?, ?it/s]"
      ]
     },
     "metadata": {},
     "output_type": "display_data"
    },
    {
     "name": "stdout",
     "output_type": "stream",
     "text": [
      "Processing 20...\n",
      "Generating for: coral bell, in pop art style\n"
     ]
    },
    {
     "data": {
      "application/vnd.jupyter.widget-view+json": {
       "model_id": "9c16530fb55447d78b0b937c465dd1b9",
       "version_major": 2,
       "version_minor": 0
      },
      "text/plain": [
       "  0%|          | 0/50 [00:00<?, ?it/s]"
      ]
     },
     "metadata": {},
     "output_type": "display_data"
    },
    {
     "name": "stdout",
     "output_type": "stream",
     "text": [
      "Generating for: floating paper, in pop art style\n"
     ]
    },
    {
     "data": {
      "application/vnd.jupyter.widget-view+json": {
       "model_id": "192f5ef491ca4997ab9cfc505376e5e3",
       "version_major": 2,
       "version_minor": 0
      },
      "text/plain": [
       "  0%|          | 0/50 [00:00<?, ?it/s]"
      ]
     },
     "metadata": {},
     "output_type": "display_data"
    },
    {
     "name": "stdout",
     "output_type": "stream",
     "text": [
      "Generating for: gallant piece of paper, in pop art style\n"
     ]
    },
    {
     "data": {
      "application/vnd.jupyter.widget-view+json": {
       "model_id": "fe59567537bd4c20b04d9530135072ab",
       "version_major": 2,
       "version_minor": 0
      },
      "text/plain": [
       "  0%|          | 0/50 [00:00<?, ?it/s]"
      ]
     },
     "metadata": {},
     "output_type": "display_data"
    },
    {
     "name": "stdout",
     "output_type": "stream",
     "text": [
      "Generating for: never bird, in pop art style\n"
     ]
    },
    {
     "data": {
      "application/vnd.jupyter.widget-view+json": {
       "model_id": "0f79cc409b844b9893cc34c66f48e48d",
       "version_major": 2,
       "version_minor": 0
      },
      "text/plain": [
       "  0%|          | 0/50 [00:00<?, ?it/s]"
      ]
     },
     "metadata": {},
     "output_type": "display_data"
    },
    {
     "name": "stdout",
     "output_type": "stream",
     "text": [
      "Generating for: lack of understanding, in pop art style\n"
     ]
    },
    {
     "data": {
      "application/vnd.jupyter.widget-view+json": {
       "model_id": "8ee36ddd12d54ef4a9d3a04d41b827aa",
       "version_major": 2,
       "version_minor": 0
      },
      "text/plain": [
       "  0%|          | 0/50 [00:00<?, ?it/s]"
      ]
     },
     "metadata": {},
     "output_type": "display_data"
    },
    {
     "name": "stdout",
     "output_type": "stream",
     "text": [
      "Processing 21...\n",
      "Generating for: pipe of peace, in oil painting style\n"
     ]
    },
    {
     "data": {
      "application/vnd.jupyter.widget-view+json": {
       "model_id": "dc99205b8bfe4516bf80de76df5e6b72",
       "version_major": 2,
       "version_minor": 0
      },
      "text/plain": [
       "  0%|          | 0/50 [00:00<?, ?it/s]"
      ]
     },
     "metadata": {},
     "output_type": "display_data"
    },
    {
     "name": "stdout",
     "output_type": "stream",
     "text": [
      "Generating for: prostration, in oil painting style\n"
     ]
    },
    {
     "data": {
      "application/vnd.jupyter.widget-view+json": {
       "model_id": "c13aedb84dc849b7ab2f4b4638291f77",
       "version_major": 2,
       "version_minor": 0
      },
      "text/plain": [
       "  0%|          | 0/50 [00:00<?, ?it/s]"
      ]
     },
     "metadata": {},
     "output_type": "display_data"
    },
    {
     "name": "stdout",
     "output_type": "stream",
     "text": [
      "Generating for: wigwam, in oil painting style\n"
     ]
    },
    {
     "data": {
      "application/vnd.jupyter.widget-view+json": {
       "model_id": "da0dcbbb6e4d441da4b254dd28907778",
       "version_major": 2,
       "version_minor": 0
      },
      "text/plain": [
       "  0%|          | 0/50 [00:00<?, ?it/s]"
      ]
     },
     "metadata": {},
     "output_type": "display_data"
    },
    {
     "name": "stdout",
     "output_type": "stream",
     "text": [
      "Generating for: tiger lily, in oil painting style\n"
     ]
    },
    {
     "data": {
      "application/vnd.jupyter.widget-view+json": {
       "model_id": "cd7ab76cf84443f593850418bcacf510",
       "version_major": 2,
       "version_minor": 0
      },
      "text/plain": [
       "  0%|          | 0/50 [00:00<?, ?it/s]"
      ]
     },
     "metadata": {},
     "output_type": "display_data"
    },
    {
     "name": "stdout",
     "output_type": "stream",
     "text": [
      "Generating for: peter pan, in oil painting style\n"
     ]
    },
    {
     "data": {
      "application/vnd.jupyter.widget-view+json": {
       "model_id": "4fc60ac2a33a4be299cae6f10457f273",
       "version_major": 2,
       "version_minor": 0
      },
      "text/plain": [
       "  0%|          | 0/50 [00:00<?, ?it/s]"
      ]
     },
     "metadata": {},
     "output_type": "display_data"
    },
    {
     "name": "stdout",
     "output_type": "stream",
     "text": [
      "Processing 22...\n",
      "Generating for: storybook with illustrations of wendy, michael, and the boys., in black and white photo style\n"
     ]
    },
    {
     "data": {
      "application/vnd.jupyter.widget-view+json": {
       "model_id": "51ba2bdb7a444f33b7967dab8a208966",
       "version_major": 2,
       "version_minor": 0
      },
      "text/plain": [
       "  0%|          | 0/50 [00:00<?, ?it/s]"
      ]
     },
     "metadata": {},
     "output_type": "display_data"
    },
    {
     "name": "stdout",
     "output_type": "stream",
     "text": [
      "Generating for: picture of a boy and a girl., in black and white photo style\n"
     ]
    },
    {
     "data": {
      "application/vnd.jupyter.widget-view+json": {
       "model_id": "f351001f9dd7402dbe97738ea57b5096",
       "version_major": 2,
       "version_minor": 0
      },
      "text/plain": [
       "  0%|          | 0/50 [00:00<?, ?it/s]"
      ]
     },
     "metadata": {},
     "output_type": "display_data"
    },
    {
     "name": "stdout",
     "output_type": "stream",
     "text": [
      "Generating for: picture of a white rat., in black and white photo style\n"
     ]
    },
    {
     "data": {
      "application/vnd.jupyter.widget-view+json": {
       "model_id": "d3d90028b0b045e993f7512d3bc6880c",
       "version_major": 2,
       "version_minor": 0
      },
      "text/plain": [
       "  0%|          | 0/50 [00:00<?, ?it/s]"
      ]
     },
     "metadata": {},
     "output_type": "display_data"
    },
    {
     "name": "stdout",
     "output_type": "stream",
     "text": [
      "Generating for: picture of a mother with a finger to her lips., in black and white photo style\n"
     ]
    },
    {
     "data": {
      "application/vnd.jupyter.widget-view+json": {
       "model_id": "f71693cfd7f545e598ede61ec6eef84d",
       "version_major": 2,
       "version_minor": 0
      },
      "text/plain": [
       "  0%|          | 0/50 [00:00<?, ?it/s]"
      ]
     },
     "metadata": {},
     "output_type": "display_data"
    },
    {
     "name": "stdout",
     "output_type": "stream",
     "text": [
      "Generating for: picture of the first twin asking about the lady., in black and white photo style\n"
     ]
    },
    {
     "data": {
      "application/vnd.jupyter.widget-view+json": {
       "model_id": "8c1c7a4ef7b0452bbbe55acf75c9b2ee",
       "version_major": 2,
       "version_minor": 0
      },
      "text/plain": [
       "  0%|          | 0/50 [00:00<?, ?it/s]"
      ]
     },
     "metadata": {},
     "output_type": "display_data"
    },
    {
     "name": "stdout",
     "output_type": "stream",
     "text": [
      "Processing 23...\n",
      "Generating for: a pirate flag, in watercolor style\n"
     ]
    },
    {
     "data": {
      "application/vnd.jupyter.widget-view+json": {
       "model_id": "1905380fea574967b7538b0795528785",
       "version_major": 2,
       "version_minor": 0
      },
      "text/plain": [
       "  0%|          | 0/50 [00:00<?, ?it/s]"
      ]
     },
     "metadata": {},
     "output_type": "display_data"
    },
    {
     "name": "stdout",
     "output_type": "stream",
     "text": [
      "Generating for: a stockade, in watercolor style\n"
     ]
    },
    {
     "data": {
      "application/vnd.jupyter.widget-view+json": {
       "model_id": "180942498cb14b108fadc84bd23b7ac8",
       "version_major": 2,
       "version_minor": 0
      },
      "text/plain": [
       "  0%|          | 0/50 [00:00<?, ?it/s]"
      ]
     },
     "metadata": {},
     "output_type": "display_data"
    },
    {
     "name": "stdout",
     "output_type": "stream",
     "text": [
      "Generating for: a disregarded rulebook, in watercolor style\n"
     ]
    },
    {
     "data": {
      "application/vnd.jupyter.widget-view+json": {
       "model_id": "8112f48a604245cc9b336f0c4a62d322",
       "version_major": 2,
       "version_minor": 0
      },
      "text/plain": [
       "  0%|          | 0/50 [00:00<?, ?it/s]"
      ]
     },
     "metadata": {},
     "output_type": "display_data"
    },
    {
     "name": "stdout",
     "output_type": "stream",
     "text": [
      "Generating for: stealthy footprints, in watercolor style\n"
     ]
    },
    {
     "data": {
      "application/vnd.jupyter.widget-view+json": {
       "model_id": "2c111897e63243e2a17b088649aaebd6",
       "version_major": 2,
       "version_minor": 0
      },
      "text/plain": [
       "  0%|          | 0/50 [00:00<?, ?it/s]"
      ]
     },
     "metadata": {},
     "output_type": "display_data"
    },
    {
     "name": "stdout",
     "output_type": "stream",
     "text": [
      "Generating for: a treacherous hook, in watercolor style\n"
     ]
    },
    {
     "data": {
      "application/vnd.jupyter.widget-view+json": {
       "model_id": "c6726db1c3474b89991b897aff9a336b",
       "version_major": 2,
       "version_minor": 0
      },
      "text/plain": [
       "  0%|          | 0/50 [00:00<?, ?it/s]"
      ]
     },
     "metadata": {},
     "output_type": "display_data"
    },
    {
     "name": "stdout",
     "output_type": "stream",
     "text": [
      "Processing 24...\n",
      "Generating for: bales of goods being tossed from one person to another., in black and white photo style\n"
     ]
    },
    {
     "data": {
      "application/vnd.jupyter.widget-view+json": {
       "model_id": "3c99ee438d14434ebfcc3b306b8ccc50",
       "version_major": 2,
       "version_minor": 0
      },
      "text/plain": [
       "  0%|          | 0/50 [00:00<?, ?it/s]"
      ]
     },
     "metadata": {},
     "output_type": "display_data"
    },
    {
     "name": "stdout",
     "output_type": "stream",
     "text": [
      "Generating for: hook offering his arm to wendy with a distinguished air., in black and white photo style\n"
     ]
    },
    {
     "data": {
      "application/vnd.jupyter.widget-view+json": {
       "model_id": "f35c933f23344947aeb5b17a427eeb75",
       "version_major": 2,
       "version_minor": 0
      },
      "text/plain": [
       "  0%|          | 0/50 [00:00<?, ?it/s]"
      ]
     },
     "metadata": {},
     "output_type": "display_data"
    },
    {
     "name": "stdout",
     "output_type": "stream",
     "text": [
      "Generating for: hook discovering slightly's secret beneath the surface., in black and white photo style\n"
     ]
    },
    {
     "data": {
      "application/vnd.jupyter.widget-view+json": {
       "model_id": "69c432e0fb42465dab13b752eaa5f506",
       "version_major": 2,
       "version_minor": 0
      },
      "text/plain": [
       "  0%|          | 0/50 [00:00<?, ?it/s]"
      ]
     },
     "metadata": {},
     "output_type": "display_data"
    },
    {
     "name": "stdout",
     "output_type": "stream",
     "text": [
      "Generating for: pirates kicking slightly for being difficult to tie up., in black and white photo style\n"
     ]
    },
    {
     "data": {
      "application/vnd.jupyter.widget-view+json": {
       "model_id": "32403f7f2de14e58adbb11a0c0b4b3da",
       "version_major": 2,
       "version_minor": 0
      },
      "text/plain": [
       "  0%|          | 0/50 [00:00<?, ?it/s]"
      ]
     },
     "metadata": {},
     "output_type": "display_data"
    },
    {
     "name": "stdout",
     "output_type": "stream",
     "text": [
      "Generating for: hook silently planning his dark design in his mind., in black and white photo style\n"
     ]
    },
    {
     "data": {
      "application/vnd.jupyter.widget-view+json": {
       "model_id": "48c7ce3e0d3b4db1bdbf717427fe4888",
       "version_major": 2,
       "version_minor": 0
      },
      "text/plain": [
       "  0%|          | 0/50 [00:00<?, ?it/s]"
      ]
     },
     "metadata": {},
     "output_type": "display_data"
    },
    {
     "name": "stdout",
     "output_type": "stream",
     "text": [
      "Processing 25...\n",
      "Generating for: jolly roger flag, in watercolor style\n"
     ]
    },
    {
     "data": {
      "application/vnd.jupyter.widget-view+json": {
       "model_id": "dc246237699a4b94904fde6debaab9a1",
       "version_major": 2,
       "version_minor": 0
      },
      "text/plain": [
       "  0%|          | 0/50 [00:00<?, ?it/s]"
      ]
     },
     "metadata": {},
     "output_type": "display_data"
    },
    {
     "name": "stdout",
     "output_type": "stream",
     "text": [
      "Generating for: sewing machine, in watercolor style\n"
     ]
    },
    {
     "data": {
      "application/vnd.jupyter.widget-view+json": {
       "model_id": "5d059b83770f4501bc56acabe6ac3550",
       "version_major": 2,
       "version_minor": 0
      },
      "text/plain": [
       "  0%|          | 0/50 [00:00<?, ?it/s]"
      ]
     },
     "metadata": {},
     "output_type": "display_data"
    },
    {
     "name": "stdout",
     "output_type": "stream",
     "text": [
      "Generating for: dice and cards, in watercolor style\n"
     ]
    },
    {
     "data": {
      "application/vnd.jupyter.widget-view+json": {
       "model_id": "97bee820b2af41f7a05e081933f13a10",
       "version_major": 2,
       "version_minor": 0
      },
      "text/plain": [
       "  0%|          | 0/50 [00:00<?, ?it/s]"
      ]
     },
     "metadata": {},
     "output_type": "display_data"
    },
    {
     "name": "stdout",
     "output_type": "stream",
     "text": [
      "Generating for: plank, in watercolor style\n"
     ]
    },
    {
     "data": {
      "application/vnd.jupyter.widget-view+json": {
       "model_id": "e1b9d0079e2640d59080b9f92d6ea29a",
       "version_major": 2,
       "version_minor": 0
      },
      "text/plain": [
       "  0%|          | 0/50 [00:00<?, ?it/s]"
      ]
     },
     "metadata": {},
     "output_type": "display_data"
    },
    {
     "name": "stdout",
     "output_type": "stream",
     "text": [
      "Generating for: dejected posture, in watercolor style\n"
     ]
    },
    {
     "data": {
      "application/vnd.jupyter.widget-view+json": {
       "model_id": "aded8c7696c343f192b3db22ceae67d3",
       "version_major": 2,
       "version_minor": 0
      },
      "text/plain": [
       "  0%|          | 0/50 [00:00<?, ?it/s]"
      ]
     },
     "metadata": {},
     "output_type": "display_data"
    },
    {
     "name": "stdout",
     "output_type": "stream",
     "text": [
      "Processing 26...\n",
      "Generating for: clock, in oil painting style\n"
     ]
    },
    {
     "data": {
      "application/vnd.jupyter.widget-view+json": {
       "model_id": "b6ec5c93a9174567814dd2731af15f40",
       "version_major": 2,
       "version_minor": 0
      },
      "text/plain": [
       "  0%|          | 0/50 [00:00<?, ?it/s]"
      ]
     },
     "metadata": {},
     "output_type": "display_data"
    },
    {
     "name": "stdout",
     "output_type": "stream",
     "text": [
      "Generating for: tick, in oil painting style\n"
     ]
    },
    {
     "data": {
      "application/vnd.jupyter.widget-view+json": {
       "model_id": "249d11cd06634e6b876b1058afceed17",
       "version_major": 2,
       "version_minor": 0
      },
      "text/plain": [
       "  0%|          | 0/50 [00:00<?, ?it/s]"
      ]
     },
     "metadata": {},
     "output_type": "display_data"
    },
    {
     "name": "stdout",
     "output_type": "stream",
     "text": [
      "Generating for: water, in oil painting style\n"
     ]
    },
    {
     "data": {
      "application/vnd.jupyter.widget-view+json": {
       "model_id": "22f55664848947a18d5c17f15e2f7a0d",
       "version_major": 2,
       "version_minor": 0
      },
      "text/plain": [
       "  0%|          | 0/50 [00:00<?, ?it/s]"
      ]
     },
     "metadata": {},
     "output_type": "display_data"
    },
    {
     "name": "stdout",
     "output_type": "stream",
     "text": [
      "Generating for: pirates, in oil painting style\n"
     ]
    },
    {
     "data": {
      "application/vnd.jupyter.widget-view+json": {
       "model_id": "045da6f3a1c245278696a26d0ef3c889",
       "version_major": 2,
       "version_minor": 0
      },
      "text/plain": [
       "  0%|          | 0/50 [00:00<?, ?it/s]"
      ]
     },
     "metadata": {},
     "output_type": "display_data"
    },
    {
     "name": "stdout",
     "output_type": "stream",
     "text": [
      "Generating for: flash, in oil painting style\n"
     ]
    },
    {
     "data": {
      "application/vnd.jupyter.widget-view+json": {
       "model_id": "fb6952bb6e904549bf6a495cbf725aeb",
       "version_major": 2,
       "version_minor": 0
      },
      "text/plain": [
       "  0%|          | 0/50 [00:00<?, ?it/s]"
      ]
     },
     "metadata": {},
     "output_type": "display_data"
    },
    {
     "name": "stdout",
     "output_type": "stream",
     "text": [
      "Processing 27...\n",
      "Generating for: rope's end, in oil painting style\n"
     ]
    },
    {
     "data": {
      "application/vnd.jupyter.widget-view+json": {
       "model_id": "a130be17d05a4967a337b0843ef09bdc",
       "version_major": 2,
       "version_minor": 0
      },
      "text/plain": [
       "  0%|          | 0/50 [00:00<?, ?it/s]"
      ]
     },
     "metadata": {},
     "output_type": "display_data"
    },
    {
     "name": "stdout",
     "output_type": "stream",
     "text": [
      "Generating for: wheel, in oil painting style\n"
     ]
    },
    {
     "data": {
      "application/vnd.jupyter.widget-view+json": {
       "model_id": "0f7ccbe31e854fca94309ce73a071b47",
       "version_major": 2,
       "version_minor": 0
      },
      "text/plain": [
       "  0%|          | 0/50 [00:00<?, ?it/s]"
      ]
     },
     "metadata": {},
     "output_type": "display_data"
    },
    {
     "name": "stdout",
     "output_type": "stream",
     "text": [
      "Generating for: ship's chart, in oil painting style\n"
     ]
    },
    {
     "data": {
      "application/vnd.jupyter.widget-view+json": {
       "model_id": "b563efdc2bff463d9208aceb02133cab",
       "version_major": 2,
       "version_minor": 0
      },
      "text/plain": [
       "  0%|          | 0/50 [00:00<?, ?it/s]"
      ]
     },
     "metadata": {},
     "output_type": "display_data"
    },
    {
     "name": "stdout",
     "output_type": "stream",
     "text": [
      "Generating for: new suit, in oil painting style\n"
     ]
    },
    {
     "data": {
      "application/vnd.jupyter.widget-view+json": {
       "model_id": "71e8be106e844e0dafce7501cbe56888",
       "version_major": 2,
       "version_minor": 0
      },
      "text/plain": [
       "  0%|          | 0/50 [00:00<?, ?it/s]"
      ]
     },
     "metadata": {},
     "output_type": "display_data"
    },
    {
     "name": "stdout",
     "output_type": "stream",
     "text": [
      "Generating for: no. 14, in oil painting style\n"
     ]
    },
    {
     "data": {
      "application/vnd.jupyter.widget-view+json": {
       "model_id": "8397797672d04c8e814b016d14ac40cd",
       "version_major": 2,
       "version_minor": 0
      },
      "text/plain": [
       "  0%|          | 0/50 [00:00<?, ?it/s]"
      ]
     },
     "metadata": {},
     "output_type": "display_data"
    },
    {
     "name": "stdout",
     "output_type": "stream",
     "text": [
      "Processing 28...\n",
      "Generating for: five hundred pirates waiting, hats off, hoping to be accepted., in futuristic style\n"
     ]
    },
    {
     "data": {
      "application/vnd.jupyter.widget-view+json": {
       "model_id": "29f94a717bc9445b8a864f3fd130f8b8",
       "version_major": 2,
       "version_minor": 0
      },
      "text/plain": [
       "  0%|          | 0/50 [00:00<?, ?it/s]"
      ]
     },
     "metadata": {},
     "output_type": "display_data"
    },
    {
     "name": "stdout",
     "output_type": "stream",
     "text": [
      "Generating for: mrs. darling eager, mr. darling unsure about six children., in futuristic style\n"
     ]
    },
    {
     "data": {
      "application/vnd.jupyter.widget-view+json": {
       "model_id": "c926e56c399a42e6a86caaed1c4fbd43",
       "version_major": 2,
       "version_minor": 0
      },
      "text/plain": [
       "  0%|          | 0/50 [00:00<?, ?it/s]"
      ]
     },
     "metadata": {},
     "output_type": "display_data"
    },
    {
     "name": "stdout",
     "output_type": "stream",
     "text": [
      "Generating for: wendy accused of not doing things halfway, twins offended., in futuristic style\n"
     ]
    },
    {
     "data": {
      "application/vnd.jupyter.widget-view+json": {
       "model_id": "2fee4729fb4c46f0915ea6453fdc28c4",
       "version_major": 2,
       "version_minor": 0
      },
      "text/plain": [
       "  0%|          | 0/50 [00:00<?, ?it/s]"
      ]
     },
     "metadata": {},
     "output_type": "display_data"
    },
    {
     "name": "stdout",
     "output_type": "stream",
     "text": [
      "Generating for: proud twin offers to leave if they are too much., in futuristic style\n"
     ]
    },
    {
     "data": {
      "application/vnd.jupyter.widget-view+json": {
       "model_id": "1119ee0ba0884f3c8c794d8d2ec7941c",
       "version_major": 2,
       "version_minor": 0
      },
      "text/plain": [
       "  0%|          | 0/50 [00:00<?, ?it/s]"
      ]
     },
     "metadata": {},
     "output_type": "display_data"
    },
    {
     "name": "stdout",
     "output_type": "stream",
     "text": [
      "Generating for: wendy shocked at father's unworthy behavior, cloud still present., in futuristic style\n"
     ]
    },
    {
     "data": {
      "application/vnd.jupyter.widget-view+json": {
       "model_id": "92e17ccf1e814668b0fb31d9a4172b9b",
       "version_major": 2,
       "version_minor": 0
      },
      "text/plain": [
       "  0%|          | 0/50 [00:00<?, ?it/s]"
      ]
     },
     "metadata": {},
     "output_type": "display_data"
    },
    {
     "name": "stdout",
     "output_type": "stream",
     "text": [
      "Processing 29...\n",
      "Generating for: authentic record containing accurate age (object: a birth certificate), in black and white photo style\n"
     ]
    },
    {
     "data": {
      "application/vnd.jupyter.widget-view+json": {
       "model_id": "7b043f37844d410da3adb0307463c9ba",
       "version_major": 2,
       "version_minor": 0
      },
      "text/plain": [
       "  0%|          | 0/50 [00:00<?, ?it/s]"
      ]
     },
     "metadata": {},
     "output_type": "display_data"
    },
    {
     "name": "stdout",
     "output_type": "stream",
     "text": [
      "Generating for: dark-complexioned mother named harriet bailey (object: a photograph of harriet bailey), in black and white photo style\n"
     ]
    },
    {
     "data": {
      "application/vnd.jupyter.widget-view+json": {
       "model_id": "36992acc6ecf462aa694b851f51838d0",
       "version_major": 2,
       "version_minor": 0
      },
      "text/plain": [
       "  0%|          | 0/50 [00:00<?, ?it/s]"
      ]
     },
     "metadata": {},
     "output_type": "display_data"
    },
    {
     "name": "stdout",
     "output_type": "stream",
     "text": [
      "Generating for: suspicion that master is the father (object: a letter addressed to the master), in black and white photo style\n"
     ]
    },
    {
     "data": {
      "application/vnd.jupyter.widget-view+json": {
       "model_id": "6d1d8500195b455cb88854fb05292fae",
       "version_major": 2,
       "version_minor": 0
      },
      "text/plain": [
       "  0%|          | 0/50 [00:00<?, ?it/s]"
      ]
     },
     "metadata": {},
     "output_type": "display_data"
    },
    {
     "name": "stdout",
     "output_type": "stream",
     "text": [
      "Generating for: separation of mother and child (object: a broken chain), in black and white photo style\n"
     ]
    },
    {
     "data": {
      "application/vnd.jupyter.widget-view+json": {
       "model_id": "5a3df9d2c27548e5bf5c85e76cd59541",
       "version_major": 2,
       "version_minor": 0
      },
      "text/plain": [
       "  0%|          | 0/50 [00:00<?, ?it/s]"
      ]
     },
     "metadata": {},
     "output_type": "display_data"
    },
    {
     "name": "stdout",
     "output_type": "stream",
     "text": [
      "Generating for: children follow condition of slave mothers (object: a legal document), in black and white photo style\n"
     ]
    },
    {
     "data": {
      "application/vnd.jupyter.widget-view+json": {
       "model_id": "0c0900625e7c44ee8c96d00c4d6e9458",
       "version_major": 2,
       "version_minor": 0
      },
      "text/plain": [
       "  0%|          | 0/50 [00:00<?, ?it/s]"
      ]
     },
     "metadata": {},
     "output_type": "display_data"
    },
    {
     "name": "stdout",
     "output_type": "stream",
     "text": [
      "Processing 30...\n",
      "Generating for: large sloop, named sally lloyd, for carrying products to market., in watercolor style\n"
     ]
    },
    {
     "data": {
      "application/vnd.jupyter.widget-view+json": {
       "model_id": "c79fba6bd7e447bebd44c94a9094c9e0",
       "version_major": 2,
       "version_minor": 0
      },
      "text/plain": [
       "  0%|          | 0/50 [00:00<?, ?it/s]"
      ]
     },
     "metadata": {},
     "output_type": "display_data"
    },
    {
     "name": "stdout",
     "output_type": "stream",
     "text": [
      "Generating for: seat of government for the twenty farms, settling disputes., in watercolor style\n"
     ]
    },
    {
     "data": {
      "application/vnd.jupyter.widget-view+json": {
       "model_id": "976d51727740450fa2f20e389c95a88c",
       "version_major": 2,
       "version_minor": 0
      },
      "text/plain": [
       "  0%|          | 0/50 [00:00<?, ?it/s]"
      ]
     },
     "metadata": {},
     "output_type": "display_data"
    },
    {
     "name": "stdout",
     "output_type": "stream",
     "text": [
      "Generating for: coarse clothing for slaves, given yearly, costing seven dollars., in watercolor style\n"
     ]
    },
    {
     "data": {
      "application/vnd.jupyter.widget-view+json": {
       "model_id": "ae86b987f9df46b5a56756e180225ed3",
       "version_major": 2,
       "version_minor": 0
      },
      "text/plain": [
       "  0%|          | 0/50 [00:00<?, ?it/s]"
      ]
     },
     "metadata": {},
     "output_type": "display_data"
    },
    {
     "name": "stdout",
     "output_type": "stream",
     "text": [
      "Generating for: sleeping on cold floor, covered with miserable blankets., in watercolor style\n"
     ]
    },
    {
     "data": {
      "application/vnd.jupyter.widget-view+json": {
       "model_id": "e396a6492c844b4794c96302283c0c7a",
       "version_major": 2,
       "version_minor": 0
      },
      "text/plain": [
       "  0%|          | 0/50 [00:00<?, ?it/s]"
      ]
     },
     "metadata": {},
     "output_type": "display_data"
    },
    {
     "name": "stdout",
     "output_type": "stream",
     "text": [
      "Generating for: cruel overseer, mr. severe, whipping and swearing profusely., in watercolor style\n"
     ]
    },
    {
     "data": {
      "application/vnd.jupyter.widget-view+json": {
       "model_id": "c77751e38a3f4789b050a3eaab7a6341",
       "version_major": 2,
       "version_minor": 0
      },
      "text/plain": [
       "  0%|          | 0/50 [00:00<?, ?it/s]"
      ]
     },
     "metadata": {},
     "output_type": "display_data"
    },
    {
     "name": "stdout",
     "output_type": "stream",
     "text": [
      "Processing 31...\n",
      "Generating for: fruit., in black and white photo style\n"
     ]
    },
    {
     "data": {
      "application/vnd.jupyter.widget-view+json": {
       "model_id": "8a0cb6c8102f4f4cb7aacce611001f03",
       "version_major": 2,
       "version_minor": 0
      },
      "text/plain": [
       "  0%|          | 0/50 [00:00<?, ?it/s]"
      ]
     },
     "metadata": {},
     "output_type": "display_data"
    },
    {
     "name": "stdout",
     "output_type": "stream",
     "text": [
      "Generating for: carriage-house., in black and white photo style\n"
     ]
    },
    {
     "data": {
      "application/vnd.jupyter.widget-view+json": {
       "model_id": "dad1468d42a046b49a1bfc47aec9bad9",
       "version_major": 2,
       "version_minor": 0
      },
      "text/plain": [
       "  0%|          | 0/50 [00:00<?, ?it/s]"
      ]
     },
     "metadata": {},
     "output_type": "display_data"
    },
    {
     "name": "stdout",
     "output_type": "stream",
     "text": [
      "Generating for: horses., in black and white photo style\n"
     ]
    },
    {
     "data": {
      "application/vnd.jupyter.widget-view+json": {
       "model_id": "7b45d6e525574886b37e00df83ca9042",
       "version_major": 2,
       "version_minor": 0
      },
      "text/plain": [
       "  0%|          | 0/50 [00:00<?, ?it/s]"
      ]
     },
     "metadata": {},
     "output_type": "display_data"
    },
    {
     "name": "stdout",
     "output_type": "stream",
     "text": [
      "Generating for: slaves., in black and white photo style\n"
     ]
    },
    {
     "data": {
      "application/vnd.jupyter.widget-view+json": {
       "model_id": "4161ff2e55e84c0c8d810eb5708b0344",
       "version_major": 2,
       "version_minor": 0
      },
      "text/plain": [
       "  0%|          | 0/50 [00:00<?, ?it/s]"
      ]
     },
     "metadata": {},
     "output_type": "display_data"
    },
    {
     "name": "stdout",
     "output_type": "stream",
     "text": [
      "Generating for: chains., in black and white photo style\n"
     ]
    },
    {
     "data": {
      "application/vnd.jupyter.widget-view+json": {
       "model_id": "d8e77435e33d4c07a617b361386010da",
       "version_major": 2,
       "version_minor": 0
      },
      "text/plain": [
       "  0%|          | 0/50 [00:00<?, ?it/s]"
      ]
     },
     "metadata": {},
     "output_type": "display_data"
    },
    {
     "name": "stdout",
     "output_type": "stream",
     "text": [
      "Processing 32...\n",
      "Generating for: a mild-mannered overseer who lacked necessary severity, in black and white photo style\n"
     ]
    },
    {
     "data": {
      "application/vnd.jupyter.widget-view+json": {
       "model_id": "f656fa6519644cb99e2f118b7438b4ec",
       "version_major": 2,
       "version_minor": 0
      },
      "text/plain": [
       "  0%|          | 0/50 [00:00<?, ?it/s]"
      ]
     },
     "metadata": {},
     "output_type": "display_data"
    },
    {
     "name": "stdout",
     "output_type": "stream",
     "text": [
      "Generating for: a ruthless overseer who demanded absolute obedience from slaves, in black and white photo style\n"
     ]
    },
    {
     "data": {
      "application/vnd.jupyter.widget-view+json": {
       "model_id": "1acbb15b5f5347f985ba5bbf985e8d19",
       "version_major": 2,
       "version_minor": 0
      },
      "text/plain": [
       "  0%|          | 0/50 [00:00<?, ?it/s]"
      ]
     },
     "metadata": {},
     "output_type": "display_data"
    },
    {
     "name": "stdout",
     "output_type": "stream",
     "text": [
      "Generating for: a stern overseer who rarely smiled and commanded with authority, in black and white photo style\n"
     ]
    },
    {
     "data": {
      "application/vnd.jupyter.widget-view+json": {
       "model_id": "48744c4b8e2347b8af660a9d62a856da",
       "version_major": 2,
       "version_minor": 0
      },
      "text/plain": [
       "  0%|          | 0/50 [00:00<?, ?it/s]"
      ]
     },
     "metadata": {},
     "output_type": "display_data"
    },
    {
     "name": "stdout",
     "output_type": "stream",
     "text": [
      "Generating for: a cold-hearted overseer who showed no remorse in committing heinous acts, in black and white photo style\n"
     ]
    },
    {
     "data": {
      "application/vnd.jupyter.widget-view+json": {
       "model_id": "0fcab56df8ff48aebbd853fee8aa0601",
       "version_major": 2,
       "version_minor": 0
      },
      "text/plain": [
       "  0%|          | 0/50 [00:00<?, ?it/s]"
      ]
     },
     "metadata": {},
     "output_type": "display_data"
    },
    {
     "name": "stdout",
     "output_type": "stream",
     "text": [
      "Generating for: an overseer who escaped justice and continued his respected life, in black and white photo style\n"
     ]
    },
    {
     "data": {
      "application/vnd.jupyter.widget-view+json": {
       "model_id": "7cb7ee56b3b04d34b5b9bdb685f98b73",
       "version_major": 2,
       "version_minor": 0
      },
      "text/plain": [
       "  0%|          | 0/50 [00:00<?, ?it/s]"
      ]
     },
     "metadata": {},
     "output_type": "display_data"
    },
    {
     "name": "stdout",
     "output_type": "stream",
     "text": [
      "Processing 33...\n",
      "Generating for: bird feathers, in futuristic style\n"
     ]
    },
    {
     "data": {
      "application/vnd.jupyter.widget-view+json": {
       "model_id": "e41c2b143bb64e628362169fb4515d69",
       "version_major": 2,
       "version_minor": 0
      },
      "text/plain": [
       "  0%|          | 0/50 [00:00<?, ?it/s]"
      ]
     },
     "metadata": {},
     "output_type": "display_data"
    },
    {
     "name": "stdout",
     "output_type": "stream",
     "text": [
      "Generating for: corn bag, in futuristic style\n"
     ]
    },
    {
     "data": {
      "application/vnd.jupyter.widget-view+json": {
       "model_id": "d07e2acb660b49daaef30f6e2bf02cda",
       "version_major": 2,
       "version_minor": 0
      },
      "text/plain": [
       "  0%|          | 0/50 [00:00<?, ?it/s]"
      ]
     },
     "metadata": {},
     "output_type": "display_data"
    },
    {
     "name": "stdout",
     "output_type": "stream",
     "text": [
      "Generating for: wooden tray, in futuristic style\n"
     ]
    },
    {
     "data": {
      "application/vnd.jupyter.widget-view+json": {
       "model_id": "3d7eba657b294a239deb81ea3d8a87ab",
       "version_major": 2,
       "version_minor": 0
      },
      "text/plain": [
       "  0%|          | 0/50 [00:00<?, ?it/s]"
      ]
     },
     "metadata": {},
     "output_type": "display_data"
    },
    {
     "name": "stdout",
     "output_type": "stream",
     "text": [
      "Generating for: creek water, in futuristic style\n"
     ]
    },
    {
     "data": {
      "application/vnd.jupyter.widget-view+json": {
       "model_id": "de4930e150d948f192b627516e014d64",
       "version_major": 2,
       "version_minor": 0
      },
      "text/plain": [
       "  0%|          | 0/50 [00:00<?, ?it/s]"
      ]
     },
     "metadata": {},
     "output_type": "display_data"
    },
    {
     "name": "stdout",
     "output_type": "stream",
     "text": [
      "Generating for: trousers, in futuristic style\n"
     ]
    },
    {
     "data": {
      "application/vnd.jupyter.widget-view+json": {
       "model_id": "d47fe1dc9f2c477b8e0a0139bee4b5dc",
       "version_major": 2,
       "version_minor": 0
      },
      "text/plain": [
       "  0%|          | 0/50 [00:00<?, ?it/s]"
      ]
     },
     "metadata": {},
     "output_type": "display_data"
    },
    {
     "name": "stdout",
     "output_type": "stream",
     "text": [
      "Processing 34...\n",
      "Generating for: a hidden book used for learning to read and write., in watercolor style\n"
     ]
    },
    {
     "data": {
      "application/vnd.jupyter.widget-view+json": {
       "model_id": "2d0480bc25614f6fbae499d30fad1ee9",
       "version_major": 2,
       "version_minor": 0
      },
      "text/plain": [
       "  0%|          | 0/50 [00:00<?, ?it/s]"
      ]
     },
     "metadata": {},
     "output_type": "display_data"
    },
    {
     "name": "stdout",
     "output_type": "stream",
     "text": [
      "Generating for: a transformation from a kind woman to a fierce one., in watercolor style\n"
     ]
    },
    {
     "data": {
      "application/vnd.jupyter.widget-view+json": {
       "model_id": "28fb6fb817634154b72e9a80b97e669f",
       "version_major": 2,
       "version_minor": 0
      },
      "text/plain": [
       "  0%|          | 0/50 [00:00<?, ?it/s]"
      ]
     },
     "metadata": {},
     "output_type": "display_data"
    },
    {
     "name": "stdout",
     "output_type": "stream",
     "text": [
      "Generating for: the inch and ell symbolizing the progression of learning., in watercolor style\n"
     ]
    },
    {
     "data": {
      "application/vnd.jupyter.widget-view+json": {
       "model_id": "76ddf09c329943ad985e87dd83b1d05a",
       "version_major": 2,
       "version_minor": 0
      },
      "text/plain": [
       "  0%|          | 0/50 [00:00<?, ?it/s]"
      ]
     },
     "metadata": {},
     "output_type": "display_data"
    },
    {
     "name": "stdout",
     "output_type": "stream",
     "text": [
      "Generating for: bread as a symbol of knowledge exchanged with white boys., in watercolor style\n"
     ]
    },
    {
     "data": {
      "application/vnd.jupyter.widget-view+json": {
       "model_id": "e2d029ebb4674fbdaa958ca29091fc64",
       "version_major": 2,
       "version_minor": 0
      },
      "text/plain": [
       "  0%|          | 0/50 [00:00<?, ?it/s]"
      ]
     },
     "metadata": {},
     "output_type": "display_data"
    },
    {
     "name": "stdout",
     "output_type": "stream",
     "text": [
      "Generating for: \"the columbian orator\" book that inspired hope for freedom., in watercolor style\n"
     ]
    },
    {
     "data": {
      "application/vnd.jupyter.widget-view+json": {
       "model_id": "c9c277aafe014778bf6053bc9e7df193",
       "version_major": 2,
       "version_minor": 0
      },
      "text/plain": [
       "  0%|          | 0/50 [00:00<?, ?it/s]"
      ]
     },
     "metadata": {},
     "output_type": "display_data"
    },
    {
     "name": "stdout",
     "output_type": "stream",
     "text": [
      "Processing 35...\n",
      "Generating for: valuation paper or document showing property division after master's death., in 3D rendering style\n"
     ]
    },
    {
     "data": {
      "application/vnd.jupyter.widget-view+json": {
       "model_id": "1de2f76b55334e70b088520e1203f871",
       "version_major": 2,
       "version_minor": 0
      },
      "text/plain": [
       "  0%|          | 0/50 [00:00<?, ?it/s]"
      ]
     },
     "metadata": {},
     "output_type": "display_data"
    },
    {
     "name": "stdout",
     "output_type": "stream",
     "text": [
      "Generating for: valuation list with names of slaves alongside animals like horses and sheep., in 3D rendering style\n"
     ]
    },
    {
     "data": {
      "application/vnd.jupyter.widget-view+json": {
       "model_id": "3889f1362a004e569788822fcd9552eb",
       "version_major": 2,
       "version_minor": 0
      },
      "text/plain": [
       "  0%|          | 0/50 [00:00<?, ?it/s]"
      ]
     },
     "metadata": {},
     "output_type": "display_data"
    },
    {
     "name": "stdout",
     "output_type": "stream",
     "text": [
      "Generating for: whipping post used to punish slaves who were deemed disobedient., in 3D rendering style\n"
     ]
    },
    {
     "data": {
      "application/vnd.jupyter.widget-view+json": {
       "model_id": "01ad815b80b24a988ff71fb26760b544",
       "version_major": 2,
       "version_minor": 0
      },
      "text/plain": [
       "  0%|          | 0/50 [00:00<?, ?it/s]"
      ]
     },
     "metadata": {},
     "output_type": "display_data"
    },
    {
     "name": "stdout",
     "output_type": "stream",
     "text": [
      "Generating for: cane or whip used to beat slaves, representing the pain and suffering they endured., in 3D rendering style\n"
     ]
    },
    {
     "data": {
      "application/vnd.jupyter.widget-view+json": {
       "model_id": "4f7fa331b7194fc29c328616d2d1ffce",
       "version_major": 2,
       "version_minor": 0
      },
      "text/plain": [
       "  0%|          | 0/50 [00:00<?, ?it/s]"
      ]
     },
     "metadata": {},
     "output_type": "display_data"
    },
    {
     "name": "stdout",
     "output_type": "stream",
     "text": [
      "Generating for: ticket or document indicating that the narrator was assigned to mrs. lucretia., in 3D rendering style\n"
     ]
    },
    {
     "data": {
      "application/vnd.jupyter.widget-view+json": {
       "model_id": "09a19e4084ca49b58ec12a182aea081a",
       "version_major": 2,
       "version_minor": 0
      },
      "text/plain": [
       "  0%|          | 0/50 [00:00<?, ?it/s]"
      ]
     },
     "metadata": {},
     "output_type": "display_data"
    },
    {
     "name": "stdout",
     "output_type": "stream",
     "text": [
      "Processing 36...\n",
      "Generating for: a half bushel of corn-meal per week., in oil painting style\n"
     ]
    },
    {
     "data": {
      "application/vnd.jupyter.widget-view+json": {
       "model_id": "63826bb3698f432daca87c88bdfcb5b2",
       "version_major": 2,
       "version_minor": 0
      },
      "text/plain": [
       "  0%|          | 0/50 [00:00<?, ?it/s]"
      ]
     },
     "metadata": {},
     "output_type": "display_data"
    },
    {
     "name": "stdout",
     "output_type": "stream",
     "text": [
      "Generating for: a man without the ability to hold slaves., in oil painting style\n"
     ]
    },
    {
     "data": {
      "application/vnd.jupyter.widget-view+json": {
       "model_id": "ee39e116f56a4209802c07d72ab4e1a4",
       "version_major": 2,
       "version_minor": 0
      },
      "text/plain": [
       "  0%|          | 0/50 [00:00<?, ?it/s]"
      ]
     },
     "metadata": {},
     "output_type": "display_data"
    },
    {
     "name": "stdout",
     "output_type": "stream",
     "text": [
      "Generating for: sticks and other missiles used to drive us off., in oil painting style\n"
     ]
    },
    {
     "data": {
      "application/vnd.jupyter.widget-view+json": {
       "model_id": "dbe2a94638144c13a02a709ae73e152d",
       "version_major": 2,
       "version_minor": 0
      },
      "text/plain": [
       "  0%|          | 0/50 [00:00<?, ?it/s]"
      ]
     },
     "metadata": {},
     "output_type": "display_data"
    },
    {
     "name": "stdout",
     "output_type": "stream",
     "text": [
      "Generating for: whipping a young woman and quoting scripture as justification., in oil painting style\n"
     ]
    },
    {
     "data": {
      "application/vnd.jupyter.widget-view+json": {
       "model_id": "7b5f4565632943d0bec7d23263002edf",
       "version_major": 2,
       "version_minor": 0
      },
      "text/plain": [
       "  0%|          | 0/50 [00:00<?, ?it/s]"
      ]
     },
     "metadata": {},
     "output_type": "display_data"
    },
    {
     "name": "stdout",
     "output_type": "stream",
     "text": [
      "Generating for: burning a young girl's hands and treating her cruelly., in oil painting style\n"
     ]
    },
    {
     "data": {
      "application/vnd.jupyter.widget-view+json": {
       "model_id": "5e7ebb61a23643f4820182025191c994",
       "version_major": 2,
       "version_minor": 0
      },
      "text/plain": [
       "  0%|          | 0/50 [00:00<?, ?it/s]"
      ]
     },
     "metadata": {},
     "output_type": "display_data"
    },
    {
     "name": "stdout",
     "output_type": "stream",
     "text": [
      "Processing 37...\n",
      "Generating for: cart, in pop art style\n"
     ]
    },
    {
     "data": {
      "application/vnd.jupyter.widget-view+json": {
       "model_id": "9a8aab690a134d6fae11c984f824ca1e",
       "version_major": 2,
       "version_minor": 0
      },
      "text/plain": [
       "  0%|          | 0/50 [00:00<?, ?it/s]"
      ]
     },
     "metadata": {},
     "output_type": "display_data"
    },
    {
     "name": "stdout",
     "output_type": "stream",
     "text": [
      "Generating for: ploughing teams, in pop art style\n"
     ]
    },
    {
     "data": {
      "application/vnd.jupyter.widget-view+json": {
       "model_id": "30663fec45aa4d9dac9a7ac3f3755090",
       "version_major": 2,
       "version_minor": 0
      },
      "text/plain": [
       "  0%|          | 0/50 [00:00<?, ?it/s]"
      ]
     },
     "metadata": {},
     "output_type": "display_data"
    },
    {
     "name": "stdout",
     "output_type": "stream",
     "text": [
      "Generating for: fence-corner, in pop art style\n"
     ]
    },
    {
     "data": {
      "application/vnd.jupyter.widget-view+json": {
       "model_id": "423aac0ce78c4041977d50a2f054eaef",
       "version_major": 2,
       "version_minor": 0
      },
      "text/plain": [
       "  0%|          | 0/50 [00:00<?, ?it/s]"
      ]
     },
     "metadata": {},
     "output_type": "display_data"
    },
    {
     "name": "stdout",
     "output_type": "stream",
     "text": [
      "Generating for: hymn, in pop art style\n"
     ]
    },
    {
     "data": {
      "application/vnd.jupyter.widget-view+json": {
       "model_id": "69efb8e604ea4793a340de2e537e54de",
       "version_major": 2,
       "version_minor": 0
      },
      "text/plain": [
       "  0%|          | 0/50 [00:00<?, ?it/s]"
      ]
     },
     "metadata": {},
     "output_type": "display_data"
    },
    {
     "name": "stdout",
     "output_type": "stream",
     "text": [
      "Generating for: field work, in pop art style\n"
     ]
    },
    {
     "data": {
      "application/vnd.jupyter.widget-view+json": {
       "model_id": "cbdc3c56477a429398cfb754dd9f4ca0",
       "version_major": 2,
       "version_minor": 0
      },
      "text/plain": [
       "  0%|          | 0/50 [00:00<?, ?it/s]"
      ]
     },
     "metadata": {},
     "output_type": "display_data"
    },
    {
     "name": "stdout",
     "output_type": "stream",
     "text": [
      "Processing 38...\n",
      "Generating for: escape plan from slavery - undisclosed object, in futuristic style\n"
     ]
    },
    {
     "data": {
      "application/vnd.jupyter.widget-view+json": {
       "model_id": "d0adbae1230944fa81546f69733b4b07",
       "version_major": 2,
       "version_minor": 0
      },
      "text/plain": [
       "  0%|          | 0/50 [00:00<?, ?it/s]"
      ]
     },
     "metadata": {},
     "output_type": "display_data"
    },
    {
     "name": "stdout",
     "output_type": "stream",
     "text": [
      "Generating for: underground railroad - undisclosed object, in futuristic style\n"
     ]
    },
    {
     "data": {
      "application/vnd.jupyter.widget-view+json": {
       "model_id": "b774ec5a5aa44f78848862bb3d5bd978",
       "version_major": 2,
       "version_minor": 0
      },
      "text/plain": [
       "  0%|          | 0/50 [00:00<?, ?it/s]"
      ]
     },
     "metadata": {},
     "output_type": "display_data"
    },
    {
     "name": "stdout",
     "output_type": "stream",
     "text": [
      "Generating for: means of escape - undisclosed object, in futuristic style\n"
     ]
    },
    {
     "data": {
      "application/vnd.jupyter.widget-view+json": {
       "model_id": "9aa1f42f00eb428d963e01bb9879fbdc",
       "version_major": 2,
       "version_minor": 0
      },
      "text/plain": [
       "  0%|          | 0/50 [00:00<?, ?it/s]"
      ]
     },
     "metadata": {},
     "output_type": "display_data"
    },
    {
     "name": "stdout",
     "output_type": "stream",
     "text": [
      "Generating for: agreement with master for hiring time - undisclosed object, in futuristic style\n"
     ]
    },
    {
     "data": {
      "application/vnd.jupyter.widget-view+json": {
       "model_id": "1d8f7c70897c417a9d079a49f7309741",
       "version_major": 2,
       "version_minor": 0
      },
      "text/plain": [
       "  0%|          | 0/50 [00:00<?, ?it/s]"
      ]
     },
     "metadata": {},
     "output_type": "display_data"
    },
    {
     "name": "stdout",
     "output_type": "stream",
     "text": [
      "Generating for: painful separation from friends - undisclosed object, in futuristic style\n"
     ]
    },
    {
     "data": {
      "application/vnd.jupyter.widget-view+json": {
       "model_id": "57791dcf8d144eceb9eee72802b6de62",
       "version_major": 2,
       "version_minor": 0
      },
      "text/plain": [
       "  0%|          | 0/50 [00:00<?, ?it/s]"
      ]
     },
     "metadata": {},
     "output_type": "display_data"
    },
    {
     "name": "stdout",
     "output_type": "stream",
     "text": [
      "Processing 39...\n",
      "Generating for: object description 195: cluster of low drab buildings huddled on the gray prairie., in pop art style\n"
     ]
    },
    {
     "data": {
      "application/vnd.jupyter.widget-view+json": {
       "model_id": "c81af6ebd34f4992b4c4651a6b167eac",
       "version_major": 2,
       "version_minor": 0
      },
      "text/plain": [
       "  0%|          | 0/50 [00:00<?, ?it/s]"
      ]
     },
     "metadata": {},
     "output_type": "display_data"
    },
    {
     "name": "stdout",
     "output_type": "stream",
     "text": [
      "Generating for: object description 196: shivering gray kitten clinging desperately to a telegraph pole., in pop art style\n"
     ]
    },
    {
     "data": {
      "application/vnd.jupyter.widget-view+json": {
       "model_id": "c7a16eed54ff47f396902fa53616bffb",
       "version_major": 2,
       "version_minor": 0
      },
      "text/plain": [
       "  0%|          | 0/50 [00:00<?, ?it/s]"
      ]
     },
     "metadata": {},
     "output_type": "display_data"
    },
    {
     "name": "stdout",
     "output_type": "stream",
     "text": [
      "Generating for: object description 197: tall, strong girl wearing a man's long ulster and a round plush cap tied down with a thick veil., in pop art style\n"
     ]
    },
    {
     "data": {
      "application/vnd.jupyter.widget-view+json": {
       "model_id": "331efe4172e6414285504507ac60f393",
       "version_major": 2,
       "version_minor": 0
      },
      "text/plain": [
       "  0%|          | 0/50 [00:00<?, ?it/s]"
      ]
     },
     "metadata": {},
     "output_type": "display_data"
    },
    {
     "name": "stdout",
     "output_type": "stream",
     "text": [
      "Generating for: object description 198: wet face of the little swede boy named emil., in pop art style\n"
     ]
    },
    {
     "data": {
      "application/vnd.jupyter.widget-view+json": {
       "model_id": "67a9635bc091428da16f674e6245145d",
       "version_major": 2,
       "version_minor": 0
      },
      "text/plain": [
       "  0%|          | 0/50 [00:00<?, ?it/s]"
      ]
     },
     "metadata": {},
     "output_type": "display_data"
    },
    {
     "name": "stdout",
     "output_type": "stream",
     "text": [
      "Generating for: object description 199: forefinger projecting from the sleeve of emil's coat pointing up to the kitten on the pole., in pop art style\n"
     ]
    },
    {
     "data": {
      "application/vnd.jupyter.widget-view+json": {
       "model_id": "0ee9c6d8f0854f6ab669bc5033fc7dda",
       "version_major": 2,
       "version_minor": 0
      },
      "text/plain": [
       "  0%|          | 0/50 [00:00<?, ?it/s]"
      ]
     },
     "metadata": {},
     "output_type": "display_data"
    },
    {
     "name": "stdout",
     "output_type": "stream",
     "text": [
      "Processing 40...\n",
      "Generating for: low log house in wintry waste overlooking norway creek., in pop art style\n"
     ]
    },
    {
     "data": {
      "application/vnd.jupyter.widget-view+json": {
       "model_id": "f8b8bcd5c4b74a0a8a6fd72fd6b75b5e",
       "version_major": 2,
       "version_minor": 0
      },
      "text/plain": [
       "  0%|          | 0/50 [00:00<?, ?it/s]"
      ]
     },
     "metadata": {},
     "output_type": "display_data"
    },
    {
     "name": "stdout",
     "output_type": "stream",
     "text": [
      "Generating for: the same lead-colored miles stretching outside his door., in pop art style\n"
     ]
    },
    {
     "data": {
      "application/vnd.jupyter.widget-view+json": {
       "model_id": "074d95da8fe34e42b1929bb08310724d",
       "version_major": 2,
       "version_minor": 0
      },
      "text/plain": [
       "  0%|          | 0/50 [00:00<?, ?it/s]"
      ]
     },
     "metadata": {},
     "output_type": "display_data"
    },
    {
     "name": "stdout",
     "output_type": "stream",
     "text": [
      "Generating for: misfortunes of losing cattle, horses, hogs, and crops., in pop art style\n"
     ]
    },
    {
     "data": {
      "application/vnd.jupyter.widget-view+json": {
       "model_id": "7fedf4313c684f119a0db8861e699352",
       "version_major": 2,
       "version_minor": 0
      },
      "text/plain": [
       "  0%|          | 0/50 [00:00<?, ?it/s]"
      ]
     },
     "metadata": {},
     "output_type": "display_data"
    },
    {
     "name": "stdout",
     "output_type": "stream",
     "text": [
      "Generating for: six hundred and forty acres of his own homestead., in pop art style\n"
     ]
    },
    {
     "data": {
      "application/vnd.jupyter.widget-view+json": {
       "model_id": "e5e28ff3642d427d93d73a7ef038f403",
       "version_major": 2,
       "version_minor": 0
      },
      "text/plain": [
       "  0%|          | 0/50 [00:00<?, ?it/s]"
      ]
     },
     "metadata": {},
     "output_type": "display_data"
    },
    {
     "name": "stdout",
     "output_type": "stream",
     "text": [
      "Generating for: land that no one knows how to properly farm., in pop art style\n"
     ]
    },
    {
     "data": {
      "application/vnd.jupyter.widget-view+json": {
       "model_id": "b2a7f2bbb5624cc1b13941dc9d541fd6",
       "version_major": 2,
       "version_minor": 0
      },
      "text/plain": [
       "  0%|          | 0/50 [00:00<?, ?it/s]"
      ]
     },
     "metadata": {},
     "output_type": "display_data"
    },
    {
     "name": "stdout",
     "output_type": "stream",
     "text": [
      "Processing 41...\n",
      "Generating for: illustrated paper, in 3D rendering style\n"
     ]
    },
    {
     "data": {
      "application/vnd.jupyter.widget-view+json": {
       "model_id": "3cdc838965f0486880ac8810e2844752",
       "version_major": 2,
       "version_minor": 0
      },
      "text/plain": [
       "  0%|          | 0/50 [00:00<?, ?it/s]"
      ]
     },
     "metadata": {},
     "output_type": "display_data"
    },
    {
     "name": "stdout",
     "output_type": "stream",
     "text": [
      "Generating for: hammock, in 3D rendering style\n"
     ]
    },
    {
     "data": {
      "application/vnd.jupyter.widget-view+json": {
       "model_id": "f71954997bb84e88a9bfd707e5b77d1b",
       "version_major": 2,
       "version_minor": 0
      },
      "text/plain": [
       "  0%|          | 0/50 [00:00<?, ?it/s]"
      ]
     },
     "metadata": {},
     "output_type": "display_data"
    },
    {
     "name": "stdout",
     "output_type": "stream",
     "text": [
      "Generating for: new shirt, in 3D rendering style\n"
     ]
    },
    {
     "data": {
      "application/vnd.jupyter.widget-view+json": {
       "model_id": "f3630ead0081468fb8aac1e9de1c3751",
       "version_major": 2,
       "version_minor": 0
      },
      "text/plain": [
       "  0%|          | 0/50 [00:00<?, ?it/s]"
      ]
     },
     "metadata": {},
     "output_type": "display_data"
    },
    {
     "name": "stdout",
     "output_type": "stream",
     "text": [
      "Generating for: ivar, in 3D rendering style\n"
     ]
    },
    {
     "data": {
      "application/vnd.jupyter.widget-view+json": {
       "model_id": "2524b9f4d4dd4ff9819b9aeb67fd7098",
       "version_major": 2,
       "version_minor": 0
      },
      "text/plain": [
       "  0%|          | 0/50 [00:00<?, ?it/s]"
      ]
     },
     "metadata": {},
     "output_type": "display_data"
    },
    {
     "name": "stdout",
     "output_type": "stream",
     "text": [
      "Generating for: prairie, in 3D rendering style\n"
     ]
    },
    {
     "data": {
      "application/vnd.jupyter.widget-view+json": {
       "model_id": "eb3c244d9d2f42f6be6ba852c685263f",
       "version_major": 2,
       "version_minor": 0
      },
      "text/plain": [
       "  0%|          | 0/50 [00:00<?, ?it/s]"
      ]
     },
     "metadata": {},
     "output_type": "display_data"
    },
    {
     "name": "stdout",
     "output_type": "stream",
     "text": [
      "Processing 42...\n",
      "Generating for: encroaching plowshare, in pop art style\n"
     ]
    },
    {
     "data": {
      "application/vnd.jupyter.widget-view+json": {
       "model_id": "b6e1332772764ca0a0ea4c2b24564c04",
       "version_major": 2,
       "version_minor": 0
      },
      "text/plain": [
       "  0%|          | 0/50 [00:00<?, ?it/s]"
      ]
     },
     "metadata": {},
     "output_type": "display_data"
    },
    {
     "name": "stdout",
     "output_type": "stream",
     "text": [
      "Generating for: yellow seed-cucumbers and pumpkins and citrons, in pop art style\n"
     ]
    },
    {
     "data": {
      "application/vnd.jupyter.widget-view+json": {
       "model_id": "ec84147e80ad42dbb11f9a2d6c94a877",
       "version_major": 2,
       "version_minor": 0
      },
      "text/plain": [
       "  0%|          | 0/50 [00:00<?, ?it/s]"
      ]
     },
     "metadata": {},
     "output_type": "display_data"
    },
    {
     "name": "stdout",
     "output_type": "stream",
     "text": [
      "Generating for: gooseberry bushes, in pop art style\n"
     ]
    },
    {
     "data": {
      "application/vnd.jupyter.widget-view+json": {
       "model_id": "36830468ee304228b51de2e4a5b2a5ac",
       "version_major": 2,
       "version_minor": 0
      },
      "text/plain": [
       "  0%|          | 0/50 [00:00<?, ?it/s]"
      ]
     },
     "metadata": {},
     "output_type": "display_data"
    },
    {
     "name": "stdout",
     "output_type": "stream",
     "text": [
      "Generating for: little frightened, in pop art style\n"
     ]
    },
    {
     "data": {
      "application/vnd.jupyter.widget-view+json": {
       "model_id": "2757929a00024e01a10fc41d5b643934",
       "version_major": 2,
       "version_minor": 0
      },
      "text/plain": [
       "  0%|          | 0/50 [00:00<?, ?it/s]"
      ]
     },
     "metadata": {},
     "output_type": "display_data"
    },
    {
     "name": "stdout",
     "output_type": "stream",
     "text": [
      "Generating for: german engraver, in pop art style\n"
     ]
    },
    {
     "data": {
      "application/vnd.jupyter.widget-view+json": {
       "model_id": "0558e456c36c4d069ce3d7b289592997",
       "version_major": 2,
       "version_minor": 0
      },
      "text/plain": [
       "  0%|          | 0/50 [00:00<?, ?it/s]"
      ]
     },
     "metadata": {},
     "output_type": "display_data"
    },
    {
     "name": "stdout",
     "output_type": "stream",
     "text": [
      "Processing 43...\n",
      "Generating for: new kind of clover hay, in black and white photo style\n"
     ]
    },
    {
     "data": {
      "application/vnd.jupyter.widget-view+json": {
       "model_id": "00ab13cb830d4b54a54553d7b0f3e341",
       "version_major": 2,
       "version_minor": 0
      },
      "text/plain": [
       "  0%|          | 0/50 [00:00<?, ?it/s]"
      ]
     },
     "metadata": {},
     "output_type": "display_data"
    },
    {
     "name": "stdout",
     "output_type": "stream",
     "text": [
      "Generating for: high land, in black and white photo style\n"
     ]
    },
    {
     "data": {
      "application/vnd.jupyter.widget-view+json": {
       "model_id": "a5cda88c8eff44b48b4826d42270ba13",
       "version_major": 2,
       "version_minor": 0
      },
      "text/plain": [
       "  0%|          | 0/50 [00:00<?, ?it/s]"
      ]
     },
     "metadata": {},
     "output_type": "display_data"
    },
    {
     "name": "stdout",
     "output_type": "stream",
     "text": [
      "Generating for: the divide, in black and white photo style\n"
     ]
    },
    {
     "data": {
      "application/vnd.jupyter.widget-view+json": {
       "model_id": "2090f585f3cc40999dc4244ae61968c5",
       "version_major": 2,
       "version_minor": 0
      },
      "text/plain": [
       "  0%|          | 0/50 [00:00<?, ?it/s]"
      ]
     },
     "metadata": {},
     "output_type": "display_data"
    },
    {
     "name": "stdout",
     "output_type": "stream",
     "text": [
      "Generating for: family council, in black and white photo style\n"
     ]
    },
    {
     "data": {
      "application/vnd.jupyter.widget-view+json": {
       "model_id": "c8c1e13e55fc44728e049931edb0e2c4",
       "version_major": 2,
       "version_minor": 0
      },
      "text/plain": [
       "  0%|          | 0/50 [00:00<?, ?it/s]"
      ]
     },
     "metadata": {},
     "output_type": "display_data"
    },
    {
     "name": "stdout",
     "output_type": "stream",
     "text": [
      "Generating for: linstrum place and peter crow's place, in black and white photo style\n"
     ]
    },
    {
     "data": {
      "application/vnd.jupyter.widget-view+json": {
       "model_id": "002caa77876b4550a47aa1dae603f0d4",
       "version_major": 2,
       "version_minor": 0
      },
      "text/plain": [
       "  0%|          | 0/50 [00:00<?, ?it/s]"
      ]
     },
     "metadata": {},
     "output_type": "display_data"
    },
    {
     "name": "stdout",
     "output_type": "stream",
     "text": [
      "Processing 44...\n",
      "Generating for: white shaft marking graves gleaming across the wheat-fields., in oil painting style\n"
     ]
    },
    {
     "data": {
      "application/vnd.jupyter.widget-view+json": {
       "model_id": "c57430b6e35945439f82ce1855dab40e",
       "version_major": 2,
       "version_minor": 0
      },
      "text/plain": [
       "  0%|          | 0/50 [00:00<?, ?it/s]"
      ]
     },
     "metadata": {},
     "output_type": "display_data"
    },
    {
     "name": "stdout",
     "output_type": "stream",
     "text": [
      "Generating for: brown earth yielding eagerly to the plow, cutting like velvet., in oil painting style\n"
     ]
    },
    {
     "data": {
      "application/vnd.jupyter.widget-view+json": {
       "model_id": "6e83d3b4c9bc4ffe84fb3035358d227f",
       "version_major": 2,
       "version_minor": 0
      },
      "text/plain": [
       "  0%|          | 0/50 [00:00<?, ?it/s]"
      ]
     },
     "metadata": {},
     "output_type": "display_data"
    },
    {
     "name": "stdout",
     "output_type": "stream",
     "text": [
      "Generating for: open face of the country, rising to meet the sun., in oil painting style\n"
     ]
    },
    {
     "data": {
      "application/vnd.jupyter.widget-view+json": {
       "model_id": "26e0368d158747bea906842d08e850d3",
       "version_major": 2,
       "version_minor": 0
      },
      "text/plain": [
       "  0%|          | 0/50 [00:00<?, ?it/s]"
      ]
     },
     "metadata": {},
     "output_type": "display_data"
    },
    {
     "name": "stdout",
     "output_type": "stream",
     "text": [
      "Generating for: young man sharpening his scythe at the graveyard gate., in oil painting style\n"
     ]
    },
    {
     "data": {
      "application/vnd.jupyter.widget-view+json": {
       "model_id": "58ddc026838c4e31bf3533359b8d805d",
       "version_major": 2,
       "version_minor": 0
      },
      "text/plain": [
       "  0%|          | 0/50 [00:00<?, ?it/s]"
      ]
     },
     "metadata": {},
     "output_type": "display_data"
    },
    {
     "name": "stdout",
     "output_type": "stream",
     "text": [
      "Generating for: young man pausing in his lively air to cut around headstones., in oil painting style\n"
     ]
    },
    {
     "data": {
      "application/vnd.jupyter.widget-view+json": {
       "model_id": "80af169392f046d3b9fbfe2b1f11597f",
       "version_major": 2,
       "version_minor": 0
      },
      "text/plain": [
       "  0%|          | 0/50 [00:00<?, ?it/s]"
      ]
     },
     "metadata": {},
     "output_type": "display_data"
    },
    {
     "name": "stdout",
     "output_type": "stream",
     "text": [
      "Processing 45...\n",
      "Generating for: red tablecloth with pies, bread, meat, and potatoes, in black and white photo style\n"
     ]
    },
    {
     "data": {
      "application/vnd.jupyter.widget-view+json": {
       "model_id": "207db0f6094c40bb91ad677cbcc76ff4",
       "version_major": 2,
       "version_minor": 0
      },
      "text/plain": [
       "  0%|          | 0/50 [00:00<?, ?it/s]"
      ]
     },
     "metadata": {},
     "output_type": "display_data"
    },
    {
     "name": "stdout",
     "output_type": "stream",
     "text": [
      "Generating for: signa's spilled coffee and cream, in black and white photo style\n"
     ]
    },
    {
     "data": {
      "application/vnd.jupyter.widget-view+json": {
       "model_id": "bf4bbfd059a24286a8a95e6d17c46f52",
       "version_major": 2,
       "version_minor": 0
      },
      "text/plain": [
       "  0%|          | 0/50 [00:00<?, ?it/s]"
      ]
     },
     "metadata": {},
     "output_type": "display_data"
    },
    {
     "name": "stdout",
     "output_type": "stream",
     "text": [
      "Generating for: ivar's blue blouse and withered face, in black and white photo style\n"
     ]
    },
    {
     "data": {
      "application/vnd.jupyter.widget-view+json": {
       "model_id": "02e077206a954d4dad4a29566dc59f9c",
       "version_major": 2,
       "version_minor": 0
      },
      "text/plain": [
       "  0%|          | 0/50 [00:00<?, ?it/s]"
      ]
     },
     "metadata": {},
     "output_type": "display_data"
    },
    {
     "name": "stdout",
     "output_type": "stream",
     "text": [
      "Generating for: alexandra's curly braids and sunburnt face, in black and white photo style\n"
     ]
    },
    {
     "data": {
      "application/vnd.jupyter.widget-view+json": {
       "model_id": "923a8756cb874a96bba7dd787036643f",
       "version_major": 2,
       "version_minor": 0
      },
      "text/plain": [
       "  0%|          | 0/50 [00:00<?, ?it/s]"
      ]
     },
     "metadata": {},
     "output_type": "display_data"
    },
    {
     "name": "stdout",
     "output_type": "stream",
     "text": [
      "Generating for: alexandra's attentive listening at the table, in black and white photo style\n"
     ]
    },
    {
     "data": {
      "application/vnd.jupyter.widget-view+json": {
       "model_id": "47cfee572186410dbbe79ab2376d0297",
       "version_major": 2,
       "version_minor": 0
      },
      "text/plain": [
       "  0%|          | 0/50 [00:00<?, ?it/s]"
      ]
     },
     "metadata": {},
     "output_type": "display_data"
    },
    {
     "name": "stdout",
     "output_type": "stream",
     "text": [
      "Processing 46...\n",
      "Generating for: useless pieces of china and highly varnished wood., in black and white photo style\n"
     ]
    },
    {
     "data": {
      "application/vnd.jupyter.widget-view+json": {
       "model_id": "57e666365a564b9f80b86a4ee42b7ff0",
       "version_major": 2,
       "version_minor": 0
      },
      "text/plain": [
       "  0%|          | 0/50 [00:00<?, ?it/s]"
      ]
     },
     "metadata": {},
     "output_type": "display_data"
    },
    {
     "name": "stdout",
     "output_type": "stream",
     "text": [
      "Generating for: oscar's four tow-headed little boys., in black and white photo style\n"
     ]
    },
    {
     "data": {
      "application/vnd.jupyter.widget-view+json": {
       "model_id": "aaeb8f565fcd4adebb9178572fd63175",
       "version_major": 2,
       "version_minor": 0
      },
      "text/plain": [
       "  0%|          | 0/50 [00:00<?, ?it/s]"
      ]
     },
     "metadata": {},
     "output_type": "display_data"
    },
    {
     "name": "stdout",
     "output_type": "stream",
     "text": [
      "Generating for: lou's wife with yellow hair and high pompadour., in black and white photo style\n"
     ]
    },
    {
     "data": {
      "application/vnd.jupyter.widget-view+json": {
       "model_id": "6c9998696d9f4f60855ec46c8ffeff13",
       "version_major": 2,
       "version_minor": 0
      },
      "text/plain": [
       "  0%|          | 0/50 [00:00<?, ?it/s]"
      ]
     },
     "metadata": {},
     "output_type": "display_data"
    },
    {
     "name": "stdout",
     "output_type": "stream",
     "text": [
      "Generating for: conversation at the table in english., in black and white photo style\n"
     ]
    },
    {
     "data": {
      "application/vnd.jupyter.widget-view+json": {
       "model_id": "f3a167bc0146478a987b5c08109dee56",
       "version_major": 2,
       "version_minor": 0
      },
      "text/plain": [
       "  0%|          | 0/50 [00:00<?, ?it/s]"
      ]
     },
     "metadata": {},
     "output_type": "display_data"
    },
    {
     "name": "stdout",
     "output_type": "stream",
     "text": [
      "Generating for: the superintendent of the asylum and ivar's symptoms., in black and white photo style\n"
     ]
    },
    {
     "data": {
      "application/vnd.jupyter.widget-view+json": {
       "model_id": "7d79bc72181140358ee4821d254af200",
       "version_major": 2,
       "version_minor": 0
      },
      "text/plain": [
       "  0%|          | 0/50 [00:00<?, ?it/s]"
      ]
     },
     "metadata": {},
     "output_type": "display_data"
    },
    {
     "name": "stdout",
     "output_type": "stream",
     "text": [
      "Processing 47...\n",
      "Generating for: norfolk coat with high collars, in black and white photo style\n"
     ]
    },
    {
     "data": {
      "application/vnd.jupyter.widget-view+json": {
       "model_id": "46cd446b0a52440289a5626bec6de586",
       "version_major": 2,
       "version_minor": 0
      },
      "text/plain": [
       "  0%|          | 0/50 [00:00<?, ?it/s]"
      ]
     },
     "metadata": {},
     "output_type": "display_data"
    },
    {
     "name": "stdout",
     "output_type": "stream",
     "text": [
      "Generating for: clump of castor beans in the flower garden, in black and white photo style\n"
     ]
    },
    {
     "data": {
      "application/vnd.jupyter.widget-view+json": {
       "model_id": "fce98a744ccc4a3e9b540572f4f6c52c",
       "version_major": 2,
       "version_minor": 0
      },
      "text/plain": [
       "  0%|          | 0/50 [00:00<?, ?it/s]"
      ]
     },
     "metadata": {},
     "output_type": "display_data"
    },
    {
     "name": "stdout",
     "output_type": "stream",
     "text": [
      "Generating for: sleeping landscape pointed at with a cigar, in black and white photo style\n"
     ]
    },
    {
     "data": {
      "application/vnd.jupyter.widget-view+json": {
       "model_id": "285174eae34e498fab2ed64199696f55",
       "version_major": 2,
       "version_minor": 0
      },
      "text/plain": [
       "  0%|          | 0/50 [00:00<?, ?it/s]"
      ]
     },
     "metadata": {},
     "output_type": "display_data"
    },
    {
     "name": "stdout",
     "output_type": "stream",
     "text": [
      "Generating for: land that pretended to be poor and then became rich, in black and white photo style\n"
     ]
    },
    {
     "data": {
      "application/vnd.jupyter.widget-view+json": {
       "model_id": "5be57d9a58fe4196a914bcd6cf596d15",
       "version_major": 2,
       "version_minor": 0
      },
      "text/plain": [
       "  0%|          | 0/50 [00:00<?, ?it/s]"
      ]
     },
     "metadata": {},
     "output_type": "display_data"
    },
    {
     "name": "stdout",
     "output_type": "stream",
     "text": [
      "Generating for: emil who is different from the rest, in black and white photo style\n"
     ]
    },
    {
     "data": {
      "application/vnd.jupyter.widget-view+json": {
       "model_id": "8933b7dd72714840a32d4b4f5289f092",
       "version_major": 2,
       "version_minor": 0
      },
      "text/plain": [
       "  0%|          | 0/50 [00:00<?, ?it/s]"
      ]
     },
     "metadata": {},
     "output_type": "display_data"
    },
    {
     "name": "stdout",
     "output_type": "stream",
     "text": [
      "Processing 48...\n",
      "Generating for: cultivator, in 3D rendering style\n"
     ]
    },
    {
     "data": {
      "application/vnd.jupyter.widget-view+json": {
       "model_id": "dad2a994e8d0422595a4f1724af28943",
       "version_major": 2,
       "version_minor": 0
      },
      "text/plain": [
       "  0%|          | 0/50 [00:00<?, ?it/s]"
      ]
     },
     "metadata": {},
     "output_type": "display_data"
    },
    {
     "name": "stdout",
     "output_type": "stream",
     "text": [
      "Generating for: milking cows, in 3D rendering style\n"
     ]
    },
    {
     "data": {
      "application/vnd.jupyter.widget-view+json": {
       "model_id": "1b4a6c9e49064c95a0529b376abf20c9",
       "version_major": 2,
       "version_minor": 0
      },
      "text/plain": [
       "  0%|          | 0/50 [00:00<?, ?it/s]"
      ]
     },
     "metadata": {},
     "output_type": "display_data"
    },
    {
     "name": "stdout",
     "output_type": "stream",
     "text": [
      "Generating for: milking pails, in 3D rendering style\n"
     ]
    },
    {
     "data": {
      "application/vnd.jupyter.widget-view+json": {
       "model_id": "1bfbeb9978224a3bad9f7363946c1146",
       "version_major": 2,
       "version_minor": 0
      },
      "text/plain": [
       "  0%|          | 0/50 [00:00<?, ?it/s]"
      ]
     },
     "metadata": {},
     "output_type": "display_data"
    },
    {
     "name": "stdout",
     "output_type": "stream",
     "text": [
      "Generating for: tiny instruments, in 3D rendering style\n"
     ]
    },
    {
     "data": {
      "application/vnd.jupyter.widget-view+json": {
       "model_id": "44ce18bed8d84a04a528dfe14a296ad1",
       "version_major": 2,
       "version_minor": 0
      },
      "text/plain": [
       "  0%|          | 0/50 [00:00<?, ?it/s]"
      ]
     },
     "metadata": {},
     "output_type": "display_data"
    },
    {
     "name": "stdout",
     "output_type": "stream",
     "text": [
      "Generating for: ducks, in 3D rendering style\n"
     ]
    },
    {
     "data": {
      "application/vnd.jupyter.widget-view+json": {
       "model_id": "c024555f0e4346e1a1bdef7c20511709",
       "version_major": 2,
       "version_minor": 0
      },
      "text/plain": [
       "  0%|          | 0/50 [00:00<?, ?it/s]"
      ]
     },
     "metadata": {},
     "output_type": "display_data"
    },
    {
     "name": "stdout",
     "output_type": "stream",
     "text": [
      "Processing 49...\n",
      "Generating for: photograph of marie and alexandra together, in oil painting style\n"
     ]
    },
    {
     "data": {
      "application/vnd.jupyter.widget-view+json": {
       "model_id": "fc00d088d6134059b4672d786d4a1ebe",
       "version_major": 2,
       "version_minor": 0
      },
      "text/plain": [
       "  0%|          | 0/50 [00:00<?, ?it/s]"
      ]
     },
     "metadata": {},
     "output_type": "display_data"
    },
    {
     "name": "stdout",
     "output_type": "stream",
     "text": [
      "Generating for: sun-hat, in oil painting style\n"
     ]
    },
    {
     "data": {
      "application/vnd.jupyter.widget-view+json": {
       "model_id": "0365ea70f22a4b49a0efa36bc576263c",
       "version_major": 2,
       "version_minor": 0
      },
      "text/plain": [
       "  0%|          | 0/50 [00:00<?, ?it/s]"
      ]
     },
     "metadata": {},
     "output_type": "display_data"
    },
    {
     "name": "stdout",
     "output_type": "stream",
     "text": [
      "Generating for: small, rueful smile, in oil painting style\n"
     ]
    },
    {
     "data": {
      "application/vnd.jupyter.widget-view+json": {
       "model_id": "4a7be6f6b517462a97754c49f20b00a5",
       "version_major": 2,
       "version_minor": 0
      },
      "text/plain": [
       "  0%|          | 0/50 [00:00<?, ?it/s]"
      ]
     },
     "metadata": {},
     "output_type": "display_data"
    },
    {
     "name": "stdout",
     "output_type": "stream",
     "text": [
      "Generating for: alexandra's friendly neighbors, in oil painting style\n"
     ]
    },
    {
     "data": {
      "application/vnd.jupyter.widget-view+json": {
       "model_id": "24bc44f4221f4c7abccc5bd4dd2c8ec2",
       "version_major": 2,
       "version_minor": 0
      },
      "text/plain": [
       "  0%|          | 0/50 [00:00<?, ?it/s]"
      ]
     },
     "metadata": {},
     "output_type": "display_data"
    },
    {
     "name": "stdout",
     "output_type": "stream",
     "text": [
      "Generating for: triangular lock of hair, in oil painting style\n"
     ]
    },
    {
     "data": {
      "application/vnd.jupyter.widget-view+json": {
       "model_id": "52945147b5cb45efae6fbd217c9b7290",
       "version_major": 2,
       "version_minor": 0
      },
      "text/plain": [
       "  0%|          | 0/50 [00:00<?, ?it/s]"
      ]
     },
     "metadata": {},
     "output_type": "display_data"
    },
    {
     "name": "stdout",
     "output_type": "stream",
     "text": [
      "Processing 50...\n",
      "Generating for: yellow cane with a wisp of silk handkerchief., in oil painting style\n"
     ]
    },
    {
     "data": {
      "application/vnd.jupyter.widget-view+json": {
       "model_id": "7628db2fe5594e7a91227a16d9bff6c2",
       "version_major": 2,
       "version_minor": 0
      },
      "text/plain": [
       "  0%|          | 0/50 [00:00<?, ?it/s]"
      ]
     },
     "metadata": {},
     "output_type": "display_data"
    },
    {
     "name": "stdout",
     "output_type": "stream",
     "text": [
      "Generating for: beer bottle with a stuffed shirt inside., in oil painting style\n"
     ]
    },
    {
     "data": {
      "application/vnd.jupyter.widget-view+json": {
       "model_id": "a79ebc2776e448208b9486d60bab1c02",
       "version_major": 2,
       "version_minor": 0
      },
      "text/plain": [
       "  0%|          | 0/50 [00:00<?, ?it/s]"
      ]
     },
     "metadata": {},
     "output_type": "display_data"
    },
    {
     "name": "stdout",
     "output_type": "stream",
     "text": [
      "Generating for: ladle and big bucket on wheels for liquid manure., in oil painting style\n"
     ]
    },
    {
     "data": {
      "application/vnd.jupyter.widget-view+json": {
       "model_id": "e3d1108aef1e487c878a3201e3011a51",
       "version_major": 2,
       "version_minor": 0
      },
      "text/plain": [
       "  0%|          | 0/50 [00:00<?, ?it/s]"
      ]
     },
     "metadata": {},
     "output_type": "display_data"
    },
    {
     "name": "stdout",
     "output_type": "stream",
     "text": [
      "Generating for: dozen different love-lorn photographs of frank., in oil painting style\n"
     ]
    },
    {
     "data": {
      "application/vnd.jupyter.widget-view+json": {
       "model_id": "c7c5e518fe9b42a399d2f3145096e6d4",
       "version_major": 2,
       "version_minor": 0
      },
      "text/plain": [
       "  0%|          | 0/50 [00:00<?, ?it/s]"
      ]
     },
     "metadata": {},
     "output_type": "display_data"
    },
    {
     "name": "stdout",
     "output_type": "stream",
     "text": [
      "Generating for: farm in the country that marie loved as a child., in oil painting style\n"
     ]
    },
    {
     "data": {
      "application/vnd.jupyter.widget-view+json": {
       "model_id": "f22de012865044dd8537ed63fbf00440",
       "version_major": 2,
       "version_minor": 0
      },
      "text/plain": [
       "  0%|          | 0/50 [00:00<?, ?it/s]"
      ]
     },
     "metadata": {},
     "output_type": "display_data"
    },
    {
     "name": "stdout",
     "output_type": "stream",
     "text": [
      "Processing 51...\n",
      "Generating for: a newspaper with a colored account of a divorce case., in 3D rendering style\n"
     ]
    },
    {
     "data": {
      "application/vnd.jupyter.widget-view+json": {
       "model_id": "d8be729548614dfba7f4d63aa8f662a0",
       "version_major": 2,
       "version_minor": 0
      },
      "text/plain": [
       "  0%|          | 0/50 [00:00<?, ?it/s]"
      ]
     },
     "metadata": {},
     "output_type": "display_data"
    },
    {
     "name": "stdout",
     "output_type": "stream",
     "text": [
      "Generating for: a catalogue listing the young man's reputed extravagances., in 3D rendering style\n"
     ]
    },
    {
     "data": {
      "application/vnd.jupyter.widget-view+json": {
       "model_id": "5049eb59d7f94851983baee96e84293f",
       "version_major": 2,
       "version_minor": 0
      },
      "text/plain": [
       "  0%|          | 0/50 [00:00<?, ?it/s]"
      ]
     },
     "metadata": {},
     "output_type": "display_data"
    },
    {
     "name": "stdout",
     "output_type": "stream",
     "text": [
      "Generating for: sunday newspapers with stories about rich people's crimes and follies., in 3D rendering style\n"
     ]
    },
    {
     "data": {
      "application/vnd.jupyter.widget-view+json": {
       "model_id": "52b23f8b00454f13a6415db769a9d028",
       "version_major": 2,
       "version_minor": 0
      },
      "text/plain": [
       "  0%|          | 0/50 [00:00<?, ?it/s]"
      ]
     },
     "metadata": {},
     "output_type": "display_data"
    },
    {
     "name": "stdout",
     "output_type": "stream",
     "text": [
      "Generating for: a scythe and a whetstone., in 3D rendering style\n"
     ]
    },
    {
     "data": {
      "application/vnd.jupyter.widget-view+json": {
       "model_id": "51059ffaec9a44f18f9d4fb7ab0d0357",
       "version_major": 2,
       "version_minor": 0
      },
      "text/plain": [
       "  0%|          | 0/50 [00:00<?, ?it/s]"
      ]
     },
     "metadata": {},
     "output_type": "display_data"
    },
    {
     "name": "stdout",
     "output_type": "stream",
     "text": [
      "Generating for: wild roses with a spicy scent after the rain., in 3D rendering style\n"
     ]
    },
    {
     "data": {
      "application/vnd.jupyter.widget-view+json": {
       "model_id": "542ab097d4f0468db495cf86fc6ae739",
       "version_major": 2,
       "version_minor": 0
      },
      "text/plain": [
       "  0%|          | 0/50 [00:00<?, ?it/s]"
      ]
     },
     "metadata": {},
     "output_type": "display_data"
    },
    {
     "name": "stdout",
     "output_type": "stream",
     "text": [
      "Processing 52...\n",
      "Processing 53...\n",
      "Generating for: object for sentence 265: account-books, in watercolor style\n"
     ]
    },
    {
     "data": {
      "application/vnd.jupyter.widget-view+json": {
       "model_id": "fd4ddfb6215840aba251d0ad32f3c8ae",
       "version_major": 2,
       "version_minor": 0
      },
      "text/plain": [
       "  0%|          | 0/50 [00:00<?, ?it/s]"
      ]
     },
     "metadata": {},
     "output_type": "display_data"
    },
    {
     "name": "stdout",
     "output_type": "stream",
     "text": [
      "Generating for: object for sentence 266: doorway into the parlor, in watercolor style\n"
     ]
    },
    {
     "data": {
      "application/vnd.jupyter.widget-view+json": {
       "model_id": "76d69b2ba80847d19c2ad5e242d64fbc",
       "version_major": 2,
       "version_minor": 0
      },
      "text/plain": [
       "  0%|          | 0/50 [00:00<?, ?it/s]"
      ]
     },
     "metadata": {},
     "output_type": "display_data"
    },
    {
     "name": "stdout",
     "output_type": "stream",
     "text": [
      "Generating for: object for sentence 267: catholic fair, in watercolor style\n"
     ]
    },
    {
     "data": {
      "application/vnd.jupyter.widget-view+json": {
       "model_id": "63f88ca9237a42b6850c41c3b3742811",
       "version_major": 2,
       "version_minor": 0
      },
      "text/plain": [
       "  0%|          | 0/50 [00:00<?, ?it/s]"
      ]
     },
     "metadata": {},
     "output_type": "display_data"
    },
    {
     "name": "stdout",
     "output_type": "stream",
     "text": [
      "Generating for: object for sentence 268: moments, in watercolor style\n"
     ]
    },
    {
     "data": {
      "application/vnd.jupyter.widget-view+json": {
       "model_id": "6ed04a9bd7884a3aa715b8b81316675f",
       "version_major": 2,
       "version_minor": 0
      },
      "text/plain": [
       "  0%|          | 0/50 [00:00<?, ?it/s]"
      ]
     },
     "metadata": {},
     "output_type": "display_data"
    },
    {
     "name": "stdout",
     "output_type": "stream",
     "text": [
      "Generating for: object for sentence 269: here, in watercolor style\n"
     ]
    },
    {
     "data": {
      "application/vnd.jupyter.widget-view+json": {
       "model_id": "047e5286d7c54c0a84608740ba167545",
       "version_major": 2,
       "version_minor": 0
      },
      "text/plain": [
       "  0%|          | 0/50 [00:00<?, ?it/s]"
      ]
     },
     "metadata": {},
     "output_type": "display_data"
    },
    {
     "name": "stdout",
     "output_type": "stream",
     "text": [
      "Processing 54...\n",
      "Generating for: windmill, in oil painting style\n"
     ]
    },
    {
     "data": {
      "application/vnd.jupyter.widget-view+json": {
       "model_id": "cc125342cd314162b30715eb4840e004",
       "version_major": 2,
       "version_minor": 0
      },
      "text/plain": [
       "  0%|          | 0/50 [00:00<?, ?it/s]"
      ]
     },
     "metadata": {},
     "output_type": "display_data"
    },
    {
     "name": "stdout",
     "output_type": "stream",
     "text": [
      "Generating for: bedroom door, in oil painting style\n"
     ]
    },
    {
     "data": {
      "application/vnd.jupyter.widget-view+json": {
       "model_id": "e387928c107c4e92b7b0729ed9e6f3c3",
       "version_major": 2,
       "version_minor": 0
      },
      "text/plain": [
       "  0%|          | 0/50 [00:00<?, ?it/s]"
      ]
     },
     "metadata": {},
     "output_type": "display_data"
    },
    {
     "name": "stdout",
     "output_type": "stream",
     "text": [
      "Generating for: emil, in oil painting style\n"
     ]
    },
    {
     "data": {
      "application/vnd.jupyter.widget-view+json": {
       "model_id": "01b4d7b8175c4cfa893616b9e23d3843",
       "version_major": 2,
       "version_minor": 0
      },
      "text/plain": [
       "  0%|          | 0/50 [00:00<?, ?it/s]"
      ]
     },
     "metadata": {},
     "output_type": "display_data"
    },
    {
     "name": "stdout",
     "output_type": "stream",
     "text": [
      "Generating for: alexandra, in oil painting style\n"
     ]
    },
    {
     "data": {
      "application/vnd.jupyter.widget-view+json": {
       "model_id": "33f1fa6936f3400a86e1aa313c388e0e",
       "version_major": 2,
       "version_minor": 0
      },
      "text/plain": [
       "  0%|          | 0/50 [00:00<?, ?it/s]"
      ]
     },
     "metadata": {},
     "output_type": "display_data"
    },
    {
     "name": "stdout",
     "output_type": "stream",
     "text": [
      "Generating for: emil's impatience, in oil painting style\n"
     ]
    },
    {
     "data": {
      "application/vnd.jupyter.widget-view+json": {
       "model_id": "eeb52b34e50b409a8c3a47da4586b0f9",
       "version_major": 2,
       "version_minor": 0
      },
      "text/plain": [
       "  0%|          | 0/50 [00:00<?, ?it/s]"
      ]
     },
     "metadata": {},
     "output_type": "display_data"
    },
    {
     "name": "stdout",
     "output_type": "stream",
     "text": [
      "Processing 55...\n",
      "Generating for: a lamp with an adjustable shade., in futuristic style\n"
     ]
    },
    {
     "data": {
      "application/vnd.jupyter.widget-view+json": {
       "model_id": "496d3f45bb7845649c47d4096ad4c068",
       "version_major": 2,
       "version_minor": 0
      },
      "text/plain": [
       "  0%|          | 0/50 [00:00<?, ?it/s]"
      ]
     },
     "metadata": {},
     "output_type": "display_data"
    },
    {
     "name": "stdout",
     "output_type": "stream",
     "text": [
      "Generating for: a person named lou., in futuristic style\n"
     ]
    },
    {
     "data": {
      "application/vnd.jupyter.widget-view+json": {
       "model_id": "15f6743c8a5c4e3590751cdec4bb587c",
       "version_major": 2,
       "version_minor": 0
      },
      "text/plain": [
       "  0%|          | 0/50 [00:00<?, ?it/s]"
      ]
     },
     "metadata": {},
     "output_type": "display_data"
    },
    {
     "name": "stdout",
     "output_type": "stream",
     "text": [
      "Generating for: avoiding eyes., in futuristic style\n"
     ]
    },
    {
     "data": {
      "application/vnd.jupyter.widget-view+json": {
       "model_id": "2fcd1bea0c4c4b03b708f61e0a52f0b0",
       "version_major": 2,
       "version_minor": 0
      },
      "text/plain": [
       "  0%|          | 0/50 [00:00<?, ?it/s]"
      ]
     },
     "metadata": {},
     "output_type": "display_data"
    },
    {
     "name": "stdout",
     "output_type": "stream",
     "text": [
      "Generating for: a deep breath., in futuristic style\n"
     ]
    },
    {
     "data": {
      "application/vnd.jupyter.widget-view+json": {
       "model_id": "0ee12ec1f08a43b58530eb72380a97e8",
       "version_major": 2,
       "version_minor": 0
      },
      "text/plain": [
       "  0%|          | 0/50 [00:00<?, ?it/s]"
      ]
     },
     "metadata": {},
     "output_type": "display_data"
    },
    {
     "name": "stdout",
     "output_type": "stream",
     "text": [
      "Generating for: a dark lock of hair., in futuristic style\n"
     ]
    },
    {
     "data": {
      "application/vnd.jupyter.widget-view+json": {
       "model_id": "28c1ad146e244d6b9fcfa5d6fc7da48d",
       "version_major": 2,
       "version_minor": 0
      },
      "text/plain": [
       "  0%|          | 0/50 [00:00<?, ?it/s]"
      ]
     },
     "metadata": {},
     "output_type": "display_data"
    },
    {
     "name": "stdout",
     "output_type": "stream",
     "text": [
      "Processing 56...\n",
      "Generating for: frozen coyote, in watercolor style\n"
     ]
    },
    {
     "data": {
      "application/vnd.jupyter.widget-view+json": {
       "model_id": "07d8d50d1e664ab58f41234475f5b962",
       "version_major": 2,
       "version_minor": 0
      },
      "text/plain": [
       "  0%|          | 0/50 [00:00<?, ?it/s]"
      ]
     },
     "metadata": {},
     "output_type": "display_data"
    },
    {
     "name": "stdout",
     "output_type": "stream",
     "text": [
      "Generating for: reform church pamphlet, in watercolor style\n"
     ]
    },
    {
     "data": {
      "application/vnd.jupyter.widget-view+json": {
       "model_id": "914f41357fc74358a2010c73ec24b856",
       "version_major": 2,
       "version_minor": 0
      },
      "text/plain": [
       "  0%|          | 0/50 [00:00<?, ?it/s]"
      ]
     },
     "metadata": {},
     "output_type": "display_data"
    },
    {
     "name": "stdout",
     "output_type": "stream",
     "text": [
      "Generating for: patched quilt, in watercolor style\n"
     ]
    },
    {
     "data": {
      "application/vnd.jupyter.widget-view+json": {
       "model_id": "da83c117169a4d7b966e53abebde754c",
       "version_major": 2,
       "version_minor": 0
      },
      "text/plain": [
       "  0%|          | 0/50 [00:00<?, ?it/s]"
      ]
     },
     "metadata": {},
     "output_type": "display_data"
    },
    {
     "name": "stdout",
     "output_type": "stream",
     "text": [
      "Generating for: cross-stitched apron, in watercolor style\n"
     ]
    },
    {
     "data": {
      "application/vnd.jupyter.widget-view+json": {
       "model_id": "f1a7ec91fbee4c39a78453c822dbf507",
       "version_major": 2,
       "version_minor": 0
      },
      "text/plain": [
       "  0%|          | 0/50 [00:00<?, ?it/s]"
      ]
     },
     "metadata": {},
     "output_type": "display_data"
    },
    {
     "name": "stdout",
     "output_type": "stream",
     "text": [
      "Generating for: crocheted collar, in watercolor style\n"
     ]
    },
    {
     "data": {
      "application/vnd.jupyter.widget-view+json": {
       "model_id": "a28743801c43450c90dee338d42ac1e1",
       "version_major": 2,
       "version_minor": 0
      },
      "text/plain": [
       "  0%|          | 0/50 [00:00<?, ?it/s]"
      ]
     },
     "metadata": {},
     "output_type": "display_data"
    },
    {
     "name": "stdout",
     "output_type": "stream",
     "text": [
      "Processing 57...\n",
      "Generating for: a river flowing underground., in watercolor style\n"
     ]
    },
    {
     "data": {
      "application/vnd.jupyter.widget-view+json": {
       "model_id": "f47850d7a6984542ad689ea3d080efaa",
       "version_major": 2,
       "version_minor": 0
      },
      "text/plain": [
       "  0%|          | 0/50 [00:00<?, ?it/s]"
      ]
     },
     "metadata": {},
     "output_type": "display_data"
    },
    {
     "name": "stdout",
     "output_type": "stream",
     "text": [
      "Generating for: a wild duck swimming in a clear river., in watercolor style\n"
     ]
    },
    {
     "data": {
      "application/vnd.jupyter.widget-view+json": {
       "model_id": "63681f3124a94cdca9b52f521f0b0373",
       "version_major": 2,
       "version_minor": 0
      },
      "text/plain": [
       "  0%|          | 0/50 [00:00<?, ?it/s]"
      ]
     },
     "metadata": {},
     "output_type": "display_data"
    },
    {
     "name": "stdout",
     "output_type": "stream",
     "text": [
      "Generating for: a white book filled with writings about nature., in watercolor style\n"
     ]
    },
    {
     "data": {
      "application/vnd.jupyter.widget-view+json": {
       "model_id": "aed55bd04c084c28969525ed2f986e41",
       "version_major": 2,
       "version_minor": 0
      },
      "text/plain": [
       "  0%|          | 0/50 [00:00<?, ?it/s]"
      ]
     },
     "metadata": {},
     "output_type": "display_data"
    },
    {
     "name": "stdout",
     "output_type": "stream",
     "text": [
      "Generating for: a strong man carrying someone through cornfields., in watercolor style\n"
     ]
    },
    {
     "data": {
      "application/vnd.jupyter.widget-view+json": {
       "model_id": "026357656ffb4155899db3b09a80f376",
       "version_major": 2,
       "version_minor": 0
      },
      "text/plain": [
       "  0%|          | 0/50 [00:00<?, ?it/s]"
      ]
     },
     "metadata": {},
     "output_type": "display_data"
    },
    {
     "name": "stdout",
     "output_type": "stream",
     "text": [
      "Generating for: a warm concoction and bed, relieving physical exhaustion., in watercolor style\n"
     ]
    },
    {
     "data": {
      "application/vnd.jupyter.widget-view+json": {
       "model_id": "5d3c2f4bc29a4687bee25c1b81124ea8",
       "version_major": 2,
       "version_minor": 0
      },
      "text/plain": [
       "  0%|          | 0/50 [00:00<?, ?it/s]"
      ]
     },
     "metadata": {},
     "output_type": "display_data"
    },
    {
     "name": "stdout",
     "output_type": "stream",
     "text": [
      "Processing 58...\n",
      "Generating for: a church with a tall steeple and steep roof on a hill., in pop art style\n"
     ]
    },
    {
     "data": {
      "application/vnd.jupyter.widget-view+json": {
       "model_id": "3aa5ec2bd7c84cd9b3b5300524fd9093",
       "version_major": 2,
       "version_minor": 0
      },
      "text/plain": [
       "  0%|          | 0/50 [00:00<?, ?it/s]"
      ]
     },
     "metadata": {},
     "output_type": "display_data"
    },
    {
     "name": "stdout",
     "output_type": "stream",
     "text": [
      "Generating for: a strikingly exotic figure in a mexican costume., in pop art style\n"
     ]
    },
    {
     "data": {
      "application/vnd.jupyter.widget-view+json": {
       "model_id": "1ca6165224f84fa9bc6e35c1cb6dbe2e",
       "version_major": 2,
       "version_minor": 0
      },
      "text/plain": [
       "  0%|          | 0/50 [00:00<?, ?it/s]"
      ]
     },
     "metadata": {},
     "output_type": "display_data"
    },
    {
     "name": "stdout",
     "output_type": "stream",
     "text": [
      "Generating for: the basement of the church where the supper was held., in pop art style\n"
     ]
    },
    {
     "data": {
      "application/vnd.jupyter.widget-view+json": {
       "model_id": "b14eb6b090334314ab5ccfe43aa49112",
       "version_major": 2,
       "version_minor": 0
      },
      "text/plain": [
       "  0%|          | 0/50 [00:00<?, ?it/s]"
      ]
     },
     "metadata": {},
     "output_type": "display_data"
    },
    {
     "name": "stdout",
     "output_type": "stream",
     "text": [
      "Generating for: a sanded terrace outside the church where boys wrestled., in pop art style\n"
     ]
    },
    {
     "data": {
      "application/vnd.jupyter.widget-view+json": {
       "model_id": "073ff369029a4dd08c3c4f6f9e789d39",
       "version_major": 2,
       "version_minor": 0
      },
      "text/plain": [
       "  0%|          | 0/50 [00:00<?, ?it/s]"
      ]
     },
     "metadata": {},
     "output_type": "display_data"
    },
    {
     "name": "stdout",
     "output_type": "stream",
     "text": [
      "Generating for: a proud father of one week embracing his old friend., in pop art style\n"
     ]
    },
    {
     "data": {
      "application/vnd.jupyter.widget-view+json": {
       "model_id": "84d137d2facf4ed1886323d8645b32de",
       "version_major": 2,
       "version_minor": 0
      },
      "text/plain": [
       "  0%|          | 0/50 [00:00<?, ?it/s]"
      ]
     },
     "metadata": {},
     "output_type": "display_data"
    },
    {
     "name": "stdout",
     "output_type": "stream",
     "text": [
      "Processing 59...\n",
      "Generating for: wedding presents, including cows, brought to the new home., in 3D rendering style\n"
     ]
    },
    {
     "data": {
      "application/vnd.jupyter.widget-view+json": {
       "model_id": "fe683ae704cc4210a031aa7e6e999ad8",
       "version_major": 2,
       "version_minor": 0
      },
      "text/plain": [
       "  0%|          | 0/50 [00:00<?, ?it/s]"
      ]
     },
     "metadata": {},
     "output_type": "display_data"
    },
    {
     "name": "stdout",
     "output_type": "stream",
     "text": [
      "Generating for: alexandra suggests riding home and sending cows tomorrow., in 3D rendering style\n"
     ]
    },
    {
     "data": {
      "application/vnd.jupyter.widget-view+json": {
       "model_id": "5b583137444d44a3966bb485c84e1e3d",
       "version_major": 2,
       "version_minor": 0
      },
      "text/plain": [
       "  0%|          | 0/50 [00:00<?, ?it/s]"
      ]
     },
     "metadata": {},
     "output_type": "display_data"
    },
    {
     "name": "stdout",
     "output_type": "stream",
     "text": [
      "Generating for: signa hesitates and obeys her husband's instructions., in 3D rendering style\n"
     ]
    },
    {
     "data": {
      "application/vnd.jupyter.widget-view+json": {
       "model_id": "d1a92f5513644e399f2eac6aef12fbff",
       "version_major": 2,
       "version_minor": 0
      },
      "text/plain": [
       "  0%|          | 0/50 [00:00<?, ?it/s]"
      ]
     },
     "metadata": {},
     "output_type": "display_data"
    },
    {
     "name": "stdout",
     "output_type": "stream",
     "text": [
      "Generating for: party sets off, with the bride and groom leading cows., in 3D rendering style\n"
     ]
    },
    {
     "data": {
      "application/vnd.jupyter.widget-view+json": {
       "model_id": "35490084327646189929fda10923994f",
       "version_major": 2,
       "version_minor": 0
      },
      "text/plain": [
       "  0%|          | 0/50 [00:00<?, ?it/s]"
      ]
     },
     "metadata": {},
     "output_type": "display_data"
    },
    {
     "name": "stdout",
     "output_type": "stream",
     "text": [
      "Generating for: alexandra jokes about the couple's cautiousness and plans future weddings., in 3D rendering style\n"
     ]
    },
    {
     "data": {
      "application/vnd.jupyter.widget-view+json": {
       "model_id": "2666739df4074ec3b78ceb9db21d1803",
       "version_major": 2,
       "version_minor": 0
      },
      "text/plain": [
       "  0%|          | 0/50 [00:00<?, ?it/s]"
      ]
     },
     "metadata": {},
     "output_type": "display_data"
    },
    {
     "name": "stdout",
     "output_type": "stream",
     "text": [
      "Processing 60...\n",
      "Generating for: box filled with books, in futuristic style\n"
     ]
    },
    {
     "data": {
      "application/vnd.jupyter.widget-view+json": {
       "model_id": "992439e20bb9439697a6b38c9e4a48fb",
       "version_major": 2,
       "version_minor": 0
      },
      "text/plain": [
       "  0%|          | 0/50 [00:00<?, ?it/s]"
      ]
     },
     "metadata": {},
     "output_type": "display_data"
    },
    {
     "name": "stdout",
     "output_type": "stream",
     "text": [
      "Generating for: old slat lounge, in futuristic style\n"
     ]
    },
    {
     "data": {
      "application/vnd.jupyter.widget-view+json": {
       "model_id": "e6e564db710945cb855e9d40e1c90fb9",
       "version_major": 2,
       "version_minor": 0
      },
      "text/plain": [
       "  0%|          | 0/50 [00:00<?, ?it/s]"
      ]
     },
     "metadata": {},
     "output_type": "display_data"
    },
    {
     "name": "stdout",
     "output_type": "stream",
     "text": [
      "Generating for: questioning sister, in futuristic style\n"
     ]
    },
    {
     "data": {
      "application/vnd.jupyter.widget-view+json": {
       "model_id": "d99da79041ad41698a1191485cf7dd7a",
       "version_major": 2,
       "version_minor": 0
      },
      "text/plain": [
       "  0%|          | 0/50 [00:00<?, ?it/s]"
      ]
     },
     "metadata": {},
     "output_type": "display_data"
    },
    {
     "name": "stdout",
     "output_type": "stream",
     "text": [
      "Generating for: alexandra's face in the lamplight, in futuristic style\n"
     ]
    },
    {
     "data": {
      "application/vnd.jupyter.widget-view+json": {
       "model_id": "6b1e099b6b9c4e32bf4758b155d90bda",
       "version_major": 2,
       "version_minor": 0
      },
      "text/plain": [
       "  0%|          | 0/50 [00:00<?, ?it/s]"
      ]
     },
     "metadata": {},
     "output_type": "display_data"
    },
    {
     "name": "stdout",
     "output_type": "stream",
     "text": [
      "Generating for: father's old walnut secretary, in futuristic style\n"
     ]
    },
    {
     "data": {
      "application/vnd.jupyter.widget-view+json": {
       "model_id": "c1dd93eb416041328251070ba13a9fa9",
       "version_major": 2,
       "version_minor": 0
      },
      "text/plain": [
       "  0%|          | 0/50 [00:00<?, ?it/s]"
      ]
     },
     "metadata": {},
     "output_type": "display_data"
    },
    {
     "name": "stdout",
     "output_type": "stream",
     "text": [
      "Processing 61...\n",
      "Generating for: old cradle with black-eyed son., in pop art style\n"
     ]
    },
    {
     "data": {
      "application/vnd.jupyter.widget-view+json": {
       "model_id": "c8f1d34e4b9a43bcb17fe383e0a4ca9c",
       "version_major": 2,
       "version_minor": 0
      },
      "text/plain": [
       "  0%|          | 0/50 [00:00<?, ?it/s]"
      ]
     },
     "metadata": {},
     "output_type": "display_data"
    },
    {
     "name": "stdout",
     "output_type": "stream",
     "text": [
      "Generating for: new header for cutting wheat., in pop art style\n"
     ]
    },
    {
     "data": {
      "application/vnd.jupyter.widget-view+json": {
       "model_id": "3266ad54ae2449f18e930dd2e24ae1ee",
       "version_major": 2,
       "version_minor": 0
      },
      "text/plain": [
       "  0%|          | 0/50 [00:00<?, ?it/s]"
      ]
     },
     "metadata": {},
     "output_type": "display_data"
    },
    {
     "name": "stdout",
     "output_type": "stream",
     "text": [
      "Generating for: hector baptiste with round black eyes., in pop art style\n"
     ]
    },
    {
     "data": {
      "application/vnd.jupyter.widget-view+json": {
       "model_id": "9dc465eb867141ce96f857a350e4f0f9",
       "version_major": 2,
       "version_minor": 0
      },
      "text/plain": [
       "  0%|          | 0/50 [00:00<?, ?it/s]"
      ]
     },
     "metadata": {},
     "output_type": "display_data"
    },
    {
     "name": "stdout",
     "output_type": "stream",
     "text": [
      "Generating for: mustard plasters for awful colic., in pop art style\n"
     ]
    },
    {
     "data": {
      "application/vnd.jupyter.widget-view+json": {
       "model_id": "e2e580a84e3b4ad5ba705e6493cb4e86",
       "version_major": 2,
       "version_minor": 0
      },
      "text/plain": [
       "  0%|          | 0/50 [00:00<?, ?it/s]"
      ]
     },
     "metadata": {},
     "output_type": "display_data"
    },
    {
     "name": "stdout",
     "output_type": "stream",
     "text": [
      "Generating for: good fortune for rich, energetic, handsome amedee., in pop art style\n"
     ]
    },
    {
     "data": {
      "application/vnd.jupyter.widget-view+json": {
       "model_id": "ee72398741b947208a1bb6d61b13ad08",
       "version_major": 2,
       "version_minor": 0
      },
      "text/plain": [
       "  0%|          | 0/50 [00:00<?, ?it/s]"
      ]
     },
     "metadata": {},
     "output_type": "display_data"
    },
    {
     "name": "stdout",
     "output_type": "stream",
     "text": [
      "Processing 62...\n",
      "Generating for: telephone, in black and white photo style\n"
     ]
    },
    {
     "data": {
      "application/vnd.jupyter.widget-view+json": {
       "model_id": "d4d30961eba64e9d824ef5f00572f8c2",
       "version_major": 2,
       "version_minor": 0
      },
      "text/plain": [
       "  0%|          | 0/50 [00:00<?, ?it/s]"
      ]
     },
     "metadata": {},
     "output_type": "display_data"
    },
    {
     "name": "stdout",
     "output_type": "stream",
     "text": [
      "Generating for: brandy, in black and white photo style\n"
     ]
    },
    {
     "data": {
      "application/vnd.jupyter.widget-view+json": {
       "model_id": "f710d9fba7b5414f8d367aae7f616694",
       "version_major": 2,
       "version_minor": 0
      },
      "text/plain": [
       "  0%|          | 0/50 [00:00<?, ?it/s]"
      ]
     },
     "metadata": {},
     "output_type": "display_data"
    },
    {
     "name": "stdout",
     "output_type": "stream",
     "text": [
      "Generating for: sitting-room, in black and white photo style\n"
     ]
    },
    {
     "data": {
      "application/vnd.jupyter.widget-view+json": {
       "model_id": "d5974e069341467ebc23a2d4b6d0a76b",
       "version_major": 2,
       "version_minor": 0
      },
      "text/plain": [
       "  0%|          | 0/50 [00:00<?, ?it/s]"
      ]
     },
     "metadata": {},
     "output_type": "display_data"
    },
    {
     "name": "stdout",
     "output_type": "stream",
     "text": [
      "Generating for: wild cotton, in black and white photo style\n"
     ]
    },
    {
     "data": {
      "application/vnd.jupyter.widget-view+json": {
       "model_id": "8e65473685404dc6bc6b95834d11ce92",
       "version_major": 2,
       "version_minor": 0
      },
      "text/plain": [
       "  0%|          | 0/50 [00:00<?, ?it/s]"
      ]
     },
     "metadata": {},
     "output_type": "display_data"
    },
    {
     "name": "stdout",
     "output_type": "stream",
     "text": [
      "Generating for: evening star, in black and white photo style\n"
     ]
    },
    {
     "data": {
      "application/vnd.jupyter.widget-view+json": {
       "model_id": "48a2bc54cd6c4ec5aa141348fcf6a001",
       "version_major": 2,
       "version_minor": 0
      },
      "text/plain": [
       "  0%|          | 0/50 [00:00<?, ?it/s]"
      ]
     },
     "metadata": {},
     "output_type": "display_data"
    },
    {
     "name": "stdout",
     "output_type": "stream",
     "text": [
      "Processing 63...\n",
      "Generating for: white dresses and white veils for the great confirmation service, in 3D rendering style\n"
     ]
    },
    {
     "data": {
      "application/vnd.jupyter.widget-view+json": {
       "model_id": "95f325cfd0e04c70b5f816e0442f26ec",
       "version_major": 2,
       "version_minor": 0
      },
      "text/plain": [
       "  0%|          | 0/50 [00:00<?, ?it/s]"
      ]
     },
     "metadata": {},
     "output_type": "display_data"
    },
    {
     "name": "stdout",
     "output_type": "stream",
     "text": [
      "Generating for: red brick church, in 3D rendering style\n"
     ]
    },
    {
     "data": {
      "application/vnd.jupyter.widget-view+json": {
       "model_id": "36bb3a6bef07454e824201817d8b9e3a",
       "version_major": 2,
       "version_minor": 0
      },
      "text/plain": [
       "  0%|          | 0/50 [00:00<?, ?it/s]"
      ]
     },
     "metadata": {},
     "output_type": "display_data"
    },
    {
     "name": "stdout",
     "output_type": "stream",
     "text": [
      "Generating for: boys on horseback with fiery enthusiasm, in 3D rendering style\n"
     ]
    },
    {
     "data": {
      "application/vnd.jupyter.widget-view+json": {
       "model_id": "3b8e982533f04cd18dd08087aac0d9c0",
       "version_major": 2,
       "version_minor": 0
      },
      "text/plain": [
       "  0%|          | 0/50 [00:00<?, ?it/s]"
      ]
     },
     "metadata": {},
     "output_type": "display_data"
    },
    {
     "name": "stdout",
     "output_type": "stream",
     "text": [
      "Generating for: gold cross flaming on the steeple of the red church, in 3D rendering style\n"
     ]
    },
    {
     "data": {
      "application/vnd.jupyter.widget-view+json": {
       "model_id": "47f18efdbcc640318c1f76b01985777a",
       "version_major": 2,
       "version_minor": 0
      },
      "text/plain": [
       "  0%|          | 0/50 [00:00<?, ?it/s]"
      ]
     },
     "metadata": {},
     "output_type": "display_data"
    },
    {
     "name": "stdout",
     "output_type": "stream",
     "text": [
      "Generating for: amedee's empty pew, in 3D rendering style\n"
     ]
    },
    {
     "data": {
      "application/vnd.jupyter.widget-view+json": {
       "model_id": "408dfe0364a147f5b03566af7a8d5dd7",
       "version_major": 2,
       "version_minor": 0
      },
      "text/plain": [
       "  0%|          | 0/50 [00:00<?, ?it/s]"
      ]
     },
     "metadata": {},
     "output_type": "display_data"
    },
    {
     "name": "stdout",
     "output_type": "stream",
     "text": [
      "Processing 64...\n",
      "Generating for: a mare., in pop art style\n"
     ]
    },
    {
     "data": {
      "application/vnd.jupyter.widget-view+json": {
       "model_id": "23fc2ec4b2b84b90b099339da5d7f877",
       "version_major": 2,
       "version_minor": 0
      },
      "text/plain": [
       "  0%|          | 0/50 [00:00<?, ?it/s]"
      ]
     },
     "metadata": {},
     "output_type": "display_data"
    },
    {
     "name": "stdout",
     "output_type": "stream",
     "text": [
      "Generating for: a winchester gun., in pop art style\n"
     ]
    },
    {
     "data": {
      "application/vnd.jupyter.widget-view+json": {
       "model_id": "5b21345895d141e88e664590cd7b7f4b",
       "version_major": 2,
       "version_minor": 0
      },
      "text/plain": [
       "  0%|          | 0/50 [00:00<?, ?it/s]"
      ]
     },
     "metadata": {},
     "output_type": "display_data"
    },
    {
     "name": "stdout",
     "output_type": "stream",
     "text": [
      "Generating for: an orchard hedge., in pop art style\n"
     ]
    },
    {
     "data": {
      "application/vnd.jupyter.widget-view+json": {
       "model_id": "2f4bf196dd40419b9b1977721f652bcd",
       "version_major": 2,
       "version_minor": 0
      },
      "text/plain": [
       "  0%|          | 0/50 [00:00<?, ?it/s]"
      ]
     },
     "metadata": {},
     "output_type": "display_data"
    },
    {
     "name": "stdout",
     "output_type": "stream",
     "text": [
      "Generating for: mulberry leaves., in pop art style\n"
     ]
    },
    {
     "data": {
      "application/vnd.jupyter.widget-view+json": {
       "model_id": "55aee82627f342d895edb68ae2856c8a",
       "version_major": 2,
       "version_minor": 0
      },
      "text/plain": [
       "  0%|          | 0/50 [00:00<?, ?it/s]"
      ]
     },
     "metadata": {},
     "output_type": "display_data"
    },
    {
     "name": "stdout",
     "output_type": "stream",
     "text": [
      "Generating for: the black, open door., in pop art style\n"
     ]
    },
    {
     "data": {
      "application/vnd.jupyter.widget-view+json": {
       "model_id": "6a41cd1459fe44158375c2c060178596",
       "version_major": 2,
       "version_minor": 0
      },
      "text/plain": [
       "  0%|          | 0/50 [00:00<?, ?it/s]"
      ]
     },
     "metadata": {},
     "output_type": "display_data"
    },
    {
     "name": "stdout",
     "output_type": "stream",
     "text": [
      "Processing 65...\n",
      "Generating for: scattered tufts of hay outside the stable door, in futuristic style\n"
     ]
    },
    {
     "data": {
      "application/vnd.jupyter.widget-view+json": {
       "model_id": "afe0d834331e4f9495bc45ef1e792657",
       "version_major": 2,
       "version_minor": 0
      },
      "text/plain": [
       "  0%|          | 0/50 [00:00<?, ?it/s]"
      ]
     },
     "metadata": {},
     "output_type": "display_data"
    },
    {
     "name": "stdout",
     "output_type": "stream",
     "text": [
      "Generating for: short, wet pasture grass on bare feet, in futuristic style\n"
     ]
    },
    {
     "data": {
      "application/vnd.jupyter.widget-view+json": {
       "model_id": "41a7cd469eb44bf49235c860fad0e43d",
       "version_major": 2,
       "version_minor": 0
      },
      "text/plain": [
       "  0%|          | 0/50 [00:00<?, ?it/s]"
      ]
     },
     "metadata": {},
     "output_type": "display_data"
    },
    {
     "name": "stdout",
     "output_type": "stream",
     "text": [
      "Generating for: trails of blood leading to emil's body, in futuristic style\n"
     ]
    },
    {
     "data": {
      "application/vnd.jupyter.widget-view+json": {
       "model_id": "dbd2f2e2452f4af79e49c92ae2e6212d",
       "version_major": 2,
       "version_minor": 0
      },
      "text/plain": [
       "  0%|          | 0/50 [00:00<?, ?it/s]"
      ]
     },
     "metadata": {},
     "output_type": "display_data"
    },
    {
     "name": "stdout",
     "output_type": "stream",
     "text": [
      "Generating for: white butterflies fluttering among interlacing shadows, in futuristic style\n"
     ]
    },
    {
     "data": {
      "application/vnd.jupyter.widget-view+json": {
       "model_id": "2b4b93f6278040ad903bb7ff60cdaa5e",
       "version_major": 2,
       "version_minor": 0
      },
      "text/plain": [
       "  0%|          | 0/50 [00:00<?, ?it/s]"
      ]
     },
     "metadata": {},
     "output_type": "display_data"
    },
    {
     "name": "stdout",
     "output_type": "stream",
     "text": [
      "Generating for: shabata's rifle lying on the path, in futuristic style\n"
     ]
    },
    {
     "data": {
      "application/vnd.jupyter.widget-view+json": {
       "model_id": "d733c9fe8fb040b7b60aff21e78427e4",
       "version_major": 2,
       "version_minor": 0
      },
      "text/plain": [
       "  0%|          | 0/50 [00:00<?, ?it/s]"
      ]
     },
     "metadata": {},
     "output_type": "display_data"
    },
    {
     "name": "stdout",
     "output_type": "stream",
     "text": [
      "Processing 66...\n",
      "Generating for: an old lantern hanging from the cobbler's bench in the barn., in oil painting style\n"
     ]
    },
    {
     "data": {
      "application/vnd.jupyter.widget-view+json": {
       "model_id": "f7555e594bef48f3b6353f8b283d3d8e",
       "version_major": 2,
       "version_minor": 0
      },
      "text/plain": [
       "  0%|          | 0/50 [00:00<?, ?it/s]"
      ]
     },
     "metadata": {},
     "output_type": "display_data"
    },
    {
     "name": "stdout",
     "output_type": "stream",
     "text": [
      "Generating for: raindrops on signa's face., in oil painting style\n"
     ]
    },
    {
     "data": {
      "application/vnd.jupyter.widget-view+json": {
       "model_id": "96f62ef725784acdbd42100269795436",
       "version_major": 2,
       "version_minor": 0
      },
      "text/plain": [
       "  0%|          | 0/50 [00:00<?, ?it/s]"
      ]
     },
     "metadata": {},
     "output_type": "display_data"
    },
    {
     "name": "stdout",
     "output_type": "stream",
     "text": [
      "Generating for: ivar's cobbler's knife., in oil painting style\n"
     ]
    },
    {
     "data": {
      "application/vnd.jupyter.widget-view+json": {
       "model_id": "b1ee2cffa3e8408cb6c4fb168a0272bc",
       "version_major": 2,
       "version_minor": 0
      },
      "text/plain": [
       "  0%|          | 0/50 [00:00<?, ?it/s]"
      ]
     },
     "metadata": {},
     "output_type": "display_data"
    },
    {
     "name": "stdout",
     "output_type": "stream",
     "text": [
      "Generating for: a window overlooking the fields., in oil painting style\n"
     ]
    },
    {
     "data": {
      "application/vnd.jupyter.widget-view+json": {
       "model_id": "6108ba240a2f4f0e92e1484da8ac73c3",
       "version_major": 2,
       "version_minor": 0
      },
      "text/plain": [
       "  0%|          | 0/50 [00:00<?, ?it/s]"
      ]
     },
     "metadata": {},
     "output_type": "display_data"
    },
    {
     "name": "stdout",
     "output_type": "stream",
     "text": [
      "Generating for: the boy's mare and the cart., in oil painting style\n"
     ]
    },
    {
     "data": {
      "application/vnd.jupyter.widget-view+json": {
       "model_id": "7b9d3ac65e094361973854d94417a675",
       "version_major": 2,
       "version_minor": 0
      },
      "text/plain": [
       "  0%|          | 0/50 [00:00<?, ?it/s]"
      ]
     },
     "metadata": {},
     "output_type": "display_data"
    },
    {
     "name": "stdout",
     "output_type": "stream",
     "text": [
      "Processing 67...\n",
      "Generating for: handbag, in black and white photo style\n"
     ]
    },
    {
     "data": {
      "application/vnd.jupyter.widget-view+json": {
       "model_id": "042c1f469a6545d686ed843d7596f19e",
       "version_major": 2,
       "version_minor": 0
      },
      "text/plain": [
       "  0%|          | 0/50 [00:00<?, ?it/s]"
      ]
     },
     "metadata": {},
     "output_type": "display_data"
    },
    {
     "name": "stdout",
     "output_type": "stream",
     "text": [
      "Generating for: iron gates, in black and white photo style\n"
     ]
    },
    {
     "data": {
      "application/vnd.jupyter.widget-view+json": {
       "model_id": "ce49e7798c874fa1a785891e5fcc5e92",
       "version_major": 2,
       "version_minor": 0
      },
      "text/plain": [
       "  0%|          | 0/50 [00:00<?, ?it/s]"
      ]
     },
     "metadata": {},
     "output_type": "display_data"
    },
    {
     "name": "stdout",
     "output_type": "stream",
     "text": [
      "Generating for: drill cap, in black and white photo style\n"
     ]
    },
    {
     "data": {
      "application/vnd.jupyter.widget-view+json": {
       "model_id": "3c8c628fe7b1412a86781913e316fd29",
       "version_major": 2,
       "version_minor": 0
      },
      "text/plain": [
       "  0%|          | 0/50 [00:00<?, ?it/s]"
      ]
     },
     "metadata": {},
     "output_type": "display_data"
    },
    {
     "name": "stdout",
     "output_type": "stream",
     "text": [
      "Generating for: bright, clear voice, in black and white photo style\n"
     ]
    },
    {
     "data": {
      "application/vnd.jupyter.widget-view+json": {
       "model_id": "3d9895535ff24be18bd7918d1359797d",
       "version_major": 2,
       "version_minor": 0
      },
      "text/plain": [
       "  0%|          | 0/50 [00:00<?, ?it/s]"
      ]
     },
     "metadata": {},
     "output_type": "display_data"
    },
    {
     "name": "stdout",
     "output_type": "stream",
     "text": [
      "Generating for: farm, in black and white photo style\n"
     ]
    },
    {
     "data": {
      "application/vnd.jupyter.widget-view+json": {
       "model_id": "db75efdaabba403c83c08e79d2dab8b2",
       "version_major": 2,
       "version_minor": 0
      },
      "text/plain": [
       "  0%|          | 0/50 [00:00<?, ?it/s]"
      ]
     },
     "metadata": {},
     "output_type": "display_data"
    },
    {
     "name": "stdout",
     "output_type": "stream",
     "text": [
      "Processing 68...\n",
      "Generating for: little present, in futuristic style\n"
     ]
    },
    {
     "data": {
      "application/vnd.jupyter.widget-view+json": {
       "model_id": "cf3842ecb33b452bbc141034e72ff59d",
       "version_major": 2,
       "version_minor": 0
      },
      "text/plain": [
       "  0%|          | 0/50 [00:00<?, ?it/s]"
      ]
     },
     "metadata": {},
     "output_type": "display_data"
    },
    {
     "name": "stdout",
     "output_type": "stream",
     "text": [
      "Generating for: white dress, in futuristic style\n"
     ]
    },
    {
     "data": {
      "application/vnd.jupyter.widget-view+json": {
       "model_id": "f111a093d88a4c0a9297399f287f4b55",
       "version_major": 2,
       "version_minor": 0
      },
      "text/plain": [
       "  0%|          | 0/50 [00:00<?, ?it/s]"
      ]
     },
     "metadata": {},
     "output_type": "display_data"
    },
    {
     "name": "stdout",
     "output_type": "stream",
     "text": [
      "Generating for: san francisco paper, in futuristic style\n"
     ]
    },
    {
     "data": {
      "application/vnd.jupyter.widget-view+json": {
       "model_id": "af323fc323e84debbb744eed5767a1ab",
       "version_major": 2,
       "version_minor": 0
      },
      "text/plain": [
       "  0%|          | 0/50 [00:00<?, ?it/s]"
      ]
     },
     "metadata": {},
     "output_type": "display_data"
    },
    {
     "name": "stdout",
     "output_type": "stream",
     "text": [
      "Generating for: talk, in futuristic style\n"
     ]
    },
    {
     "data": {
      "application/vnd.jupyter.widget-view+json": {
       "model_id": "cc83f0d667ab4789ab5981de8cb050d9",
       "version_major": 2,
       "version_minor": 0
      },
      "text/plain": [
       "  0%|          | 0/50 [00:00<?, ?it/s]"
      ]
     },
     "metadata": {},
     "output_type": "display_data"
    },
    {
     "name": "stdout",
     "output_type": "stream",
     "text": [
      "Generating for: business, in futuristic style\n"
     ]
    },
    {
     "data": {
      "application/vnd.jupyter.widget-view+json": {
       "model_id": "e98d64397a8f470c99fe3d36d9771600",
       "version_major": 2,
       "version_minor": 0
      },
      "text/plain": [
       "  0%|          | 0/50 [00:00<?, ?it/s]"
      ]
     },
     "metadata": {},
     "output_type": "display_data"
    },
    {
     "name": "stdout",
     "output_type": "stream",
     "text": [
      "Processing 69...\n"
     ]
    }
   ],
   "source": [
    "for story in data:\n",
    "    s_name = story\n",
    "\n",
    "    print(f\"Processing {s_name}...\")\n",
    "    if os.path.exists(f\"../datasets/bookSumm/images/{s_name}\"):\n",
    "        shutil.rmtree(f\"../datasets/bookSumm/images/{s_name}\")\n",
    "    os.makedirs(f\"../datasets/bookSumm/images/{s_name}\")\n",
    "\n",
    "    if os.path.exists(f\"../datasets/bookSumm/labels/{s_name}\"):\n",
    "        shutil.rmtree(f\"../datasets/bookSumm/labels/{s_name}\")\n",
    "    os.makedirs(f\"../datasets/bookSumm/labels/{s_name}\")\n",
    "    \n",
    "    for sent in data[story]:\n",
    "        # generate images and save\n",
    "        img_prompt = data[story][sent]['img_prompt']\n",
    "        print(f\"Generating for: {img_prompt}\")\n",
    "        img = pipe(img_prompt).images[0]\n",
    "        img.save(f'../datasets/bookSumm/images/{s_name}/{sent}.jpg')\n",
    "        \n",
    "        # save label\n",
    "        with open(f'../datasets/bookSumm/labels/{s_name}/{sent}.txt',\"w\") as f:\n",
    "            f.write(data[story][sent]['org'])\n",
    "            f.close()"
   ]
  }
 ],
 "metadata": {
  "kernelspec": {
   "display_name": "Python 3 (ipykernel)",
   "language": "python",
   "name": "python3"
  },
  "language_info": {
   "codemirror_mode": {
    "name": "ipython",
    "version": 3
   },
   "file_extension": ".py",
   "mimetype": "text/x-python",
   "name": "python",
   "nbconvert_exporter": "python",
   "pygments_lexer": "ipython3",
   "version": "3.9.2"
  }
 },
 "nbformat": 4,
 "nbformat_minor": 4
}
